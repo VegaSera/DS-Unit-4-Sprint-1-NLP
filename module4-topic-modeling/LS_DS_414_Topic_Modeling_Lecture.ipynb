{
 "cells": [
  {
   "cell_type": "markdown",
   "metadata": {},
   "source": [
    "Lambda School Data Science\n",
    "\n",
    "*Unit 4, Sprint 1, Module 4*\n",
    "\n",
    "---"
   ]
  },
  {
   "cell_type": "markdown",
   "metadata": {},
   "source": [
    "# Topic Modeling (Prepare)\n",
    "\n",
    "On Monday we talked about summarizing your documents using just token counts. Today, we're going to learn about a much more sophisticated approach - learning 'topics' from documents. Topics are a latent structure. They are not directly observable in the data, but we know they're there by reading them.\n",
    "\n",
    "> **latent**: existing but not yet developed or manifest; hidden or concealed.\n",
    "\n",
    "## Use Cases\n",
    "Primary use case: what the hell are your documents about? Who might want to know that in industry - \n",
    "* Identifying common themes in customer reviews\n",
    "* Discovering the needle in a haystack \n",
    "* Monitoring communications (Email - State Department) \n",
    "\n",
    "## Learning Objectives\n",
    "*At the end of the lesson you should be able to:*\n",
    "* <a href=\"#p1\">Part 1</a>: Describe how an LDA Model works\n",
    "* <a href=\"#p2\">Part 2</a>: Estimate a LDA Model with Gensim\n",
    "* <a href=\"#p3\">Part 3</a>: Interpret LDA results\n",
    "* <a href=\"#p4\">Part 4</a>: Select the appropriate number of topics\n"
   ]
  },
  {
   "cell_type": "markdown",
   "metadata": {},
   "source": [
    "# Latent Dirchilet Allocation Models (Learn)\n",
    "<a id=\"#p1\"></a>"
   ]
  },
  {
   "cell_type": "markdown",
   "metadata": {},
   "source": [
    "## Overview\n",
    "LDA is a \"generative probabilistic model\". \n",
    "\n",
    "Let's play with a model available [here](https://lettier.com/projects/lda-topic-modeling/)"
   ]
  },
  {
   "cell_type": "markdown",
   "metadata": {},
   "source": [
    "## Follow Along"
   ]
  },
  {
   "cell_type": "markdown",
   "metadata": {},
   "source": [
    "## Challenge "
   ]
  },
  {
   "cell_type": "markdown",
   "metadata": {},
   "source": [
    "# Estimating LDA Models with Gensim (Learn)\n",
    "<a id=\"#p1\"></a>"
   ]
  },
  {
   "cell_type": "markdown",
   "metadata": {
    "toc-hr-collapsed": true
   },
   "source": [
    "## Overview\n",
    "### A Literary Introduction: *Jane Austen V. Charlotte Bronte*\n",
    "Despite being born nearly forty years apart, modern fans often pit Jane Austen & Charlotte Bronte against one another in a battle for literary  supremacy. The battle centers around the topics of education for women, courting, and marriage. The authors' similar backgrounds naturally draw comparisons, but the modern fascination is probably due to novelty of British women publishing novels during the early 19th century. \n",
    "\n",
    "Can we help close a literary battle for supremacy and simply acknowledge that the authors addressed different topics and deserve to be acknowledged as excellent authors each in their own right?\n",
    "\n",
    "We're going to apply Latent Dirichlet Allocation a machine learning algorithm for topic modeling to each of the author's novels to compare the distribution of topics in their novels."
   ]
  },
  {
   "cell_type": "code",
   "execution_count": 1,
   "metadata": {},
   "outputs": [
    {
     "name": "stderr",
     "output_type": "stream",
     "text": [
      "unable to import 'smart_open.gcs', disabling that module\n"
     ]
    }
   ],
   "source": [
    "import numpy as np\n",
    "import gensim\n",
    "import os\n",
    "import re\n",
    "\n",
    "from gensim.utils import simple_preprocess\n",
    "from gensim.parsing.preprocessing import STOPWORDS\n",
    "from gensim import corpora\n",
    "\n",
    "from gensim.models.ldamulticore import LdaMulticore\n",
    "\n",
    "import pandas as pd"
   ]
  },
  {
   "cell_type": "code",
   "execution_count": 2,
   "metadata": {},
   "outputs": [
    {
     "data": {
      "text/plain": [
       "'3.8.1'"
      ]
     },
     "execution_count": 2,
     "metadata": {},
     "output_type": "execute_result"
    }
   ],
   "source": [
    "gensim.__version__"
   ]
  },
  {
   "cell_type": "markdown",
   "metadata": {},
   "source": [
    "### Novel Data\n",
    "I grabbed the novel data pre-split into a bunch of smaller chunks"
   ]
  },
  {
   "cell_type": "code",
   "execution_count": 3,
   "metadata": {},
   "outputs": [],
   "source": [
    "path = './data/austen-brontë-split'"
   ]
  },
  {
   "cell_type": "markdown",
   "metadata": {},
   "source": [
    "### Text Preprocessing\n",
    "**Activity**: update the function `tokenize` with any technique you have learned so far this week. "
   ]
  },
  {
   "cell_type": "code",
   "execution_count": 4,
   "metadata": {},
   "outputs": [],
   "source": [
    "# 1) Plain Python - ''.split command\n",
    "# 2) Spacy - just the lemmas from the document\n",
    "# 3) Gensim - simple_preprocess\n",
    "\n",
    "STOPWORDS = set(STOPWORDS).union(set(['said', 'mr', 'mrs']))\n",
    "\n",
    "def tokenize(text):\n",
    "    return [token for token in simple_preprocess(text) if token not in STOPWORDS]"
   ]
  },
  {
   "cell_type": "code",
   "execution_count": 5,
   "metadata": {},
   "outputs": [],
   "source": [
    "import os\n",
    "\n",
    "def gather_data(path_to_data): \n",
    "    data = []\n",
    "    for f in os.listdir(path):\n",
    "        if os.path.isdir(f) == False:\n",
    "            if f[-3:] == 'txt':\n",
    "                with open(os.path.join(path,f)) as t:\n",
    "                    text = t.read().strip('\\n')\n",
    "                    data.append(tokenize(str(text)))       \n",
    "    return data"
   ]
  },
  {
   "cell_type": "code",
   "execution_count": 6,
   "metadata": {},
   "outputs": [],
   "source": [
    "tokens = gather_data(path)"
   ]
  },
  {
   "cell_type": "code",
   "execution_count": 7,
   "metadata": {},
   "outputs": [
    {
     "data": {
      "text/plain": [
       "['emma',\n",
       " 'jane',\n",
       " 'austen',\n",
       " 'volume',\n",
       " 'chapter',\n",
       " 'emma',\n",
       " 'woodhouse',\n",
       " 'handsome',\n",
       " 'clever',\n",
       " 'rich']"
      ]
     },
     "execution_count": 7,
     "metadata": {},
     "output_type": "execute_result"
    }
   ],
   "source": [
    "tokens[0][0:10]"
   ]
  },
  {
   "cell_type": "code",
   "execution_count": 8,
   "metadata": {},
   "outputs": [
    {
     "data": {
      "text/plain": [
       "'this is a sample string with a  newline character'"
      ]
     },
     "execution_count": 8,
     "metadata": {},
     "output_type": "execute_result"
    }
   ],
   "source": [
    "\"this is a sample string with a \\n newline character\".replace('\\n', '')"
   ]
  },
  {
   "cell_type": "markdown",
   "metadata": {
    "toc-hr-collapsed": true
   },
   "source": [
    "## Follow Along"
   ]
  },
  {
   "cell_type": "code",
   "execution_count": 9,
   "metadata": {},
   "outputs": [],
   "source": [
    "titles = [t[:-4] for t in os.listdir(path) if os.path.isdir(t) == False]"
   ]
  },
  {
   "cell_type": "code",
   "execution_count": 10,
   "metadata": {},
   "outputs": [
    {
     "data": {
      "text/plain": [
       "813"
      ]
     },
     "execution_count": 10,
     "metadata": {},
     "output_type": "execute_result"
    }
   ],
   "source": [
    "len(titles)"
   ]
  },
  {
   "cell_type": "code",
   "execution_count": 11,
   "metadata": {},
   "outputs": [
    {
     "data": {
      "text/plain": [
       "813"
      ]
     },
     "execution_count": 11,
     "metadata": {},
     "output_type": "execute_result"
    }
   ],
   "source": [
    "len(tokens)"
   ]
  },
  {
   "cell_type": "markdown",
   "metadata": {},
   "source": [
    "### Author DataFrame\n"
   ]
  },
  {
   "cell_type": "code",
   "execution_count": 12,
   "metadata": {},
   "outputs": [],
   "source": [
    "df = pd.DataFrame(index=titles, data={'tokens':tokens})"
   ]
  },
  {
   "cell_type": "code",
   "execution_count": 13,
   "metadata": {},
   "outputs": [
    {
     "data": {
      "text/html": [
       "<div>\n",
       "<style scoped>\n",
       "    .dataframe tbody tr th:only-of-type {\n",
       "        vertical-align: middle;\n",
       "    }\n",
       "\n",
       "    .dataframe tbody tr th {\n",
       "        vertical-align: top;\n",
       "    }\n",
       "\n",
       "    .dataframe thead th {\n",
       "        text-align: right;\n",
       "    }\n",
       "</style>\n",
       "<table border=\"1\" class=\"dataframe\">\n",
       "  <thead>\n",
       "    <tr style=\"text-align: right;\">\n",
       "      <th></th>\n",
       "      <th>tokens</th>\n",
       "    </tr>\n",
       "  </thead>\n",
       "  <tbody>\n",
       "    <tr>\n",
       "      <th>Austen_Emma0000</th>\n",
       "      <td>[emma, jane, austen, volume, chapter, emma, wo...</td>\n",
       "    </tr>\n",
       "    <tr>\n",
       "      <th>Austen_Emma0001</th>\n",
       "      <td>[taylor, wish, pity, weston, thought, agree, p...</td>\n",
       "    </tr>\n",
       "    <tr>\n",
       "      <th>Austen_Emma0002</th>\n",
       "      <td>[behaved, charmingly, body, punctual, body, be...</td>\n",
       "    </tr>\n",
       "    <tr>\n",
       "      <th>Austen_Emma0003</th>\n",
       "      <td>[native, highbury, born, respectable, family, ...</td>\n",
       "    </tr>\n",
       "    <tr>\n",
       "      <th>Austen_Emma0004</th>\n",
       "      <td>[mention, handsome, letter, weston, received, ...</td>\n",
       "    </tr>\n",
       "  </tbody>\n",
       "</table>\n",
       "</div>"
      ],
      "text/plain": [
       "                                                            tokens\n",
       "Austen_Emma0000  [emma, jane, austen, volume, chapter, emma, wo...\n",
       "Austen_Emma0001  [taylor, wish, pity, weston, thought, agree, p...\n",
       "Austen_Emma0002  [behaved, charmingly, body, punctual, body, be...\n",
       "Austen_Emma0003  [native, highbury, born, respectable, family, ...\n",
       "Austen_Emma0004  [mention, handsome, letter, weston, received, ..."
      ]
     },
     "execution_count": 13,
     "metadata": {},
     "output_type": "execute_result"
    }
   ],
   "source": [
    "df.head()"
   ]
  },
  {
   "cell_type": "code",
   "execution_count": 14,
   "metadata": {},
   "outputs": [],
   "source": [
    "df['author'] = df.reset_index()['index'].apply(lambda x: x.split('_')[0]).tolist()\n",
    "df['book'] = df.reset_index()['index'].apply(lambda x: x.split('_')[1][:-4]).tolist()\n",
    "df['section'] = df.reset_index()['index'].apply(lambda x: x[-4:]).tolist()\n",
    "df['section'] = df['section'].astype('int')"
   ]
  },
  {
   "cell_type": "code",
   "execution_count": 15,
   "metadata": {},
   "outputs": [],
   "source": [
    "df['author'] = df['author'].map({'Austen':1, 'CBronte':0})"
   ]
  },
  {
   "cell_type": "code",
   "execution_count": 16,
   "metadata": {},
   "outputs": [
    {
     "data": {
      "text/plain": [
       "0    441\n",
       "1    372\n",
       "Name: author, dtype: int64"
      ]
     },
     "execution_count": 16,
     "metadata": {},
     "output_type": "execute_result"
    }
   ],
   "source": [
    "df.author.value_counts()"
   ]
  },
  {
   "cell_type": "code",
   "execution_count": 17,
   "metadata": {},
   "outputs": [
    {
     "data": {
      "text/html": [
       "<div>\n",
       "<style scoped>\n",
       "    .dataframe tbody tr th:only-of-type {\n",
       "        vertical-align: middle;\n",
       "    }\n",
       "\n",
       "    .dataframe tbody tr th {\n",
       "        vertical-align: top;\n",
       "    }\n",
       "\n",
       "    .dataframe thead th {\n",
       "        text-align: right;\n",
       "    }\n",
       "</style>\n",
       "<table border=\"1\" class=\"dataframe\">\n",
       "  <thead>\n",
       "    <tr style=\"text-align: right;\">\n",
       "      <th></th>\n",
       "      <th>tokens</th>\n",
       "      <th>author</th>\n",
       "      <th>book</th>\n",
       "      <th>section</th>\n",
       "    </tr>\n",
       "  </thead>\n",
       "  <tbody>\n",
       "    <tr>\n",
       "      <th>Austen_Emma0000</th>\n",
       "      <td>[emma, jane, austen, volume, chapter, emma, wo...</td>\n",
       "      <td>1</td>\n",
       "      <td>Emma</td>\n",
       "      <td>0</td>\n",
       "    </tr>\n",
       "    <tr>\n",
       "      <th>Austen_Emma0001</th>\n",
       "      <td>[taylor, wish, pity, weston, thought, agree, p...</td>\n",
       "      <td>1</td>\n",
       "      <td>Emma</td>\n",
       "      <td>1</td>\n",
       "    </tr>\n",
       "    <tr>\n",
       "      <th>Austen_Emma0002</th>\n",
       "      <td>[behaved, charmingly, body, punctual, body, be...</td>\n",
       "      <td>1</td>\n",
       "      <td>Emma</td>\n",
       "      <td>2</td>\n",
       "    </tr>\n",
       "    <tr>\n",
       "      <th>Austen_Emma0003</th>\n",
       "      <td>[native, highbury, born, respectable, family, ...</td>\n",
       "      <td>1</td>\n",
       "      <td>Emma</td>\n",
       "      <td>3</td>\n",
       "    </tr>\n",
       "    <tr>\n",
       "      <th>Austen_Emma0004</th>\n",
       "      <td>[mention, handsome, letter, weston, received, ...</td>\n",
       "      <td>1</td>\n",
       "      <td>Emma</td>\n",
       "      <td>4</td>\n",
       "    </tr>\n",
       "  </tbody>\n",
       "</table>\n",
       "</div>"
      ],
      "text/plain": [
       "                                                            tokens  author  \\\n",
       "Austen_Emma0000  [emma, jane, austen, volume, chapter, emma, wo...       1   \n",
       "Austen_Emma0001  [taylor, wish, pity, weston, thought, agree, p...       1   \n",
       "Austen_Emma0002  [behaved, charmingly, body, punctual, body, be...       1   \n",
       "Austen_Emma0003  [native, highbury, born, respectable, family, ...       1   \n",
       "Austen_Emma0004  [mention, handsome, letter, weston, received, ...       1   \n",
       "\n",
       "                 book  section  \n",
       "Austen_Emma0000  Emma        0  \n",
       "Austen_Emma0001  Emma        1  \n",
       "Austen_Emma0002  Emma        2  \n",
       "Austen_Emma0003  Emma        3  \n",
       "Austen_Emma0004  Emma        4  "
      ]
     },
     "execution_count": 17,
     "metadata": {},
     "output_type": "execute_result"
    }
   ],
   "source": [
    "df.head()"
   ]
  },
  {
   "cell_type": "markdown",
   "metadata": {},
   "source": [
    "### Streaming Documents\n",
    "Here we use a new pythonic thingy: the `yield` statement in our function. This allows us to iterate over a bunch of documents without actually reading them into memory. You can see how we use this function later on. "
   ]
  },
  {
   "cell_type": "code",
   "execution_count": 18,
   "metadata": {},
   "outputs": [],
   "source": [
    "def doc_stream(path):\n",
    "    for f in os.listdir(path):\n",
    "        if os.path.isdir(f) == False:\n",
    "            if f[-3:] == 'txt':\n",
    "                with open(os.path.join(path,f)) as t:\n",
    "                    text = t.read().strip('\\n')\n",
    "                    tokens = tokenize(text)\n",
    "                yield tokens"
   ]
  },
  {
   "cell_type": "code",
   "execution_count": 19,
   "metadata": {},
   "outputs": [],
   "source": [
    "streaming_data = doc_stream(path)"
   ]
  },
  {
   "cell_type": "code",
   "execution_count": 20,
   "metadata": {},
   "outputs": [
    {
     "data": {
      "text/plain": [
       "generator"
      ]
     },
     "execution_count": 20,
     "metadata": {},
     "output_type": "execute_result"
    }
   ],
   "source": [
    "type(streaming_data)"
   ]
  },
  {
   "cell_type": "code",
   "execution_count": 21,
   "metadata": {},
   "outputs": [],
   "source": [
    "# gather_data => returns a list\n",
    "# doc_stream => returns a generator"
   ]
  },
  {
   "cell_type": "code",
   "execution_count": 22,
   "metadata": {},
   "outputs": [
    {
     "data": {
      "text/plain": [
       "['emma',\n",
       " 'jane',\n",
       " 'austen',\n",
       " 'volume',\n",
       " 'chapter',\n",
       " 'emma',\n",
       " 'woodhouse',\n",
       " 'handsome',\n",
       " 'clever',\n",
       " 'rich',\n",
       " 'comfortable',\n",
       " 'home',\n",
       " 'happy',\n",
       " 'disposition',\n",
       " 'unite',\n",
       " 'best',\n",
       " 'blessings',\n",
       " 'existence',\n",
       " 'lived',\n",
       " 'nearly',\n",
       " 'years',\n",
       " 'world',\n",
       " 'little',\n",
       " 'distress',\n",
       " 'vex',\n",
       " 'youngest',\n",
       " 'daughters',\n",
       " 'affectionate',\n",
       " 'indulgent',\n",
       " 'father',\n",
       " 'consequence',\n",
       " 'sister',\n",
       " 'marriage',\n",
       " 'mistress',\n",
       " 'house',\n",
       " 'early',\n",
       " 'period',\n",
       " 'mother',\n",
       " 'died',\n",
       " 'long',\n",
       " 'ago',\n",
       " 'indistinct',\n",
       " 'remembrance',\n",
       " 'caresses',\n",
       " 'place',\n",
       " 'supplied',\n",
       " 'excellent',\n",
       " 'woman',\n",
       " 'governess',\n",
       " 'fallen',\n",
       " 'little',\n",
       " 'short',\n",
       " 'mother',\n",
       " 'affection',\n",
       " 'sixteen',\n",
       " 'years',\n",
       " 'miss',\n",
       " 'taylor',\n",
       " 'woodhouse',\n",
       " 'family',\n",
       " 'governess',\n",
       " 'friend',\n",
       " 'fond',\n",
       " 'daughters',\n",
       " 'particularly',\n",
       " 'emma',\n",
       " 'intimacy',\n",
       " 'sisters',\n",
       " 'miss',\n",
       " 'taylor',\n",
       " 'ceased',\n",
       " 'hold',\n",
       " 'nominal',\n",
       " 'office',\n",
       " 'governess',\n",
       " 'mildness',\n",
       " 'temper',\n",
       " 'hardly',\n",
       " 'allowed',\n",
       " 'impose',\n",
       " 'restraint',\n",
       " 'shadow',\n",
       " 'authority',\n",
       " 'long',\n",
       " 'passed',\n",
       " 'away',\n",
       " 'living',\n",
       " 'friend',\n",
       " 'friend',\n",
       " 'mutually',\n",
       " 'attached',\n",
       " 'emma',\n",
       " 'liked',\n",
       " 'highly',\n",
       " 'esteeming',\n",
       " 'miss',\n",
       " 'taylor',\n",
       " 'judgment',\n",
       " 'directed',\n",
       " 'chiefly',\n",
       " 'real',\n",
       " 'evils',\n",
       " 'emma',\n",
       " 'situation',\n",
       " 'power',\n",
       " 'having',\n",
       " 'way',\n",
       " 'disposition',\n",
       " 'think',\n",
       " 'little',\n",
       " 'disadvantages',\n",
       " 'threatened',\n",
       " 'alloy',\n",
       " 'enjoyments',\n",
       " 'danger',\n",
       " 'present',\n",
       " 'unperceived',\n",
       " 'means',\n",
       " 'rank',\n",
       " 'misfortunes',\n",
       " 'sorrow',\n",
       " 'came',\n",
       " 'gentle',\n",
       " 'sorrow',\n",
       " 'shape',\n",
       " 'disagreeable',\n",
       " 'consciousness',\n",
       " 'miss',\n",
       " 'taylor',\n",
       " 'married',\n",
       " 'miss',\n",
       " 'taylor',\n",
       " 'loss',\n",
       " 'brought',\n",
       " 'grief',\n",
       " 'wedding',\n",
       " 'day',\n",
       " 'beloved',\n",
       " 'friend',\n",
       " 'emma',\n",
       " 'sat',\n",
       " 'mournful',\n",
       " 'thought',\n",
       " 'continuance',\n",
       " 'wedding',\n",
       " 'bride',\n",
       " 'people',\n",
       " 'gone',\n",
       " 'father',\n",
       " 'left',\n",
       " 'dine',\n",
       " 'prospect',\n",
       " 'cheer',\n",
       " 'long',\n",
       " 'evening',\n",
       " 'father',\n",
       " 'composed',\n",
       " 'sleep',\n",
       " 'dinner',\n",
       " 'usual',\n",
       " 'sit',\n",
       " 'think',\n",
       " 'lost',\n",
       " 'event',\n",
       " 'promise',\n",
       " 'happiness',\n",
       " 'friend',\n",
       " 'weston',\n",
       " 'man',\n",
       " 'unexceptionable',\n",
       " 'character',\n",
       " 'easy',\n",
       " 'fortune',\n",
       " 'suitable',\n",
       " 'age',\n",
       " 'pleasant',\n",
       " 'manners',\n",
       " 'satisfaction',\n",
       " 'considering',\n",
       " 'self',\n",
       " 'denying',\n",
       " 'generous',\n",
       " 'friendship',\n",
       " 'wished',\n",
       " 'promoted',\n",
       " 'match',\n",
       " 'black',\n",
       " 'morning',\n",
       " 'work',\n",
       " 'want',\n",
       " 'miss',\n",
       " 'taylor',\n",
       " 'felt',\n",
       " 'hour',\n",
       " 'day',\n",
       " 'recalled',\n",
       " 'past',\n",
       " 'kindness',\n",
       " 'kindness',\n",
       " 'affection',\n",
       " 'sixteen',\n",
       " 'years',\n",
       " 'taught',\n",
       " 'played',\n",
       " 'years',\n",
       " 'old',\n",
       " 'devoted',\n",
       " 'powers',\n",
       " 'attach',\n",
       " 'amuse',\n",
       " 'health',\n",
       " 'nursed',\n",
       " 'illnesses',\n",
       " 'childhood',\n",
       " 'large',\n",
       " 'debt',\n",
       " 'gratitude',\n",
       " 'owing',\n",
       " 'intercourse',\n",
       " 'seven',\n",
       " 'years',\n",
       " 'equal',\n",
       " 'footing',\n",
       " 'perfect',\n",
       " 'unreserve',\n",
       " 'soon',\n",
       " 'followed',\n",
       " 'isabella',\n",
       " 'marriage',\n",
       " 'left',\n",
       " 'dearer',\n",
       " 'tenderer',\n",
       " 'recollection',\n",
       " 'friend',\n",
       " 'companion',\n",
       " 'possessed',\n",
       " 'intelligent',\n",
       " 'informed',\n",
       " 'useful',\n",
       " 'gentle',\n",
       " 'knowing',\n",
       " 'ways',\n",
       " 'family',\n",
       " 'interested',\n",
       " 'concerns',\n",
       " 'peculiarly',\n",
       " 'interested',\n",
       " 'pleasure',\n",
       " 'scheme',\n",
       " 'speak',\n",
       " 'thought',\n",
       " 'arose',\n",
       " 'affection',\n",
       " 'fault',\n",
       " 'bear',\n",
       " 'change',\n",
       " 'true',\n",
       " 'friend',\n",
       " 'going',\n",
       " 'half',\n",
       " 'mile',\n",
       " 'emma',\n",
       " 'aware',\n",
       " 'great',\n",
       " 'difference',\n",
       " 'weston',\n",
       " 'half',\n",
       " 'mile',\n",
       " 'miss',\n",
       " 'taylor',\n",
       " 'house',\n",
       " 'advantages',\n",
       " 'natural',\n",
       " 'domestic',\n",
       " 'great',\n",
       " 'danger',\n",
       " 'suffering',\n",
       " 'intellectual',\n",
       " 'solitude',\n",
       " 'dearly',\n",
       " 'loved',\n",
       " 'father',\n",
       " 'companion',\n",
       " 'meet',\n",
       " 'conversation',\n",
       " 'rational',\n",
       " 'playful',\n",
       " 'evil',\n",
       " 'actual',\n",
       " 'disparity',\n",
       " 'ages',\n",
       " 'woodhouse',\n",
       " 'married',\n",
       " 'early',\n",
       " 'increased',\n",
       " 'constitution',\n",
       " 'habits',\n",
       " 'having',\n",
       " 'valetudinarian',\n",
       " 'life',\n",
       " 'activity',\n",
       " 'mind',\n",
       " 'body',\n",
       " 'older',\n",
       " 'man',\n",
       " 'ways',\n",
       " 'years',\n",
       " 'beloved',\n",
       " 'friendliness',\n",
       " 'heart',\n",
       " 'amiable',\n",
       " 'temper',\n",
       " 'talents',\n",
       " 'recommended',\n",
       " 'time',\n",
       " 'sister',\n",
       " 'comparatively',\n",
       " 'little',\n",
       " 'removed',\n",
       " 'matrimony',\n",
       " 'settled',\n",
       " 'london',\n",
       " 'sixteen',\n",
       " 'miles',\n",
       " 'daily',\n",
       " 'reach',\n",
       " 'long',\n",
       " 'october',\n",
       " 'november',\n",
       " 'evening',\n",
       " 'struggled',\n",
       " 'hartfield',\n",
       " 'christmas',\n",
       " 'brought',\n",
       " 'visit',\n",
       " 'isabella',\n",
       " 'husband',\n",
       " 'little',\n",
       " 'children',\n",
       " 'house',\n",
       " 'pleasant',\n",
       " 'society',\n",
       " 'highbury',\n",
       " 'large',\n",
       " 'populous',\n",
       " 'village',\n",
       " 'amounting',\n",
       " 'town',\n",
       " 'hartfield',\n",
       " 'spite',\n",
       " 'separate',\n",
       " 'lawn',\n",
       " 'shrubberies',\n",
       " 'belong',\n",
       " 'afforded',\n",
       " 'equals',\n",
       " 'woodhouses',\n",
       " 'consequence',\n",
       " 'looked',\n",
       " 'acquaintance',\n",
       " 'place',\n",
       " 'father',\n",
       " 'universally',\n",
       " 'civil',\n",
       " 'accepted',\n",
       " 'lieu',\n",
       " 'miss',\n",
       " 'taylor',\n",
       " 'half',\n",
       " 'day',\n",
       " 'melancholy',\n",
       " 'change',\n",
       " 'emma',\n",
       " 'sigh',\n",
       " 'wish',\n",
       " 'impossible',\n",
       " 'things',\n",
       " 'till',\n",
       " 'father',\n",
       " 'awoke',\n",
       " 'necessary',\n",
       " 'cheerful',\n",
       " 'spirits',\n",
       " 'required',\n",
       " 'support',\n",
       " 'nervous',\n",
       " 'man',\n",
       " 'easily',\n",
       " 'depressed',\n",
       " 'fond',\n",
       " 'body',\n",
       " 'hating',\n",
       " 'hating',\n",
       " 'change',\n",
       " 'kind',\n",
       " 'matrimony',\n",
       " 'origin',\n",
       " 'change',\n",
       " 'disagreeable',\n",
       " 'means',\n",
       " 'reconciled',\n",
       " 'daughter',\n",
       " 'marrying',\n",
       " 'speak',\n",
       " 'compassion',\n",
       " 'entirely',\n",
       " 'match',\n",
       " 'affection',\n",
       " 'obliged',\n",
       " 'miss',\n",
       " 'taylor',\n",
       " 'habits',\n",
       " 'gentle',\n",
       " 'selfishness',\n",
       " 'able',\n",
       " 'suppose',\n",
       " 'people',\n",
       " 'feel',\n",
       " 'differently',\n",
       " 'disposed',\n",
       " 'think',\n",
       " 'miss',\n",
       " 'taylor',\n",
       " 'sad',\n",
       " 'thing',\n",
       " 'great',\n",
       " 'deal',\n",
       " 'happier',\n",
       " 'spent',\n",
       " 'rest',\n",
       " 'life',\n",
       " 'hartfield',\n",
       " 'emma',\n",
       " 'smiled',\n",
       " 'chatted',\n",
       " 'cheerfully',\n",
       " 'thoughts',\n",
       " 'tea',\n",
       " 'came',\n",
       " 'impossible',\n",
       " 'exactly',\n",
       " 'dinner',\n",
       " 'poor',\n",
       " 'miss']"
      ]
     },
     "execution_count": 22,
     "metadata": {},
     "output_type": "execute_result"
    }
   ],
   "source": [
    "next(streaming_data) # Returns one document at a time from the generator"
   ]
  },
  {
   "cell_type": "markdown",
   "metadata": {},
   "source": [
    "### Gensim LDA Topic Modeling"
   ]
  },
  {
   "cell_type": "code",
   "execution_count": 23,
   "metadata": {},
   "outputs": [],
   "source": [
    "# A Dictionary Representation of all the words in our corpus\n",
    "id2word = corpora.Dictionary(doc_stream(path))"
   ]
  },
  {
   "cell_type": "code",
   "execution_count": 24,
   "metadata": {},
   "outputs": [
    {
     "data": {
      "text/plain": [
       "3986"
      ]
     },
     "execution_count": 24,
     "metadata": {},
     "output_type": "execute_result"
    }
   ],
   "source": [
    "id2word.token2id['england']"
   ]
  },
  {
   "cell_type": "code",
   "execution_count": 25,
   "metadata": {},
   "outputs": [
    {
     "data": {
      "text/plain": [
       "[(2753, 1), (3986, 3), (6601, 1), (6818, 1)]"
      ]
     },
     "execution_count": 25,
     "metadata": {},
     "output_type": "execute_result"
    }
   ],
   "source": [
    "id2word.doc2bow(tokenize(\"This is a sample message Darcy England England England\"))"
   ]
  },
  {
   "cell_type": "code",
   "execution_count": 26,
   "metadata": {},
   "outputs": [
    {
     "name": "stdout",
     "output_type": "stream",
     "text": [
      "56\n",
      "7056\n"
     ]
    }
   ],
   "source": [
    "import sys\n",
    "print(sys.getsizeof(id2word))\n",
    "print(sys.getsizeof(tokens))"
   ]
  },
  {
   "cell_type": "code",
   "execution_count": 27,
   "metadata": {},
   "outputs": [
    {
     "data": {
      "text/plain": [
       "22095"
      ]
     },
     "execution_count": 27,
     "metadata": {},
     "output_type": "execute_result"
    }
   ],
   "source": [
    "len(id2word.keys())"
   ]
  },
  {
   "cell_type": "code",
   "execution_count": 30,
   "metadata": {},
   "outputs": [],
   "source": [
    "# Let's remove extreme values from the dataset\n",
    "id2word.filter_extremes(no_below=2, no_above=0.95)"
   ]
  },
  {
   "cell_type": "code",
   "execution_count": 31,
   "metadata": {},
   "outputs": [
    {
     "data": {
      "text/plain": [
       "8102"
      ]
     },
     "execution_count": 31,
     "metadata": {},
     "output_type": "execute_result"
    }
   ],
   "source": [
    "len(id2word.keys())"
   ]
  },
  {
   "cell_type": "code",
   "execution_count": 32,
   "metadata": {},
   "outputs": [],
   "source": [
    "# a bag of words(bow) representation of our corpus\n",
    "# Note: we haven't actually read any text into memory here\n",
    "# Although abstracted away - tokenization IS happening in the doc_stream f(x)\n",
    "corpus = [id2word.doc2bow(text) for text in doc_stream(path)]"
   ]
  },
  {
   "cell_type": "code",
   "execution_count": 33,
   "metadata": {},
   "outputs": [
    {
     "data": {
      "text/plain": [
       "[(0, 1),\n",
       " (2, 1),\n",
       " (11, 1),\n",
       " (21, 2),\n",
       " (32, 1),\n",
       " (34, 1),\n",
       " (35, 1),\n",
       " (37, 1),\n",
       " (53, 1),\n",
       " (54, 1)]"
      ]
     },
     "execution_count": 33,
     "metadata": {},
     "output_type": "execute_result"
    }
   ],
   "source": [
    "corpus[345][:10]"
   ]
  },
  {
   "cell_type": "code",
   "execution_count": 34,
   "metadata": {},
   "outputs": [],
   "source": [
    "lda = LdaMulticore(corpus=corpus,\n",
    "                   id2word=id2word,\n",
    "                   random_state=723812,\n",
    "                   num_topics = 15,\n",
    "                   passes=10,\n",
    "                   workers=12\n",
    "                  )"
   ]
  },
  {
   "cell_type": "code",
   "execution_count": 35,
   "metadata": {},
   "outputs": [
    {
     "data": {
      "text/plain": [
       "[(0,\n",
       "  '0.016*\"harriet\" + 0.015*\"emma\" + 0.009*\"weston\" + 0.008*\"elton\" + 0.008*\"good\" + 0.008*\"think\" + 0.008*\"man\" + 0.007*\"miss\" + 0.007*\"knightley\" + 0.006*\"know\"'),\n",
       " (1,\n",
       "  '0.006*\"like\" + 0.006*\"sir\" + 0.006*\"jane\" + 0.006*\"thought\" + 0.005*\"little\" + 0.005*\"good\" + 0.005*\"love\" + 0.004*\"old\" + 0.004*\"poor\" + 0.004*\"man\"'),\n",
       " (2,\n",
       "  '0.011*\"elinor\" + 0.009*\"marianne\" + 0.008*\"elizabeth\" + 0.007*\"sister\" + 0.007*\"miss\" + 0.005*\"time\" + 0.005*\"darcy\" + 0.005*\"mother\" + 0.005*\"soon\" + 0.005*\"lady\"'),\n",
       " (3,\n",
       "  '0.005*\"hand\" + 0.005*\"eyes\" + 0.005*\"john\" + 0.004*\"like\" + 0.004*\"saw\" + 0.004*\"asked\" + 0.004*\"little\" + 0.003*\"time\" + 0.003*\"know\" + 0.003*\"sir\"'),\n",
       " (4,\n",
       "  '0.014*\"miss\" + 0.011*\"jane\" + 0.008*\"emma\" + 0.008*\"know\" + 0.007*\"thing\" + 0.007*\"think\" + 0.006*\"good\" + 0.006*\"little\" + 0.006*\"shall\" + 0.006*\"dear\"'),\n",
       " (5,\n",
       "  '0.007*\"jane\" + 0.006*\"elizabeth\" + 0.006*\"darcy\" + 0.006*\"know\" + 0.005*\"wickham\" + 0.005*\"think\" + 0.004*\"miss\" + 0.004*\"good\" + 0.004*\"love\" + 0.004*\"letter\"'),\n",
       " (6,\n",
       "  '0.007*\"hunsden\" + 0.005*\"miss\" + 0.005*\"helen\" + 0.005*\"temple\" + 0.004*\"bread\" + 0.004*\"tea\" + 0.004*\"come\" + 0.004*\"tyrant\" + 0.004*\"having\" + 0.004*\"little\"'),\n",
       " (7,\n",
       "  '0.010*\"little\" + 0.005*\"madame\" + 0.005*\"like\" + 0.005*\"monsieur\" + 0.004*\"vous\" + 0.004*\"paul\" + 0.004*\"est\" + 0.004*\"bessie\" + 0.003*\"room\" + 0.003*\"think\"'),\n",
       " (8,\n",
       "  '0.005*\"burns\" + 0.005*\"thought\" + 0.005*\"like\" + 0.005*\"scatcherd\" + 0.004*\"miss\" + 0.004*\"day\" + 0.004*\"face\" + 0.004*\"girl\" + 0.003*\"little\" + 0.003*\"dr\"'),\n",
       " (9,\n",
       "  '0.009*\"man\" + 0.007*\"bennet\" + 0.007*\"young\" + 0.007*\"elizabeth\" + 0.006*\"collins\" + 0.006*\"time\" + 0.006*\"father\" + 0.005*\"darcy\" + 0.004*\"thought\" + 0.004*\"longbourn\"'),\n",
       " (10,\n",
       "  '0.006*\"like\" + 0.005*\"little\" + 0.004*\"thought\" + 0.004*\"long\" + 0.004*\"good\" + 0.004*\"know\" + 0.004*\"time\" + 0.004*\"day\" + 0.003*\"night\" + 0.003*\"hand\"'),\n",
       " (11,\n",
       "  '0.021*\"emma\" + 0.010*\"miss\" + 0.009*\"knightley\" + 0.009*\"harriet\" + 0.007*\"thing\" + 0.007*\"little\" + 0.007*\"fairfax\" + 0.006*\"woodhouse\" + 0.006*\"think\" + 0.006*\"elton\"'),\n",
       " (12,\n",
       "  '0.008*\"bretton\" + 0.007*\"know\" + 0.007*\"dr\" + 0.006*\"little\" + 0.005*\"lucy\" + 0.005*\"thought\" + 0.005*\"miss\" + 0.005*\"ginevra\" + 0.005*\"good\" + 0.005*\"graham\"'),\n",
       " (13,\n",
       "  '0.007*\"thousand\" + 0.006*\"mason\" + 0.005*\"like\" + 0.005*\"know\" + 0.004*\"sisters\" + 0.004*\"diana\" + 0.004*\"justice\" + 0.004*\"shall\" + 0.004*\"thought\" + 0.004*\"pounds\"'),\n",
       " (14,\n",
       "  '0.016*\"lydia\" + 0.010*\"mother\" + 0.010*\"wickham\" + 0.010*\"father\" + 0.007*\"uncle\" + 0.007*\"pounds\" + 0.006*\"dashwood\" + 0.006*\"thousand\" + 0.005*\"sure\" + 0.005*\"elizabeth\"')]"
      ]
     },
     "execution_count": 35,
     "metadata": {},
     "output_type": "execute_result"
    }
   ],
   "source": [
    "lda.print_topics()"
   ]
  },
  {
   "cell_type": "code",
   "execution_count": null,
   "metadata": {},
   "outputs": [],
   "source": []
  },
  {
   "cell_type": "code",
   "execution_count": 36,
   "metadata": {},
   "outputs": [],
   "source": [
    "words = [re.findall(r'\"([^\"]*)\"',t[1]) for t in lda.print_topics()]"
   ]
  },
  {
   "cell_type": "code",
   "execution_count": 37,
   "metadata": {},
   "outputs": [],
   "source": [
    "topics = [' '.join(t[0:5]) for t in words]"
   ]
  },
  {
   "cell_type": "code",
   "execution_count": 38,
   "metadata": {},
   "outputs": [
    {
     "name": "stdout",
     "output_type": "stream",
     "text": [
      "------ Topic 0 ------\n",
      "harriet emma weston elton good\n",
      "\n",
      "------ Topic 1 ------\n",
      "like sir jane thought little\n",
      "\n",
      "------ Topic 2 ------\n",
      "elinor marianne elizabeth sister miss\n",
      "\n",
      "------ Topic 3 ------\n",
      "hand eyes john like saw\n",
      "\n",
      "------ Topic 4 ------\n",
      "miss jane emma know thing\n",
      "\n",
      "------ Topic 5 ------\n",
      "jane elizabeth darcy know wickham\n",
      "\n",
      "------ Topic 6 ------\n",
      "hunsden miss helen temple bread\n",
      "\n",
      "------ Topic 7 ------\n",
      "little madame like monsieur vous\n",
      "\n",
      "------ Topic 8 ------\n",
      "burns thought like scatcherd miss\n",
      "\n",
      "------ Topic 9 ------\n",
      "man bennet young elizabeth collins\n",
      "\n",
      "------ Topic 10 ------\n",
      "like little thought long good\n",
      "\n",
      "------ Topic 11 ------\n",
      "emma miss knightley harriet thing\n",
      "\n",
      "------ Topic 12 ------\n",
      "bretton know dr little lucy\n",
      "\n",
      "------ Topic 13 ------\n",
      "thousand mason like know sisters\n",
      "\n",
      "------ Topic 14 ------\n",
      "lydia mother wickham father uncle\n",
      "\n"
     ]
    }
   ],
   "source": [
    "for id, t in enumerate(topics): \n",
    "    print(f\"------ Topic {id} ------\")\n",
    "    print(t, end=\"\\n\\n\")"
   ]
  },
  {
   "cell_type": "markdown",
   "metadata": {},
   "source": [
    "## Challenge \n",
    "\n",
    "You will apply an LDA model to a customer review dataset to practice the fitting and estimation of LDA. "
   ]
  },
  {
   "cell_type": "markdown",
   "metadata": {},
   "source": [
    "# Interpret LDA Results (Learn)\n",
    "<a id=\"#p3\"></a>"
   ]
  },
  {
   "cell_type": "markdown",
   "metadata": {},
   "source": [
    "## Overview"
   ]
  },
  {
   "cell_type": "markdown",
   "metadata": {
    "toc-hr-collapsed": true
   },
   "source": [
    "## Follow Along"
   ]
  },
  {
   "cell_type": "markdown",
   "metadata": {},
   "source": [
    "### Topic Distance Visualization"
   ]
  },
  {
   "cell_type": "code",
   "execution_count": 39,
   "metadata": {},
   "outputs": [],
   "source": [
    "import pyLDAvis.gensim\n",
    "\n",
    "pyLDAvis.enable_notebook()"
   ]
  },
  {
   "cell_type": "code",
   "execution_count": 40,
   "metadata": {},
   "outputs": [
    {
     "data": {
      "text/html": [
       "\n",
       "<link rel=\"stylesheet\" type=\"text/css\" href=\"https://cdn.rawgit.com/bmabey/pyLDAvis/files/ldavis.v1.0.0.css\">\n",
       "\n",
       "\n",
       "<div id=\"ldavis_el1704022172486359765158156482\"></div>\n",
       "<script type=\"text/javascript\">\n",
       "\n",
       "var ldavis_el1704022172486359765158156482_data = {\"mdsDat\": {\"x\": [0.08610938356254962, -0.09610653025822304, -0.06937860464147785, 0.12373218223879581, -0.1132081732785357, -0.10309728533579827, -0.11438484645592029, -0.1039187362453109, 0.011589279249533763, 0.0970393698568836, 0.14288622517240648, -0.0731793110132056, 0.028001581084148332, 0.10265780493752331, 0.0812576611266306], \"y\": [0.006007891192475722, -0.014838053188659026, 0.06426646150245156, 0.05742001256581209, 0.08478315879218344, 0.09114281440188204, -0.01841074166813947, -0.10624967743646395, -0.029207379908390372, 0.02138744284611901, -0.006039995598643915, -0.10452422263396038, 0.0566109227532225, -0.024923622980495778, -0.07742501063939336], \"topics\": [1, 2, 3, 4, 5, 6, 7, 8, 9, 10, 11, 12, 13, 14, 15], \"cluster\": [1, 1, 1, 1, 1, 1, 1, 1, 1, 1, 1, 1, 1, 1, 1], \"Freq\": [41.97670364379883, 19.396440505981445, 11.41856575012207, 8.034663200378418, 4.911794662475586, 4.028002738952637, 3.994246244430542, 1.4896186590194702, 1.0135165452957153, 0.9994403719902039, 0.7705583572387695, 0.767084002494812, 0.6460216641426086, 0.2973652184009552, 0.25597599148750305]}, \"tinfo\": {\"Term\": [\"like\", \"little\", \"miss\", \"know\", \"emma\", \"thought\", \"good\", \"elizabeth\", \"time\", \"jane\", \"think\", \"man\", \"elinor\", \"shall\", \"mother\", \"harriet\", \"eyes\", \"john\", \"soon\", \"hand\", \"come\", \"day\", \"saw\", \"sir\", \"young\", \"house\", \"darcy\", \"father\", \"heart\", \"bennet\", \"henri\", \"glorious\", \"brussels\", \"india\", \"vandenhuten\", \"francs\", \"oliver\", \"serene\", \"scholars\", \"hell\", \"europe\", \"sophie\", \"stool\", \"veil\", \"vocation\", \"seacombe\", \"frances\", \"briggs\", \"slip\", \"belgium\", \"swiss\", \"natures\", \"stile\", \"kneeling\", \"sunset\", \"wicket\", \"vale\", \"marchmont\", \"wardrobe\", \"practical\", \"godmother\", \"sustained\", \"stooped\", \"burning\", \"seal\", \"thornfield\", \"moon\", \"diana\", \"hunsden\", \"rochester\", \"crimsworth\", \"hannah\", \"lonely\", \"god\", \"rue\", \"blood\", \"flesh\", \"french\", \"rivers\", \"candle\", \"adele\", \"st\", \"ll\", \"english\", \"night\", \"dark\", \"hall\", \"black\", \"mdlle\", \"bright\", \"white\", \"face\", \"rose\", \"light\", \"ere\", \"strange\", \"like\", \"hand\", \"eye\", \"deep\", \"life\", \"stood\", \"eyes\", \"looked\", \"door\", \"long\", \"thought\", \"madame\", \"little\", \"saw\", \"old\", \"heart\", \"day\", \"house\", \"look\", \"come\", \"time\", \"good\", \"know\", \"room\", \"went\", \"took\", \"came\", \"left\", \"man\", \"way\", \"think\", \"shall\", \"felt\", \"jennings\", \"marianne\", \"willoughby\", \"margaret\", \"elinor\", \"steele\", \"berkeley\", \"cleveland\", \"middleton\", \"brandon\", \"charlotte\", \"dashwoods\", \"hurst\", \"middletons\", \"harley\", \"steeles\", \"palmers\", \"beaux\", \"lucas\", \"barton\", \"hunsford\", \"catherine\", \"rosings\", \"bingley\", \"thoughtfulness\", \"rapturous\", \"unwillingly\", \"magna\", \"salutation\", \"invariable\", \"ladyship\", \"collins\", \"netherfield\", \"delaford\", \"ferrars\", \"bourgh\", \"dashwood\", \"bennet\", \"elizabeth\", \"edward\", \"sister\", \"darcy\", \"palmer\", \"colonel\", \"lady\", \"mother\", \"behaviour\", \"family\", \"lucy\", \"town\", \"soon\", \"miss\", \"time\", \"replied\", \"think\", \"know\", \"great\", \"house\", \"good\", \"day\", \"little\", \"room\", \"away\", \"shall\", \"man\", \"ford\", \"patty\", \"grandmama\", \"cox\", \"friday\", \"pitcher\", \"vouchsafe\", \"harp\", \"undone\", \"longstaple\", \"rivet\", \"naivete\", \"butler\", \"charade\", \"cole\", \"larkins\", \"butcher\", \"significantly\", \"detaining\", \"banker\", \"pleasanter\", \"overtaken\", \"airing\", \"triumphantly\", \"shoot\", \"richard\", \"inequality\", \"pretending\", \"bates\", \"precise\", \"dixon\", \"campbells\", \"pianoforte\", \"crown\", \"smith\", \"campbell\", \"fairfax\", \"jane\", \"apples\", \"weston\", \"elton\", \"frank\", \"emma\", \"miss\", \"news\", \"thing\", \"perry\", \"oh\", \"dear\", \"churchill\", \"woodhouse\", \"knightley\", \"sir\", \"sure\", \"dancing\", \"shall\", \"going\", \"think\", \"know\", \"come\", \"harriet\", \"hear\", \"room\", \"great\", \"body\", \"soon\", \"good\", \"yes\", \"little\", \"heard\", \"time\", \"like\", \"came\", \"thought\", \"day\", \"away\", \"peu\", \"abbot\", \"avez\", \"grec\", \"votre\", \"athenee\", \"dans\", \"violets\", \"cholmondeley\", \"opaque\", \"assez\", \"une\", \"professors\", \"etre\", \"je\", \"tableau\", \"pens\", \"impromptu\", \"allez\", \"mal\", \"vous\", \"elle\", \"dire\", \"reflex\", \"paletot\", \"garcon\", \"isidore\", \"bourgeois\", \"ce\", \"que\", \"est\", \"cela\", \"zelie\", \"pas\", \"pierre\", \"bouquet\", \"qu\", \"bessie\", \"les\", \"ne\", \"et\", \"la\", \"comme\", \"estrade\", \"ginevra\", \"bien\", \"paul\", \"monsieur\", \"reed\", \"madame\", \"fanshawe\", \"mademoiselle\", \"emanuel\", \"dr\", \"little\", \"beck\", \"like\", \"school\", \"work\", \"door\", \"polly\", \"room\", \"bretton\", \"hand\", \"lucy\", \"eyes\", \"thought\", \"think\", \"good\", \"half\", \"day\", \"miss\", \"time\", \"know\", \"took\", \"john\", \"knew\", \"came\", \"selina\", \"knightleys\", \"approving\", \"gentility\", \"martin\", \"blindness\", \"nash\", \"surry\", \"bristol\", \"abbey\", \"farmer\", \"bath\", \"maple\", \"disgraced\", \"elegantly\", \"suckling\", \"westons\", \"resources\", \"intimately\", \"goddard\", \"jokes\", \"gross\", \"matches\", \"enscombe\", \"harriet\", \"inferred\", \"negligent\", \"grove\", \"connexion\", \"protest\", \"vicarage\", \"taylor\", \"elton\", \"weston\", \"churchills\", \"woodhouse\", \"emma\", \"knightley\", \"body\", \"hartfield\", \"highbury\", \"churchill\", \"friend\", \"man\", \"frank\", \"thing\", \"marry\", \"good\", \"young\", \"think\", \"assure\", \"people\", \"woman\", \"miss\", \"know\", \"ought\", \"little\", \"great\", \"father\", \"sure\", \"dear\", \"better\", \"like\", \"time\", \"thought\", \"mind\", \"shall\", \"isabella\", \"philosophic\", \"eltons\", \"hawkins\", \"regards\", \"saucy\", \"ostensible\", \"richmond\", \"grandmother\", \"supplying\", \"benefactress\", \"promoted\", \"bathing\", \"feelingly\", \"taylor\", \"secresy\", \"unexceptionable\", \"comprehending\", \"deceit\", \"beer\", \"windsor\", \"cooler\", \"amiss\", \"martins\", \"campbell\", \"hartfield\", \"competent\", \"dulness\", \"charmingly\", \"unfair\", \"emma\", \"knightley\", \"henry\", \"woodhouse\", \"highbury\", \"fairfax\", \"dixon\", \"harriet\", \"randalls\", \"elton\", \"perry\", \"shew\", \"weston\", \"bates\", \"poor\", \"body\", \"chuse\", \"churchill\", \"thing\", \"father\", \"miss\", \"children\", \"having\", \"home\", \"friend\", \"jane\", \"think\", \"little\", \"time\", \"dear\", \"soon\", \"good\", \"thought\", \"know\", \"shall\", \"man\", \"day\", \"great\", \"like\", \"yorkshire\", \"infamous\", \"lambton\", \"assertions\", \"create\", \"occurrences\", \"bewitching\", \"stating\", \"wilfully\", \"misconduct\", \"militia\", \"elopement\", \"inexpressibly\", \"reconciliation\", \"alluding\", \"blameless\", \"foresaw\", \"disadvantage\", \"creditable\", \"misunderstood\", \"indolence\", \"scotland\", \"unfair\", \"forwarded\", \"acquit\", \"inconveniences\", \"respectability\", \"liberally\", \"exercising\", \"deplorable\", \"involved\", \"churchills\", \"wickham\", \"gardiner\", \"fitzwilliam\", \"imprudent\", \"secrecy\", \"conduct\", \"supposing\", \"injured\", \"darcy\", \"pemberley\", \"robert\", \"elizabeth\", \"wishes\", \"aunt\", \"attachment\", \"churchill\", \"letter\", \"jane\", \"lydia\", \"engagement\", \"known\", \"particulars\", \"love\", \"affection\", \"hope\", \"marriage\", \"happiness\", \"marry\", \"know\", \"think\", \"family\", \"having\", \"frank\", \"feelings\", \"man\", \"present\", \"good\", \"miss\", \"time\", \"father\", \"soon\", \"little\", \"thought\", \"believe\", \"sister\", \"day\", \"felt\", \"brighton\", \"forster\", \"prevailing\", \"expenses\", \"lydia\", \"regiment\", \"sum\", \"gracechurch\", \"norland\", \"debts\", \"favourites\", \"despaired\", \"housekeeping\", \"pounds\", \"pledged\", \"settlement\", \"lamentations\", \"supplication\", \"disposal\", \"legal\", \"sixpence\", \"denny\", \"distresses\", \"pratt\", \"answerable\", \"accommodate\", \"cheap\", \"extravagant\", \"expressively\", \"prohibited\", \"wickham\", \"kitty\", \"uncle\", \"thousand\", \"gardiner\", \"income\", \"law\", \"dashwood\", \"longbourn\", \"father\", \"money\", \"estate\", \"mother\", \"addition\", \"ignorant\", \"married\", \"daughters\", \"assistance\", \"niece\", \"fortune\", \"bennet\", \"sure\", \"daughter\", \"elizabeth\", \"years\", \"sister\", \"soon\", \"house\", \"dear\", \"family\", \"know\", \"think\", \"great\", \"letter\", \"good\", \"time\", \"little\", \"stick\", \"eyelid\", \"rob\", \"irritating\", \"philanthropist\", \"lloyd\", \"reproaching\", \"mystic\", \"memories\", \"partners\", \"infirm\", \"henceforth\", \"establish\", \"staff\", \"vanishing\", \"lowered\", \"mud\", \"saucy\", \"acquitted\", \"grieving\", \"anecdote\", \"orphan\", \"stair\", \"flakes\", \"affianced\", \"enounced\", \"sacrificing\", \"restoration\", \"external\", \"abhorred\", \"prejudices\", \"severely\", \"merits\", \"aged\", \"tap\", \"flatter\", \"ruin\", \"pelet\", \"sisters\", \"walravens\", \"died\", \"sir\", \"poor\", \"old\", \"jane\", \"love\", \"thought\", \"like\", \"grief\", \"marie\", \"good\", \"little\", \"man\", \"false\", \"half\", \"sense\", \"lizzy\", \"bessie\", \"father\", \"oh\", \"character\", \"children\", \"mother\", \"time\", \"people\", \"think\", \"place\", \"child\", \"leave\", \"eyes\", \"young\", \"know\", \"heart\", \"shall\", \"house\", \"saw\", \"scatcherd\", \"burns\", \"doctrine\", \"tract\", \"knoll\", \"walnut\", \"reproaching\", \"print\", \"stem\", \"impunity\", \"mischievous\", \"contrasts\", \"amounted\", \"bunch\", \"bundle\", \"blossoms\", \"matched\", \"projected\", \"desiree\", \"spots\", \"pious\", \"bigben\", \"glove\", \"packing\", \"quickening\", \"scenery\", \"aimed\", \"borders\", \"brush\", \"slice\", \"infection\", \"lowood\", \"patient\", \"helen\", \"coffee\", \"dr\", \"firmness\", \"bible\", \"parents\", \"girl\", \"fully\", \"bearing\", \"madame\", \"face\", \"liked\", \"thought\", \"kept\", \"day\", \"like\", \"miss\", \"clock\", \"half\", \"chose\", \"man\", \"place\", \"long\", \"hunsden\", \"think\", \"little\", \"hand\", \"heart\", \"know\", \"time\", \"life\", \"john\", \"eyes\", \"morning\", \"victor\", \"scrutinised\", \"yorke\", \"georgette\", \"rests\", \"tints\", \"grisette\", \"portfolio\", \"sans\", \"clouded\", \"trop\", \"inquisitive\", \"nest\", \"infallibly\", \"apron\", \"rosine\", \"rien\", \"tasks\", \"puts\", \"quel\", \"fidelity\", \"scrupled\", \"bracelet\", \"walnut\", \"expanse\", \"combine\", \"elements\", \"wheeled\", \"roved\", \"obviously\", \"burdened\", \"indicated\", \"appetite\", \"midsummer\", \"doctor\", \"pictures\", \"incapacity\", \"pas\", \"hunsden\", \"hand\", \"eyes\", \"john\", \"asked\", \"dr\", \"st\", \"table\", \"saw\", \"sir\", \"like\", \"frances\", \"closed\", \"came\", \"till\", \"forehead\", \"near\", \"time\", \"heart\", \"know\", \"little\", \"kind\", \"head\", \"good\", \"face\", \"night\", \"days\", \"answer\", \"thought\", \"tell\", \"better\", \"reject\", \"prepossession\", \"pompous\", \"sanctioned\", \"supplanted\", \"refusal\", \"apologise\", \"privately\", \"affording\", \"estates\", \"proposals\", \"corps\", \"atonement\", \"assiduous\", \"forgiveness\", \"humility\", \"fare\", \"gracechurch\", \"denny\", \"cruelly\", \"uniformly\", \"disregarded\", \"olive\", \"rascal\", \"despaired\", \"philosophic\", \"clapped\", \"injurious\", \"inattentive\", \"treasured\", \"extravagance\", \"likelihood\", \"unguarded\", \"lucases\", \"conscientious\", \"falls\", \"procured\", \"nieces\", \"longbourn\", \"collins\", \"lizzy\", \"cousin\", \"bennet\", \"profession\", \"gardiner\", \"relations\", \"catherine\", \"thousand\", \"robert\", \"man\", \"young\", \"father\", \"elizabeth\", \"darcy\", \"pride\", \"living\", \"pounds\", \"daughters\", \"marriage\", \"time\", \"motive\", \"certain\", \"amiable\", \"cried\", \"friend\", \"wickham\", \"thought\", \"family\", \"letter\", \"lady\", \"given\", \"shall\", \"good\", \"house\", \"having\", \"soon\", \"jane\", \"cooled\", \"crack\", \"raving\", \"restlessly\", \"unfit\", \"softest\", \"displeasing\", \"harmless\", \"practising\", \"recur\", \"spending\", \"quadrille\", \"chicken\", \"wanderings\", \"iii\", \"encumbrance\", \"jenkinson\", \"disown\", \"gifted\", \"cake\", \"unequivocal\", \"bracelet\", \"survive\", \"wouldn\", \"beef\", \"combine\", \"fight\", \"graces\", \"verbal\", \"delirious\", \"dumb\", \"causes\", \"averted\", \"ginevra\", \"wholesome\", \"snowe\", \"bretton\", \"dr\", \"mamma\", \"fanshawe\", \"graham\", \"lucy\", \"liking\", \"know\", \"evening\", \"preferred\", \"john\", \"little\", \"thought\", \"tea\", \"old\", \"saw\", \"ladies\", \"miss\", \"acquaintance\", \"good\", \"friends\", \"seen\", \"mother\", \"certainly\", \"boy\", \"think\", \"lady\", \"knew\", \"tell\", \"thing\", \"way\", \"young\", \"like\", \"toast\", \"famished\", \"portfolio\", \"generation\", \"tyrant\", \"scent\", \"needful\", \"villain\", \"deviation\", \"rascal\", \"beef\", \"wheeled\", \"lloyd\", \"weekly\", \"unlocked\", \"petit\", \"fervid\", \"feasted\", \"hostess\", \"spurned\", \"harass\", \"sprain\", \"frigid\", \"supplication\", \"liberally\", \"fragrant\", \"strikingly\", \"statement\", \"brutal\", \"pencilled\", \"meat\", \"discerned\", \"helen\", \"tray\", \"butter\", \"cups\", \"temple\", \"irritated\", \"bread\", \"hunsden\", \"tea\", \"crimsworth\", \"depth\", \"owing\", \"adele\", \"dirty\", \"property\", \"rang\", \"salary\", \"servant\", \"burns\", \"live\", \"bell\", \"table\", \"having\", \"miss\", \"nature\", \"come\", \"suppose\", \"little\", \"taken\", \"family\", \"heart\", \"eyes\", \"shall\", \"soon\", \"good\", \"looking\", \"till\", \"felt\", \"think\", \"impediment\", \"whitcross\", \"earthquake\", \"misunderstand\", \"insuperable\", \"scenery\", \"moors\", \"solve\", \"winning\", \"brightening\", \"aghast\", \"abandon\", \"surmises\", \"misty\", \"beckoned\", \"ornamented\", \"hazardous\", \"superfluous\", \"wondrous\", \"traverse\", \"visitation\", \"accorded\", \"monitor\", \"craving\", \"musings\", \"bands\", \"aspirations\", \"argue\", \"contemplate\", \"strangeness\", \"mason\", \"lawyer\", \"coach\", \"thousand\", \"moor\", \"diana\", \"justice\", \"pounds\", \"thornfield\", \"inn\", \"sisters\", \"marry\", \"explained\", \"mary\", \"journey\", \"repeat\", \"shook\", \"free\", \"labour\", \"st\", \"sign\", \"like\", \"recalled\", \"home\", \"want\", \"asked\", \"mere\", \"know\", \"shall\", \"thought\", \"yes\", \"john\", \"tell\", \"brother\", \"rochester\", \"jane\", \"heard\", \"soon\", \"house\", \"doubt\"], \"Freq\": [1327.0, 1716.0, 1508.0, 1421.0, 819.0, 1130.0, 1344.0, 648.0, 1311.0, 907.0, 1298.0, 896.0, 700.0, 918.0, 668.0, 499.0, 640.0, 622.0, 922.0, 618.0, 829.0, 1062.0, 779.0, 591.0, 655.0, 758.0, 415.0, 495.0, 654.0, 321.0, 54.53597640991211, 29.842567443847656, 36.50963592529297, 21.046546936035156, 20.973764419555664, 22.896610260009766, 29.237398147583008, 20.947288513183594, 16.149484634399414, 18.022897720336914, 21.83885955810547, 26.593347549438477, 25.620595932006836, 37.872196197509766, 15.102388381958008, 16.94516372680664, 111.9738998413086, 15.050993919372559, 20.644126892089844, 15.043289184570312, 14.08769702911377, 14.084285736083984, 14.088644981384277, 15.953429222106934, 14.073840141296387, 15.00927734375, 13.12020206451416, 14.054713249206543, 15.949750900268555, 25.0391902923584, 28.89685821533203, 21.58574104309082, 17.786359786987305, 40.318241119384766, 22.25228500366211, 87.81642150878906, 69.84835052490234, 66.15187072753906, 125.28350067138672, 297.16595458984375, 86.29019927978516, 37.93431854248047, 33.66554260253906, 189.89044189453125, 65.54519653320312, 77.7666015625, 45.747047424316406, 135.1250457763672, 52.00223159790039, 55.85555648803711, 112.58694458007812, 157.97964477539062, 124.19275665283203, 183.99566650390625, 451.56378173828125, 181.5950927734375, 139.78993225097656, 146.23255920410156, 95.31788635253906, 93.10016632080078, 182.59896850585938, 349.5069885253906, 177.11473083496094, 224.1393585205078, 109.6292495727539, 187.8811492919922, 768.475341796875, 397.1266784667969, 273.8096618652344, 138.89236450195312, 353.5328369140625, 218.6937713623047, 371.2160339355469, 396.5840759277344, 321.6055908203125, 485.41729736328125, 545.5166625976562, 251.98342895507812, 705.624755859375, 392.1108703613281, 275.6457214355469, 340.2174987792969, 467.6487121582031, 358.1512451171875, 316.6983337402344, 369.2618713378906, 470.890625, 475.4358215332031, 473.40789794921875, 361.0965576171875, 267.1220397949219, 264.58056640625, 298.8503112792969, 268.95556640625, 322.9660949707031, 289.86260986328125, 336.01483154296875, 307.6458740234375, 282.3099060058594, 228.85427856445312, 559.9853515625, 211.98666381835938, 35.73820114135742, 662.9002075195312, 37.598358154296875, 17.219730377197266, 26.86737632751465, 98.9808120727539, 139.20822143554688, 108.9658203125, 35.12137985229492, 35.26939392089844, 18.948028564453125, 16.012805938720703, 29.2369327545166, 10.282458305358887, 11.036672592163086, 65.692138671875, 82.91060638427734, 23.60387420654297, 117.84329986572266, 45.489479064941406, 276.26849365234375, 7.1165266036987305, 7.084905624389648, 6.183101654052734, 10.68073558807373, 7.0541276931762695, 6.142856597900391, 49.332637786865234, 154.6073455810547, 65.02484893798828, 27.25758171081543, 111.78623962402344, 34.62200927734375, 211.4973907470703, 259.12750244140625, 503.5895690917969, 255.0482940673828, 449.21893310546875, 313.3111572265625, 64.93721008300781, 198.0748291015625, 300.24017333984375, 311.0603942871094, 94.26090240478516, 177.44134521484375, 176.6436767578125, 127.61392211914062, 303.66729736328125, 411.9330139160156, 331.5262756347656, 151.72764587402344, 281.22760009765625, 286.92462158203125, 214.3155059814453, 205.4921112060547, 248.785888671875, 220.99562072753906, 241.9525604248047, 197.1798858642578, 172.28993225097656, 180.5498504638672, 172.4639434814453, 14.732666969299316, 11.19993782043457, 11.965855598449707, 7.516305923461914, 6.5418477058410645, 6.485589027404785, 4.679769515991211, 5.459130764007568, 4.371623516082764, 6.537997722625732, 6.5771164894104, 5.592799186706543, 5.591805934906006, 16.7550048828125, 43.159603118896484, 9.516194343566895, 4.70438289642334, 4.681516647338867, 5.385446548461914, 3.771751642227173, 5.952553749084473, 3.7625443935394287, 4.520356178283691, 3.8245813846588135, 4.455552577972412, 7.468214988708496, 3.799243927001953, 4.958158016204834, 95.84402465820312, 4.711467742919922, 27.83230972290039, 16.649150848388672, 20.843141555786133, 25.02096176147461, 60.73187255859375, 29.055068969726562, 176.8516845703125, 380.44354248046875, 15.127962112426758, 175.67459106445312, 156.5635528564453, 103.44371032714844, 300.6629638671875, 495.11773681640625, 51.1574821472168, 268.2782287597656, 38.891719818115234, 194.5511474609375, 200.10198974609375, 88.89515686035156, 110.2319564819336, 130.2633819580078, 182.5874786376953, 176.4925079345703, 34.353904724121094, 217.25254821777344, 114.10967254638672, 268.10040283203125, 283.4775695800781, 178.8612060546875, 127.65284729003906, 111.13892364501953, 182.2637481689453, 171.8594512939453, 85.220458984375, 179.88311767578125, 222.65399169921875, 136.36351013183594, 217.2985382080078, 132.37112426757812, 178.6263427734375, 140.6357421875, 121.85746765136719, 130.99574279785156, 128.7806854248047, 119.06098175048828, 11.600322723388672, 22.949878692626953, 10.636553764343262, 13.111722946166992, 11.381389617919922, 8.71077823638916, 10.369874954223633, 8.529943466186523, 20.512853622436523, 5.849186897277832, 5.860096454620361, 33.27216720581055, 6.685336589813232, 5.8356194496154785, 62.05580520629883, 6.666398525238037, 7.34043550491333, 6.5820722579956055, 5.736111164093018, 4.873756408691406, 99.80816650390625, 22.06385612487793, 4.871986389160156, 5.666839599609375, 16.79869270324707, 4.835783004760742, 20.358272552490234, 8.142027854919434, 42.97431564331055, 52.99192428588867, 92.0792465209961, 16.212350845336914, 14.716753005981445, 48.71932601928711, 25.258092880249023, 11.306405067443848, 24.748043060302734, 91.55145263671875, 29.957521438598633, 27.4456844329834, 59.29263687133789, 70.2468032836914, 18.169397354125977, 26.83837890625, 62.76136016845703, 32.21598815917969, 92.51240539550781, 127.04986572265625, 62.08992385864258, 138.39527893066406, 45.23088836669922, 57.02753829956055, 51.30622863769531, 83.85218048095703, 240.49407958984375, 51.433631896972656, 137.23719787597656, 57.86945724487305, 57.08594512939453, 75.9279556274414, 35.78237533569336, 87.68447875976562, 53.825077056884766, 74.2197494506836, 61.631065368652344, 72.27481842041016, 84.73013305664062, 85.49816131591797, 83.58793640136719, 68.36163330078125, 75.07542419433594, 76.79273986816406, 74.99958801269531, 70.83476257324219, 62.50592803955078, 62.194583892822266, 60.059349060058594, 59.50421142578125, 9.019185066223145, 6.34929084777832, 4.557515621185303, 6.847855567932129, 65.89698028564453, 6.802003860473633, 10.117013931274414, 6.501309871673584, 6.541007995605469, 19.620168685913086, 8.593911170959473, 14.826275825500488, 18.9951114654541, 3.8349671363830566, 3.4283294677734375, 7.74508810043335, 6.073787212371826, 10.174026489257812, 4.929040431976318, 29.17777442932129, 3.840040922164917, 3.352769136428833, 4.208935260772705, 17.58734130859375, 248.94615173339844, 3.792083263397217, 4.075559139251709, 18.94944190979004, 9.606234550476074, 6.379418849945068, 8.162230491638184, 22.316452026367188, 129.62759399414062, 138.04124450683594, 7.125387191772461, 97.30419158935547, 223.86463928222656, 103.25272369384766, 78.27649688720703, 48.155975341796875, 32.74208450317383, 49.4940299987793, 72.46508026123047, 115.7589111328125, 47.172332763671875, 93.69599914550781, 40.78766632080078, 127.56512451171875, 82.284423828125, 121.25530242919922, 34.55129623413086, 52.004493713378906, 61.205596923828125, 104.45230865478516, 99.20417785644531, 44.189552307128906, 97.99641418457031, 69.36589050292969, 56.12665557861328, 56.488555908203125, 54.36856460571289, 54.45303726196289, 67.12757873535156, 66.48410034179688, 61.115684509277344, 52.09453201293945, 48.34761428833008, 41.71729278564453, 2.82486629486084, 11.072507858276367, 9.60001277923584, 2.719275951385498, 2.8859188556671143, 2.822227954864502, 6.50155782699585, 6.458965301513672, 2.946821451187134, 4.760533809661865, 3.778318166732788, 3.6201086044311523, 2.82832932472229, 20.48522186279297, 2.782766103744507, 3.131218433380127, 2.819031238555908, 3.589336395263672, 4.306603908538818, 2.6243910789489746, 3.824362277984619, 4.163493633270264, 5.129455089569092, 18.853450775146484, 58.497947692871094, 2.8887546062469482, 2.5528337955474854, 2.8674778938293457, 2.0913922786712646, 263.48956298828125, 118.04850769042969, 10.316970825195312, 81.46512603759766, 33.62139892578125, 85.94081115722656, 13.472094535827637, 108.18109893798828, 24.042354583740234, 76.45252227783203, 20.937868118286133, 11.109464645385742, 74.09803771972656, 29.266664505004883, 56.58906555175781, 43.61839294433594, 9.223034858703613, 36.24889373779297, 88.40689086914062, 59.43932342529297, 123.57305145263672, 30.380252838134766, 52.683982849121094, 48.48211669921875, 43.36601257324219, 63.89213180541992, 76.6791000366211, 87.43810272216797, 71.68243408203125, 47.280113220214844, 55.095924377441406, 62.554527282714844, 54.41536331176758, 57.987548828125, 50.55073928833008, 47.75430679321289, 45.57826614379883, 43.47114562988281, 43.07137680053711, 6.493555545806885, 6.473335266113281, 7.677831172943115, 3.8547627925872803, 3.6761856079101562, 4.668116092681885, 3.446889877319336, 4.374277591705322, 3.8197855949401855, 5.953612804412842, 4.756045341491699, 5.854456424713135, 3.6383676528930664, 5.027517318725586, 3.4710402488708496, 4.2494707107543945, 2.9191973209381104, 5.170963287353516, 2.699636936187744, 6.043252944946289, 2.751729965209961, 6.154017925262451, 2.657195568084717, 2.626223564147949, 5.884490489959717, 3.657318592071533, 4.443267345428467, 2.7732574939727783, 2.3207364082336426, 2.860461711883545, 7.925803184509277, 6.506928443908691, 68.85369110107422, 34.58910369873047, 14.253372192382812, 9.077581405639648, 10.320890426635742, 32.867713928222656, 13.753016471862793, 9.82732105255127, 75.24380493164062, 15.848688125610352, 19.78167724609375, 80.56973266601562, 24.588315963745117, 33.57674026489258, 25.651853561401367, 37.00020217895508, 54.05743408203125, 83.00135040283203, 28.861385345458984, 23.305585861206055, 38.87517166137695, 15.470172882080078, 54.631839752197266, 34.74178695678711, 49.904457092285156, 28.023883819580078, 34.781463623046875, 27.443151473999023, 73.73722076416016, 68.38774108886719, 37.3564453125, 41.23280715942383, 28.325654983520508, 34.60660171508789, 48.84891891479492, 35.064884185791016, 54.76090621948242, 55.340118408203125, 50.07577133178711, 36.632198333740234, 41.81626892089844, 47.553714752197266, 42.85051345825195, 33.98618698120117, 34.761104583740234, 35.96284484863281, 33.80100631713867, 19.33846664428711, 21.876361846923828, 2.675835132598877, 6.3384480476379395, 73.64761352539062, 11.070812225341797, 11.498024940490723, 3.496110439300537, 19.05853271484375, 7.061842918395996, 1.786366581916809, 1.7896723747253418, 2.1935932636260986, 30.779869079589844, 1.8177050352096558, 1.7211593389511108, 2.2682087421417236, 1.7307924032211304, 2.7170302867889404, 2.58944034576416, 1.8172967433929443, 3.301804780960083, 2.09956955909729, 3.12562894821167, 1.639450192451477, 2.423786163330078, 1.5844850540161133, 3.028552532196045, 1.5806779861450195, 1.692346215248108, 46.585365295410156, 17.93060874938965, 33.28689956665039, 27.250404357910156, 18.621042251586914, 10.098593711853027, 14.897313117980957, 29.940868377685547, 13.26492977142334, 44.71950149536133, 16.61906623840332, 8.982049942016602, 48.90961456298828, 7.20007848739624, 8.375871658325195, 22.78127098083496, 12.615681648254395, 7.846816539764404, 7.493564128875732, 15.523452758789062, 22.229808807373047, 25.56230926513672, 17.198585510253906, 25.36902618408203, 18.029769897460938, 21.303728103637695, 23.473398208618164, 21.566598892211914, 19.45701026916504, 17.324918746948242, 23.4755916595459, 21.35230255126953, 18.834819793701172, 16.95304298400879, 18.3112850189209, 18.090665817260742, 18.0563907623291, 3.4243178367614746, 2.0741283893585205, 2.571057081222534, 1.8357633352279663, 1.9755722284317017, 3.478703260421753, 1.414798378944397, 2.117161273956299, 1.824107050895691, 1.5263783931732178, 1.4241678714752197, 2.0780489444732666, 2.009610652923584, 2.0580644607543945, 1.5518248081207275, 1.9705641269683838, 1.297378420829773, 1.4082881212234497, 1.4040454626083374, 1.9437891244888306, 1.4191850423812866, 4.414981842041016, 2.73241925239563, 1.1567957401275635, 1.2306866645812988, 1.21245539188385, 1.320331335067749, 1.3457465171813965, 2.1142842769622803, 2.74086332321167, 2.0748050212860107, 2.3431692123413086, 3.5893895626068115, 2.1481688022613525, 1.6412334442138672, 4.1510910987854, 3.4596128463745117, 7.936464786529541, 10.785614013671875, 3.1859452724456787, 5.486733913421631, 19.22995948791504, 13.742937088012695, 14.125090599060059, 18.880878448486328, 14.416458129882812, 18.231765747070312, 19.270587921142578, 4.663099765777588, 3.477008104324341, 16.826351165771484, 17.15511131286621, 12.865947723388672, 4.242950439453125, 10.197543144226074, 7.5451154708862305, 5.1171345710754395, 5.565736770629883, 8.696080207824707, 8.42896556854248, 6.810317039489746, 6.190136909484863, 8.379789352416992, 9.973921775817871, 6.921630859375, 9.688246726989746, 7.5224480628967285, 6.6893486976623535, 6.942720413208008, 7.637436389923096, 7.600369930267334, 8.560794830322266, 7.518422603607178, 7.779258728027344, 7.527366638183594, 6.842846393585205, 14.151861190795898, 14.740233421325684, 3.09049129486084, 3.067476749420166, 2.014509439468384, 1.638229250907898, 1.485914707183838, 2.719967842102051, 2.127493381500244, 2.3836638927459717, 1.5268909931182861, 1.5241444110870361, 1.4652525186538696, 1.4774740934371948, 1.455138921737671, 1.4324311017990112, 1.8745003938674927, 1.5229542255401611, 4.375704288482666, 1.3445219993591309, 1.5568848848342896, 1.5618391036987305, 1.5213574171066284, 1.5243841409683228, 1.5371875762939453, 1.1933128833770752, 2.092892646789551, 2.1588363647460938, 2.1571896076202393, 2.24808669090271, 2.266496419906616, 7.842053413391113, 7.125487327575684, 7.391275405883789, 6.22607421875, 10.602519989013672, 3.121551990509033, 2.4867124557495117, 4.621730327606201, 11.117302894592285, 4.934162616729736, 4.094995975494385, 10.486250877380371, 11.347895622253418, 7.18755578994751, 14.454377174377441, 7.313989162445068, 13.247666358947754, 14.152569770812988, 13.987471580505371, 5.633708953857422, 9.117365837097168, 3.9222633838653564, 9.936494827270508, 8.160286903381348, 9.889752388000488, 5.347234725952148, 9.984065055847168, 10.735803604125977, 7.922464847564697, 7.823614120483398, 9.326287269592285, 8.708852767944336, 7.1195502281188965, 6.944052696228027, 6.891371726989746, 6.505755424499512, 7.810568332672119, 1.602900743484497, 3.5761005878448486, 4.061635971069336, 1.6545027494430542, 2.454028367996216, 2.4516100883483887, 1.6508582830429077, 1.6531989574432373, 1.6502474546432495, 1.6540204286575317, 1.6472349166870117, 1.646970272064209, 1.6513952016830444, 3.248398780822754, 7.248459339141846, 1.649520754814148, 1.6472662687301636, 1.6560769081115723, 1.6503883600234985, 1.6530176401138306, 0.8518823981285095, 1.651999592781067, 0.8562746644020081, 0.8541616797447205, 0.8536495566368103, 1.656378984451294, 0.8456582427024841, 0.852261483669281, 0.8526083827018738, 1.6426081657409668, 2.455197811126709, 3.2528467178344727, 1.6529746055603027, 5.6664652824401855, 5.008948802947998, 1.6522619724273682, 4.944025993347168, 7.187689304351807, 13.215639114379883, 12.498141288757324, 11.488228797912598, 8.986170768737793, 6.536558151245117, 5.7269206047058105, 5.913400173187256, 9.375662803649902, 8.15052604675293, 10.220704078674316, 4.342370986938477, 4.1823506355285645, 7.375041484832764, 6.693477153778076, 3.3884711265563965, 5.841531276702881, 8.422165870666504, 6.744556903839111, 8.41450023651123, 8.721383094787598, 5.832057952880859, 5.827056884765625, 7.602676868438721, 5.8180694580078125, 5.779524326324463, 4.992380619049072, 4.9286370277404785, 5.263063430786133, 5.055997848510742, 5.0328850746154785, 2.351823568344116, 1.5784372091293335, 1.5769134759902954, 1.5727671384811401, 1.3601279258728027, 3.763742446899414, 1.7801480293273926, 1.5643407106399536, 1.521497130393982, 1.3412467241287231, 3.3541147708892822, 1.5654544830322266, 1.3712302446365356, 1.3604689836502075, 2.2868101596832275, 2.988722562789917, 1.57420015335083, 1.5792964696884155, 2.136431932449341, 2.082167863845825, 1.2910710573196411, 1.5435881614685059, 2.3362908363342285, 0.8122139573097229, 0.816049337387085, 0.8230248689651489, 0.817278265953064, 0.7835801839828491, 0.8147063851356506, 0.8012820482254028, 2.1662790775299072, 1.5870263576507568, 1.4043406248092651, 2.0007760524749756, 1.5757538080215454, 1.5841178894042969, 3.037705421447754, 1.7675867080688477, 8.520912170410156, 15.350451469421387, 8.204642295837402, 7.186766147613525, 16.914018630981445, 3.5347626209259033, 6.552835464477539, 5.175212860107422, 7.961446285247803, 7.615792751312256, 5.333965301513672, 20.725215911865234, 16.447025299072266, 14.15846061706543, 16.154382705688477, 11.791971206665039, 6.185449123382568, 7.144991874694824, 5.326136589050293, 5.606132507324219, 7.043980121612549, 14.938146591186523, 3.7719106674194336, 8.267925262451172, 5.117486000061035, 7.647314071655273, 8.039950370788574, 5.980319023132324, 10.43172550201416, 7.366722106933594, 7.480876922607422, 7.879469871520996, 6.480864524841309, 7.705400466918945, 7.561983108520508, 7.034780979156494, 6.53266716003418, 6.841917514801025, 6.5978498458862305, 1.489292860031128, 1.3808518648147583, 1.484442114830017, 1.305834174156189, 2.3900272846221924, 1.2110358476638794, 1.190497636795044, 1.4362318515777588, 1.485122561454773, 1.2800705432891846, 2.874484062194824, 1.3621649742126465, 1.4827954769134521, 1.4884405136108398, 1.4743303060531616, 0.7456709146499634, 1.6132545471191406, 1.4881505966186523, 1.1592897176742554, 4.081006050109863, 0.7643206715583801, 1.4776968955993652, 0.7707645297050476, 1.5298489332199097, 0.7663984298706055, 0.7691169381141663, 1.3229962587356567, 2.2147529125213623, 0.7701070308685303, 1.4811310768127441, 2.3765981197357178, 1.6100733280181885, 1.2603106498718262, 10.47172737121582, 2.2109766006469727, 6.058622360229492, 15.502750396728516, 14.791346549987793, 5.765211582183838, 5.553140640258789, 9.282889366149902, 10.939534187316895, 2.1122026443481445, 15.045427322387695, 8.897154808044434, 2.621828317642212, 8.854873657226562, 13.137678146362305, 10.885237693786621, 4.582932949066162, 7.299916744232178, 8.65836238861084, 5.7525410652160645, 10.864508628845215, 5.469757556915283, 10.203763961791992, 5.8437933921813965, 6.39108419418335, 7.248647212982178, 5.660097122192383, 3.3284716606140137, 7.800989151000977, 6.2928667068481445, 5.763215065002441, 5.633914947509766, 6.0189433097839355, 5.730943202972412, 5.685564994812012, 5.734293460845947, 2.4569671154022217, 1.763847827911377, 1.822259545326233, 1.2479212284088135, 3.6661875247955322, 1.2480169534683228, 1.856188416481018, 1.2487051486968994, 0.6431538462638855, 0.6458948850631714, 0.6445186138153076, 0.6434187293052673, 1.2503281831741333, 0.6451563239097595, 0.6436300873756409, 0.6342819333076477, 0.6455361843109131, 0.6451168060302734, 0.6430694460868835, 0.6417710781097412, 0.6307879090309143, 0.6061598062515259, 0.6025930643081665, 0.6440395712852478, 0.6458433866500854, 0.6444284319877625, 0.6375746726989746, 0.6429780125617981, 0.6473426222801208, 0.6457711458206177, 1.9499958753585815, 1.2481051683425903, 4.449453353881836, 1.8546314239501953, 1.3380086421966553, 1.2495197057724, 4.335332870483398, 1.8565219640731812, 3.773496150970459, 6.203261375427246, 3.759244441986084, 3.13447904586792, 1.193414568901062, 1.2234163284301758, 3.094442844390869, 1.249922513961792, 1.7172446250915527, 1.7400882244110107, 1.251357913017273, 2.4721930027008057, 1.314321756362915, 3.1123552322387695, 2.3325846195220947, 2.9687232971191406, 3.6016759872436523, 4.852962017059326, 2.8894097805023193, 3.754579782485962, 2.5376853942871094, 3.3083009719848633, 2.2709999084472656, 2.416257619857788, 2.5709633827209473, 2.5573291778564453, 2.595834970474243, 2.5057055950164795, 2.472766399383545, 2.223294496536255, 2.2206685543060303, 2.0425570011138916, 2.0224711894989014, 2.2846391201019287, 2.3413970470428467, 1.0880260467529297, 1.182112455368042, 1.0001938343048096, 0.6088283658027649, 1.1832427978515625, 0.6094129085540771, 0.6107792258262634, 0.6098046898841858, 0.6081426739692688, 0.611175000667572, 0.6038845181465149, 0.6100720167160034, 0.6059091091156006, 0.5907458662986755, 0.6106212139129639, 0.6097638607025146, 0.6137112379074097, 0.6102227568626404, 0.6098070740699768, 0.6092490553855896, 0.6094710826873779, 0.6086653470993042, 0.6062807440757751, 0.6082171201705933, 0.6079991459846497, 0.6090269684791565, 0.6106519103050232, 0.6074251532554626, 4.609463214874268, 0.8260310292243958, 2.912945508956909, 5.897060394287109, 1.7574670314788818, 3.4837777614593506, 3.4796502590179443, 3.0255842208862305, 2.97855544090271, 1.7651766538619995, 3.510819435119629, 2.946115732192993, 1.4977481365203857, 2.347602367401123, 1.7657723426818848, 1.2618259191513062, 1.7715593576431274, 1.7725696563720703, 1.1891553401947021, 2.3512446880340576, 1.191186547279358, 4.28985071182251, 1.1819332838058472, 2.9799234867095947, 2.554682731628418, 2.6931138038635254, 1.7829657793045044, 3.8649444580078125, 3.1469740867614746, 3.100034236907959, 2.5538747310638428, 2.5191233158111572, 2.3851895332336426, 2.070650339126587, 2.031240701675415, 1.9641915559768677, 1.8993779420852661, 1.8749741315841675, 1.8636960983276367, 1.821969747543335], \"Total\": [1327.0, 1716.0, 1508.0, 1421.0, 819.0, 1130.0, 1344.0, 648.0, 1311.0, 907.0, 1298.0, 896.0, 700.0, 918.0, 668.0, 499.0, 640.0, 622.0, 922.0, 618.0, 829.0, 1062.0, 779.0, 591.0, 655.0, 758.0, 415.0, 495.0, 654.0, 321.0, 56.2208366394043, 31.115446090698242, 38.15993881225586, 22.023542404174805, 21.986907958984375, 24.02261734008789, 30.707670211791992, 22.030628204345703, 16.994693756103516, 19.001766204833984, 23.032150268554688, 28.049280166625977, 27.04323387145996, 40.002079010009766, 15.978683471679688, 17.945449829101562, 118.69882202148438, 15.961444854736328, 21.895009994506836, 15.955023765563965, 14.953007698059082, 14.96132755279541, 14.967340469360352, 16.96070098876953, 14.96753978729248, 15.963257789611816, 13.960917472839355, 14.959522247314453, 16.982568740844727, 26.67160987854004, 30.87986183166504, 23.021305084228516, 18.982742309570312, 43.931339263916016, 23.943050384521484, 98.66453552246094, 78.12387084960938, 74.16185760498047, 145.58560180664062, 362.9295959472656, 98.78337860107422, 41.873287200927734, 36.96646499633789, 230.246826171875, 74.69512176513672, 89.99323272705078, 51.207950592041016, 163.14688110351562, 58.90401077270508, 63.62956237792969, 135.37493896484375, 196.42221069335938, 151.225341796875, 233.075439453125, 626.9485473632812, 230.73712158203125, 174.2211151123047, 185.47491455078125, 115.3077163696289, 112.52725219726562, 237.90867614746094, 502.41876220703125, 235.6894073486328, 309.6044616699219, 137.51341247558594, 256.28094482421875, 1327.897216796875, 618.9459838867188, 402.964599609375, 184.42605590820312, 585.0201416015625, 327.2780456542969, 640.6220092773438, 706.0277709960938, 540.83447265625, 943.9389038085938, 1130.953369140625, 410.19549560546875, 1716.6549072265625, 779.0612182617188, 478.0030212402344, 654.9921875, 1062.1036376953125, 758.7464599609375, 643.1607055664062, 829.0586547851562, 1311.2828369140625, 1344.4161376953125, 1421.5592041015625, 890.5031127929688, 498.08294677734375, 498.4914245605469, 687.4266967773438, 541.0233154296875, 896.0874633789062, 690.5782470703125, 1298.873779296875, 918.6405639648438, 670.2937622070312, 236.78811645507812, 579.8832397460938, 221.3060760498047, 37.59964370727539, 700.37060546875, 39.79838180541992, 18.30205535888672, 28.56107521057129, 105.23612976074219, 148.02081298828125, 116.49950408935547, 37.608245849609375, 37.77750015258789, 20.334505081176758, 17.261131286621094, 31.59954833984375, 11.126209259033203, 12.131336212158203, 72.3228759765625, 91.3403091430664, 26.087305068969727, 131.47970581054688, 50.891780853271484, 311.14263916015625, 8.020285606384277, 8.01172161102295, 7.003521919250488, 12.111540794372559, 8.017182350158691, 7.0001959800720215, 56.40848922729492, 179.0032196044922, 74.77885437011719, 31.090696334838867, 131.2285614013672, 39.78150939941406, 253.1300048828125, 321.7684020996094, 648.15087890625, 322.2578430175781, 598.0226440429688, 415.8789978027344, 78.90972900390625, 308.3373718261719, 628.1259765625, 668.0474243164062, 145.3880157470703, 379.6101989746094, 379.8051452636719, 240.1829833984375, 922.44775390625, 1508.1015625, 1311.2828369140625, 347.36285400390625, 1298.873779296875, 1421.5592041015625, 820.772216796875, 758.7464599609375, 1344.4161376953125, 1062.1036376953125, 1716.6549072265625, 890.5031127929688, 679.465087890625, 918.6405639648438, 896.0874633789062, 15.82830810546875, 12.077407836914062, 13.018442153930664, 8.331762313842773, 7.386726379394531, 7.3484086990356445, 5.494277477264404, 6.448159217834473, 5.515330791473389, 8.249713897705078, 8.353225708007812, 7.287139892578125, 7.387538433074951, 22.456472396850586, 58.199317932128906, 13.04452133178711, 6.488229751586914, 6.477090835571289, 7.451401710510254, 5.257208347320557, 8.376253128051758, 5.316320896148682, 6.394195079803467, 5.496546268463135, 6.435949802398682, 10.843857765197754, 5.561963081359863, 7.3768415451049805, 142.9110870361328, 7.087851047515869, 42.24460983276367, 25.31154441833496, 32.45198059082031, 40.888057708740234, 108.4159164428711, 48.89223098754883, 360.0835266113281, 907.8055419921875, 24.507381439208984, 417.4306640625, 366.5569152832031, 227.96861267089844, 819.6846923828125, 1508.1015625, 104.28548431396484, 769.9445190429688, 76.35823059082031, 549.5059204101562, 579.9483032226562, 213.00653076171875, 296.63427734375, 369.02996826171875, 591.0791625976562, 609.2368774414062, 69.01807403564453, 918.6405639648438, 378.6989440917969, 1298.873779296875, 1421.5592041015625, 829.0586547851562, 499.27923583984375, 405.54388427734375, 890.5031127929688, 820.772216796875, 268.78857421875, 922.44775390625, 1344.4161376953125, 592.4488525390625, 1716.6549072265625, 621.6401977539062, 1311.2828369140625, 1327.897216796875, 687.4266967773438, 1130.953369140625, 1062.1036376953125, 679.465087890625, 12.597086906433105, 25.060152053833008, 11.620372772216797, 14.497566223144531, 12.611550331115723, 9.658669471740723, 11.574264526367188, 9.6630859375, 23.439311981201172, 6.702536106109619, 6.719433307647705, 38.17859649658203, 7.690421104431152, 6.715014457702637, 71.51701354980469, 7.695194721221924, 8.53643798828125, 7.693509578704834, 6.716302871704102, 5.723798751831055, 117.33220672607422, 25.975215911865234, 5.737250804901123, 6.7214274406433105, 19.936864852905273, 5.739302635192871, 24.17999267578125, 9.67930793762207, 51.09380340576172, 63.08740234375, 109.74594116210938, 19.321313858032227, 17.551889419555664, 59.44406509399414, 31.378459930419922, 13.618952751159668, 31.18608856201172, 127.1518783569336, 39.290767669677734, 36.15663528442383, 85.04657745361328, 105.82592010498047, 23.506317138671875, 38.18716049194336, 107.93843841552734, 48.11982727050781, 184.1558380126953, 283.761474609375, 128.02444458007812, 410.19549560546875, 85.12505340576172, 120.79135131835938, 107.9984359741211, 227.35182189941406, 1716.6549072265625, 166.20648193359375, 1327.897216796875, 247.43838500976562, 257.2971496582031, 540.83447265625, 80.41153717041016, 890.5031127929688, 239.33651733398438, 618.9459838867188, 379.8051452636719, 640.6220092773438, 1130.953369140625, 1298.873779296875, 1344.4161376953125, 585.3159790039062, 1062.1036376953125, 1508.1015625, 1311.2828369140625, 1421.5592041015625, 498.4914245605469, 622.1375122070312, 547.0236206054688, 687.4266967773438, 10.409844398498535, 7.534213066101074, 5.629925727844238, 8.498675346374512, 81.95196533203125, 8.490253448486328, 13.243789672851562, 9.441825866699219, 9.526476860046387, 30.357295989990234, 13.485812187194824, 23.66607666015625, 30.353004455566406, 6.2415690422058105, 5.672311782836914, 14.136493682861328, 11.260774612426758, 19.354381561279297, 9.442453384399414, 55.95604705810547, 7.517087936401367, 6.564705848693848, 8.382844924926758, 35.085758209228516, 499.27923583984375, 7.627152919769287, 8.242684364318848, 39.130859375, 19.91681480407715, 13.241776466369629, 17.018095016479492, 48.491580963134766, 366.5569152832031, 417.4306640625, 15.16472053527832, 296.63427734375, 819.6846923828125, 369.02996826171875, 268.78857421875, 152.29974365234375, 118.60579681396484, 213.00653076171875, 430.9317932128906, 896.0874633789062, 227.96861267089844, 769.9445190429688, 199.98533630371094, 1344.4161376953125, 655.4852905273438, 1298.873779296875, 151.89779663085938, 336.3881530761719, 470.61737060546875, 1508.1015625, 1421.5592041015625, 268.84893798828125, 1716.6549072265625, 820.772216796875, 495.8524169921875, 609.2368774414062, 579.9483032226562, 608.6253051757812, 1327.897216796875, 1311.2828369140625, 1130.953369140625, 575.1914672851562, 918.6405639648438, 66.54873657226562, 5.399461269378662, 21.68564796447754, 18.86008071899414, 5.395504474639893, 5.806018829345703, 5.681633472442627, 13.128772735595703, 13.155759811401367, 6.079176425933838, 10.568516731262207, 8.60830020904541, 8.368559837341309, 6.546318531036377, 48.491580963134766, 6.596854209899902, 7.43255615234375, 6.70961856842041, 8.584187507629395, 10.656805992126465, 6.520552635192871, 9.622584342956543, 10.529884338378906, 13.208623886108398, 48.89223098754883, 152.29974365234375, 7.5743303298950195, 6.6992902755737305, 7.534701347351074, 5.593517780303955, 819.6846923828125, 369.02996826171875, 30.01903533935547, 296.63427734375, 118.60579681396484, 360.0835266113281, 42.24460983276367, 499.27923583984375, 85.60090637207031, 366.5569152832031, 76.35823059082031, 36.02007293701172, 417.4306640625, 142.9110870361328, 380.7915344238281, 268.78857421875, 30.179746627807617, 213.00653076171875, 769.9445190429688, 495.8524169921875, 1508.1015625, 207.6064910888672, 533.9419555664062, 489.46820068359375, 430.9317932128906, 907.8055419921875, 1298.873779296875, 1716.6549072265625, 1311.2828369140625, 579.9483032226562, 922.44775390625, 1344.4161376953125, 1130.953369140625, 1421.5592041015625, 918.6405639648438, 896.0874633789062, 1062.1036376953125, 820.772216796875, 1327.897216796875, 8.447906494140625, 8.451085090637207, 10.518902778625488, 5.5933990478515625, 5.562863349914551, 7.491077899932861, 5.563003063201904, 7.327034950256348, 6.628939628601074, 10.391351699829102, 8.448806762695312, 10.569231033325195, 6.661196708679199, 9.580268859863281, 6.643102169036865, 8.297785758972168, 5.754848957061768, 10.383048057556152, 5.526831150054932, 12.491267204284668, 5.706020355224609, 12.926273345947266, 5.593517780303955, 5.535549640655518, 12.452606201171875, 7.741297721862793, 9.615058898925781, 6.027853965759277, 5.225776672363281, 6.447436332702637, 18.288284301757812, 15.16472053527832, 184.51821899414062, 90.81177520751953, 36.750789642333984, 22.829004287719727, 27.87079620361328, 117.4201431274414, 39.94667434692383, 27.54499626159668, 415.8789978027344, 53.55933380126953, 75.47615814208984, 648.15087890625, 110.70230865478516, 177.8601531982422, 120.12327575683594, 213.00653076171875, 425.16839599609375, 907.8055419921875, 160.92364501953125, 115.33531951904297, 273.350830078125, 59.626129150390625, 567.3375244140625, 261.477783203125, 503.17724609375, 182.12049865722656, 277.1392822265625, 199.98533630371094, 1421.5592041015625, 1298.873779296875, 379.6101989746094, 533.9419555664062, 227.96861267089844, 379.35418701171875, 896.0874633789062, 410.9888916015625, 1344.4161376953125, 1508.1015625, 1311.2828369140625, 495.8524169921875, 922.44775390625, 1716.6549072265625, 1130.953369140625, 455.9935302734375, 598.0226440429688, 1062.1036376953125, 670.2937622070312, 22.33137321472168, 36.5042610168457, 5.2786383628845215, 12.86639404296875, 160.92364501953125, 24.94222640991211, 28.238880157470703, 8.759126663208008, 51.82029724121094, 19.81524658203125, 5.303004741668701, 5.339347839355469, 6.579892635345459, 93.61908721923828, 5.566322326660156, 5.631654739379883, 7.559012413024902, 5.99223518371582, 9.626676559448242, 9.248385429382324, 6.498421669006348, 11.863369941711426, 7.544087886810303, 11.254993438720703, 6.032126426696777, 8.947388648986816, 5.93844747543335, 11.372579574584961, 5.954565048217773, 6.56536340713501, 184.51821899414062, 71.11032104492188, 149.89068603515625, 129.65977478027344, 90.81177520751953, 49.63276672363281, 88.31878662109375, 253.1300048828125, 85.50397491455078, 495.8524169921875, 131.622802734375, 54.803199768066406, 668.0474243164062, 41.04411697387695, 52.76813888549805, 243.69686889648438, 106.05044555664062, 50.746768951416016, 47.40558624267578, 168.99868774414062, 321.7684020996094, 609.2368774414062, 272.2885437011719, 648.15087890625, 314.25048828125, 598.0226440429688, 922.44775390625, 758.7464599609375, 579.9483032226562, 379.6101989746094, 1421.5592041015625, 1298.873779296875, 820.772216796875, 425.16839599609375, 1344.4161376953125, 1311.2828369140625, 1716.6549072265625, 4.245901584625244, 4.869729995727539, 6.625208377838135, 5.0213942527771, 5.755519390106201, 10.400964736938477, 4.615609169006348, 6.927191734313965, 6.042766094207764, 5.101771354675293, 5.2078857421875, 7.872562408447266, 7.65927791595459, 7.93381404876709, 6.1049957275390625, 7.8279266357421875, 5.181761264801025, 5.806018829345703, 5.838830947875977, 8.089218139648438, 5.926295757293701, 18.577556610107422, 11.655362129211426, 4.96953010559082, 5.322945594787598, 5.303812503814697, 5.919743537902832, 6.0493855476379395, 9.505644798278809, 12.339276313781738, 9.883848190307617, 11.585115432739258, 21.05525779724121, 10.939618110656738, 7.837926387786865, 28.953182220458984, 25.952396392822266, 106.9738540649414, 183.25233459472656, 23.53380584716797, 61.94146728515625, 591.0791625976562, 380.7915344238281, 478.0030212402344, 907.8055419921875, 567.3375244140625, 1130.953369140625, 1327.897216796875, 58.820465087890625, 29.433868408203125, 1344.4161376953125, 1716.6549072265625, 896.0874633789062, 53.28325653076172, 585.3159790039062, 276.0195617675781, 92.61311340332031, 127.1518783569336, 495.8524169921875, 549.5059204101562, 289.2513732910156, 207.6064910888672, 668.0474243164062, 1311.2828369140625, 336.3881530761719, 1298.873779296875, 504.46380615234375, 297.7603759765625, 383.26202392578125, 640.6220092773438, 655.4852905273438, 1421.5592041015625, 654.9921875, 918.6405639648438, 758.7464599609375, 779.0612182617188, 18.94192886352539, 26.938310623168945, 8.803974151611328, 8.75688362121582, 6.124783039093018, 5.064194679260254, 4.615609169006348, 8.957176208496094, 7.099931240081787, 7.985904216766357, 5.267695903778076, 5.342304229736328, 5.233811855316162, 5.310469627380371, 5.348548412322998, 5.328612327575684, 7.167258262634277, 5.929581165313721, 17.44648551940918, 5.386653900146484, 6.2853922843933105, 6.316903591156006, 6.2319536209106445, 6.25833797454834, 6.341610431671143, 4.974607467651367, 8.742762565612793, 9.110087394714355, 9.14678955078125, 9.736226081848145, 9.957440376281738, 53.232421875, 53.581214904785156, 58.389713287353516, 48.52729797363281, 227.35182189941406, 22.901653289794922, 14.967486381530762, 51.69267272949219, 304.9570617675781, 62.69013977050781, 44.87486267089844, 410.19549560546875, 502.41876220703125, 193.50604248046875, 1130.953369140625, 209.72683715820312, 1062.1036376953125, 1327.897216796875, 1508.1015625, 133.1429443359375, 585.3159790039062, 51.832984924316406, 896.0874633789062, 504.46380615234375, 943.9389038085938, 145.58560180664062, 1298.873779296875, 1716.6549072265625, 618.9459838867188, 654.9921875, 1421.5592041015625, 1311.2828369140625, 585.0201416015625, 622.1375122070312, 640.6220092773438, 511.1728515625, 21.521360397338867, 5.100595474243164, 12.7318696975708, 15.168313026428223, 6.473488807678223, 9.869051933288574, 10.231006622314453, 7.133535385131836, 7.145663738250732, 7.1611504554748535, 7.3512678146362305, 7.416750907897949, 7.434521198272705, 7.471791744232178, 15.15355396270752, 35.15403366088867, 8.324499130249023, 9.239105224609375, 9.309017181396484, 9.341227531433105, 9.46133804321289, 4.916008472442627, 9.673583984375, 5.064194679260254, 5.0873260498046875, 5.193504333496094, 10.227639198303223, 5.234023571014404, 5.278255939483643, 5.326350688934326, 10.510202407836914, 16.30711555480957, 24.02009391784668, 11.213663101196289, 48.45174026489258, 43.46186447143555, 11.357297897338867, 59.44406509399414, 145.58560180664062, 618.9459838867188, 640.6220092773438, 622.1375122070312, 397.8523254394531, 227.35182189941406, 196.42221069335938, 236.35581970214844, 779.0612182617188, 591.0791625976562, 1327.897216796875, 118.69882202148438, 115.41854858398438, 687.4266967773438, 516.4188842773438, 63.78569793701172, 362.5654602050781, 1311.2828369140625, 654.9921875, 1421.5592041015625, 1716.6549072265625, 407.01776123046875, 411.262939453125, 1344.4161376953125, 502.41876220703125, 626.9485473632812, 288.9594421386719, 349.78857421875, 1130.953369140625, 540.1328735351562, 608.6253051757812, 7.1013970375061035, 5.23836612701416, 5.336997985839844, 5.397218227386475, 5.256362438201904, 14.615755081176758, 7.970469951629639, 7.236702919006348, 7.198148250579834, 6.352772235870361, 16.11686897277832, 8.091609954833984, 7.200275421142578, 7.286898612976074, 12.338349342346191, 16.442583084106445, 8.728809356689453, 8.759126663208008, 11.863369941711426, 12.085217475891113, 7.5143961906433105, 9.196743965148926, 13.953675270080566, 5.062582492828369, 5.339347839355469, 5.399461269378662, 5.367539882659912, 5.152286529541016, 5.397065162658691, 5.334378719329834, 14.893613815307617, 10.825401306152344, 9.53191089630127, 14.57011890411377, 11.143332481384277, 11.263256072998047, 23.775501251220703, 12.834026336669922, 85.50397491455078, 179.0032196044922, 92.61311340332031, 90.9885482788086, 321.7684020996094, 34.651554107666016, 90.81177520751953, 64.5836410522461, 131.47970581054688, 129.65977478027344, 75.47615814208984, 896.0874633789062, 655.4852905273438, 495.8524169921875, 648.15087890625, 415.8789978027344, 124.7992935180664, 171.68333435058594, 93.61908721923828, 106.05044555664062, 182.12049865722656, 1311.2828369140625, 45.1739616394043, 340.2828063964844, 102.67192077636719, 367.1297607421875, 430.9317932128906, 184.51821899414062, 1130.953369140625, 379.6101989746094, 425.16839599609375, 628.1259765625, 329.4693908691406, 918.6405639648438, 1344.4161376953125, 758.7464599609375, 533.9419555664062, 922.44775390625, 907.8055419921875, 5.245936870574951, 5.32190465927124, 5.956671714782715, 5.365141868591309, 9.995145797729492, 5.330905437469482, 5.3297119140625, 6.828139781951904, 7.140899658203125, 6.257314682006836, 14.835479736328125, 7.377810478210449, 8.071063041687012, 8.131146430969238, 8.124527931213379, 4.1438117027282715, 9.44427490234375, 9.343167304992676, 7.397736549377441, 26.160415649414062, 4.958073616027832, 9.673583984375, 5.079713344573975, 10.202751159667969, 5.113984107971191, 5.193504333496094, 9.112266540527344, 15.351297378540039, 5.377077102661133, 10.355184555053711, 16.65202522277832, 11.744206428527832, 8.971911430358887, 107.93843841552734, 17.35259437561035, 58.22016906738281, 239.33651733398438, 227.35182189941406, 66.5367431640625, 85.12505340576172, 222.82192993164062, 379.8051452636719, 19.613679885864258, 1421.5592041015625, 487.59442138671875, 32.983177185058594, 622.1375122070312, 1716.6549072265625, 1130.953369140625, 134.26109313964844, 478.0030212402344, 779.0612182617188, 266.7713317871094, 1508.1015625, 242.45901489257812, 1344.4161376953125, 309.306640625, 446.6365661621094, 668.0474243164062, 331.6773681640625, 66.84111785888672, 1298.873779296875, 628.1259765625, 547.0236206054688, 540.1328735351562, 769.9445190429688, 690.5782470703125, 655.4852905273438, 1327.897216796875, 7.262446880340576, 6.366913318634033, 7.133535385131836, 5.643282413482666, 17.40841293334961, 6.7758989334106445, 11.5335054397583, 7.982433319091797, 5.022495269775391, 5.062582492828369, 5.113984107971191, 5.234023571014404, 10.400964736938477, 5.411642551422119, 5.405587196350098, 5.3556227684021, 5.469657897949219, 5.472440719604492, 5.4819865226745605, 5.4843034744262695, 5.390504360198975, 5.462624549865723, 5.465060710906982, 5.99223518371582, 6.027853965759277, 6.184982776641846, 6.14874792098999, 6.302149295806885, 6.390886306762695, 6.399018287658691, 19.47740364074707, 12.6707124710083, 58.389713287353516, 21.688705444335938, 14.822545051574707, 13.968873977661133, 72.29341125488281, 24.832490921020508, 71.47959899902344, 145.58560180664062, 134.26109313964844, 98.78337860107422, 18.180084228515625, 19.857135772705078, 135.37493896484375, 22.14546012878418, 44.809600830078125, 51.02971267700195, 23.837291717529297, 120.94007873535156, 26.938310623168945, 212.26824951171875, 108.19699096679688, 236.35581970214844, 533.9419555664062, 1508.1015625, 310.1358642578125, 829.0586547851562, 341.96527099609375, 1716.6549072265625, 251.48162841796875, 379.6101989746094, 654.9921875, 640.6220092773438, 918.6405639648438, 922.44775390625, 1344.4161376953125, 375.177734375, 516.4188842773438, 670.2937622070312, 1298.873779296875, 6.996971130371094, 9.1211519241333, 5.067215919494629, 6.905542373657227, 6.055006980895996, 4.974607467651367, 10.0520658493042, 5.19902229309082, 5.322155475616455, 5.350737571716309, 5.384551048278809, 5.425994873046875, 5.36692476272583, 5.433417320251465, 5.444823265075684, 5.391172885894775, 6.180393218994141, 6.228760719299316, 6.35349702835083, 6.424166202545166, 6.424141883850098, 6.445629596710205, 6.452672958374023, 6.4459686279296875, 6.420750617980957, 6.4500885009765625, 6.449967384338379, 7.171943187713623, 7.317900657653809, 7.331370830535889, 56.88483428955078, 10.123534202575684, 40.55568313598633, 129.65977478027344, 27.763086318969727, 74.16185760498047, 86.3746566772461, 93.61908721923828, 98.66453552246094, 43.183624267578125, 183.25233459472656, 199.98533630371094, 45.0418701171875, 149.41566467285156, 78.76966094970703, 34.43851089477539, 85.91012573242188, 87.57072448730469, 31.219873428344727, 196.42221069335938, 33.393394470214844, 1327.897216796875, 33.58161163330078, 489.46820068359375, 321.7312316894531, 397.8523254394531, 116.13316345214844, 1421.5592041015625, 918.6405639648438, 1130.953369140625, 592.4488525390625, 622.1375122070312, 540.1328735351562, 284.66656494140625, 362.9295959472656, 907.8055419921875, 621.6401977539062, 922.44775390625, 758.7464599609375, 313.73260498046875], \"Category\": [\"Default\", \"Default\", \"Default\", \"Default\", \"Default\", \"Default\", \"Default\", \"Default\", \"Default\", \"Default\", \"Default\", \"Default\", \"Default\", \"Default\", \"Default\", \"Default\", \"Default\", \"Default\", \"Default\", \"Default\", \"Default\", \"Default\", \"Default\", \"Default\", \"Default\", \"Default\", \"Default\", \"Default\", \"Default\", \"Default\", \"Topic1\", \"Topic1\", \"Topic1\", \"Topic1\", \"Topic1\", \"Topic1\", \"Topic1\", \"Topic1\", \"Topic1\", \"Topic1\", \"Topic1\", \"Topic1\", \"Topic1\", \"Topic1\", \"Topic1\", \"Topic1\", \"Topic1\", \"Topic1\", \"Topic1\", \"Topic1\", \"Topic1\", \"Topic1\", \"Topic1\", \"Topic1\", \"Topic1\", \"Topic1\", \"Topic1\", \"Topic1\", \"Topic1\", \"Topic1\", \"Topic1\", \"Topic1\", \"Topic1\", \"Topic1\", \"Topic1\", \"Topic1\", \"Topic1\", \"Topic1\", \"Topic1\", \"Topic1\", \"Topic1\", \"Topic1\", \"Topic1\", \"Topic1\", \"Topic1\", \"Topic1\", \"Topic1\", \"Topic1\", \"Topic1\", \"Topic1\", \"Topic1\", \"Topic1\", \"Topic1\", \"Topic1\", \"Topic1\", \"Topic1\", \"Topic1\", \"Topic1\", \"Topic1\", \"Topic1\", \"Topic1\", \"Topic1\", \"Topic1\", \"Topic1\", \"Topic1\", \"Topic1\", \"Topic1\", \"Topic1\", \"Topic1\", \"Topic1\", \"Topic1\", \"Topic1\", \"Topic1\", \"Topic1\", \"Topic1\", \"Topic1\", \"Topic1\", \"Topic1\", \"Topic1\", \"Topic1\", \"Topic1\", \"Topic1\", \"Topic1\", \"Topic1\", \"Topic1\", \"Topic1\", \"Topic1\", \"Topic1\", \"Topic1\", \"Topic1\", \"Topic1\", \"Topic1\", \"Topic1\", \"Topic1\", \"Topic1\", \"Topic1\", \"Topic1\", \"Topic1\", \"Topic1\", \"Topic2\", \"Topic2\", \"Topic2\", \"Topic2\", \"Topic2\", \"Topic2\", \"Topic2\", \"Topic2\", \"Topic2\", \"Topic2\", \"Topic2\", \"Topic2\", \"Topic2\", \"Topic2\", \"Topic2\", \"Topic2\", \"Topic2\", \"Topic2\", \"Topic2\", \"Topic2\", \"Topic2\", \"Topic2\", \"Topic2\", \"Topic2\", \"Topic2\", \"Topic2\", \"Topic2\", \"Topic2\", \"Topic2\", \"Topic2\", \"Topic2\", \"Topic2\", \"Topic2\", \"Topic2\", \"Topic2\", \"Topic2\", \"Topic2\", \"Topic2\", \"Topic2\", \"Topic2\", \"Topic2\", \"Topic2\", \"Topic2\", \"Topic2\", \"Topic2\", \"Topic2\", \"Topic2\", \"Topic2\", \"Topic2\", \"Topic2\", \"Topic2\", \"Topic2\", \"Topic2\", \"Topic2\", \"Topic2\", \"Topic2\", \"Topic2\", \"Topic2\", \"Topic2\", \"Topic2\", \"Topic2\", \"Topic2\", \"Topic2\", \"Topic2\", \"Topic2\", \"Topic3\", \"Topic3\", \"Topic3\", \"Topic3\", \"Topic3\", \"Topic3\", \"Topic3\", \"Topic3\", \"Topic3\", \"Topic3\", \"Topic3\", \"Topic3\", \"Topic3\", \"Topic3\", \"Topic3\", \"Topic3\", \"Topic3\", \"Topic3\", \"Topic3\", \"Topic3\", \"Topic3\", \"Topic3\", \"Topic3\", \"Topic3\", \"Topic3\", \"Topic3\", \"Topic3\", \"Topic3\", \"Topic3\", \"Topic3\", \"Topic3\", \"Topic3\", \"Topic3\", \"Topic3\", \"Topic3\", \"Topic3\", \"Topic3\", \"Topic3\", \"Topic3\", \"Topic3\", \"Topic3\", \"Topic3\", \"Topic3\", \"Topic3\", \"Topic3\", \"Topic3\", \"Topic3\", \"Topic3\", \"Topic3\", \"Topic3\", \"Topic3\", \"Topic3\", \"Topic3\", \"Topic3\", \"Topic3\", \"Topic3\", \"Topic3\", \"Topic3\", \"Topic3\", \"Topic3\", \"Topic3\", \"Topic3\", \"Topic3\", \"Topic3\", \"Topic3\", \"Topic3\", \"Topic3\", \"Topic3\", \"Topic3\", \"Topic3\", \"Topic3\", \"Topic3\", \"Topic3\", \"Topic3\", \"Topic3\", \"Topic3\", \"Topic4\", \"Topic4\", \"Topic4\", \"Topic4\", \"Topic4\", \"Topic4\", \"Topic4\", \"Topic4\", \"Topic4\", \"Topic4\", \"Topic4\", \"Topic4\", \"Topic4\", \"Topic4\", \"Topic4\", \"Topic4\", \"Topic4\", \"Topic4\", \"Topic4\", \"Topic4\", \"Topic4\", \"Topic4\", \"Topic4\", \"Topic4\", \"Topic4\", \"Topic4\", \"Topic4\", \"Topic4\", \"Topic4\", \"Topic4\", \"Topic4\", \"Topic4\", \"Topic4\", \"Topic4\", \"Topic4\", \"Topic4\", \"Topic4\", \"Topic4\", \"Topic4\", \"Topic4\", \"Topic4\", \"Topic4\", \"Topic4\", \"Topic4\", \"Topic4\", \"Topic4\", \"Topic4\", \"Topic4\", \"Topic4\", \"Topic4\", \"Topic4\", \"Topic4\", \"Topic4\", \"Topic4\", \"Topic4\", \"Topic4\", \"Topic4\", \"Topic4\", \"Topic4\", \"Topic4\", \"Topic4\", \"Topic4\", \"Topic4\", \"Topic4\", \"Topic4\", \"Topic4\", \"Topic4\", \"Topic4\", \"Topic4\", \"Topic4\", \"Topic4\", \"Topic4\", \"Topic4\", \"Topic4\", \"Topic4\", \"Topic4\", \"Topic4\", \"Topic4\", \"Topic5\", \"Topic5\", \"Topic5\", \"Topic5\", \"Topic5\", \"Topic5\", \"Topic5\", \"Topic5\", \"Topic5\", \"Topic5\", \"Topic5\", \"Topic5\", \"Topic5\", \"Topic5\", \"Topic5\", \"Topic5\", \"Topic5\", \"Topic5\", \"Topic5\", \"Topic5\", \"Topic5\", \"Topic5\", \"Topic5\", \"Topic5\", \"Topic5\", \"Topic5\", \"Topic5\", \"Topic5\", \"Topic5\", \"Topic5\", \"Topic5\", \"Topic5\", \"Topic5\", \"Topic5\", \"Topic5\", \"Topic5\", \"Topic5\", \"Topic5\", \"Topic5\", \"Topic5\", \"Topic5\", \"Topic5\", \"Topic5\", \"Topic5\", \"Topic5\", \"Topic5\", \"Topic5\", \"Topic5\", \"Topic5\", \"Topic5\", \"Topic5\", \"Topic5\", \"Topic5\", \"Topic5\", \"Topic5\", \"Topic5\", \"Topic5\", \"Topic5\", \"Topic5\", \"Topic5\", \"Topic5\", \"Topic5\", \"Topic5\", \"Topic5\", \"Topic5\", \"Topic5\", \"Topic5\", \"Topic6\", \"Topic6\", \"Topic6\", \"Topic6\", \"Topic6\", \"Topic6\", \"Topic6\", \"Topic6\", \"Topic6\", \"Topic6\", \"Topic6\", \"Topic6\", \"Topic6\", \"Topic6\", \"Topic6\", \"Topic6\", \"Topic6\", \"Topic6\", \"Topic6\", \"Topic6\", \"Topic6\", \"Topic6\", \"Topic6\", \"Topic6\", \"Topic6\", \"Topic6\", \"Topic6\", \"Topic6\", \"Topic6\", \"Topic6\", \"Topic6\", \"Topic6\", \"Topic6\", \"Topic6\", \"Topic6\", \"Topic6\", \"Topic6\", \"Topic6\", \"Topic6\", \"Topic6\", \"Topic6\", \"Topic6\", \"Topic6\", \"Topic6\", \"Topic6\", \"Topic6\", \"Topic6\", \"Topic6\", \"Topic6\", \"Topic6\", \"Topic6\", \"Topic6\", \"Topic6\", \"Topic6\", \"Topic6\", \"Topic6\", \"Topic6\", \"Topic6\", \"Topic6\", \"Topic6\", \"Topic6\", \"Topic6\", \"Topic6\", \"Topic6\", \"Topic6\", \"Topic6\", \"Topic6\", \"Topic6\", \"Topic6\", \"Topic7\", \"Topic7\", \"Topic7\", \"Topic7\", \"Topic7\", \"Topic7\", \"Topic7\", \"Topic7\", \"Topic7\", \"Topic7\", \"Topic7\", \"Topic7\", \"Topic7\", \"Topic7\", \"Topic7\", \"Topic7\", \"Topic7\", \"Topic7\", \"Topic7\", \"Topic7\", \"Topic7\", \"Topic7\", \"Topic7\", \"Topic7\", \"Topic7\", \"Topic7\", \"Topic7\", \"Topic7\", \"Topic7\", \"Topic7\", \"Topic7\", \"Topic7\", \"Topic7\", \"Topic7\", \"Topic7\", \"Topic7\", \"Topic7\", \"Topic7\", \"Topic7\", \"Topic7\", \"Topic7\", \"Topic7\", \"Topic7\", \"Topic7\", \"Topic7\", \"Topic7\", \"Topic7\", \"Topic7\", \"Topic7\", \"Topic7\", \"Topic7\", \"Topic7\", \"Topic7\", \"Topic7\", \"Topic7\", \"Topic7\", \"Topic7\", \"Topic7\", \"Topic7\", \"Topic7\", \"Topic7\", \"Topic7\", \"Topic7\", \"Topic7\", \"Topic7\", \"Topic7\", \"Topic7\", \"Topic7\", \"Topic7\", \"Topic7\", \"Topic7\", \"Topic7\", \"Topic7\", \"Topic7\", \"Topic7\", \"Topic7\", \"Topic7\", \"Topic7\", \"Topic7\", \"Topic8\", \"Topic8\", \"Topic8\", \"Topic8\", \"Topic8\", \"Topic8\", \"Topic8\", \"Topic8\", \"Topic8\", \"Topic8\", \"Topic8\", \"Topic8\", \"Topic8\", \"Topic8\", \"Topic8\", \"Topic8\", \"Topic8\", \"Topic8\", \"Topic8\", \"Topic8\", \"Topic8\", \"Topic8\", \"Topic8\", \"Topic8\", \"Topic8\", \"Topic8\", \"Topic8\", \"Topic8\", \"Topic8\", \"Topic8\", \"Topic8\", \"Topic8\", \"Topic8\", \"Topic8\", \"Topic8\", \"Topic8\", \"Topic8\", \"Topic8\", \"Topic8\", \"Topic8\", \"Topic8\", \"Topic8\", \"Topic8\", \"Topic8\", \"Topic8\", \"Topic8\", \"Topic8\", \"Topic8\", \"Topic8\", \"Topic8\", \"Topic8\", \"Topic8\", \"Topic8\", \"Topic8\", \"Topic8\", \"Topic8\", \"Topic8\", \"Topic8\", \"Topic8\", \"Topic8\", \"Topic8\", \"Topic8\", \"Topic8\", \"Topic8\", \"Topic8\", \"Topic8\", \"Topic8\", \"Topic9\", \"Topic9\", \"Topic9\", \"Topic9\", \"Topic9\", \"Topic9\", \"Topic9\", \"Topic9\", \"Topic9\", \"Topic9\", \"Topic9\", \"Topic9\", \"Topic9\", \"Topic9\", \"Topic9\", \"Topic9\", \"Topic9\", \"Topic9\", \"Topic9\", \"Topic9\", \"Topic9\", \"Topic9\", \"Topic9\", \"Topic9\", \"Topic9\", \"Topic9\", \"Topic9\", \"Topic9\", \"Topic9\", \"Topic9\", \"Topic9\", \"Topic9\", \"Topic9\", \"Topic9\", \"Topic9\", \"Topic9\", \"Topic9\", \"Topic9\", \"Topic9\", \"Topic9\", \"Topic9\", \"Topic9\", \"Topic9\", \"Topic9\", \"Topic9\", \"Topic9\", \"Topic9\", \"Topic9\", \"Topic9\", \"Topic9\", \"Topic9\", \"Topic9\", \"Topic9\", \"Topic9\", \"Topic9\", \"Topic9\", \"Topic9\", \"Topic9\", \"Topic9\", \"Topic9\", \"Topic9\", \"Topic9\", \"Topic9\", \"Topic9\", \"Topic9\", \"Topic9\", \"Topic9\", \"Topic9\", \"Topic9\", \"Topic9\", \"Topic9\", \"Topic9\", \"Topic9\", \"Topic9\", \"Topic9\", \"Topic9\", \"Topic10\", \"Topic10\", \"Topic10\", \"Topic10\", \"Topic10\", \"Topic10\", \"Topic10\", \"Topic10\", \"Topic10\", \"Topic10\", \"Topic10\", \"Topic10\", \"Topic10\", \"Topic10\", \"Topic10\", \"Topic10\", \"Topic10\", \"Topic10\", \"Topic10\", \"Topic10\", \"Topic10\", \"Topic10\", \"Topic10\", \"Topic10\", \"Topic10\", \"Topic10\", \"Topic10\", \"Topic10\", \"Topic10\", \"Topic10\", \"Topic10\", \"Topic10\", \"Topic10\", \"Topic10\", \"Topic10\", \"Topic10\", \"Topic10\", \"Topic10\", \"Topic10\", \"Topic10\", \"Topic10\", \"Topic10\", \"Topic10\", \"Topic10\", \"Topic10\", \"Topic10\", \"Topic10\", \"Topic10\", \"Topic10\", \"Topic10\", \"Topic10\", \"Topic10\", \"Topic10\", \"Topic10\", \"Topic10\", \"Topic10\", \"Topic10\", \"Topic10\", \"Topic10\", \"Topic10\", \"Topic10\", \"Topic10\", \"Topic10\", \"Topic10\", \"Topic10\", \"Topic10\", \"Topic10\", \"Topic11\", \"Topic11\", \"Topic11\", \"Topic11\", \"Topic11\", \"Topic11\", \"Topic11\", \"Topic11\", \"Topic11\", \"Topic11\", \"Topic11\", \"Topic11\", \"Topic11\", \"Topic11\", \"Topic11\", \"Topic11\", \"Topic11\", \"Topic11\", \"Topic11\", \"Topic11\", \"Topic11\", \"Topic11\", \"Topic11\", \"Topic11\", \"Topic11\", \"Topic11\", \"Topic11\", \"Topic11\", \"Topic11\", \"Topic11\", \"Topic11\", \"Topic11\", \"Topic11\", \"Topic11\", \"Topic11\", \"Topic11\", \"Topic11\", \"Topic11\", \"Topic11\", \"Topic11\", \"Topic11\", \"Topic11\", \"Topic11\", \"Topic11\", \"Topic11\", \"Topic11\", \"Topic11\", \"Topic11\", \"Topic11\", \"Topic11\", \"Topic11\", \"Topic11\", \"Topic11\", \"Topic11\", \"Topic11\", \"Topic11\", \"Topic11\", \"Topic11\", \"Topic11\", \"Topic11\", \"Topic11\", \"Topic11\", \"Topic11\", \"Topic11\", \"Topic11\", \"Topic11\", \"Topic11\", \"Topic11\", \"Topic11\", \"Topic12\", \"Topic12\", \"Topic12\", \"Topic12\", \"Topic12\", \"Topic12\", \"Topic12\", \"Topic12\", \"Topic12\", \"Topic12\", \"Topic12\", \"Topic12\", \"Topic12\", \"Topic12\", \"Topic12\", \"Topic12\", \"Topic12\", \"Topic12\", \"Topic12\", \"Topic12\", \"Topic12\", \"Topic12\", \"Topic12\", \"Topic12\", \"Topic12\", \"Topic12\", \"Topic12\", \"Topic12\", \"Topic12\", \"Topic12\", \"Topic12\", \"Topic12\", \"Topic12\", \"Topic12\", \"Topic12\", \"Topic12\", \"Topic12\", \"Topic12\", \"Topic12\", \"Topic12\", \"Topic12\", \"Topic12\", \"Topic12\", \"Topic12\", \"Topic12\", \"Topic12\", \"Topic12\", \"Topic12\", \"Topic12\", \"Topic12\", \"Topic12\", \"Topic12\", \"Topic12\", \"Topic12\", \"Topic12\", \"Topic12\", \"Topic12\", \"Topic12\", \"Topic12\", \"Topic12\", \"Topic12\", \"Topic12\", \"Topic12\", \"Topic12\", \"Topic12\", \"Topic12\", \"Topic12\", \"Topic12\", \"Topic12\", \"Topic12\", \"Topic12\", \"Topic12\", \"Topic12\", \"Topic12\", \"Topic12\", \"Topic12\", \"Topic12\", \"Topic13\", \"Topic13\", \"Topic13\", \"Topic13\", \"Topic13\", \"Topic13\", \"Topic13\", \"Topic13\", \"Topic13\", \"Topic13\", \"Topic13\", \"Topic13\", \"Topic13\", \"Topic13\", \"Topic13\", \"Topic13\", \"Topic13\", \"Topic13\", \"Topic13\", \"Topic13\", \"Topic13\", \"Topic13\", \"Topic13\", \"Topic13\", \"Topic13\", \"Topic13\", \"Topic13\", \"Topic13\", \"Topic13\", \"Topic13\", \"Topic13\", \"Topic13\", \"Topic13\", \"Topic13\", \"Topic13\", \"Topic13\", \"Topic13\", \"Topic13\", \"Topic13\", \"Topic13\", \"Topic13\", \"Topic13\", \"Topic13\", \"Topic13\", \"Topic13\", \"Topic13\", \"Topic13\", \"Topic13\", \"Topic13\", \"Topic13\", \"Topic13\", \"Topic13\", \"Topic13\", \"Topic13\", \"Topic13\", \"Topic13\", \"Topic13\", \"Topic13\", \"Topic13\", \"Topic13\", \"Topic13\", \"Topic13\", \"Topic13\", \"Topic13\", \"Topic13\", \"Topic13\", \"Topic13\", \"Topic13\", \"Topic13\", \"Topic14\", \"Topic14\", \"Topic14\", \"Topic14\", \"Topic14\", \"Topic14\", \"Topic14\", \"Topic14\", \"Topic14\", \"Topic14\", \"Topic14\", \"Topic14\", \"Topic14\", \"Topic14\", \"Topic14\", \"Topic14\", \"Topic14\", \"Topic14\", \"Topic14\", \"Topic14\", \"Topic14\", \"Topic14\", \"Topic14\", \"Topic14\", \"Topic14\", \"Topic14\", \"Topic14\", \"Topic14\", \"Topic14\", \"Topic14\", \"Topic14\", \"Topic14\", \"Topic14\", \"Topic14\", \"Topic14\", \"Topic14\", \"Topic14\", \"Topic14\", \"Topic14\", \"Topic14\", \"Topic14\", \"Topic14\", \"Topic14\", \"Topic14\", \"Topic14\", \"Topic14\", \"Topic14\", \"Topic14\", \"Topic14\", \"Topic14\", \"Topic14\", \"Topic14\", \"Topic14\", \"Topic14\", \"Topic14\", \"Topic14\", \"Topic14\", \"Topic14\", \"Topic14\", \"Topic14\", \"Topic14\", \"Topic14\", \"Topic14\", \"Topic14\", \"Topic14\", \"Topic14\", \"Topic14\", \"Topic14\", \"Topic14\", \"Topic14\", \"Topic14\", \"Topic15\", \"Topic15\", \"Topic15\", \"Topic15\", \"Topic15\", \"Topic15\", \"Topic15\", \"Topic15\", \"Topic15\", \"Topic15\", \"Topic15\", \"Topic15\", \"Topic15\", \"Topic15\", \"Topic15\", \"Topic15\", \"Topic15\", \"Topic15\", \"Topic15\", \"Topic15\", \"Topic15\", \"Topic15\", \"Topic15\", \"Topic15\", \"Topic15\", \"Topic15\", \"Topic15\", \"Topic15\", \"Topic15\", \"Topic15\", \"Topic15\", \"Topic15\", \"Topic15\", \"Topic15\", \"Topic15\", \"Topic15\", \"Topic15\", \"Topic15\", \"Topic15\", \"Topic15\", \"Topic15\", \"Topic15\", \"Topic15\", \"Topic15\", \"Topic15\", \"Topic15\", \"Topic15\", \"Topic15\", \"Topic15\", \"Topic15\", \"Topic15\", \"Topic15\", \"Topic15\", \"Topic15\", \"Topic15\", \"Topic15\", \"Topic15\", \"Topic15\", \"Topic15\", \"Topic15\", \"Topic15\", \"Topic15\", \"Topic15\", \"Topic15\", \"Topic15\", \"Topic15\", \"Topic15\", \"Topic15\", \"Topic15\", \"Topic15\"], \"logprob\": [30.0, 29.0, 28.0, 27.0, 26.0, 25.0, 24.0, 23.0, 22.0, 21.0, 20.0, 19.0, 18.0, 17.0, 16.0, 15.0, 14.0, 13.0, 12.0, 11.0, 10.0, 9.0, 8.0, 7.0, 6.0, 5.0, 4.0, 3.0, 2.0, 1.0, -7.788400173187256, -8.391400337219238, -8.18970012664795, -8.740599632263184, -8.744000434875488, -8.656299591064453, -8.411800384521484, -8.74530029296875, -9.005399703979492, -8.895700454711914, -8.70359992980957, -8.506600379943848, -8.543899536132812, -8.15310001373291, -9.072400093078613, -8.957300186157227, -7.068999767303467, -9.075900077819824, -8.759900093078613, -9.076399803161621, -9.142000198364258, -9.142200469970703, -9.141900062561035, -9.017600059509277, -9.142999649047852, -9.07859992980957, -9.21310043334961, -9.14430046081543, -9.017900466918945, -8.566900253295898, -8.423600196838379, -8.715299606323242, -8.908900260925293, -8.090499877929688, -8.684900283813477, -7.311999797821045, -7.540999889373779, -7.595300197601318, -6.956699848175049, -6.0929999351501465, -7.329599857330322, -8.151399612426758, -8.27079963684082, -6.540800094604492, -7.604599952697754, -7.433599948883057, -7.964200019836426, -6.881100177764893, -7.835999965667725, -7.764500141143799, -7.063600063323975, -6.724800109863281, -6.9654998779296875, -6.572400093078613, -5.674600124359131, -6.5854997634887695, -6.8471999168396, -6.80210018157959, -7.230100154876709, -7.253600120544434, -6.579999923706055, -5.930799961090088, -6.610499858856201, -6.375, -7.090199947357178, -6.551499843597412, -5.142899990081787, -5.802999973297119, -6.174900054931641, -6.853600025177002, -5.919300079345703, -6.399600028991699, -5.870500087738037, -5.8043999671936035, -6.013999938964844, -5.60230016708374, -5.485599994659424, -6.257900238037109, -5.2281999588012695, -5.815800189971924, -6.1682000160217285, -5.957699775695801, -5.639599800109863, -5.906300067901611, -6.029300212860107, -5.875800132751465, -5.632699966430664, -5.6230998039245605, -5.627299785614014, -5.898200035095215, -6.1996002197265625, -6.209199905395508, -6.087399959564209, -6.192800045013428, -6.009799957275391, -6.1178998947143555, -5.970099925994873, -6.058300018310547, -6.1442999839782715, -5.582200050354004, -4.687399864196777, -5.658699989318848, -7.4390997886657715, -4.518599987030029, -7.388299942016602, -8.16919994354248, -7.724400043487549, -6.420300006866455, -6.0792999267578125, -6.32420015335083, -7.456500053405762, -7.452300071716309, -8.073599815368652, -8.241900444030762, -7.639800071716309, -8.684800148010254, -8.61400032043457, -6.8302998542785645, -6.597499847412109, -7.853899955749512, -6.2459001541137695, -7.197800159454346, -5.393899917602539, -9.052900314331055, -9.057299613952637, -9.193499565124512, -8.64680004119873, -9.061699867248535, -9.199999809265137, -7.116700172424316, -5.974400043487549, -6.8404998779296875, -7.70989990234375, -6.298699855804443, -7.470799922943115, -5.661099910736084, -5.458000183105469, -4.793499946594238, -5.473800182342529, -4.907800197601318, -5.268099784851074, -6.841899871826172, -5.726600170135498, -5.310699939727783, -5.275300025939941, -6.469200134277344, -5.836599826812744, -5.841100215911865, -6.166299819946289, -5.299300193786621, -4.9944000244140625, -5.211599826812744, -5.993199825286865, -5.376100063323975, -5.356100082397461, -5.647799968719482, -5.689899921417236, -5.498700141906738, -5.617099761962891, -5.526500225067139, -5.731200218200684, -5.866099834442139, -5.819300174713135, -5.865099906921387, -7.795400142669678, -8.069499969482422, -8.003399848937988, -8.468299865722656, -8.607199668884277, -8.615799903869629, -8.94219970703125, -8.788100242614746, -9.010299682617188, -8.607799530029297, -8.601799964904785, -8.763899803161621, -8.764100074768066, -7.6666998863220215, -6.7204999923706055, -8.232399940490723, -8.93690013885498, -8.941800117492676, -8.8016996383667, -9.157899856567383, -8.701600074768066, -9.160300254821777, -8.976799964904785, -9.144000053405762, -8.991299629211426, -8.474800109863281, -9.15060043334961, -8.884400367736816, -5.922699928283691, -8.935400009155273, -7.159200191497803, -7.673099994659424, -7.448400020599365, -7.265699863433838, -6.379000186920166, -7.116199970245361, -5.310100078582764, -4.544099807739258, -7.768899917602539, -5.316800117492676, -5.432000160217285, -5.846399784088135, -4.779399871826172, -4.280600070953369, -6.55049991607666, -4.893400192260742, -6.8246002197265625, -5.214700222015381, -5.186600208282471, -5.998000144958496, -5.782800197601318, -5.615900039672852, -5.278200149536133, -5.312099933624268, -6.948699951171875, -5.104400157928467, -5.748300075531006, -4.894100189208984, -4.8383002281188965, -5.298799991607666, -5.636099815368652, -5.774600028991699, -5.28000020980835, -5.338699817657471, -6.040200233459473, -5.293099880218506, -5.079800128936768, -5.570099830627441, -5.1041998863220215, -5.599800109863281, -5.300099849700928, -5.539299964904785, -5.682600021362305, -5.610300064086914, -5.627299785614014, -5.7058000564575195, -7.6828999519348145, -7.0005998611450195, -7.769700050354004, -7.560400009155273, -7.702000141143799, -7.969399929046631, -7.795000076293945, -7.9903998374938965, -7.1128997802734375, -8.367600440979004, -8.365799903869629, -6.629199981689453, -8.234000205993652, -8.369999885559082, -6.005899906158447, -8.236900329589844, -8.140600204467773, -8.249600410461426, -8.387200355529785, -8.550100326538086, -5.530700206756592, -7.039999961853027, -8.550399780273438, -8.399299621582031, -7.312600135803223, -8.557900428771973, -7.120500087738037, -8.03689956665039, -6.373300075531006, -6.16379976272583, -5.611299991607666, -7.348199844360352, -7.445000171661377, -6.247900009155273, -6.904799938201904, -7.708600044250488, -6.92519998550415, -5.617000102996826, -6.7342000007629395, -6.821700096130371, -6.051499843597412, -5.881899833679199, -7.2342000007629395, -6.844099998474121, -5.99459981918335, -6.661499977111816, -5.606599807739258, -5.289400100708008, -6.00540018081665, -5.203800201416016, -6.322199821472168, -6.090400218963623, -6.196100234985352, -5.704899787902832, -4.651299953460693, -6.193699836730957, -5.212200164794922, -6.075799942016602, -6.089399814605713, -5.804200172424316, -6.55649995803833, -5.660200119018555, -6.148200035095215, -5.826900005340576, -6.012800216674805, -5.853499889373779, -5.694499969482422, -5.685500144958496, -5.708000183105469, -5.90910005569458, -5.815499782562256, -5.792799949645996, -5.816500186920166, -5.873600006103516, -5.998700141906738, -6.003699779510498, -6.038599967956543, -6.047900199890137, -7.442500114440918, -7.793499946594238, -8.125, -7.717899799346924, -5.453700065612793, -7.724599838256836, -7.327600002288818, -7.769800186157227, -7.763700008392334, -6.665299892425537, -7.490799903869629, -6.945400238037109, -6.6975998878479, -8.297699928283691, -8.409700393676758, -7.594799995422363, -7.837800025939941, -7.322000026702881, -8.046699523925781, -6.268400192260742, -8.296299934387207, -8.432000160217285, -8.20460033416748, -6.774600028991699, -4.124599933624268, -8.308899879455566, -8.236800193786621, -6.699999809265137, -7.37939977645874, -7.788700103759766, -7.542300224304199, -6.536499977111816, -4.777200222015381, -4.714300155639648, -7.678199768066406, -5.064000129699707, -4.230800151824951, -5.0046000480651855, -5.281599998474121, -5.767399787902832, -6.153200149536133, -5.739999771118164, -5.358699798583984, -4.8902997970581055, -5.788000106811523, -5.101799964904785, -5.9334001541137695, -4.7932000160217285, -5.231599807739258, -4.843900203704834, -6.099400043487549, -5.690499782562256, -5.527599811553955, -4.993100166320801, -5.044600009918213, -5.853300094604492, -5.0569000244140625, -5.402400016784668, -5.614200115203857, -5.607800006866455, -5.645999908447266, -5.644499778747559, -5.435200214385986, -5.444900035858154, -5.529099941253662, -5.688799858093262, -5.763400077819824, -5.712500095367432, -8.404999732971191, -7.039000034332275, -7.181700229644775, -8.443099975585938, -8.383600234985352, -8.405900001525879, -7.571400165557861, -7.578000068664551, -8.362700462341309, -7.8831000328063965, -8.1141996383667, -8.156900405883789, -8.403800010681152, -6.423699855804443, -8.420000076293945, -8.302000045776367, -8.407099723815918, -8.165499687194824, -7.98330020904541, -8.478599548339844, -8.102100372314453, -8.01710033416748, -7.808499813079834, -6.506800174713135, -5.374499797821045, -8.382599830627441, -8.506199836730957, -8.390000343322754, -8.705599784851074, -3.8694000244140625, -4.672399997711182, -7.1097002029418945, -5.043300151824951, -5.928299903869629, -4.989799976348877, -6.842800140380859, -4.7596001625061035, -6.263599872589111, -5.106800079345703, -6.401899814605713, -7.035699844360352, -5.1381001472473145, -6.066999912261963, -5.407599925994873, -5.668000221252441, -7.221700191497803, -5.853000164031982, -4.96150016784668, -5.358500003814697, -4.6265997886657715, -6.029699802398682, -5.479100227355957, -5.562300205230713, -5.673799991607666, -5.286300182342529, -5.103799819946289, -4.972499847412109, -5.171199798583984, -5.587399959564209, -5.4344000816345215, -5.307400226593018, -5.446800231933594, -5.383200168609619, -5.520500183105469, -5.577400207519531, -5.624000072479248, -5.67140007019043, -5.680600166320801, -7.564199924468994, -7.567299842834473, -7.396699905395508, -8.085700035095215, -8.133199691772461, -7.8942999839782715, -8.197600364685059, -7.9593000411987305, -8.094799995422363, -7.651000022888184, -7.8755998611450195, -7.667799949645996, -8.143500328063965, -7.820099830627441, -8.190600395202637, -7.9882001876831055, -8.363699913024902, -7.791999816894531, -8.441900253295898, -7.636099815368652, -8.422800064086914, -7.6178998947143555, -8.457799911499023, -8.469499588012695, -7.662700176239014, -8.138299942016602, -7.943600177764893, -8.414999961853027, -8.593199729919434, -8.384099960327148, -7.3649001121521, -7.56220006942749, -5.203100204467773, -5.891499996185303, -6.7779998779296875, -7.2291998863220215, -7.100900173187256, -5.942500114440918, -6.813799858093262, -7.149899959564209, -5.114299774169922, -6.671999931335449, -6.450300216674805, -5.045899868011475, -6.232800006866455, -5.921199798583984, -6.190400123596191, -5.824100017547607, -5.445000171661377, -5.016200065612793, -6.072500228881836, -6.286300182342529, -5.774700164794922, -6.696100234985352, -5.4344000816345215, -5.8871002197265625, -5.524899959564209, -6.1020002365112305, -5.886000156402588, -6.122900009155273, -5.134500026702881, -5.209799766540527, -5.814499855041504, -5.715799808502197, -6.091300010681152, -5.890999794006348, -5.546299934387207, -5.877799987792969, -5.43209981918335, -5.421500205993652, -5.521500110626221, -5.834099769592285, -5.7017998695373535, -5.573200225830078, -5.677299976348877, -5.90910005569458, -5.886499881744385, -5.85260009765625, -5.9145002365112305, -5.486599922180176, -5.36329984664917, -7.464399814605713, -6.602099895477295, -4.149400234222412, -6.044400215148926, -6.006499767303467, -7.1971001625061035, -5.501200199127197, -6.49399995803833, -7.868500232696533, -7.866700172424316, -7.6631999015808105, -5.0218000411987305, -7.851099967956543, -7.905700206756592, -7.629700183868408, -7.900100231170654, -7.44920015335083, -7.497300148010254, -7.851399898529053, -7.254199981689453, -7.706999778747559, -7.309100151062012, -7.9542999267578125, -7.563399791717529, -7.988399982452393, -7.34060001373291, -7.990799903869629, -7.922599792480469, -4.607399940490723, -5.56220006942749, -4.94350004196167, -5.143599987030029, -5.524400234222412, -6.136300086975098, -5.747499942779541, -5.049499988555908, -5.86359977722168, -4.6483001708984375, -5.638199806213379, -6.253499984741211, -4.558700084686279, -6.474599838256836, -6.323299884796143, -5.322800159454346, -5.91379976272583, -6.388599872589111, -6.434700012207031, -5.706399917602539, -5.347300052642822, -5.207600116729736, -5.603899955749512, -5.215199947357178, -5.556700229644775, -5.389800071716309, -5.292799949645996, -5.377600193023682, -5.480500221252441, -5.59660005569458, -5.292699813842773, -5.387499809265137, -5.513000011444092, -5.618299961090088, -5.541200160980225, -5.553299903869629, -5.555200099945068, -6.832699775695801, -7.334099769592285, -7.11929988861084, -7.456099987030029, -7.382800102233887, -6.81689977645874, -7.716599941253662, -7.313499927520752, -7.462500095367432, -7.640699863433838, -7.710000038146973, -7.332200050354004, -7.365699768066406, -7.341800212860107, -7.624199867248535, -7.385300159454346, -7.803299903869629, -7.721199989318848, -7.724299907684326, -7.39900016784668, -7.713500022888184, -6.57859992980957, -7.0584001541137695, -7.918000221252441, -7.855999946594238, -7.870999813079834, -7.785699844360352, -7.76669979095459, -7.314899921417236, -7.055300235748291, -7.333700180053711, -7.212100028991699, -6.785600185394287, -7.298999786376953, -7.56820011138916, -6.640200138092041, -6.822500228881836, -5.992099761962891, -5.685400009155273, -6.904900074005127, -6.361299991607666, -5.107100009918213, -5.4430999755859375, -5.4156999588012695, -5.125500202178955, -5.395199775695801, -5.160399913787842, -5.105000019073486, -6.523900032043457, -6.817399978637695, -5.240699768066406, -5.22130012512207, -5.508999824523926, -6.6184000968933105, -5.741499900817871, -6.042699813842773, -6.431000232696533, -6.3470001220703125, -5.900700092315674, -5.9319000244140625, -6.145199775695801, -6.240699768066406, -5.93779993057251, -5.763599872589111, -6.129000186920166, -5.792699813842773, -6.0457000732421875, -6.163099765777588, -6.125899791717529, -6.0304999351501465, -6.035399913787842, -5.916399955749512, -6.046299934387207, -6.0121002197265625, -6.045100212097168, -6.140399932861328, -5.399799823760986, -5.359000205993652, -6.921299934387207, -6.928800106048584, -7.3491997718811035, -7.556000232696533, -7.653600215911865, -7.048999786376953, -7.2947001457214355, -7.181000232696533, -7.626399993896484, -7.628200054168701, -7.667600154876709, -7.659299850463867, -7.674499988555908, -7.690199851989746, -7.421299934387207, -7.629000186920166, -6.573599815368652, -7.753600120544434, -7.606900215148926, -7.603799819946289, -7.630000114440918, -7.627999782562256, -7.619699954986572, -7.872900009155273, -7.311100006103516, -7.280099868774414, -7.280799865722656, -7.239500045776367, -7.231400012969971, -5.990099906921387, -6.085899829864502, -6.049300193786621, -6.220900058746338, -5.688499927520752, -6.911300182342529, -7.138700008392334, -6.518899917602539, -5.64109992980957, -6.453400135040283, -6.639900207519531, -5.6996002197265625, -5.62060022354126, -6.077300071716309, -5.378600120544434, -6.059800148010254, -5.465799808502197, -5.399700164794922, -5.411499977111816, -6.320899963378906, -5.839399814605713, -6.683000087738037, -5.753399848937988, -5.950300216674805, -5.7581000328063965, -6.373000144958496, -5.748600006103516, -5.676000118255615, -5.979899883270264, -5.992499828338623, -5.816800117492676, -5.885300159454346, -6.0868000984191895, -6.111700057983398, -6.1194000244140625, -6.1768999099731445, -5.734099864959717, -7.317699909210205, -6.5152997970581055, -6.388000011444092, -7.285999774932861, -6.8917999267578125, -6.8927998542785645, -7.2881999015808105, -7.286799907684326, -7.288599967956543, -7.286300182342529, -7.29040002822876, -7.290599822998047, -7.287899971008301, -6.611400127410889, -5.808800220489502, -7.289100170135498, -7.29040002822876, -7.285099983215332, -7.28849983215332, -7.286900043487549, -7.94980001449585, -7.287600040435791, -7.944699764251709, -7.947199821472168, -7.947800159454346, -7.284900188446045, -7.957200050354004, -7.949399948120117, -7.948999881744385, -7.293300151824951, -6.891300201416016, -6.610000133514404, -7.2870001792907715, -6.054999828338623, -6.178299903869629, -7.287399768829346, -6.191400051116943, -5.817200183868408, -5.208099842071533, -5.263999938964844, -5.348199844360352, -5.593900203704834, -5.912099838256836, -6.044400215148926, -6.01230001449585, -5.551400184631348, -5.691500186920166, -5.465099811553955, -6.321100234985352, -6.358699798583984, -5.791399955749512, -5.888400077819824, -6.569200038909912, -6.024600028991699, -5.658699989318848, -5.880799770355225, -5.659599781036377, -5.623799800872803, -6.026199817657471, -6.0269999504089355, -5.761000156402588, -6.028600215911865, -6.035200119018555, -6.181600093841553, -6.194499969482422, -6.128799915313721, -6.169000148773193, -6.173500061035156, -6.929800033569336, -7.32859992980957, -7.329599857330322, -7.332200050354004, -7.477399826049805, -6.45959997177124, -7.2083001136779785, -7.337600231170654, -7.365300178527832, -7.491399765014648, -6.57480001449585, -7.3368000984191895, -7.469299793243408, -7.477200031280518, -6.957900047302246, -6.690199851989746, -7.331299781799316, -7.328000068664551, -7.025899887084961, -7.051599979400635, -7.529600143432617, -7.350900173187256, -6.936500072479248, -7.993000030517578, -7.98829984664917, -7.979800224304199, -7.986800193786621, -8.028900146484375, -7.989999771118164, -8.006600379943848, -7.01200008392334, -7.323200225830078, -7.445499897003174, -7.0914998054504395, -7.3302998542785645, -7.324999809265137, -6.673900127410889, -7.215400218963623, -5.642499923706055, -5.053899765014648, -5.680300235748291, -5.81279993057251, -4.956900119781494, -6.52239990234375, -5.905099868774414, -6.14109992980957, -5.710400104522705, -5.754799842834473, -6.110899925231934, -4.753699779510498, -4.984899997711182, -5.134699821472168, -5.002799987792969, -5.317599773406982, -5.962800025939941, -5.818600177764893, -6.112400054931641, -6.061200141906738, -5.832900047302246, -5.081099987030029, -6.457399845123291, -5.672599792480469, -6.152400016784668, -5.750699996948242, -5.7006001472473145, -5.996600151062012, -5.440199851989746, -5.788099765777588, -5.77269983291626, -5.720799922943115, -5.916200160980225, -5.743100166320801, -5.761899948120117, -5.834199905395508, -5.908199787139893, -5.861999988555908, -5.8983001708984375, -7.215000152587891, -7.290599822998047, -7.218200206756592, -7.346399784088135, -6.742000102996826, -7.421800136566162, -7.438899993896484, -7.251200199127197, -7.217800140380859, -7.366300106048584, -6.557400226593018, -7.304200172424316, -7.219299793243408, -7.2154998779296875, -7.225100040435791, -7.906700134277344, -7.135000228881836, -7.215700149536133, -7.4654998779296875, -6.206900119781494, -7.881999969482422, -7.222799777984619, -7.873600006103516, -7.1880998611450195, -7.879300117492676, -7.875800132751465, -7.333399772644043, -6.8180999755859375, -7.874499797821045, -7.2204999923706055, -6.747600078582764, -7.13700008392334, -7.381899833679199, -5.264599800109863, -6.819799900054932, -5.811800003051758, -4.872200012207031, -4.9191999435424805, -5.861400127410889, -5.898900032043457, -5.3850998878479, -5.220900058746338, -6.865499973297119, -4.902200222015381, -5.427499771118164, -6.649400234222412, -5.432300090789795, -5.037799835205078, -5.225900173187256, -6.09089994430542, -5.625400066375732, -5.454699993133545, -5.86359977722168, -5.227799892425537, -5.914000034332275, -5.290500164031982, -5.847899913787842, -5.758399963378906, -5.632400035858154, -5.879799842834473, -6.410699844360352, -5.559000015258789, -5.773799896240234, -5.861800193786621, -5.884500026702881, -5.818299770355225, -5.867400169372559, -5.87529993057251, -5.866799831390381, -5.938499927520752, -6.269899845123291, -6.237299919128418, -6.615900039672852, -5.5381999015808105, -6.615799903869629, -6.218900203704834, -6.615300178527832, -7.278800010681152, -7.274499893188477, -7.276599884033203, -7.278299808502197, -6.613999843597412, -7.275700092315674, -7.2779998779296875, -7.292600154876709, -7.275100231170654, -7.275700092315674, -7.278900146484375, -7.280900001525879, -7.2982001304626465, -7.3379998207092285, -7.343900203704834, -7.277400016784668, -7.274600028991699, -7.276800155639648, -7.287499904632568, -7.2789998054504395, -7.272299766540527, -7.274700164794922, -6.169600009918213, -6.615799903869629, -5.344600200653076, -6.219699859619141, -6.546199798583984, -6.61460018157959, -5.37060022354126, -6.218699932098389, -5.509399890899658, -5.01230001449585, -5.513199806213379, -5.694900035858154, -6.660600185394287, -6.635700225830078, -5.707799911499023, -6.614299774169922, -6.2967000007629395, -6.2835001945495605, -6.6132001876831055, -5.932300090789795, -6.5640997886657715, -5.702000141143799, -5.9903998374938965, -5.749300003051758, -5.556000232696533, -5.257800102233887, -5.776299953460693, -5.514400005340576, -5.906099796295166, -5.640999794006348, -6.017199993133545, -5.9552001953125, -5.893099784851074, -5.898399829864502, -5.883500099182129, -5.918799877166748, -5.93209981918335, -6.038400173187256, -6.039599895477295, -6.123199939727783, -6.1331000328063965, -5.861299991607666, -5.8368000984191895, -6.603099822998047, -6.520199775695801, -6.687300205230713, -7.183700084686279, -6.5192999839782715, -7.182799816131592, -7.180500030517578, -7.18209981918335, -7.184899806976318, -7.179900169372559, -7.19189977645874, -7.181700229644775, -7.188499927520752, -7.213900089263916, -7.180799961090088, -7.182199954986572, -7.1757001876831055, -7.181399822235107, -7.18209981918335, -7.183000087738037, -7.182700157165527, -7.184000015258789, -7.187900066375732, -7.184700012207031, -7.185100078582764, -7.1834001541137695, -7.180699825286865, -7.185999870300293, -5.15939998626709, -6.878600120544434, -5.618299961090088, -4.913099765777588, -6.123600006103516, -5.4394001960754395, -5.4405999183654785, -5.580399990081787, -5.596099853515625, -6.11929988861084, -5.431700229644775, -5.60699987411499, -6.2835001945495605, -5.834099769592285, -6.118899822235107, -6.454999923706055, -6.115699768066406, -6.115099906921387, -6.5142998695373535, -5.832600116729736, -6.512599945068359, -5.231299877166748, -6.520400047302246, -5.595600128173828, -5.749599933624268, -5.696800231933594, -6.1092000007629395, -5.335599899291992, -5.541100025177002, -5.556099891662598, -5.749899864196777, -5.763599872589111, -5.81820011138916, -5.95959997177124, -5.978899955749512, -6.012400150299072, -6.046000003814697, -6.058899879455566, -6.064899921417236, -6.087600231170654], \"loglift\": [30.0, 29.0, 28.0, 27.0, 26.0, 25.0, 24.0, 23.0, 22.0, 21.0, 20.0, 19.0, 18.0, 17.0, 16.0, 15.0, 14.0, 13.0, 12.0, 11.0, 10.0, 9.0, 8.0, 7.0, 6.0, 5.0, 4.0, 3.0, 2.0, 1.0, 0.8375999927520752, 0.8263000249862671, 0.8238000273704529, 0.822700023651123, 0.820900022983551, 0.8199999928474426, 0.8190000057220459, 0.8176000118255615, 0.8169999718666077, 0.8151999711990356, 0.8148999810218811, 0.8148000240325928, 0.8140000104904175, 0.8133000135421753, 0.8116999864578247, 0.810699999332428, 0.8097000122070312, 0.8093000054359436, 0.8091999888420105, 0.8091999888420105, 0.8083999752998352, 0.8076000213623047, 0.8076000213623047, 0.8068000078201294, 0.8065000176429749, 0.8064000010490417, 0.805899977684021, 0.8057000041007996, 0.8052999973297119, 0.8048999905586243, 0.8016999959945679, 0.8036999702453613, 0.8029999732971191, 0.7821999788284302, 0.7947999835014343, 0.7516000270843506, 0.7560999989509583, 0.7537999749183655, 0.7178999781608582, 0.6680999994277954, 0.7328000068664551, 0.7692999839782715, 0.7745000123977661, 0.6754000186920166, 0.7373999953269958, 0.722000002861023, 0.755299985408783, 0.6796000003814697, 0.743399977684021, 0.7376999855041504, 0.6837000250816345, 0.6503000259399414, 0.6711000204086304, 0.631600022315979, 0.539900004863739, 0.628600001335144, 0.6478999853134155, 0.630299985408783, 0.6776999831199646, 0.6784999966621399, 0.6035000085830688, 0.5051000118255615, 0.5823000073432922, 0.5450000166893005, 0.6413999795913696, 0.5576000213623047, 0.32109999656677246, 0.4242999851703644, 0.48159998655319214, 0.5845000147819519, 0.3643999993801117, 0.4648999869823456, 0.3224000036716461, 0.2912999987602234, 0.3483000099658966, 0.2029999941587448, 0.13899999856948853, 0.3808000087738037, -0.020999999716877937, 0.18150000274181366, 0.3176000118255615, 0.21299999952316284, 0.04780000075697899, 0.11729999631643295, 0.15960000455379486, 0.059300001710653305, -0.15610000491142273, -0.17139999568462372, -0.23149999976158142, -0.03460000082850456, 0.24500000476837158, 0.2345999926328659, 0.03500000014901161, 0.16910000145435333, -0.15240000188350677, -9.999999747378752e-05, -0.48399999737739563, -0.22589999437332153, 0.0032999999821186066, 1.6059999465942383, 1.6052000522613525, 1.597100019454956, 1.5893000364303589, 1.5851000547409058, 1.5831999778747559, 1.5791000127792358, 1.5788999795913696, 1.5787999629974365, 1.5786999464035034, 1.573199987411499, 1.5716999769210815, 1.5714000463485718, 1.5694999694824219, 1.565000057220459, 1.562399983406067, 1.5612000226974487, 1.5455000400543213, 1.5439000129699707, 1.5433000326156616, 1.5399999618530273, 1.5305999517440796, 1.527899980545044, 1.5211999416351318, 1.5204999446868896, 1.5170999765396118, 1.5154999494552612, 1.5144000053405762, 1.5120999813079834, 1.5094000101089478, 1.50600004196167, 1.4936000108718872, 1.5003000497817993, 1.5084999799728394, 1.479699969291687, 1.5011999607086182, 1.4603999853134155, 1.4235999584197998, 1.3876999616622925, 1.4062000513076782, 1.3539999723434448, 1.3568999767303467, 1.445199966430664, 1.1974999904632568, 0.9018999934196472, 0.8756999969482422, 1.2066999673843384, 0.8795999884605408, 0.8745999932289124, 1.007699966430664, 0.5289999842643738, 0.3422999978065491, 0.26499998569488525, 0.8118000030517578, 0.10999999940395355, 0.039799999445676804, 0.2973000109195709, 0.33379998803138733, -0.04699999839067459, 0.07020000368356705, -0.31929999589920044, 0.1324000060558319, 0.2680000066757202, 0.013199999928474426, -0.007799999788403511, 2.0982000827789307, 2.0945000648498535, 2.085599899291992, 2.0669000148773193, 2.0485000610351562, 2.0450000762939453, 2.009500026702881, 2.0034000873565674, 1.9375, 1.937399983406067, 1.930899977684021, 1.9053000211715698, 1.8913999795913696, 1.8769999742507935, 1.871000051498413, 1.854599952697754, 1.8483999967575073, 1.8452999591827393, 1.8451999425888062, 1.8379000425338745, 1.8282999992370605, 1.8242000341415405, 1.823099970817566, 1.8072999715805054, 1.8021999597549438, 1.7970000505447388, 1.7888000011444092, 1.7726000547409058, 1.770400047302246, 1.7615000009536743, 1.7526999711990356, 1.7510000467300415, 1.7272000312805176, 1.6787999868392944, 1.590399980545044, 1.6495000123977661, 1.458899974822998, 1.3001999855041504, 1.6875, 1.3043999671936035, 1.319200038909912, 1.379699945449829, 1.1670000553131104, 1.0561000108718872, 1.4577000141143799, 1.1155999898910522, 1.495300054550171, 1.131600022315979, 1.1058000326156616, 1.2961000204086304, 1.1799999475479126, 1.128600001335144, 0.995199978351593, 0.9309999942779541, 1.4723000526428223, 0.7281000018119812, 0.970300018787384, 0.5920000076293945, 0.5576000213623047, 0.6362000107765198, 0.8061000108718872, 0.8755000233650208, 0.5835999846458435, 0.6064000129699707, 1.0211999416351318, 0.5351999998092651, 0.3718000054359436, 0.7009999752044678, 0.1031000018119812, 0.623199999332428, 0.17649999260902405, -0.07519999891519547, 0.4397999942302704, 0.014299999922513962, 0.05999999865889549, 0.42829999327659607, 2.438999891281128, 2.4333999156951904, 2.4328999519348145, 2.4209001064300537, 2.418800115585327, 2.418100118637085, 2.4114999771118164, 2.396699905395508, 2.388000011444092, 2.385200023651123, 2.3845999240875244, 2.3838999271392822, 2.3812999725341797, 2.38100004196167, 2.379499912261963, 2.3778998851776123, 2.370500087738037, 2.3654000759124756, 2.363600015640259, 2.360599994659424, 2.359600067138672, 2.3582000732421875, 2.3578999042510986, 2.3506999015808105, 2.350100040435791, 2.350100040435791, 2.349400043487549, 2.3485000133514404, 2.348299980163574, 2.3469998836517334, 2.345900058746338, 2.3459999561309814, 2.3452000617980957, 2.3224000930786133, 2.3043999671936035, 2.3352999687194824, 2.2901999950408936, 2.1928999423980713, 2.250200033187866, 2.245800018310547, 2.1607000827789307, 2.111599922180176, 2.2639000415802, 2.1686999797821045, 1.979200005531311, 2.1201999187469482, 1.8329999446868896, 1.717900037765503, 1.7977999448776245, 1.4349000453948975, 1.8890999555587769, 1.770900011062622, 1.7770999670028687, 1.5240000486373901, 0.5559999942779541, 1.3485000133514404, 0.251800000667572, 1.0684000253677368, 1.0156999826431274, 0.5580999851226807, 1.7116999626159668, 0.20340000092983246, 1.0292999744415283, 0.4004000127315521, 0.7028999924659729, 0.3393999934196472, -0.06989999860525131, -0.19939999282360077, -0.2563999891281128, 0.374099999666214, -0.12809999287128448, -0.4560999870300293, -0.3398999869823456, -0.47780001163482666, 0.44510000944137573, 0.21850000321865082, 0.31220000982284546, 0.07450000196695328, 2.8701000213623047, 2.842400074005127, 2.8022000789642334, 2.797600030899048, 2.7955000400543213, 2.791800022125244, 2.7441999912261963, 2.640399932861328, 2.637500047683716, 2.5771000385284424, 2.5629000663757324, 2.5459001064300537, 2.544800043106079, 2.5264999866485596, 2.509999990463257, 2.411799907684326, 2.396199941635132, 2.3703999519348145, 2.3635001182556152, 2.3624000549316406, 2.3417999744415283, 2.341599941253662, 2.3245999813079834, 2.3229000568389893, 2.3176000118255615, 2.31469988822937, 2.3092000484466553, 2.2883999347686768, 2.28439998626709, 2.2832000255584717, 2.2788000106811523, 2.237499952316284, 1.9739999771118164, 1.906999945640564, 2.25819993019104, 1.898900032043457, 1.7157000303268433, 1.739799976348877, 1.7798999547958374, 1.8621000051498413, 1.7264000177383423, 1.5541000366210938, 1.2307000160217285, 0.9670000076293945, 1.438099980354309, 0.9072999954223633, 1.423699975013733, 0.6583999991416931, 0.9383000135421753, 0.6421999931335449, 1.5327999591827393, 1.1466000080108643, 0.9736999869346619, 0.34369999170303345, 0.35120001435279846, 1.207900047302246, 0.15029999613761902, 0.5426999926567078, 0.8349000215530396, 0.6353999972343445, 0.646399974822998, 0.5996999740600586, 0.02879999950528145, 0.031700000166893005, 0.09549999982118607, 0.6118999719619751, 0.06909999996423721, 2.7448999881744385, 2.5641000270843506, 2.5397000312805176, 2.536600112915039, 2.526700019836426, 2.5127999782562256, 2.512200117111206, 2.5090999603271484, 2.500499963760376, 2.487799882888794, 2.414400100708008, 2.3884999752044678, 2.3738999366760254, 2.3726999759674072, 2.3501999378204346, 2.34879994392395, 2.3475000858306885, 2.3447999954223633, 2.339900016784668, 2.3059000968933105, 2.301800012588501, 2.2892000675201416, 2.2839999198913574, 2.2660000324249268, 2.259000062942505, 2.255000114440918, 2.247999906539917, 2.2471001148223877, 2.245800018310547, 2.228100061416626, 2.0769999027252197, 2.0720999240875244, 2.143899917602539, 1.919600009918213, 1.951300024986267, 1.7791999578475952, 2.069000005722046, 1.6825000047683716, 1.9420000314712524, 1.6444000005722046, 1.9179999828338623, 2.035599946975708, 1.483199954032898, 1.626099944114685, 1.3055000305175781, 1.3934999704360962, 2.026400089263916, 1.440999984741211, 1.0475000143051147, 1.0906000137329102, 0.710099995136261, 1.2899999618530273, 0.8959000110626221, 0.8998000025749207, 0.9156000018119812, 0.5580999851226807, 0.3822999894618988, 0.23469999432563782, 0.305400013923645, 0.7050999999046326, 0.3939000070095062, 0.14419999718666077, 0.1776999980211258, 0.012600000016391277, 0.31200000643730164, 0.2799000144004822, 0.0632999986410141, 0.27379998564720154, -0.21660000085830688, 2.957200050354004, 2.953700065612793, 2.9054999351501465, 2.8480000495910645, 2.8060998916625977, 2.7474000453948975, 2.7416000366210938, 2.7044999599456787, 2.669100046157837, 2.663300037384033, 2.645699977874756, 2.6296000480651855, 2.615600109100342, 2.575500011444092, 2.571199893951416, 2.551100015640259, 2.541599988937378, 2.523200035095215, 2.5037999153137207, 2.4941999912261963, 2.490999937057495, 2.4781999588012695, 2.4760000705718994, 2.4746999740600586, 2.4707000255584717, 2.4704999923706055, 2.4484000205993652, 2.4439001083374023, 2.408600091934204, 2.407599925994873, 2.384200096130371, 2.3742001056671143, 2.234600067138672, 2.2551000118255615, 2.273099899291992, 2.298099994659424, 2.226900100708008, 1.9470000267028809, 2.1540000438690186, 2.18969988822937, 1.510699987411499, 2.0025999546051025, 1.8812999725341797, 1.1353000402450562, 1.7157000303268433, 1.5532000064849854, 1.6763999462127686, 1.4699000120162964, 1.1578999757766724, 0.8281000256538391, 1.5018999576568604, 1.6211999654769897, 1.2698999643325806, 1.8710999488830566, 0.8799999952316284, 1.2019000053405762, 0.909500002861023, 1.3487000465393066, 1.1448999643325806, 1.2342000007629395, 0.2612999975681305, 0.27630001306533813, 0.9017000198364258, 0.6593000292778015, 1.1348999738693237, 0.8259000182151794, 0.3109999895095825, 0.758899986743927, 0.019600000232458115, -0.08479999750852585, -0.04490000009536743, 0.6150000095367432, 0.1265999972820282, -0.3659999966621399, -0.052799999713897705, 0.6237999796867371, 0.3752000033855438, -0.16519999504089355, 0.23309999704360962, 4.06279993057251, 3.6946001052856445, 3.5271999835968018, 3.498699903488159, 3.424999952316284, 3.394399881362915, 3.3080999851226807, 3.2881999015808105, 3.206399917602539, 3.1749000549316406, 3.1185998916625977, 3.113600015640259, 3.1082000732421875, 3.0943000316619873, 3.0875000953674316, 3.021199941635132, 3.0028998851776123, 2.9647998809814453, 2.941699981689453, 2.9335999488830566, 2.9323999881744385, 2.9277000427246094, 2.9275999069213867, 2.92549991607666, 2.903899908065796, 2.900599956512451, 2.885499954223633, 2.883500099182129, 2.8803000450134277, 2.8510000705718994, 2.830199956893921, 2.828900098800659, 2.701900005340576, 2.6468000411987305, 2.6222000122070312, 2.6143999099731445, 2.4268999099731445, 2.072000026702881, 2.3431999683380127, 1.8007999658584595, 2.1373000144958496, 2.398099899291992, 1.5923000574111938, 2.466099977493286, 2.3661000728607178, 1.8366999626159668, 2.077699899673462, 2.339900016784668, 2.361999988555908, 1.819100022315979, 1.5342999696731567, 1.035599946975708, 1.444599986076355, 0.9660999774932861, 1.3485000133514404, 0.8719000220298767, 0.5354999899864197, 0.6460999846458435, 0.8119000196456909, 1.1196999549865723, 0.1031000018119812, 0.09860000014305115, 0.43209999799728394, 0.9846000075340271, -0.08950000256299973, -0.07670000195503235, -0.3479999899864197, 4.376699924468994, 3.7381999492645264, 3.64520001411438, 3.5855000019073486, 3.52239990234375, 3.496500015258789, 3.4093000888824463, 3.406399965286255, 3.3940000534057617, 3.3850998878479004, 3.2952001094818115, 3.2597999572753906, 3.2537999153137207, 3.2423999309539795, 3.222100019454956, 3.212399959564209, 3.206899881362915, 3.1751999855041504, 3.166599988937378, 3.1658999919891357, 3.162400007247925, 3.1547999382019043, 3.141200065612793, 3.1340999603271484, 3.1273000240325928, 3.115999937057495, 3.0913000106811523, 3.08870005607605, 3.088599920272827, 3.0871999263763428, 3.0306999683380127, 2.993499994277954, 2.8225998878479004, 2.9639999866485596, 3.0281999111175537, 2.649399995803833, 2.5766000747680664, 1.9905999898910522, 1.7590999603271484, 2.592099905014038, 2.1679000854492188, 1.1663000583648682, 1.2699999809265137, 1.070099949836731, 0.7189000248908997, 0.9192000031471252, 0.4641000032424927, 0.35899999737739563, 2.0569000244140625, 2.4558000564575195, 0.210999995470047, -0.014100000262260437, 0.3483000099658966, 2.0613999366760254, 0.541700005531311, 0.9922000169754028, 1.6958999633789062, 1.4630000591278076, 0.54830002784729, 0.41440001130104065, 0.8428999781608582, 1.0791000127792358, 0.21320000290870667, -0.28700000047683716, 0.7081000208854675, -0.30660000443458557, 0.38609999418258667, 0.7960000038146973, 0.5806999802589417, 0.1624000072479248, 0.13459999859333038, -0.5206000208854675, 0.12449999898672104, -0.17970000207424164, -0.021400000900030136, -0.14309999346733093, 4.314199924468994, 4.002799987792969, 3.5589001178741455, 3.5566999912261963, 3.493799924850464, 3.4772000312805176, 3.4723000526428223, 3.4138998985290527, 3.400599956512451, 3.396699905395508, 3.3673999309539795, 3.3515000343322754, 3.3326001167297363, 3.3264000415802, 3.303999900817871, 3.2920000553131104, 3.2644999027252197, 3.2464001178741455, 3.2227001190185547, 3.2177999019622803, 3.210200071334839, 3.208400011062622, 3.1956000328063965, 3.1933999061584473, 3.1886000633239746, 3.178100109100342, 3.176100015640259, 3.1658999919891357, 3.161099910736084, 3.140000104904175, 3.1256000995635986, 2.6905999183654785, 2.588200092315674, 2.5388998985290527, 2.552299976348877, 1.5403000116348267, 2.6129000186920166, 2.810800075531006, 2.191200017929077, 1.294100046157837, 2.063699960708618, 2.2116000652313232, 0.9391999840736389, 0.8152999877929688, 1.3128000497817993, 0.2459000051021576, 1.2496999502182007, 0.2214999943971634, 0.06430000066757202, -0.0746999979019165, 1.4430999755859375, 0.4438000023365021, 2.024399995803833, 0.1039000004529953, 0.4814999997615814, 0.047200001776218414, 1.3014999628067017, -0.26249998807907104, -0.46880000829696655, 0.24740000069141388, 0.17829999327659607, -0.42089998722076416, -0.40869998931884766, 0.19689999520778656, 0.11050000041723251, 0.07360000163316727, 0.24169999361038208, 3.8522000312805176, 3.7083001136779785, 3.5959999561309814, 3.5481998920440674, 3.5016000270843506, 3.474100112915039, 3.4370999336242676, 3.4022998809814453, 3.4019999504089355, 3.398099899291992, 3.3740999698638916, 3.3612000942230225, 3.358599901199341, 3.356300115585327, 3.325700044631958, 3.286900043487549, 3.2471001148223877, 3.1414999961853027, 3.1393001079559326, 3.1324000358581543, 3.1212000846862793, 3.11299991607666, 3.098400115966797, 3.0885000228881836, 3.081399917602539, 3.0601999759674072, 3.0453999042510986, 3.0429999828338623, 3.0423998832702637, 3.0336999893188477, 3.009700059890747, 2.972399950027466, 2.8664000034332275, 2.9512999057769775, 2.7197999954223633, 2.705199956893921, 2.9381000995635986, 2.378999948501587, 1.8573999404907227, 1.0191999673843384, 0.9290000200271606, 0.8740000128746033, 1.0753999948501587, 1.3166999816894531, 1.3307000398635864, 1.1777000427246094, 0.4458000063896179, 0.5819000005722046, -0.0010999999940395355, 1.5576000213623047, 1.5480999946594238, 0.3310000002384186, 0.5199999809265137, 1.9306999444961548, 0.7376000285148621, -0.18209999799728394, 0.289900004863739, -0.263700008392334, -0.4165000021457672, 0.6202999949455261, 0.6090999841690063, -0.3093999922275543, 0.4072999954223633, 0.179299995303154, 0.8073999881744385, 0.6035000085830688, -0.5042999982833862, 0.19460000097751617, 0.0706000030040741, 3.765199899673462, 3.670799970626831, 3.651099920272827, 3.6373000144958496, 3.5185000896453857, 3.5136001110076904, 3.371299982070923, 3.338599920272827, 3.316200017929077, 3.315000057220459, 3.3006999492645264, 3.2276999950408936, 3.211899995803833, 3.1921000480651855, 3.184799909591675, 3.165299892425537, 3.157399892807007, 3.1572000980377197, 3.1559998989105225, 3.111799955368042, 3.1089999675750732, 3.085599899291992, 3.083199977874756, 3.0404999256134033, 2.9918999671936035, 2.989300012588501, 2.9881999492645264, 2.986999988555908, 2.9795000553131104, 2.974600076675415, 2.9423999786376953, 2.9502999782562256, 2.9553000926971436, 2.8849000930786133, 2.9142000675201416, 2.908799886703491, 2.8127999305725098, 2.8877999782562256, 2.564300060272217, 2.414099931716919, 2.4465999603271484, 2.3317999839782715, 1.9246000051498413, 2.587599992752075, 2.2414000034332275, 2.3461999893188477, 2.0660998821258545, 2.035599946975708, 2.220599889755249, 1.103600025177002, 1.1850999593734741, 1.3143999576568604, 1.1784000396728516, 1.3073999881744385, 1.8658000230789185, 1.691100001335144, 2.003700017929077, 1.930299997329712, 1.617799997329712, 0.3955000042915344, 2.387399911880493, 1.152899980545044, 1.871500015258789, 0.9990000128746033, 0.8888000249862671, 1.441100001335144, 0.18440000712871552, 0.9282000064849854, 0.8302000164985657, 0.4918000102043152, 0.9416999816894531, 0.08940000087022781, -0.31029999256134033, 0.18950000405311584, 0.4668999910354614, -0.03359999880194664, -0.05400000140070915, 3.782900094985962, 3.693000078201294, 3.652600049972534, 3.628999948501587, 3.611299991607666, 3.559999942779541, 3.5432000160217285, 3.483099937438965, 3.4718000888824463, 3.4553000926971436, 3.400899887084961, 3.3526999950408936, 3.3477001190185547, 3.344099998474121, 3.335400104522705, 3.3269999027252197, 3.274899959564209, 3.2049999237060547, 3.188699960708618, 3.1842000484466553, 3.172300100326538, 3.1631999015808105, 3.1565001010894775, 3.1445999145507812, 3.1440999507904053, 3.132200002670288, 3.1124000549316406, 3.1059999465942383, 3.0987000465393066, 3.097399950027466, 3.0952000617980957, 3.055000066757202, 3.079400062561035, 2.709199905395508, 2.981800079345703, 2.7792999744415283, 2.3052000999450684, 2.3096001148223877, 2.5961999893188477, 2.312299966812134, 1.8638999462127686, 1.4947999715805054, 2.8136000633239746, 0.4936999976634979, 1.0383000373840332, 2.509999990463257, 0.789900004863739, 0.16940000653266907, 0.3986999988555908, 1.6646000146865845, 0.8603000044822693, 0.5425000190734863, 1.205299973487854, 0.10899999737739563, 1.250499963760376, 0.16110000014305115, 1.073099970817566, 0.7953000068664551, 0.5184999704360962, 0.9714000225067139, 2.04229998588562, -0.07289999723434448, 0.43880000710487366, 0.48910000920295715, 0.47909998893737793, 0.1906999945640564, 0.25040000677108765, 0.2946000099182129, -0.4027999937534332, 4.7342000007629395, 4.534299850463867, 4.453199863433838, 4.309000015258789, 4.260200023651123, 4.126100063323975, 3.9911999702453613, 3.9628000259399414, 3.762700080871582, 3.759000062942505, 3.7467000484466553, 3.7218000888824463, 3.69950008392334, 3.6910998821258545, 3.6898999214172363, 3.6846001148223877, 3.6810998916625977, 3.6798999309539795, 3.674999952316284, 3.672600030899048, 3.672499895095825, 3.6194000244140625, 3.613100051879883, 3.5875000953674316, 3.584399938583374, 3.5564000606536865, 3.5515999794006348, 3.535399913787842, 3.5281999111175537, 3.5244998931884766, 3.5164999961853027, 3.5002999305725098, 3.2435998916625977, 3.3589000701904297, 3.4130001068115234, 3.403899908065796, 3.003999948501587, 3.2244999408721924, 2.8766000270843506, 2.6623001098632812, 2.2423999309539795, 2.367500066757202, 3.0945000648498535, 3.0309998989105225, 2.0394999980926514, 2.9433999061584473, 2.556299924850464, 2.439500093460083, 2.8708999156951904, 1.9278000593185425, 2.7976999282836914, 1.5954999923706055, 1.9809999465942383, 1.4407999515533447, 0.819100022315979, 0.07890000194311142, 1.1419999599456787, 0.4205999970436096, 0.9144999980926514, -0.43369999527931213, 1.11080002784729, 0.7609999775886536, 0.2775999903678894, 0.2944999933242798, -0.050999999046325684, -0.09049999713897705, -0.4803999960422516, 0.6895999908447266, 0.36890000104904175, 0.02449999935925007, -0.6470000147819519, 4.848599910736084, 4.607999801635742, 4.4293999671936035, 4.2027997970581055, 4.167200088500977, 3.867300033569336, 3.8282999992370605, 3.8241000175476074, 3.8029000759124756, 3.7960000038146973, 3.7869999408721924, 3.7843000888824463, 3.7832000255584717, 3.781100034713745, 3.772200107574463, 3.756700038909912, 3.6531999111175537, 3.6440000534057617, 3.6305999755859375, 3.613800048828125, 3.6131999492645264, 3.6089000701904297, 3.6082000732421875, 3.6078999042510986, 3.6078999042510986, 3.6064999103546143, 3.6061999797821045, 3.501800060272217, 3.484299898147583, 3.4772000312805176, 3.454900026321411, 3.461899995803833, 3.3343000411987305, 2.8773999214172363, 3.2079999446868896, 2.9096999168395996, 2.7560999393463135, 2.5357000827789307, 2.467600107192993, 2.7706000804901123, 2.0127999782562256, 1.750100016593933, 2.564199924468994, 1.8144999742507935, 2.1698999404907227, 2.6612000465393066, 2.086400032043457, 2.0678000450134277, 2.700000047683716, 1.5425000190734863, 2.634399890899658, 0.23270000517368317, 2.621000051498413, 0.8664000034332275, 1.132099986076355, 0.9725000262260437, 1.7913999557495117, 0.06030000001192093, 0.2913999855518341, 0.06840000301599503, 0.5212000012397766, 0.4586000144481659, 0.5453000068664551, 1.0443999767303467, 0.7822999954223633, -0.1680999994277954, 0.1770000010728836, -0.2305999994277954, -0.04129999876022339, 0.8191999793052673]}, \"token.table\": {\"Topic\": [1, 15, 3, 5, 6, 1, 4, 9, 1, 3, 9, 10, 1, 3, 8, 10, 1, 15, 1, 2, 3, 4, 5, 6, 7, 8, 9, 10, 11, 12, 13, 14, 2, 5, 6, 7, 1, 3, 9, 10, 1, 2, 3, 4, 5, 6, 7, 8, 9, 1, 3, 4, 9, 11, 14, 1, 2, 3, 4, 5, 6, 7, 8, 9, 10, 11, 12, 15, 1, 9, 2, 3, 8, 12, 1, 9, 1, 5, 15, 1, 2, 3, 9, 10, 3, 8, 4, 1, 4, 7, 1, 2, 3, 4, 5, 6, 7, 8, 9, 10, 12, 1, 2, 6, 7, 1, 5, 10, 2, 4, 5, 9, 13, 1, 2, 3, 4, 5, 6, 7, 8, 9, 10, 11, 12, 14, 3, 8, 9, 3, 7, 12, 1, 2, 3, 4, 11, 1, 3, 4, 10, 5, 1, 11, 1, 2, 10, 15, 1, 2, 3, 4, 5, 6, 7, 8, 9, 10, 11, 12, 14, 15, 1, 15, 5, 7, 4, 1, 4, 12, 1, 2, 3, 5, 6, 7, 8, 9, 12, 1, 2, 3, 4, 5, 6, 7, 9, 12, 13, 4, 2, 7, 12, 13, 1, 2, 3, 5, 6, 7, 8, 9, 10, 12, 15, 1, 2, 3, 4, 5, 6, 7, 8, 9, 12, 1, 3, 11, 13, 4, 1, 2, 3, 4, 5, 6, 7, 8, 9, 10, 11, 12, 13, 14, 1, 15, 3, 9, 2, 3, 5, 8, 3, 5, 6, 7, 13, 2, 3, 5, 6, 3, 5, 6, 1, 2, 3, 4, 10, 11, 2, 1, 4, 10, 1, 15, 1, 3, 13, 14, 1, 6, 1, 2, 3, 4, 5, 6, 7, 8, 9, 12, 13, 1, 1, 2, 3, 4, 5, 6, 7, 8, 9, 10, 12, 13, 14, 15, 1, 2, 3, 4, 5, 6, 8, 9, 10, 11, 14, 1, 2, 3, 6, 2, 3, 7, 8, 9, 12, 2, 1, 3, 4, 9, 1, 2, 3, 4, 5, 6, 7, 8, 9, 10, 11, 12, 13, 14, 15, 5, 7, 1, 3, 4, 10, 1, 4, 11, 1, 10, 2, 3, 7, 9, 12, 1, 2, 3, 4, 6, 10, 11, 1, 6, 7, 9, 5, 7, 1, 3, 4, 5, 7, 8, 9, 11, 1, 4, 10, 1, 2, 3, 4, 5, 6, 7, 9, 10, 11, 13, 15, 1, 4, 10, 1, 4, 1, 4, 2, 7, 12, 1, 2, 3, 4, 5, 6, 7, 9, 11, 13, 3, 4, 11, 13, 2, 3, 5, 10, 12, 1, 3, 4, 6, 10, 14, 1, 3, 4, 10, 13, 1, 1, 3, 4, 9, 10, 11, 14, 1, 4, 7, 15, 3, 7, 8, 2, 5, 7, 1, 2, 3, 4, 5, 6, 7, 8, 9, 10, 11, 12, 14, 15, 1, 10, 1, 4, 1, 3, 14, 1, 4, 10, 1, 10, 1, 11, 1, 3, 4, 11, 1, 3, 10, 14, 3, 4, 3, 6, 1, 4, 6, 14, 1, 2, 3, 4, 10, 11, 13, 14, 1, 2, 3, 4, 5, 6, 7, 8, 9, 10, 11, 12, 13, 14, 15, 3, 6, 3, 5, 6, 1, 3, 4, 9, 11, 2, 3, 7, 12, 13, 2, 3, 7, 13, 14, 1, 4, 10, 11, 1, 4, 11, 1, 2, 3, 4, 5, 6, 7, 8, 9, 10, 11, 12, 13, 15, 1, 2, 3, 4, 5, 6, 7, 8, 9, 10, 12, 13, 1, 2, 3, 4, 5, 6, 7, 8, 9, 10, 11, 12, 13, 14, 15, 3, 5, 6, 1, 2, 3, 7, 12, 2, 3, 6, 3, 8, 11, 12, 1, 2, 5, 13, 1, 2, 3, 4, 5, 6, 7, 8, 9, 10, 11, 14, 1, 2, 3, 4, 5, 6, 7, 8, 9, 10, 11, 12, 13, 1, 4, 1, 2, 3, 4, 5, 7, 10, 11, 12, 13, 14, 3, 5, 6, 7, 3, 5, 7, 2, 3, 5, 6, 12, 1, 10, 12, 2, 5, 1, 2, 3, 4, 5, 6, 10, 12, 15, 1, 2, 3, 4, 6, 7, 9, 10, 11, 13, 14, 15, 1, 7, 10, 11, 1, 2, 3, 7, 8, 12, 15, 1, 2, 3, 4, 10, 3, 5, 6, 2, 3, 7, 12, 13, 1, 2, 3, 4, 5, 6, 7, 8, 10, 12, 1, 11, 13, 1, 2, 3, 4, 5, 6, 7, 8, 9, 10, 11, 12, 13, 14, 15, 1, 4, 1, 6, 1, 6, 1, 2, 3, 4, 5, 6, 7, 8, 9, 10, 12, 13, 14, 3, 5, 6, 7, 1, 4, 9, 10, 12, 1, 4, 5, 15, 1, 10, 1, 4, 13, 1, 4, 6, 1, 7, 8, 12, 1, 2, 3, 4, 7, 8, 9, 12, 13, 15, 3, 1, 13, 1, 15, 3, 7, 5, 7, 8, 1, 2, 3, 4, 5, 6, 7, 8, 9, 10, 12, 13, 14, 1, 4, 10, 11, 14, 1, 2, 3, 4, 6, 11, 1, 2, 4, 12, 1, 4, 14, 1, 2, 3, 4, 7, 4, 2, 3, 4, 7, 8, 9, 12, 1, 2, 3, 4, 5, 6, 7, 9, 10, 11, 14, 2, 3, 5, 8, 9, 10, 2, 8, 1, 2, 3, 4, 5, 6, 7, 8, 9, 10, 12, 13, 1, 2, 3, 5, 6, 8, 9, 12, 1, 2, 3, 4, 5, 6, 7, 8, 9, 10, 11, 12, 13, 14, 15, 1, 2, 3, 4, 5, 6, 7, 8, 9, 10, 11, 12, 13, 15, 1, 2, 3, 4, 5, 6, 7, 8, 9, 10, 11, 12, 13, 1, 2, 4, 8, 9, 1, 4, 6, 1, 2, 3, 4, 5, 6, 7, 9, 10, 11, 12, 2, 3, 7, 12, 1, 13, 2, 7, 8, 12, 1, 7, 12, 1, 4, 14, 1, 10, 1, 5, 8, 12, 1, 3, 1, 6, 7, 9, 14, 1, 11, 15, 1, 2, 3, 4, 5, 6, 7, 8, 9, 10, 4, 1, 2, 3, 9, 10, 14, 2, 7, 9, 1, 3, 6, 10, 14, 5, 11, 12, 1, 13, 4, 13, 1, 2, 8, 1, 2, 8, 12, 1, 2, 3, 8, 3, 6, 1, 2, 3, 4, 10, 11, 1, 10, 1, 2, 3, 4, 6, 7, 8, 9, 10, 11, 13, 14, 15, 1, 2, 3, 4, 5, 6, 7, 8, 9, 10, 12, 13, 15, 1, 2, 3, 4, 10, 11, 13, 1, 6, 1, 4, 9, 13, 1, 15, 1, 2, 3, 5, 7, 8, 10, 12, 14, 1, 5, 1, 9, 11, 1, 2, 3, 5, 7, 8, 9, 10, 12, 1, 2, 3, 4, 5, 6, 7, 8, 9, 12, 1, 4, 9, 11, 2, 4, 7, 3, 5, 6, 7, 3, 5, 6, 7, 1, 4, 10, 11, 1, 2, 3, 5, 6, 7, 13, 3, 9, 13, 2, 3, 4, 5, 6, 7, 8, 12, 1, 4, 5, 6, 9, 10, 11, 13, 1, 4, 9, 3, 5, 6, 7, 1, 2, 3, 4, 9, 10, 12, 15, 1, 4, 11, 1, 3, 4, 5, 9, 1, 2, 3, 5, 7, 8, 9, 12, 14, 1, 2, 12, 1, 4, 11, 1, 4, 9, 10, 11, 4, 1, 1, 2, 3, 4, 5, 6, 7, 8, 9, 10, 11, 13, 14, 15, 1, 7, 9, 1, 9, 10, 11, 1, 2, 5, 8, 10, 1, 2, 3, 6, 8, 9, 11, 14, 15, 1, 7, 8, 9, 10, 1, 9, 15, 1, 2, 5, 7, 10, 12, 1, 2, 5, 8, 1, 2, 3, 4, 5, 6, 7, 10, 11, 12, 13, 15, 4, 9, 1, 2, 3, 4, 5, 6, 7, 8, 9, 10, 11, 13, 14, 1, 2, 3, 4, 5, 6, 7, 8, 9, 10, 11, 14, 15, 1, 3, 4, 5, 6, 7, 9, 11, 1, 3, 5, 12, 1, 2, 4, 5, 7, 8, 9, 10, 11, 13, 1, 2, 3, 4, 5, 6, 7, 8, 9, 10, 12, 13, 14, 15, 3, 14, 1, 4, 13, 1, 4, 10, 12, 13, 14, 15, 1, 5, 1, 2, 3, 4, 5, 6, 7, 8, 9, 10, 11, 12, 13, 2, 5, 8, 10, 1, 14, 6, 7, 1, 2, 3, 4, 5, 6, 7, 8, 9, 10, 11, 12, 13, 15, 1, 2, 3, 4, 5, 6, 7, 8, 9, 10, 11, 12, 13, 14, 15, 2, 3, 7, 8, 12, 1, 14, 1, 4, 11, 1, 5, 8, 13, 1, 2, 4, 10, 2, 7, 3, 4, 6, 9, 1, 2, 3, 4, 5, 6, 7, 9, 12, 1, 3, 4, 15, 3, 1, 4, 10, 11, 14, 2, 7, 1, 2, 12, 2, 3, 7, 8, 12, 1, 2, 3, 5, 6, 7, 8, 9, 10, 12, 13, 15, 6, 7, 8, 1, 4, 10, 14, 1, 4, 11, 1, 1, 2, 3, 4, 5, 6, 7, 8, 1, 2, 3, 4, 5, 6, 7, 9, 10, 11, 15, 1, 2, 4, 5, 9, 11, 3, 1, 2, 3, 4, 5, 6, 7, 8, 9, 10, 12, 13, 14, 15, 1, 2, 3, 4, 5, 6, 7, 8, 9, 10, 11, 13, 15, 1, 4, 14, 1, 2, 3, 4, 5, 6, 7, 8, 9, 10, 11, 13, 14, 15, 4, 2, 7, 8, 12, 1, 4, 9, 14, 5, 7, 4, 10, 11, 1, 5, 13, 1, 4, 13, 1, 2, 3, 4, 5, 6, 7, 8, 9, 10, 11, 12, 13, 14, 1, 2, 3, 4, 5, 6, 7, 8, 9, 10, 11, 12, 13, 15, 1, 1, 3, 4, 10, 1, 2, 3, 4, 5, 7, 9, 10, 11, 12, 13, 3, 5, 6, 13, 1, 11, 1, 2, 3, 4, 5, 6, 7, 8, 9, 10, 12, 15, 1, 2, 3, 4, 5, 6, 7, 8, 9, 10, 11, 12, 13, 14, 3, 8, 12, 1, 2, 4, 5, 10, 12, 13, 1, 3, 4, 6, 10, 11, 13, 3, 1, 3, 5, 6, 9, 1, 2, 3, 4, 5, 6, 7, 8, 9, 10, 12, 13, 15, 4, 1, 2, 3, 4, 5, 6, 9, 11, 2, 9, 1, 4, 6, 11, 5, 7, 1, 2, 3, 5, 6, 10, 1, 2, 3, 4, 5, 6, 7, 8, 9, 10, 11, 12, 14, 1, 2, 3, 4, 5, 6, 7, 9, 10, 15, 1, 2, 3, 4, 5, 6, 7, 8, 9, 10, 11, 12, 14, 15, 1, 3, 11, 1, 2, 3, 4, 5, 6, 7, 8, 9, 10, 11, 12, 13, 15, 1, 4, 14, 2, 1, 5, 11, 12, 13, 3, 1, 2, 3, 5, 6, 7, 3, 5, 6, 7, 13, 1, 2, 3, 4, 5, 6, 7, 8, 9, 10, 11, 12, 13, 14, 15, 3, 5, 6, 1, 4, 11, 15, 1, 2, 3, 4, 5, 6, 7, 8, 9, 10, 11, 12, 15, 1, 2, 3, 4, 5, 6, 7, 8, 9, 10, 11, 13, 14, 15, 1, 2, 3, 4, 5, 6, 7, 8, 9, 10, 11, 12, 13, 14, 15, 1, 2, 3, 4, 5, 6, 7, 8, 9, 10, 11, 12, 13, 14, 15, 1, 2, 3, 10, 14, 1, 1, 6, 9, 1, 1, 3, 4, 5, 6, 8, 3, 5, 6, 7, 13, 1, 2, 3, 4, 5, 6, 7, 8, 9, 10, 11, 13, 14, 15, 1, 2, 3, 4, 5, 6, 7, 8, 9, 10, 11, 12, 13, 14, 15, 1, 2, 14, 1, 2, 3, 4, 5, 6, 7, 8, 9, 10, 11, 12, 13, 15, 2, 6, 8, 1, 2, 3, 7, 9, 12, 1, 10, 11, 14, 2, 12, 2, 4, 1, 2, 3, 4, 5, 7, 8, 11, 1, 3, 4, 13, 2, 3, 15, 4, 1, 2, 3, 5, 7, 8, 1, 7, 10, 1, 3, 5, 12, 1, 4, 11, 1, 2, 3, 5, 6, 7, 8, 12, 13, 2, 7, 1, 1, 2, 6, 11, 1, 7, 1, 3, 1, 7, 1, 11, 3, 7, 1, 2, 4, 5, 10, 1, 3, 5, 2, 7, 9, 1, 2, 6, 7, 1, 3, 9, 12, 1, 2, 3, 7, 15, 1, 7, 11, 1, 4, 7, 15, 2, 5, 8, 2, 1, 2, 3, 5, 6, 7, 8, 1, 2, 3, 4, 10, 12, 14, 1, 9, 3, 5, 6, 7, 1, 4, 13, 1, 2, 3, 4, 5, 6, 7, 8, 9, 11, 12, 14, 15, 1, 4, 2, 13, 2, 3, 5, 10, 1, 2, 3, 4, 5, 6, 7, 8, 9, 10, 11, 13, 15, 1, 3, 5, 1, 2, 3, 4, 5, 7, 8, 15, 1, 2, 3, 4, 5, 6, 7, 8, 9, 10, 11, 12, 15, 1, 2, 3, 4, 5, 6, 7, 8, 9, 10, 11, 13, 15, 1, 2, 3, 4, 5, 6, 7, 8, 9, 10, 11, 12, 13, 14, 2, 3, 7, 8, 9, 12, 1, 1, 2, 3, 4, 5, 6, 7, 8, 9, 10, 11, 12, 13, 15, 3, 5, 6, 7, 13, 5, 1, 4, 10, 1, 2, 3, 4, 5, 6, 7, 8, 9, 10, 11, 12, 13, 14, 15, 1, 2, 3, 4, 5, 6, 7, 8, 9, 10, 11, 12, 13, 15, 1, 2, 3, 4, 6, 11, 1, 3, 4, 6, 9, 15, 1, 2, 3, 4, 5, 6, 7, 11, 12, 13, 14, 1, 2, 3, 4, 5, 6, 7, 8, 9, 10, 11, 12, 13, 2, 3, 4, 12, 13, 2, 7, 2, 6, 8, 3, 6, 1, 2, 3, 4, 5, 6, 7, 8, 9, 10, 12, 13, 15, 1, 2, 3, 6, 15, 1, 2, 3, 4, 5, 6, 7, 8, 9, 11, 12, 13, 15, 1, 2, 3, 4, 5, 6, 7, 8, 9, 10, 11, 12, 13, 15, 1, 5, 8, 12, 1, 4, 1, 2, 3, 4, 5, 6, 7, 8, 9, 12, 13, 1, 7, 10, 14, 1, 2, 3, 4, 5, 6, 7, 8, 9, 10, 11, 12, 13, 15, 1, 2, 3, 4, 6, 7, 9, 10, 11, 12, 13, 15, 1, 2, 3, 4, 5, 6, 7, 8, 9, 10, 11, 12, 13, 14, 15, 1, 2, 3, 4, 5, 6, 7, 9, 10, 11, 12, 13, 14, 2, 3, 4, 5, 10, 12, 1, 2, 3, 7, 13, 1, 2, 3, 4, 5, 6, 7, 8, 9, 10, 11, 12, 13, 14, 15, 1, 2, 3, 4, 5, 6, 7, 8, 9, 10, 11, 12, 13, 14, 15, 1, 2, 3, 4, 5, 6, 7, 8, 11, 12, 2, 3, 4, 7, 8, 9, 12, 1, 2, 3, 4, 8, 9, 14, 4, 9, 14, 1, 3, 4, 1, 2, 3, 4, 5, 6, 7, 8, 9, 10, 11, 12, 13, 14, 2, 3, 7, 8, 12, 3, 8, 1, 2, 3, 4, 5, 6, 7, 8, 9, 10, 11, 12, 13, 14, 1, 2, 3, 4, 5, 6, 7, 8, 9, 10, 11, 12, 13, 14, 15, 1, 2, 3, 4, 5, 6, 7, 8, 9, 10, 11, 13, 14, 15, 1, 2, 3, 4, 5, 6, 7, 8, 9, 10, 11, 12, 13, 15, 4, 9, 1, 4, 10, 11, 2, 7, 8, 2, 12, 1, 2, 3, 4, 6, 7, 8, 10, 12, 13, 2, 3, 7, 8, 9, 12, 1, 2, 4, 6, 9, 10, 11, 13, 1, 4, 10, 11, 2, 5, 4, 1, 2, 3, 4, 6, 9, 13, 1, 2, 3, 4, 5, 6, 7, 8, 9, 10, 11, 12, 13, 14, 15, 3, 5, 6, 1, 2, 1, 2, 3, 5, 7, 8, 9, 10, 1, 4, 9, 1, 2, 3, 5, 6, 7, 8, 9, 10, 11, 12, 15, 1, 2, 3, 4, 5, 6, 7, 8, 9, 11, 12, 13, 1, 2, 3, 4, 5, 6, 7, 8, 9, 10, 11, 15, 3, 5, 6, 3, 5, 6, 1, 2, 3, 4, 7, 8, 10, 11, 12, 15, 1, 3, 4, 11, 15, 1, 6, 10, 1, 5, 6, 13, 1, 4, 1, 2, 3, 6, 14, 1, 9, 1, 2, 3, 4, 5, 6, 7, 9, 10, 15, 1, 2, 4, 5, 6, 7, 9, 10, 13, 2, 3, 5, 8, 2, 1, 2, 3, 11, 2, 7, 8, 1, 2, 3, 4, 5, 6, 7, 8, 9, 10, 11, 12, 13, 14, 15, 2, 4, 6, 10, 2, 3, 7, 1, 2, 3, 4, 5, 6, 7, 8, 9, 10, 13, 14, 15, 1, 15, 2, 7, 15, 1, 7, 1, 2, 3, 4, 5, 7, 8, 9, 10, 11, 12, 13, 15, 1, 15, 1, 4, 9, 10, 11, 1, 3, 4, 10, 1, 4, 15, 1, 15, 1, 2, 3, 4, 5, 6, 7, 8, 9, 10, 11, 12, 13, 15, 1, 2, 3, 4, 5, 6, 7, 8, 9, 10, 11, 12, 13, 1, 2, 3, 5, 6, 7, 8, 10, 12, 2, 3, 4, 9, 1, 4, 15, 1, 9, 3, 3, 5, 1, 2, 3, 4, 5, 6, 7, 8, 9, 10, 11, 12, 13, 14, 1, 1, 4, 11, 1, 2, 3, 4, 5, 6, 7, 8, 9, 10, 11, 13, 14, 15, 1, 11, 14, 1, 3, 5, 12, 1, 4, 11, 2, 3, 7, 9, 12, 1, 2, 3, 5, 6, 7, 8, 9, 12, 15, 1, 2, 3, 6, 7, 8, 2, 3, 6, 12, 15, 1, 2, 3, 4, 5, 6, 7, 8, 9, 10, 11, 12, 13, 14, 15, 2, 8, 9, 1, 4, 9, 11, 3, 4, 7, 1, 2, 3, 4, 5, 6, 7, 8, 9, 10, 11, 12, 13, 14, 15, 1, 2, 3, 4, 5, 6, 7, 8, 9, 10, 11, 12, 13, 14, 1, 3, 11, 12, 1, 15, 4, 1, 15, 1, 2, 6, 9, 10, 1, 6, 1, 2, 3, 4, 5, 6, 7, 8, 9, 10, 11, 12, 13, 3, 10, 1, 4, 5, 6, 8, 11, 12, 14, 1, 2, 3, 10, 1, 4, 10, 2, 3, 5, 2, 1, 2, 3, 4, 5, 6, 8, 10, 1, 2, 3, 7, 8, 2, 3, 9, 1, 4, 11, 13, 1, 2, 3, 4, 10, 11, 13, 3, 1, 4, 10, 11, 15, 1, 4, 9, 12, 2, 7, 8, 12, 1, 3, 14, 4, 1, 2, 3, 4, 5, 6, 7, 8, 9, 10, 11, 12, 13, 14, 15, 3, 5, 6, 7, 4, 14, 4, 1, 4, 9, 11, 1, 6, 12, 2, 3, 7, 8, 1, 3, 4, 6, 7, 11, 1, 4, 1, 10, 3, 1, 2, 3, 4, 5, 6, 7, 8, 9, 10, 11, 12, 13, 14, 15, 1, 3, 6, 1, 4, 8, 1, 3, 4, 1, 7, 12, 1, 2, 3, 4, 5, 6, 7, 8, 9, 10, 12, 13, 14, 1, 3, 11, 14, 1, 2, 3, 5, 6, 7, 8, 9, 12, 15, 1, 14, 2, 4, 6, 13, 2, 3, 5, 8, 3, 11, 1, 2, 3, 5, 6, 8, 9, 13, 1, 6, 9, 5, 7, 12, 1, 2, 3, 4, 5, 6, 7, 8, 9, 10, 12, 13, 15, 3, 4, 3, 5, 8, 1, 2, 3, 4, 5, 6, 7, 8, 9, 11, 12, 1, 2, 10, 1, 2, 3, 12, 1, 2, 4, 5, 8, 12, 13, 1, 2, 3, 4, 5, 6, 11, 12, 4, 2, 4, 5, 8, 3, 10, 11, 1, 2, 6, 7, 1, 2, 3, 4, 5, 6, 7, 8, 9, 12, 14, 1, 2, 3, 5, 7, 11, 12, 13, 1, 3, 5, 7, 1, 3, 4, 11, 1, 4, 11, 2, 4, 13, 1, 4, 9, 11, 1, 4, 11, 1, 10, 3, 5, 6, 7, 13, 1, 3, 4, 9, 10, 14, 2, 1, 3, 12, 14, 1, 6, 9, 13, 1, 2, 4, 7, 10, 15, 2, 3, 7, 1, 5, 6, 13, 1, 3, 4, 9, 14, 4, 1, 2, 5, 6, 12, 3, 6, 11, 1, 2, 3, 4, 6, 7, 8, 12, 1, 7, 12, 1, 2, 3, 4, 5, 6, 7, 8, 9, 10, 12, 14, 1, 2, 3, 7, 14, 15, 1, 2, 3, 4, 5, 6, 7, 8, 9, 10, 11, 12, 14, 15, 6, 9, 10, 1, 3, 4, 5, 2, 3, 7, 1, 13, 1, 3, 9, 1, 11, 3, 4, 15, 3, 6, 7, 4, 11, 1, 3, 9, 11, 15, 3, 4, 1, 7, 9, 1, 2, 3, 5, 6, 7, 8, 12, 1, 3, 4, 9, 11, 14, 15, 1, 2, 3, 4, 5, 6, 7, 8, 9, 10, 11, 12, 13, 14, 15, 1, 2, 3, 4, 5, 6, 7, 10, 11, 1, 4, 11, 2, 7, 1, 10, 11, 1, 4, 10, 13, 1, 2, 3, 7, 9, 10, 12, 1, 5, 9, 13, 1, 3, 5, 6, 14, 2, 1, 12, 1, 4, 10, 11, 6, 9, 10, 1, 2, 3, 4, 5, 6, 7, 8, 9, 10, 11, 12, 13, 15, 1, 10, 1, 4, 10, 15, 1, 4, 10, 14, 1, 1, 2, 3, 4, 5, 7, 10, 11, 13, 1, 2, 3, 7, 9, 12, 7, 8, 9, 10, 11, 4, 10, 11, 1, 1, 8, 2, 3, 7, 8, 1, 6, 1, 2, 3, 4, 5, 6, 7, 8, 9, 10, 11, 12, 13, 14, 5, 1, 2, 3, 4, 5, 6, 7, 8, 9, 11, 13, 14, 1, 1, 2, 3, 4, 5, 7, 8, 9, 14, 1, 8, 1, 2, 4, 9, 10, 1, 2, 3, 4, 5, 6, 7, 8, 9, 10, 11, 12, 13, 14, 15, 2, 3, 5, 6, 7, 8, 1, 2, 3, 4, 6, 7, 9, 10, 15, 3, 7, 1, 2, 3, 4, 6, 9, 15, 3, 4, 1, 2, 3, 4, 5, 6, 7, 8, 9, 10, 11, 12, 13, 1, 2, 3, 4, 5, 6, 7, 8, 9, 10, 12, 13, 1, 2, 3, 4, 5, 6, 7, 8, 9, 11, 15, 4, 5, 8, 1, 6, 10, 13, 1, 1, 2, 3, 5, 6, 7, 10, 13, 1, 4, 13, 1, 3, 13, 1, 13, 15, 1, 2, 3, 4, 5, 6, 7, 8, 9, 10, 11, 12, 13, 14, 15, 1, 3, 1, 2, 5, 6, 8, 9, 13, 2, 4, 10, 1, 4, 14, 1, 2, 14, 1, 2, 3, 4, 6, 9, 11, 15, 1, 4, 9, 1, 4, 9, 2, 4, 5, 7, 14, 1, 7, 13, 2, 3, 2, 5, 1, 10, 9, 1, 1, 2, 3, 4, 5, 6, 7, 8, 9, 10, 11, 12, 13, 15, 1, 1, 1, 2, 3, 4, 5, 6, 7, 8, 9, 10, 11, 12, 13, 1, 3, 7, 15, 1, 2, 5, 9, 14, 3, 5, 6, 1, 7, 8, 9, 11, 15, 1, 1, 11, 15, 3, 6, 12, 3, 8, 14, 3, 6, 10, 13, 1, 2, 3, 4, 5, 6, 7, 8, 9, 10, 11, 12, 13, 14, 1, 2, 3, 4, 5, 6, 7, 8, 1, 2, 3, 4, 5, 6, 7, 8, 9, 10, 12, 13, 14, 15, 1, 2, 3, 15, 5, 6, 6, 7, 9, 13, 1, 4, 1, 1, 2, 3, 4, 5, 6, 7, 8, 9, 11, 13, 14, 4, 1, 2, 3, 4, 5, 6, 7, 8, 9, 10, 11, 13, 14, 1, 4, 9, 13, 1, 10, 11, 2, 3, 5, 6, 7, 1, 2, 3, 4, 5, 6, 7, 11, 13, 14, 1, 2, 3, 4, 5, 6, 7, 8, 9, 10, 11, 12, 13, 14, 15, 1, 2, 3, 4, 10, 14, 1, 2, 3, 4, 5, 6, 7, 8, 9, 10, 11, 12, 13, 14, 1, 2, 3, 4, 5, 6, 7, 8, 9, 10, 11, 12, 13, 14, 15, 1, 3, 9, 11, 15, 1, 2, 3, 4, 5, 6, 7, 8, 9, 10, 11, 12, 13, 14, 15, 2, 1, 2, 3, 4, 5, 7, 8, 9, 12, 15, 1, 2, 3, 4, 5, 6, 7, 8, 9, 10, 11, 12, 13, 14, 15, 1, 2, 3, 4, 5, 6, 7, 8, 9, 10, 11, 12, 13, 14, 15, 4, 11, 13, 1, 4, 14, 1, 2, 3, 4, 5, 6, 7, 8, 9, 10, 11, 12, 13, 14, 15, 1, 2, 3, 4, 5, 6, 7, 8, 10, 12, 14, 1, 2, 4, 10, 1, 15, 1, 3, 4, 14, 1, 10, 12, 3, 6, 4, 11, 1, 4, 14, 1, 2, 3, 4, 5, 6, 7, 8, 12, 13, 15, 3, 1, 4, 1, 5, 9, 10, 13, 3, 6, 6, 7, 2, 6, 13, 1, 2, 12, 1, 2, 3, 12, 1, 5, 14, 2, 1, 1, 1, 9, 1, 11, 3, 4, 13, 3, 5, 6, 1, 10, 11, 1, 2, 5, 7, 14, 4, 1, 15, 1, 4, 3, 1, 4, 11, 1, 10, 11, 1, 4, 9, 1, 11, 13, 1, 2, 3, 4, 5, 6, 7, 8, 9, 12, 13, 15, 1, 1, 2, 3, 4, 5, 6, 7, 8, 9, 10, 11, 12, 13, 14, 15, 1, 5, 14, 1, 2, 3, 4, 5, 6, 7, 8, 9, 10, 11, 12, 13, 14, 3, 5, 6, 7, 13, 3, 5, 1, 11, 14, 1, 15, 1, 2, 3, 4, 5, 10, 11, 13, 14, 1, 3, 10, 11, 13, 1, 2, 3, 7, 8, 9, 12, 1, 7, 1, 2, 3, 5, 7, 9, 3, 6, 7, 1, 6, 15, 1, 2, 3, 4, 5, 6, 7, 8, 11, 1, 2, 3, 4, 5, 6, 7, 8, 9, 10, 11, 12, 13, 14, 1, 4, 15, 3, 5, 6, 7, 13, 1, 2, 3, 4, 5, 6, 7, 10, 11, 13, 14, 1, 4, 13, 1, 2, 3, 4, 5, 6, 7, 8, 9, 10, 11, 12, 13, 14, 1, 2, 3, 4, 5, 6, 7, 8, 9, 10, 11, 12, 13, 14, 15, 1, 7, 10, 11, 3, 7, 1, 2, 3, 4, 5, 6, 7, 8, 9, 10, 11, 12, 13, 14, 1, 4], \"Freq\": [0.7371919751167297, 0.18429799377918243, 0.23058706521987915, 0.6588202118873596, 0.09882303327322006, 0.03990398719906807, 0.9177917242050171, 0.03990398719906807, 0.567294180393219, 0.08104202896356583, 0.24312609434127808, 0.08104202896356583, 0.33529335260391235, 0.2235289067029953, 0.2235289067029953, 0.11176445335149765, 0.775719404220581, 0.1551438868045807, 0.193847194314003, 0.3753211796283722, 0.090736985206604, 0.028870858252048492, 0.12373225390911102, 0.045368492603302, 0.06599053740501404, 0.020622042939066887, 0.004124408587813377, 0.008248817175626755, 0.004124408587813377, 0.008248817175626755, 0.020622042939066887, 0.004124408587813377, 0.24091342091560364, 0.08030447363853455, 0.1606089472770691, 0.4818268418312073, 0.17126716673374176, 0.3425343334674835, 0.17126716673374176, 0.17126716673374176, 0.31673234701156616, 0.09745611250400543, 0.07309208065271378, 0.048728056252002716, 0.09745611250400543, 0.09745611250400543, 0.024364028126001358, 0.1705482006072998, 0.024364028126001358, 0.8347187638282776, 0.05909513309597969, 0.03693445771932602, 0.02216067537665367, 0.014773783273994923, 0.02216067537665367, 0.2371138334274292, 0.4053881764411926, 0.034419748932123184, 0.011473249644041061, 0.04971741884946823, 0.057366251945495605, 0.13385458290576935, 0.022946499288082123, 0.015297667123377323, 0.007648833561688662, 0.011473249644041061, 0.015297667123377323, 0.003824416780844331, 0.5635977387428284, 0.18786591291427612, 0.2778492271900177, 0.13892461359500885, 0.2778492271900177, 0.2778492271900177, 0.7312869429588318, 0.18282173573970795, 0.5571495294570923, 0.18571650981903076, 0.18571650981903076, 0.22876064479351044, 0.11438032239675522, 0.22876064479351044, 0.11438032239675522, 0.22876064479351044, 0.7819592356681824, 0.15639184415340424, 0.8933486342430115, 0.1505320817232132, 0.1505320817232132, 0.4515962600708008, 0.11687713861465454, 0.3603711724281311, 0.09739761054515839, 0.029219284653663635, 0.11687713861465454, 0.11687713861465454, 0.04869880527257919, 0.029219284653663635, 0.019479522481560707, 0.009739761240780354, 0.04869880527257919, 0.1899356096982956, 0.0949678048491478, 0.3798712193965912, 0.1899356096982956, 0.19106532633304596, 0.3821306526660919, 0.19106532633304596, 0.1687394678592682, 0.1687394678592682, 0.1687394678592682, 0.1687394678592682, 0.1687394678592682, 0.3830885589122772, 0.20012088119983673, 0.1458023637533188, 0.09148383140563965, 0.04860078543424606, 0.03430643677711487, 0.02858869917690754, 0.017153218388557434, 0.01429434958845377, 0.011435478925704956, 0.01429434958845377, 0.005717739462852478, 0.002858869731426239, 0.4973370432853699, 0.3315580487251282, 0.1657790243625641, 0.5018524527549744, 0.1254631131887436, 0.2509262263774872, 0.4995817244052887, 0.16652724146842957, 0.12489543110132217, 0.04163181036710739, 0.12489543110132217, 0.16321612894535065, 0.6120604872703552, 0.16321612894535065, 0.04080403223633766, 0.8881111741065979, 0.7259023189544678, 0.1979733556509018, 0.5577288866043091, 0.13943222165107727, 0.13943222165107727, 0.13943222165107727, 0.5881579518318176, 0.10808030515909195, 0.11562079191207886, 0.0980263203382492, 0.01256747730076313, 0.01256747730076313, 0.010053982026875019, 0.0050269910134375095, 0.007540486287325621, 0.0025134955067187548, 0.022621458396315575, 0.007540486287325621, 0.0025134955067187548, 0.007540486287325621, 0.7751977443695068, 0.15503954887390137, 0.1787821650505066, 0.7151286602020264, 0.8929324150085449, 0.5489303469657898, 0.13723258674144745, 0.13723258674144745, 0.1773511916399002, 0.2561739385128021, 0.07882275432348251, 0.11823412775993347, 0.07882275432348251, 0.059117063879966736, 0.15764550864696503, 0.01970568858087063, 0.01970568858087063, 0.08558385819196701, 0.3225853145122528, 0.21066796779632568, 0.039500243961811066, 0.23041808605194092, 0.04608361795544624, 0.02633349597454071, 0.006583373993635178, 0.02633349597454071, 0.013166747987270355, 0.9318053722381592, 0.4166507422924042, 0.138883575797081, 0.138883575797081, 0.138883575797081, 0.06659825146198273, 0.31634169816970825, 0.14152127504348755, 0.0915725976228714, 0.09989737719297409, 0.21644431352615356, 0.016649562865495682, 0.008324781432747841, 0.016649562865495682, 0.008324781432747841, 0.008324781432747841, 0.11807028949260712, 0.2586301565170288, 0.19116142392158508, 0.04497915878891945, 0.03373437002301216, 0.11244789510965347, 0.19116142392158508, 0.022489579394459724, 0.011244789697229862, 0.01686718501150608, 0.33437690138816833, 0.33437690138816833, 0.11145897209644318, 0.11145897209644318, 0.9466133713722229, 0.35027554631233215, 0.25314030051231384, 0.17513777315616608, 0.06034158542752266, 0.035321902483701706, 0.04415237903594971, 0.038265395909547806, 0.010302221402525902, 0.008830475620925426, 0.008830475620925426, 0.004415237810462713, 0.001471746014431119, 0.008830475620925426, 0.001471746014431119, 0.7751831412315369, 0.15503662824630737, 0.7608600854873657, 0.19021502137184143, 0.9086897373199463, 0.010948068462312222, 0.010948068462312222, 0.05474034324288368, 0.6717463135719299, 0.09796300530433655, 0.20292337238788605, 0.013994715176522732, 0.006997357588261366, 0.08450914919376373, 0.16901829838752747, 0.6338186264038086, 0.08450914919376373, 0.3584846258163452, 0.23898974061012268, 0.47797948122024536, 0.5125364065170288, 0.04456838220357895, 0.0891367644071579, 0.22284190356731415, 0.0891367644071579, 0.022284191101789474, 0.9067426323890686, 0.6497941613197327, 0.3068472445011139, 0.03008306212723255, 0.734642744064331, 0.18366068601608276, 0.3910845220088959, 0.19554226100444794, 0.19554226100444794, 0.19554226100444794, 0.5630204677581787, 0.37534698843955994, 0.006878145970404148, 0.6465457081794739, 0.06878145784139633, 0.013756291940808296, 0.02063443884253502, 0.04814702272415161, 0.12380662560462952, 0.04126887768507004, 0.006878145970404148, 0.013756291940808296, 0.006878145970404148, 0.9401427507400513, 0.28289875388145447, 0.26535463333129883, 0.14035287499427795, 0.05482533946633339, 0.08772054314613342, 0.0394742451608181, 0.07456246018409729, 0.026316162198781967, 0.006579040549695492, 0.010965067893266678, 0.004386027343571186, 0.004386027343571186, 0.002193013671785593, 0.002193013671785593, 0.6469680666923523, 0.05545440688729286, 0.02772720344364643, 0.1756056249141693, 0.009242401458323002, 0.018484802916646004, 0.009242401458323002, 0.018484802916646004, 0.009242401458323002, 0.009242401458323002, 0.018484802916646004, 0.3784826397895813, 0.09462065994739532, 0.09462065994739532, 0.47310328483581543, 0.8049267530441284, 0.02797042764723301, 0.03729390352964401, 0.06837216019630432, 0.006215650588274002, 0.05283303186297417, 0.9288574457168579, 0.1572922170162201, 0.07078149169683456, 0.723544180393219, 0.04718766361474991, 0.33025243878364563, 0.1774490773677826, 0.18730735778808594, 0.050934456288814545, 0.0887245386838913, 0.0690079778432846, 0.042719222605228424, 0.00821523554623127, 0.009858282282948494, 0.006572188343852758, 0.00821523554623127, 0.009858282282948494, 0.003286094171926379, 0.003286094171926379, 0.0016430470859631896, 0.17975902557373047, 0.5392770767211914, 0.6013033986091614, 0.06681148707866669, 0.13362297415733337, 0.13362297415733337, 0.29094037413597107, 0.6650065183639526, 0.02078145369887352, 0.6332216262817383, 0.31661081314086914, 0.8870529532432556, 0.0064279199577867985, 0.08034899830818176, 0.009641880169510841, 0.009641880169510841, 0.7871684432029724, 0.010783129371702671, 0.016174694523215294, 0.15096381306648254, 0.010783129371702671, 0.0053915646858513355, 0.016174694523215294, 0.24102815985679626, 0.12051407992839813, 0.48205631971359253, 0.12051407992839813, 0.8244748115539551, 0.1177821159362793, 0.8667318224906921, 0.011111946776509285, 0.02222389355301857, 0.033335838466882706, 0.011111946776509285, 0.011111946776509285, 0.02222389355301857, 0.02222389355301857, 0.375332236289978, 0.187666118144989, 0.187666118144989, 0.07440792769193649, 0.10417109727859497, 0.31623369455337524, 0.01116118859499693, 0.2901909053325653, 0.16369743645191193, 0.014881584793329239, 0.0037203961983323097, 0.0037203961983323097, 0.0037203961983323097, 0.01116118859499693, 0.0037203961983323097, 0.5488421320915222, 0.10976842790842056, 0.21953685581684113, 0.14685417711734772, 0.8076979517936707, 0.10331317037343979, 0.8265053629875183, 0.8798057436943054, 0.02513730712234974, 0.07541192322969437, 0.43386468291282654, 0.08976510912179947, 0.08976510912179947, 0.1196868047118187, 0.044882554560899734, 0.05984340235590935, 0.044882554560899734, 0.029921701177954674, 0.029921701177954674, 0.044882554560899734, 0.2067486047744751, 0.4134972095489502, 0.2067486047744751, 0.10337430238723755, 0.9390571117401123, 0.013511613011360168, 0.020267419517040253, 0.006755806505680084, 0.006755806505680084, 0.7134903073310852, 0.027980010956525803, 0.1399000585079193, 0.027980010956525803, 0.04197001829743385, 0.055960021913051605, 0.6977623105049133, 0.004178217612206936, 0.2256237417459488, 0.004178217612206936, 0.06685148179531097, 0.9397645592689514, 0.82646644115448, 0.02666020765900612, 0.0977540984749794, 0.008886735886335373, 0.008886735886335373, 0.008886735886335373, 0.008886735886335373, 0.3737802505493164, 0.1868901252746582, 0.1868901252746582, 0.1868901252746582, 0.044780049473047256, 0.044780049473047256, 0.8508209586143494, 0.10497060418128967, 0.7347941994667053, 0.10497060418128967, 0.16159255802631378, 0.43208447098731995, 0.07377051562070847, 0.0035128819290548563, 0.06323187053203583, 0.06674475222826004, 0.09133492410182953, 0.0562061108648777, 0.0035128819290548563, 0.010538645088672638, 0.010538645088672638, 0.014051527716219425, 0.007025763858109713, 0.007025763858109713, 0.6559678912162781, 0.21865595877170563, 0.9696032404899597, 0.02620549313724041, 0.6258912682533264, 0.1564728170633316, 0.1564728170633316, 0.376614511013031, 0.1883072555065155, 0.1883072555065155, 0.5608998537063599, 0.18696661293506622, 0.7611651420593262, 0.19029128551483154, 0.9105117321014404, 0.02276279404759407, 0.02276279404759407, 0.02276279404759407, 0.33409667015075684, 0.03712185099720955, 0.5568277835845947, 0.03712185099720955, 0.7706262469291687, 0.15412524342536926, 0.8121784925460815, 0.13536308705806732, 0.33732399344444275, 0.4047887921333313, 0.1349295973777771, 0.06746479868888855, 0.3058055341243744, 0.0382256917655468, 0.1529027670621872, 0.2675798535346985, 0.0382256917655468, 0.0382256917655468, 0.1529027670621872, 0.0382256917655468, 0.4349554777145386, 0.15856236219406128, 0.17747347056865692, 0.08728203177452087, 0.02763931080698967, 0.0363675132393837, 0.02763931080698967, 0.016001706942915916, 0.004364101681858301, 0.004364101681858301, 0.010182904079556465, 0.0072735026478767395, 0.004364101681858301, 0.002909401198849082, 0.001454700599424541, 0.5931412577629089, 0.38860979676246643, 0.671630322933197, 0.0395076647400856, 0.2765536606311798, 0.880094051361084, 0.031431932002305984, 0.04714789614081383, 0.015715966001152992, 0.015715966001152992, 0.8974769115447998, 0.01521147321909666, 0.01521147321909666, 0.06084589287638664, 0.00760573660954833, 0.4257418215274811, 0.08514836430549622, 0.25544509291648865, 0.17029672861099243, 0.08514836430549622, 0.07828737795352936, 0.8415893316268921, 0.03914368897676468, 0.03914368897676468, 0.05175631493330002, 0.8281010389328003, 0.05175631493330002, 0.528971791267395, 0.16750772297382355, 0.044080980122089386, 0.10873308777809143, 0.03232605382800102, 0.011754928156733513, 0.04114224761724472, 0.008816196583211422, 0.0029387320391833782, 0.011754928156733513, 0.008816196583211422, 0.023509856313467026, 0.0029387320391833782, 0.0029387320391833782, 0.208033487200737, 0.30149781703948975, 0.15376389026641846, 0.05426960438489914, 0.084419384598732, 0.08140441030263901, 0.04522467032074928, 0.03316475823521614, 0.009044934064149857, 0.006029956042766571, 0.006029956042766571, 0.018089868128299713, 0.38374924659729004, 0.21088923513889313, 0.08297280967235565, 0.08297280967235565, 0.041486404836177826, 0.027657603845000267, 0.07951561361551285, 0.027657603845000267, 0.024200404062867165, 0.01728600263595581, 0.010371601209044456, 0.0034572004806250334, 0.006914400961250067, 0.0034572004806250334, 0.0034572004806250334, 0.7570200562477112, 0.04453059285879135, 0.1781223714351654, 0.017167454585433006, 0.9356263279914856, 0.008583727292716503, 0.025751182809472084, 0.008583727292716503, 0.1327192634344101, 0.3981577754020691, 0.3981577754020691, 0.3367883563041687, 0.3367883563041687, 0.16839417815208435, 0.16839417815208435, 0.2477988302707672, 0.2477988302707672, 0.1238994151353836, 0.1238994151353836, 0.5138360261917114, 0.12090259045362473, 0.07724332064390182, 0.14105302095413208, 0.013433621264994144, 0.05709289014339447, 0.023508837446570396, 0.016792025417089462, 0.023508837446570396, 0.006716810632497072, 0.006716810632497072, 0.003358405316248536, 0.2552906572818756, 0.16858817636966705, 0.12042012810707092, 0.12523692846298218, 0.03371763601899147, 0.14450415968894958, 0.028900830075144768, 0.06261846423149109, 0.028900830075144768, 0.019267220050096512, 0.004816805012524128, 0.004816805012524128, 0.004816805012524128, 0.08532673865556717, 0.8959307074546814, 0.13504913449287415, 0.3279764950275421, 0.15434187650680542, 0.11575640738010406, 0.07717093825340271, 0.038585469126701355, 0.07717093825340271, 0.019292734563350677, 0.019292734563350677, 0.019292734563350677, 0.019292734563350677, 0.4178275763988495, 0.23003989458084106, 0.16900889575481415, 0.17370359599590302, 0.06594252586364746, 0.4615976810455322, 0.4615976810455322, 0.09940440952777863, 0.4307524561882019, 0.13253921270370483, 0.29821324348449707, 0.03313480317592621, 0.5589152574539185, 0.18630509078502655, 0.18630509078502655, 0.9453425407409668, 0.03501268848776817, 0.6609437465667725, 0.09012869745492935, 0.09763941913843155, 0.07510724663734436, 0.007510724477469921, 0.007510724477469921, 0.045064348727464676, 0.007510724477469921, 0.007510724477469921, 0.5458394885063171, 0.06931295245885849, 0.034656476229429245, 0.21660296618938446, 0.008664119057357311, 0.04332059249281883, 0.008664119057357311, 0.017328238114714622, 0.034656476229429245, 0.008664119057357311, 0.008664119057357311, 0.008664119057357311, 0.4189271032810211, 0.1396423727273941, 0.1396423727273941, 0.2792847454547882, 0.44383421540260315, 0.12328728288412094, 0.22191710770130157, 0.04931491240859032, 0.02465745620429516, 0.04931491240859032, 0.07397236675024033, 0.37092524766921997, 0.16485565900802612, 0.061820875853300095, 0.26789045333862305, 0.12364175170660019, 0.7388402819633484, 0.03436466306447983, 0.22337031364440918, 0.8659062385559082, 0.005586491897702217, 0.0335189513862133, 0.08379737287759781, 0.005586491897702217, 0.022702405229210854, 0.6421537399291992, 0.18486244976520538, 0.006486401427537203, 0.016216004267334938, 0.02594560571014881, 0.07135041803121567, 0.012972802855074406, 0.0032432007137686014, 0.009729602374136448, 0.3850964307785034, 0.1925482153892517, 0.1925482153892517, 0.4450831115245819, 0.14956721663475037, 0.2159075289964676, 0.06754648685455322, 0.0361856184899807, 0.04101036861538887, 0.008443310856819153, 0.01085568591952324, 0.006030936259776354, 0.002412374597042799, 0.002412374597042799, 0.006030936259776354, 0.0036185618955641985, 0.004824749194085598, 0.0012061872985213995, 0.21270877122879028, 0.7657516002655029, 0.3960746228694916, 0.3960746228694916, 0.4471192955970764, 0.4471192955970764, 0.195877805352211, 0.28104206919670105, 0.05109855905175209, 0.03406570479273796, 0.05109855905175209, 0.03406570479273796, 0.28104206919670105, 0.042582131922245026, 0.00851642619818449, 0.00851642619818449, 0.00851642619818449, 0.00851642619818449, 0.00851642619818449, 0.05020883306860924, 0.5020883083343506, 0.35146182775497437, 0.10041766613721848, 0.35895904898643494, 0.17947952449321747, 0.17947952449321747, 0.08973976224660873, 0.17947952449321747, 0.5466048717498779, 0.13665121793746948, 0.27330243587493896, 0.13665121793746948, 0.5615554451942444, 0.3743703067302704, 0.3812474310398102, 0.1906237155199051, 0.1906237155199051, 0.41568875312805176, 0.10392218828201294, 0.41568875312805176, 0.2471695989370346, 0.2471695989370346, 0.2471695989370346, 0.2471695989370346, 0.23079827427864075, 0.4615965485572815, 0.032971180975437164, 0.021980788558721542, 0.13188472390174866, 0.010990394279360771, 0.010990394279360771, 0.07693275809288025, 0.010990394279360771, 0.010990394279360771, 0.9601809978485107, 0.5637079477310181, 0.18790265917778015, 0.7756786346435547, 0.15513572096824646, 0.1797635406255722, 0.7190541625022888, 0.18093550205230713, 0.5428065061569214, 0.18093550205230713, 0.147086963057518, 0.32413607835769653, 0.2533164322376251, 0.09805797040462494, 0.046305153518915176, 0.038133654743433, 0.027238326147198677, 0.024514492601156235, 0.005447665229439735, 0.005447665229439735, 0.02179066091775894, 0.005447665229439735, 0.0027238326147198677, 0.8705918192863464, 0.020246321335434914, 0.04049264267086983, 0.020246321335434914, 0.030369481071829796, 0.2690272033214569, 0.024457018822431564, 0.6114254593849182, 0.024457018822431564, 0.024457018822431564, 0.024457018822431564, 0.24823714792728424, 0.08274571597576141, 0.41372859477996826, 0.16549143195152283, 0.4295263886451721, 0.4295263886451721, 0.07158773392438889, 0.02897791750729084, 0.3477349877357483, 0.49262458086013794, 0.10142270475625992, 0.01448895875364542, 0.8639857769012451, 0.7526227831840515, 0.0024045456666499376, 0.0024045456666499376, 0.18034091591835022, 0.0192363653331995, 0.012022728100419044, 0.028854547068476677, 0.7887763977050781, 0.013001808896660805, 0.02600361779332161, 0.12135022133588791, 0.004333936143666506, 0.008667872287333012, 0.004333936143666506, 0.008667872287333012, 0.008667872287333012, 0.013001808896660805, 0.004333936143666506, 0.8335637450218201, 0.01975269615650177, 0.003950539045035839, 0.11851617693901062, 0.011851617135107517, 0.007901078090071678, 0.9306469559669495, 0.02658991329371929, 0.22402705252170563, 0.3525671660900116, 0.07712406665086746, 0.04774346947669983, 0.07712406665086746, 0.08079664409160614, 0.03672574460506439, 0.062433768063783646, 0.011017723940312862, 0.003672574646770954, 0.011017723940312862, 0.011017723940312862, 0.19801896810531616, 0.5186210870742798, 0.04714737460017204, 0.028288424015045166, 0.018858948722481728, 0.12258317321538925, 0.018858948722481728, 0.05657684803009033, 0.44063496589660645, 0.20807762444019318, 0.12145707756280899, 0.07061457633972168, 0.04236874729394913, 0.04331027343869209, 0.03389499709010124, 0.012239860370755196, 0.0018830554326996207, 0.012239860370755196, 0.0037661108653992414, 0.0037661108653992414, 0.00282458309084177, 0.0018830554326996207, 0.0009415277163498104, 0.4914184510707855, 0.190338134765625, 0.13496704399585724, 0.03114623948931694, 0.03460693359375, 0.02422485314309597, 0.03114623948931694, 0.017303466796875, 0.003460693173110485, 0.00692138634622097, 0.017303466796875, 0.00692138634622097, 0.003460693173110485, 0.00692138634622097, 0.07931741327047348, 0.2827838361263275, 0.344858318567276, 0.01896720752120018, 0.09311174601316452, 0.08104170858860016, 0.04483158141374588, 0.03276154026389122, 0.01034574955701828, 0.00172429159283638, 0.00172429159283638, 0.00517287477850914, 0.00172429159283638, 0.3027971386909485, 0.15139856934547424, 0.15139856934547424, 0.35326331853866577, 0.05046619102358818, 0.11649326235055923, 0.3494797945022583, 0.46597304940223694, 0.7536895871162415, 0.03795558959245682, 0.05422227457165718, 0.07591117918491364, 0.010844455100595951, 0.021688910201191902, 0.016266681253910065, 0.0054222275502979755, 0.0054222275502979755, 0.016266681253910065, 0.0054222275502979755, 0.8684269785881042, 0.032163962721824646, 0.032163962721824646, 0.032163962721824646, 0.7725598812103271, 0.0965699851512909, 0.33717232942581177, 0.08429308235645294, 0.25287923216819763, 0.16858616471290588, 0.3102008104324341, 0.4653012156486511, 0.15510040521621704, 0.770073413848877, 0.11001048982143402, 0.05500524491071701, 0.6878176331520081, 0.22927254438400269, 0.1872887909412384, 0.1872887909412384, 0.3745775818824768, 0.1872887909412384, 0.13420294225215912, 0.671014666557312, 0.1991042196750641, 0.1991042196750641, 0.3982084393501282, 0.1991042196750641, 0.1991042196750641, 0.8899453282356262, 0.04045205935835838, 0.04045205935835838, 0.6296266913414001, 0.08072137087583542, 0.016144273802638054, 0.03228854760527611, 0.016144273802638054, 0.016144273802638054, 0.03228854760527611, 0.04843281954526901, 0.08072137087583542, 0.016144273802638054, 0.8714975714683533, 0.22577990591526031, 0.27093589305877686, 0.3160918653011322, 0.04515598341822624, 0.04515598341822624, 0.04515598341822624, 0.38524332642555237, 0.48155415058135986, 0.09631083160638809, 0.5524551272392273, 0.15784431993961334, 0.07892215996980667, 0.07892215996980667, 0.07892215996980667, 0.6408644914627075, 0.16021612286567688, 0.16021612286567688, 0.7492105960845947, 0.10703008621931076, 0.5628821849822998, 0.1876274049282074, 0.20775601267814636, 0.4155120253562927, 0.31163403391838074, 0.4349365532398224, 0.2174682766199112, 0.1087341383099556, 0.2174682766199112, 0.13255412876605988, 0.3976624011993408, 0.13255412876605988, 0.26510825753211975, 0.6628064513206482, 0.307731568813324, 0.5159773230552673, 0.18575184047222137, 0.020639093592762947, 0.14447365701198578, 0.020639093592762947, 0.12383455783128738, 0.5679253339767456, 0.3407551944255829, 0.5953762531280518, 0.09429872035980225, 0.1294296234846115, 0.14052358269691467, 0.014791956171393394, 0.0018489945214241743, 0.0018489945214241743, 0.005546983797103167, 0.005546983797103167, 0.007395978085696697, 0.0018489945214241743, 0.0018489945214241743, 0.0018489945214241743, 0.3251176178455353, 0.16574624180793762, 0.16255880892276764, 0.05099884420633316, 0.12430968135595322, 0.054186269640922546, 0.07649826258420944, 0.006374855525791645, 0.0031874277628958225, 0.006374855525791645, 0.006374855525791645, 0.00956228282302618, 0.006374855525791645, 0.46623775362968445, 0.008796938695013523, 0.008796938695013523, 0.3694714307785034, 0.048383161425590515, 0.03078928403556347, 0.06597703695297241, 0.4478086233139038, 0.4478086233139038, 0.7206330895423889, 0.06005275622010231, 0.06005275622010231, 0.12010551244020462, 0.5920410752296448, 0.197347030043602, 0.114814892411232, 0.7912918329238892, 0.0186186321079731, 0.0062062107026577, 0.0124124214053154, 0.02172173745930195, 0.00930931605398655, 0.0186186321079731, 0.0062062107026577, 0.1762949675321579, 0.5288848876953125, 0.6844199299812317, 0.09777427464723587, 0.19554854929447174, 0.0014278155285865068, 0.9466416835784912, 0.012850339524447918, 0.005711262114346027, 0.0014278155285865068, 0.02284504845738411, 0.004283446352928877, 0.0028556310571730137, 0.0014278155285865068, 0.004628552123904228, 0.7775967121124268, 0.020057057961821556, 0.0015428506303578615, 0.0015428506303578615, 0.003085701260715723, 0.12497090548276901, 0.03857126459479332, 0.0015428506303578615, 0.024685610085725784, 0.07699647545814514, 0.8469612002372742, 0.03849823772907257, 0.03849823772907257, 0.2838428020477295, 0.09461425989866257, 0.567685604095459, 0.42831000685691833, 0.3546516001224518, 0.20733478665351868, 0.0054561784490942955, 0.27668067812919617, 0.13834033906459808, 0.5072479248046875, 0.04611344635486603, 0.4722290635108948, 0.4722290635108948, 0.027778180316090584, 0.009259393438696861, 0.001219981350004673, 0.001219981350004673, 0.3672143816947937, 0.27327582240104675, 0.3208550810813904, 0.03049953281879425, 0.004879925400018692, 0.4826474189758301, 0.24132370948791504, 0.24132370948791504, 0.5549037456512451, 0.06936296820640564, 0.008670371025800705, 0.026011113077402115, 0.08670371025800705, 0.19941852986812592, 0.03468148410320282, 0.008670371025800705, 0.7894439697265625, 0.15445642173290253, 0.01716182567179203, 0.008580912835896015, 0.004290456417948008, 0.008580912835896015, 0.008580912835896015, 0.004290456417948008, 0.5656308531761169, 0.18854361772537231, 0.18854361772537231, 0.22801274061203003, 0.5130286812782288, 0.17100955545902252, 0.08550477772951126, 0.799921989440918, 0.014544036239385605, 0.007272018119692802, 0.14544035494327545, 0.007272018119692802, 0.014544036239385605, 0.007272018119692802, 0.007272018119692802, 0.13667932152748108, 0.8382998108863831, 0.01822390779852867, 0.13056060671806335, 0.2611212134361267, 0.13056060671806335, 0.13056060671806335, 0.2611212134361267, 0.14597687125205994, 0.4014364182949066, 0.10948266088962555, 0.018247108906507492, 0.036494217813014984, 0.16422398388385773, 0.018247108906507492, 0.07298843562602997, 0.018247108906507492, 0.157411590218544, 0.4722347855567932, 0.157411590218544, 0.26186811923980713, 0.7070439457893372, 0.026186812669038773, 0.22340698540210724, 0.6937375068664551, 0.011758262291550636, 0.03527478873729706, 0.023516524583101273, 0.8935200572013855, 0.9551865458488464, 0.40607520937919617, 0.2255973368883133, 0.12510398030281067, 0.1045951247215271, 0.03896681219339371, 0.03691592812538147, 0.020508848130702972, 0.0020508847665041685, 0.0020508847665041685, 0.008203539066016674, 0.004101769533008337, 0.018457964062690735, 0.004101769533008337, 0.0020508847665041685, 0.19135911762714386, 0.3827182352542877, 0.19135911762714386, 0.39313384890556335, 0.19656692445278168, 0.19656692445278168, 0.19656692445278168, 0.07772185653448105, 0.23316556215286255, 0.07772185653448105, 0.4663311243057251, 0.07772185653448105, 0.3996281623840332, 0.3774265944957733, 0.02220156416296959, 0.02220156416296959, 0.04440312832593918, 0.02220156416296959, 0.02220156416296959, 0.02220156416296959, 0.02220156416296959, 0.16793838143348694, 0.16793838143348694, 0.3358767628669739, 0.16793838143348694, 0.16793838143348694, 0.6312038898468018, 0.21040129661560059, 0.10520064830780029, 0.3357143700122833, 0.20142862200737, 0.13428574800491333, 0.06714287400245667, 0.06714287400245667, 0.13428574800491333, 0.26379239559173584, 0.26379239559173584, 0.17586159706115723, 0.26379239559173584, 0.6799604892730713, 0.062040187418460846, 0.04218732938170433, 0.1464148461818695, 0.017371252179145813, 0.019852859899401665, 0.004963214974850416, 0.009926429949700832, 0.009926429949700832, 0.002481607487425208, 0.002481607487425208, 0.002481607487425208, 0.41070038080215454, 0.41070038080215454, 0.5791246294975281, 0.13892747461795807, 0.08117111027240753, 0.11239077150821686, 0.012487863190472126, 0.009365897625684738, 0.009365897625684738, 0.0031219657976180315, 0.012487863190472126, 0.010926879942417145, 0.018731795251369476, 0.006243931595236063, 0.004682948812842369, 0.69663006067276, 0.06966300308704376, 0.06966300308704376, 0.08558597415685654, 0.011942229233682156, 0.007961486466228962, 0.009951857849955559, 0.0019903716165572405, 0.007961486466228962, 0.02189408615231514, 0.011942229233682156, 0.0019903716165572405, 0.0019903716165572405, 0.18884506821632385, 0.4915526211261749, 0.02221706695854664, 0.01388566754758358, 0.2388334721326828, 0.024994200095534325, 0.008331400342285633, 0.00555426673963666, 0.5327056646347046, 0.08878426998853683, 0.17756853997707367, 0.17756853997707367, 0.41288766264915466, 0.056302864104509354, 0.1313733458518982, 0.018767621368169785, 0.18767622113227844, 0.018767621368169785, 0.07507048547267914, 0.03753524273633957, 0.018767621368169785, 0.018767621368169785, 0.12907977402210236, 0.46626776456832886, 0.09746840596199036, 0.005268562119454145, 0.07639415562152863, 0.034245654940605164, 0.09746840596199036, 0.04478278011083603, 0.005268562119454145, 0.007902843877673149, 0.018439969047904015, 0.0026342810597270727, 0.005268562119454145, 0.0026342810597270727, 0.6282479166984558, 0.3141239583492279, 0.38766494393348694, 0.5286340117454529, 0.07048453390598297, 0.11456315964460373, 0.22912631928920746, 0.22912631928920746, 0.22912631928920746, 0.11456315964460373, 0.11456315964460373, 0.11456315964460373, 0.296608030796051, 0.6673680543899536, 0.19763945043087006, 0.12907066941261292, 0.1895725429058075, 0.03025093674659729, 0.112936832010746, 0.11898701637983322, 0.07461898028850555, 0.09075281023979187, 0.018150562420487404, 0.002016729209572077, 0.002016729209572077, 0.0282342080026865, 0.004033458419144154, 0.18857233226299286, 0.18857233226299286, 0.3771446645259857, 0.18857233226299286, 0.730935275554657, 0.18273381888866425, 0.4582728445529938, 0.4582728445529938, 0.2530616521835327, 0.30578282475471497, 0.10807842016220093, 0.026360590010881424, 0.08435388654470444, 0.0738096535205841, 0.09226206690073013, 0.018452413380146027, 0.013180295005440712, 0.0026360589545220137, 0.0026360589545220137, 0.010544235818088055, 0.005272117909044027, 0.0026360589545220137, 0.42071107029914856, 0.24317696690559387, 0.0701185092329979, 0.07608604431152344, 0.040280845016241074, 0.04923214390873909, 0.050724029541015625, 0.017902597784996033, 0.004475649446249008, 0.007459416054189205, 0.005967532750219107, 0.0029837663751095533, 0.004475649446249008, 0.0029837663751095533, 0.0014918831875547767, 0.8534727692604065, 0.030481169000267982, 0.007620292250066996, 0.053342048078775406, 0.03810146078467369, 0.7313071489334106, 0.18282678723335266, 0.6341598033905029, 0.10569329559803009, 0.21138659119606018, 0.4389687180519104, 0.1097421795129776, 0.2194843590259552, 0.1097421795129776, 0.6113095879554749, 0.1746598780155182, 0.0873299390077591, 0.13099491596221924, 0.5714163184165955, 0.3809441924095154, 0.20122626423835754, 0.20122626423835754, 0.20122626423835754, 0.20122626423835754, 0.03453851863741875, 0.27630814909935, 0.20723110437393188, 0.0690770372748375, 0.138154074549675, 0.03453851863741875, 0.0690770372748375, 0.138154074549675, 0.0690770372748375, 0.8982980251312256, 0.058584652841091156, 0.019528217613697052, 0.019528217613697052, 0.9476692080497742, 0.8309072852134705, 0.07838747650384903, 0.015677494928240776, 0.04703248664736748, 0.015677494928240776, 0.3475330173969269, 0.5212995409965515, 0.24314434826374054, 0.4862886965274811, 0.16209623217582703, 0.16436436772346497, 0.054788123816251755, 0.13697031140327454, 0.602669358253479, 0.054788123816251755, 0.2781086564064026, 0.21893660724163055, 0.05325485020875931, 0.10059249401092529, 0.06508926302194595, 0.13609573245048523, 0.09467529505491257, 0.029586028307676315, 0.0059172059409320354, 0.01775161735713482, 0.0059172059409320354, 0.011834411881864071, 0.180650532245636, 0.541951596736908, 0.180650532245636, 0.48504582047462463, 0.16168193519115448, 0.16168193519115448, 0.16168193519115448, 0.9435645341873169, 0.008424683474004269, 0.033698733896017075, 0.9574310779571533, 0.0701851025223732, 0.00877313781529665, 0.451816588640213, 0.004386568907648325, 0.20616872608661652, 0.12721049785614014, 0.12282392382621765, 0.004386568907648325, 0.5823864340782166, 0.17129011452198029, 0.022838681936264038, 0.057096708565950394, 0.03425802290439606, 0.03425802290439606, 0.022838681936264038, 0.011419340968132019, 0.011419340968132019, 0.022838681936264038, 0.022838681936264038, 0.8274751901626587, 0.0061294459737837315, 0.14097726345062256, 0.0061294459737837315, 0.0061294459737837315, 0.0061294459737837315, 0.9476457834243774, 0.14387427270412445, 0.2807869017124176, 0.1810031235218048, 0.023205528035759926, 0.16707980632781982, 0.0997837707400322, 0.05569326877593994, 0.006961658596992493, 0.0046411058865487576, 0.0046411058865487576, 0.01856442354619503, 0.006961658596992493, 0.0023205529432743788, 0.0023205529432743788, 0.23601174354553223, 0.3006725013256073, 0.19074921309947968, 0.07112682610750198, 0.0420294888317585, 0.048495564609766006, 0.038796450942754745, 0.022631263360381126, 0.009699112735688686, 0.009699112735688686, 0.00646607531234622, 0.019398225471377373, 0.00323303765617311, 0.5489417314529419, 0.18298058211803436, 0.18298058211803436, 0.31902945041656494, 0.07975736260414124, 0.14356324076652527, 0.07975736260414124, 0.06380588561296463, 0.06380588561296463, 0.11166030168533325, 0.015951471403241158, 0.015951471403241158, 0.07975736260414124, 0.015951471403241158, 0.015951471403241158, 0.015951471403241158, 0.015951471403241158, 0.8711859583854675, 0.33035364747047424, 0.3854125738143921, 0.20922397077083588, 0.07708251476287842, 0.17720183730125427, 0.35440367460250854, 0.17720183730125427, 0.17720183730125427, 0.823657751083374, 0.11766539514064789, 0.5933421850204468, 0.13185381889343262, 0.26370763778686523, 0.5407059192657471, 0.13517647981643677, 0.13517647981643677, 0.30572983622550964, 0.5836660265922546, 0.09264539927244186, 0.4590810239315033, 0.1541200578212738, 0.07542045414447784, 0.07542045414447784, 0.062303852289915085, 0.0655830055475235, 0.03934980183839798, 0.003279150230810046, 0.003279150230810046, 0.036070652306079865, 0.006558300461620092, 0.003279150230810046, 0.009837450459599495, 0.003279150230810046, 0.3429757058620453, 0.24888503551483154, 0.1335480660200119, 0.060703665018081665, 0.05766848474740982, 0.05766848474740982, 0.03642220050096512, 0.015175916254520416, 0.012140733189880848, 0.006070366594940424, 0.006070366594940424, 0.01821110025048256, 0.003035183297470212, 0.003035183297470212, 0.9641513824462891, 0.32092663645744324, 0.16046331822872162, 0.16046331822872162, 0.32092663645744324, 0.8252013921737671, 0.01737266033887863, 0.052117981016635895, 0.03474532067775726, 0.008686330169439316, 0.01737266033887863, 0.01737266033887863, 0.008686330169439316, 0.008686330169439316, 0.004343165084719658, 0.004343165084719658, 0.3574233949184418, 0.5182639360427856, 0.053613509982824326, 0.053613509982824326, 0.9391233921051025, 0.03238356485962868, 0.2719838619232178, 0.19012464582920074, 0.3010306656360626, 0.047531161457300186, 0.055453021079301834, 0.06601549685001373, 0.03168743848800659, 0.015843719244003296, 0.005281239748001099, 0.005281239748001099, 0.005281239748001099, 0.0026406198740005493, 0.35331323742866516, 0.18521051108837128, 0.165871262550354, 0.06248065456748009, 0.09520861506462097, 0.04686048999428749, 0.04090995341539383, 0.013388711959123611, 0.012644894421100616, 0.004462903831154108, 0.005950538441538811, 0.005950538441538811, 0.007438173051923513, 0.0014876346103847027, 0.34249991178512573, 0.34249991178512573, 0.2283332645893097, 0.45598751306533813, 0.13028214871883392, 0.06514107435941696, 0.06514107435941696, 0.06514107435941696, 0.06514107435941696, 0.13028214871883392, 0.6956227421760559, 0.01795155368745327, 0.2288823127746582, 0.0044878884218633175, 0.008975776843726635, 0.0044878884218633175, 0.040390998125076294, 0.9217692613601685, 0.2280369997024536, 0.15202467143535614, 0.07601233571767807, 0.4560739994049072, 0.07601233571767807, 0.26194843649864197, 0.2607300877571106, 0.20955875515937805, 0.043861132115125656, 0.08406717330217361, 0.05238968878984451, 0.038987673819065094, 0.023148931562900543, 0.006091824267059565, 0.004873459227383137, 0.006091824267059565, 0.006091824267059565, 0.0012183648068457842, 0.896702229976654, 0.527027428150177, 0.22101151943206787, 0.03400177136063576, 0.05100265517830849, 0.01700088568031788, 0.03400177136063576, 0.08500442653894424, 0.01700088568031788, 0.6181067228317261, 0.24724268913269043, 0.4887104630470276, 0.09774209558963776, 0.09774209558963776, 0.1954841911792755, 0.45698925852775574, 0.30465948581695557, 0.1277763843536377, 0.07666583359241486, 0.17888695001602173, 0.48555028438568115, 0.07666583359241486, 0.025555279105901718, 0.4185773432254791, 0.12642744183540344, 0.17084789276123047, 0.11617656797170639, 0.029044141992926598, 0.044420450925827026, 0.02733566239476204, 0.020501747727394104, 0.017084788531064987, 0.015376309864223003, 0.00683391559869051, 0.005125436931848526, 0.0017084788996726274, 0.8035765290260315, 0.04591865837574005, 0.07461781799793243, 0.01721949689090252, 0.005739832296967506, 0.005739832296967506, 0.011479664593935013, 0.022959329187870026, 0.005739832296967506, 0.005739832296967506, 0.6414129734039307, 0.0727042406797409, 0.06947294622659683, 0.11955808848142624, 0.017772149294614792, 0.017772149294614792, 0.01130954921245575, 0.0016156499041244388, 0.006462599616497755, 0.01292519923299551, 0.021003447473049164, 0.0032312998082488775, 0.0032312998082488775, 0.0016156499041244388, 0.9074997901916504, 0.047763146460056305, 0.023881573230028152, 0.20206446945667267, 0.4005206227302551, 0.10103223472833633, 0.003608294064179063, 0.04690781980752945, 0.08659905195236206, 0.12629029154777527, 0.007216588128358126, 0.003608294064179063, 0.003608294064179063, 0.003608294064179063, 0.007216588128358126, 0.007216588128358126, 0.003608294064179063, 0.18551139533519745, 0.5565341711044312, 0.18551139533519745, 0.9269380569458008, 0.2929055392742157, 0.14645276963710785, 0.14645276963710785, 0.14645276963710785, 0.14645276963710785, 0.7754151225090027, 0.008011548779904842, 0.0020028871949762106, 0.25636956095695496, 0.49871891736984253, 0.21631181240081787, 0.01402021013200283, 0.27577197551727295, 0.31516796350479126, 0.38082796335220337, 0.006565999239683151, 0.013131998479366302, 0.31838667392730713, 0.19103200733661652, 0.11049890518188477, 0.09364313632249832, 0.05805874615907669, 0.09926172345876694, 0.07678737491369247, 0.007491451222449541, 0.01123717613518238, 0.00561858806759119, 0.0037457256112247705, 0.013110038824379444, 0.0037457256112247705, 0.007491451222449541, 0.0018728628056123853, 0.26511022448539734, 0.21208816766738892, 0.5302204489707947, 0.323604017496109, 0.323604017496109, 0.1618020087480545, 0.1618020087480545, 0.5811367034912109, 0.10698751360177994, 0.09482984244823456, 0.10941904783248901, 0.01458920631557703, 0.02917841263115406, 0.01702074147760868, 0.009726137854158878, 0.009726137854158878, 0.007294603157788515, 0.01458920631557703, 0.004863068927079439, 0.0024315344635397196, 0.30576223134994507, 0.2539799213409424, 0.27370649576187134, 0.02712406776845455, 0.03945318982005119, 0.034521542489528656, 0.02712406776845455, 0.004931648727506399, 0.004931648727506399, 0.004931648727506399, 0.007397473324090242, 0.007397473324090242, 0.0024658243637531996, 0.0024658243637531996, 0.41342243552207947, 0.1753425896167755, 0.21234148740768433, 0.06756319850683212, 0.030564304441213608, 0.022521065548062325, 0.03860754147171974, 0.011260532774031162, 0.004825942683964968, 0.0064345900900661945, 0.004825942683964968, 0.0032172950450330973, 0.0032172950450330973, 0.0016086475225165486, 0.0032172950450330973, 0.5190901756286621, 0.20610933005809784, 0.05190901458263397, 0.07481005042791367, 0.02442777156829834, 0.025954507291316986, 0.0396951287984848, 0.007633678615093231, 0.01221388578414917, 0.01221388578414917, 0.010687150061130524, 0.0030534714460372925, 0.004580207169055939, 0.004580207169055939, 0.0015267357230186462, 0.6679258942604065, 0.017126305028796196, 0.10275782644748688, 0.11988413333892822, 0.06850522011518478, 0.9472803473472595, 0.5080937743186951, 0.12702344357967377, 0.25404688715934753, 0.9782849550247192, 0.033312197774648666, 0.43305855989456177, 0.033312197774648666, 0.033312197774648666, 0.3331219553947449, 0.0999365895986557, 0.278232604265213, 0.278232604265213, 0.28666388988494873, 0.12646937370300293, 0.025293873623013496, 0.3738751709461212, 0.1940881907939911, 0.13892628252506256, 0.04698977246880531, 0.05311887338757515, 0.09806561470031738, 0.028602471575140953, 0.024516403675079346, 0.01021516788750887, 0.006129100918769836, 0.006129100918769836, 0.01021516788750887, 0.00204303371720016, 0.006129100918769836, 0.26432037353515625, 0.27028247714042664, 0.1609770655632019, 0.009936856105923653, 0.055646397173404694, 0.07750748097896576, 0.09936856478452682, 0.029810568317770958, 0.011924227699637413, 0.0019873713608831167, 0.0019873713608831167, 0.009936856105923653, 0.0019873713608831167, 0.0019873713608831167, 0.0019873713608831167, 0.5472468733787537, 0.18241561949253082, 0.18241561949253082, 0.4718308746814728, 0.2701824903488159, 0.07775983214378357, 0.0303131565451622, 0.04481075331568718, 0.027677230536937714, 0.01845148578286171, 0.028995193541049957, 0.010543706826865673, 0.00658981641754508, 0.0013179633533582091, 0.009225742891430855, 0.0013179633533582091, 0.0026359267067164183, 0.4559344947338104, 0.15197816491127014, 0.3039563298225403, 0.3040884733200073, 0.24327078461647034, 0.12163539230823517, 0.060817696154117584, 0.060817696154117584, 0.18245308101177216, 0.8586013913154602, 0.03434405475854874, 0.04808167740702629, 0.04121286794543266, 0.919987678527832, 0.03833281993865967, 0.9264773726463318, 0.026470782235264778, 0.3221640884876251, 0.09475414454936981, 0.056852489709854126, 0.037901658564805984, 0.15160663425922394, 0.1326557993888855, 0.15160663425922394, 0.018950829282402992, 0.3692522346973419, 0.24616815149784088, 0.12308407574892044, 0.12308407574892044, 0.14291898906230927, 0.4287569522857666, 0.28583797812461853, 0.9098578095436096, 0.08760785311460495, 0.043803926557302475, 0.21901962161064148, 0.13141177594661713, 0.3942353427410126, 0.043803926557302475, 0.5008825659751892, 0.1252206414937973, 0.2504412829875946, 0.18528588116168976, 0.3705717623233795, 0.18528588116168976, 0.18528588116168976, 0.35219645500183105, 0.4402455687522888, 0.17609822750091553, 0.14103585481643677, 0.32236766815185547, 0.020147979259490967, 0.14103585481643677, 0.0604439415037632, 0.040295958518981934, 0.20147980749607086, 0.040295958518981934, 0.020147979259490967, 0.38753193616867065, 0.5167092084884644, 0.9535250663757324, 0.6745521426200867, 0.06132292374968529, 0.06132292374968529, 0.12264584749937057, 0.350506991147995, 0.5257604718208313, 0.1797926425933838, 0.7191705703735352, 0.30024635791778564, 0.6004927158355713, 0.6691835522651672, 0.26767340302467346, 0.11832799762487411, 0.7099680304527283, 0.10042741894721985, 0.2008548378944397, 0.10042741894721985, 0.30128225684165955, 0.2008548378944397, 0.2622210383415222, 0.1311105191707611, 0.5244420766830444, 0.3840329945087433, 0.19201649725437164, 0.19201649725437164, 0.25412964820861816, 0.2904338836669922, 0.03630423545837402, 0.36304235458374023, 0.19408857822418213, 0.38817715644836426, 0.19408857822418213, 0.19408857822418213, 0.5789231657981873, 0.09262770414352417, 0.18525540828704834, 0.06947077810764313, 0.046313852071762085, 0.5393196940422058, 0.13482992351055145, 0.2696598470211029, 0.33030515909194946, 0.16515257954597473, 0.16515257954597473, 0.16515257954597473, 0.21180935204029083, 0.5295233726501465, 0.21180935204029083, 0.8571188449859619, 0.16403944790363312, 0.16403944790363312, 0.10935962945222855, 0.05467981472611427, 0.05467981472611427, 0.4374385178089142, 0.05467981472611427, 0.4429680407047272, 0.08053964376449585, 0.12080946564674377, 0.1610792875289917, 0.040269821882247925, 0.040269821882247925, 0.08053964376449585, 0.3982957601547241, 0.3982957601547241, 0.06010632589459419, 0.2855050563812256, 0.6311163902282715, 0.015026581473648548, 0.08271300792694092, 0.827130138874054, 0.04135650396347046, 0.19607722759246826, 0.15201494097709656, 0.41859185695648193, 0.014320247806608677, 0.004406230058521032, 0.07049968093633652, 0.09142927080392838, 0.01762492023408413, 0.020929591730237007, 0.0033046724274754524, 0.007710902485996485, 0.001101557514630258, 0.002203115029260516, 0.11186149716377258, 0.8669265508651733, 0.7411897778511047, 0.2117685079574585, 0.9671093225479126, 0.01689274050295353, 0.004223185125738382, 0.004223185125738382, 0.41952139139175415, 0.21699382364749908, 0.06590183079242706, 0.09965642541646957, 0.051435574889183044, 0.06429446488618851, 0.0032147234305739403, 0.024110425263643265, 0.0064294468611478806, 0.011251531541347504, 0.017680978402495384, 0.014466254971921444, 0.00482208514586091, 0.1330302357673645, 0.266060471534729, 0.532120943069458, 0.15234291553497314, 0.43163827061653137, 0.21581913530826569, 0.012695243582129478, 0.038085728883743286, 0.0888667032122612, 0.012695243582129478, 0.025390487164258957, 0.2199719250202179, 0.20839446783065796, 0.1505071073770523, 0.057887349277734756, 0.023154940456151962, 0.08104228973388672, 0.11577469855546951, 0.011577470228075981, 0.011577470228075981, 0.046309880912303925, 0.023154940456151962, 0.011577470228075981, 0.034732408821582794, 0.519723653793335, 0.15734753012657166, 0.08582592755556107, 0.09536214172840118, 0.023840535432100296, 0.019072428345680237, 0.019072428345680237, 0.014304321259260178, 0.004768107086420059, 0.033376749604940414, 0.014304321259260178, 0.004768107086420059, 0.004768107086420059, 0.32676705718040466, 0.27271535992622375, 0.14004303514957428, 0.051594801247119904, 0.07370685786008835, 0.027025846764445305, 0.02948274277150631, 0.031939636915922165, 0.012284476310014725, 0.007370685692876577, 0.014741371385753155, 0.004913790617138147, 0.004913790617138147, 0.0024568953085690737, 0.4359423518180847, 0.1265639066696167, 0.09843859076499939, 0.2531278133392334, 0.014062656089663506, 0.05625062435865402, 0.9433572292327881, 0.4880959391593933, 0.15538634359836578, 0.1261371523141861, 0.10968447476625443, 0.021936895325779915, 0.021936895325779915, 0.023764969781041145, 0.016452671959996223, 0.010968447662889957, 0.007312298286706209, 0.0018280745716765523, 0.0036561491433531046, 0.010968447662889957, 0.0018280745716765523, 0.35227492451667786, 0.2791101336479187, 0.31975722312927246, 0.035227492451667786, 0.0054196142591536045, 0.7963671684265137, 0.3265421688556671, 0.16327108442783356, 0.3265421688556671, 0.33273324370384216, 0.2018909901380539, 0.19907718896865845, 0.0499451570212841, 0.0696418434381485, 0.040800269693136215, 0.052055519074201584, 0.016179418191313744, 0.006331076379865408, 0.006331076379865408, 0.005627623293548822, 0.004220717586576939, 0.010551794432103634, 0.0014069058233872056, 0.002813811646774411, 0.27803099155426025, 0.2707143723964691, 0.07682435214519501, 0.03658302500844002, 0.047557931393384933, 0.06950774788856506, 0.1426737904548645, 0.032924722880125046, 0.007316604722291231, 0.007316604722291231, 0.007316604722291231, 0.01097490731626749, 0.014633209444582462, 0.0036583023611456156, 0.1984390914440155, 0.037797924131155014, 0.0661463662981987, 0.6614636778831482, 0.009449481032788754, 0.018898962065577507, 0.6085867285728455, 0.12812352180480957, 0.12812352180480957, 0.03203088045120239, 0.03203088045120239, 0.03203088045120239, 0.29613375663757324, 0.35985875129699707, 0.20616908371448517, 0.04873087257146835, 0.026239700615406036, 0.011245585978031158, 0.007497057318687439, 0.007497057318687439, 0.014994114637374878, 0.022491171956062317, 0.0037485286593437195, 0.270646333694458, 0.4776111841201782, 0.08915408700704575, 0.025472596287727356, 0.05094519257545471, 0.017512410879135132, 0.022288521751761436, 0.011144260875880718, 0.006368149071931839, 0.004776111803948879, 0.0031840745359659195, 0.012736298143863678, 0.009552223607897758, 0.8686635494232178, 0.01772782765328884, 0.03545565530657768, 0.03545565530657768, 0.01772782765328884, 0.19013389945030212, 0.7605355978012085, 0.3968772292137146, 0.13229241967201233, 0.26458483934402466, 0.7666053771972656, 0.1533210724592209, 0.1698392927646637, 0.2830654978752136, 0.10190357267856598, 0.011322619393467903, 0.12454881519079208, 0.03396785631775856, 0.04529047757387161, 0.1698392927646637, 0.011322619393467903, 0.011322619393467903, 0.022645238786935806, 0.011322619393467903, 0.011322619393467903, 0.39511892199516296, 0.09877973049879074, 0.09877973049879074, 0.19755946099758148, 0.09877973049879074, 0.4461699426174164, 0.22438956797122955, 0.1487233191728592, 0.044356077909469604, 0.013045905157923698, 0.033919353038072586, 0.028700990602374077, 0.023482630029320717, 0.018264267593622208, 0.005218361970037222, 0.00782754272222519, 0.002609180985018611, 0.002609180985018611, 0.4972059428691864, 0.23658870160579681, 0.0868724137544632, 0.04620872810482979, 0.03696698322892189, 0.020331840962171555, 0.03511863574385643, 0.014786793850362301, 0.009241745807230473, 0.0036966984625905752, 0.0036966984625905752, 0.0036966984625905752, 0.0036966984625905752, 0.0018483492312952876, 0.4325079321861267, 0.10812698304653168, 0.32438093423843384, 0.10812698304653168, 0.20361016690731049, 0.763538122177124, 0.26812905073165894, 0.30105718970298767, 0.0940803736448288, 0.02587210200726986, 0.06585625559091568, 0.05174420401453972, 0.12700849771499634, 0.03998415544629097, 0.002352009294554591, 0.01646406389772892, 0.009408037178218365, 0.16589652001857758, 0.4976895749568939, 0.16589652001857758, 0.16589652001857758, 0.6051073670387268, 0.11965399980545044, 0.054698970168828964, 0.039314884692430496, 0.07008305937051773, 0.023930799216032028, 0.030768170952796936, 0.01709342934191227, 0.0068373712711036205, 0.011965399608016014, 0.0034186856355518103, 0.008546714670956135, 0.0068373712711036205, 0.0017093428177759051, 0.7235037684440613, 0.038759130984544754, 0.04198905825614929, 0.11627739667892456, 0.012919710017740726, 0.022609492763876915, 0.009689782746136189, 0.012919710017740726, 0.009689782746136189, 0.0032299275044351816, 0.006459855008870363, 0.0032299275044351816, 0.578357994556427, 0.06777632981538773, 0.10618291795253754, 0.10317063331604004, 0.05045571178197861, 0.032382022589445114, 0.01581447757780552, 0.002259210916236043, 0.014308336190879345, 0.010542985051870346, 0.007530703209340572, 0.0007530703442171216, 0.004518421832472086, 0.0015061406884342432, 0.0030122813768684864, 0.5839610695838928, 0.1291949301958084, 0.04651017487049103, 0.08785255253314972, 0.025838986039161682, 0.020671188831329346, 0.01550339162349701, 0.005167797207832336, 0.036174580454826355, 0.010335594415664673, 0.010335594415664673, 0.010335594415664673, 0.010335594415664673, 0.2771259844303131, 0.09237533062696457, 0.09237533062696457, 0.18475066125392914, 0.09237533062696457, 0.18475066125392914, 0.35689374804496765, 0.1019696444272995, 0.3059089481830597, 0.1019696444272995, 0.1019696444272995, 0.41126495599746704, 0.140971839427948, 0.1264086365699768, 0.13980677723884583, 0.057087767869234085, 0.05067995935678482, 0.027961356565356255, 0.010485508479177952, 0.00990298017859459, 0.006407810840755701, 0.005242754239588976, 0.003495169570669532, 0.007572867441922426, 0.001747584785334766, 0.0005825282423757017, 0.5841665267944336, 0.13661958277225494, 0.0659542828798294, 0.023555099964141846, 0.04711019992828369, 0.014133060351014137, 0.018844081088900566, 0.05182122066617012, 0.009422040544450283, 0.014133060351014137, 0.0047110202722251415, 0.009422040544450283, 0.0047110202722251415, 0.014133060351014137, 0.0047110202722251415, 0.4892728924751282, 0.20968838036060333, 0.04659741744399071, 0.02912338636815548, 0.04659741744399071, 0.02912338636815548, 0.07572080194950104, 0.011649354360997677, 0.017474031075835228, 0.04077273979783058, 0.5398803353309631, 0.043190427124500275, 0.010797606781125069, 0.1727617084980011, 0.08638085424900055, 0.05398803576827049, 0.08638085424900055, 0.8199684023857117, 0.006612648256123066, 0.0727391317486763, 0.06612648069858551, 0.006612648256123066, 0.013225296512246132, 0.013225296512246132, 0.48072463274002075, 0.288434773683548, 0.09614492952823639, 0.9197525382041931, 0.027051545679569244, 0.027051545679569244, 0.5138044357299805, 0.17903700470924377, 0.10699845105409622, 0.06250404566526413, 0.022247202694416046, 0.04237562417984009, 0.036019280552864075, 0.007415734231472015, 0.006356343626976013, 0.010593906044960022, 0.004237562417984009, 0.0021187812089920044, 0.005296953022480011, 0.0010593906044960022, 0.5847681164741516, 0.011695362627506256, 0.14034435153007507, 0.15203972160816193, 0.1052582636475563, 0.8485142588615417, 0.12121632695198059, 0.49287837743759155, 0.13215981423854828, 0.17724964022636414, 0.08396035432815552, 0.029541606083512306, 0.04198017716407776, 0.017103035002946854, 0.0015548213850706816, 0.006219285540282726, 0.004664463922381401, 0.004664463922381401, 0.003109642770141363, 0.004664463922381401, 0.003109642770141363, 0.5623008012771606, 0.15013574063777924, 0.13030648231506348, 0.08073336631059647, 0.018412873148918152, 0.019829249009490013, 0.014163748361170292, 0.0014163749292492867, 0.00424912478774786, 0.00424912478774786, 0.005665499716997147, 0.0028327498584985733, 0.0028327498584985733, 0.0014163749292492867, 0.0014163749292492867, 0.5357460975646973, 0.09062371402978897, 0.16258960962295532, 0.10128533095121384, 0.037315648049116135, 0.021323226392269135, 0.01599241979420185, 0.007996209897100925, 0.005330806598067284, 0.005330806598067284, 0.007996209897100925, 0.002665403299033642, 0.005330806598067284, 0.002665403299033642, 0.4036397933959961, 0.1938881129026413, 0.1145702451467514, 0.037015002220869064, 0.052878573536872864, 0.052878573536872864, 0.09694405645132065, 0.008813096210360527, 0.024676669389009476, 0.0017626191256567836, 0.007050476502627134, 0.0017626191256567836, 0.003525238251313567, 0.0017626191256567836, 0.638738751411438, 0.25549548864364624, 0.7702072858810425, 0.056356631219387054, 0.15028434991836548, 0.018785543739795685, 0.9125743508338928, 0.0553075335919857, 0.013826883397996426, 0.8236034512519836, 0.13726724684238434, 0.2869892716407776, 0.46602845191955566, 0.021063432097434998, 0.16324159502983093, 0.0026329290121793747, 0.0026329290121793747, 0.013164645060896873, 0.010531716048717499, 0.005265858024358749, 0.02896221913397312, 0.27342158555984497, 0.05592714622616768, 0.1802096962928772, 0.4598454236984253, 0.0062141274102032185, 0.012428254820406437, 0.6143411993980408, 0.002437861869111657, 0.33642494678497314, 0.002437861869111657, 0.004875723738223314, 0.024378620088100433, 0.007313585840165615, 0.002437861869111657, 0.505003035068512, 0.47188809514045715, 0.008278738707304, 0.008278738707304, 0.9082246422767639, 0.08256588131189346, 0.87354576587677, 0.4057908356189728, 0.2705272138118744, 0.045087870210409164, 0.15029290318489075, 0.01502928975969553, 0.01502928975969553, 0.09017574042081833, 0.36045587062835693, 0.19194555282592773, 0.09708873927593231, 0.04687042534351349, 0.12945164740085602, 0.05356619879603386, 0.054682161659002304, 0.010043662041425705, 0.01450751256197691, 0.01115962490439415, 0.003347887424752116, 0.023435212671756744, 0.0022319250274449587, 0.0011159625137224793, 0.0011159625137224793, 0.2306196689605713, 0.6259676814079285, 0.0988370031118393, 0.9358587861061096, 0.9574558734893799, 0.0017244850751012564, 0.9657116532325745, 0.005173455458134413, 0.008622425608336926, 0.0017244850751012564, 0.005173455458134413, 0.0068979403004050255, 0.0034489701502025127, 0.7474382519721985, 0.1019233986735344, 0.1019233986735344, 0.1757078468799591, 0.38985177874565125, 0.027454350143671036, 0.07138130813837051, 0.06589043885469437, 0.15374436974525452, 0.05490870028734207, 0.005490870214998722, 0.005490870214998722, 0.005490870214998722, 0.03843609243631363, 0.010981740429997444, 0.26262134313583374, 0.2708282768726349, 0.1805521696805954, 0.012310375459492207, 0.1066899225115776, 0.020517293363809586, 0.024620750918984413, 0.09437954425811768, 0.008206916972994804, 0.012310375459492207, 0.008206916972994804, 0.004103458486497402, 0.2400175929069519, 0.12500916421413422, 0.140010267496109, 0.010000733658671379, 0.20501503348350525, 0.040002934634685516, 0.13500989973545074, 0.050003666430711746, 0.015001099556684494, 0.0050003668293356895, 0.015001099556684494, 0.015001099556684494, 0.12202269583940506, 0.8053498268127441, 0.04880908131599426, 0.15141622722148895, 0.378540575504303, 0.378540575504303, 0.6558883786201477, 0.2007821649312973, 0.03346369415521622, 0.013385477475821972, 0.006692738737910986, 0.04015643149614334, 0.013385477475821972, 0.013385477475821972, 0.013385477475821972, 0.013385477475821972, 0.43948444724082947, 0.4043256938457489, 0.035158757120370865, 0.017579378560185432, 0.08789689093828201, 0.5580934882164001, 0.13952337205410004, 0.2790467441082001, 0.11929124593734741, 0.47716498374938965, 0.23858249187469482, 0.11929124593734741, 0.8238824009895325, 0.1647764891386032, 0.4620738923549652, 0.1540246307849884, 0.1540246307849884, 0.05134154483675957, 0.10268308967351913, 0.4964613914489746, 0.3309742510318756, 0.5597023367881775, 0.07749724388122559, 0.07749724388122559, 0.13777287304401398, 0.05166482925415039, 0.034443218261003494, 0.025832414627075195, 0.008610804565250874, 0.008610804565250874, 0.017221609130501747, 0.047494076192379, 0.047494076192379, 0.1424822211265564, 0.2374703735113144, 0.047494076192379, 0.189976304769516, 0.189976304769516, 0.047494076192379, 0.047494076192379, 0.9407415390014648, 0.009502439759671688, 0.019004879519343376, 0.019004879519343376, 0.9343723654747009, 0.35670769214630127, 0.08917692303657532, 0.35670769214630127, 0.17835384607315063, 0.11835990846157074, 0.5917995572090149, 0.23671981692314148, 0.4328993260860443, 0.2086261808872223, 0.10257454216480255, 0.03824813291430473, 0.0904046818614006, 0.0452023409307003, 0.0452023409307003, 0.00695420615375042, 0.00695420615375042, 0.00695420615375042, 0.005215654615312815, 0.001738551538437605, 0.00695420615375042, 0.001738551538437605, 0.001738551538437605, 0.189836323261261, 0.189836323261261, 0.189836323261261, 0.379672646522522, 0.09623387455940247, 0.19246774911880493, 0.5774032473564148, 0.13195398449897766, 0.2731911540031433, 0.3282272219657898, 0.051057569682598114, 0.06896087527275085, 0.082222580909729, 0.03646969050168991, 0.002652341267094016, 0.003978511784225702, 0.009283194318413734, 0.007293938659131527, 0.003315426642075181, 0.000663085316773504, 0.7361849546432495, 0.18404623866081238, 0.28962242603302, 0.28962242603302, 0.14481121301651, 0.4002796411514282, 0.4803355634212494, 0.40266579389572144, 0.12155948579311371, 0.15194936096668243, 0.05318227410316467, 0.030389871448278427, 0.060779742896556854, 0.1291569471359253, 0.007597467862069607, 0.015194935724139214, 0.007597467862069607, 0.007597467862069607, 0.007597467862069607, 0.007597467862069607, 0.7748726606369019, 0.1549745351076126, 0.521564781665802, 0.4475589990615845, 0.003524086670950055, 0.00704817334190011, 0.010572259314358234, 0.8960129618644714, 0.01280018500983715, 0.0768011063337326, 0.01280018500983715, 0.8644571900367737, 0.03601904958486557, 0.07203809916973114, 0.7958562970161438, 0.09948203712701797, 0.35017508268356323, 0.25236082077026367, 0.1975848227739334, 0.05281970649957657, 0.025431711226701736, 0.03325685113668442, 0.04499456658959389, 0.00782514177262783, 0.003912570886313915, 0.013693997636437416, 0.005868856329470873, 0.003912570886313915, 0.0019562854431569576, 0.0019562854431569576, 0.20208145678043365, 0.46553581953048706, 0.1062798798084259, 0.0553852878510952, 0.016465896740555763, 0.016465896740555763, 0.026944193989038467, 0.07334808260202408, 0.011975198052823544, 0.004490699153393507, 0.004490699153393507, 0.005987599026411772, 0.010478298179805279, 0.19922982156276703, 0.37632298469543457, 0.08854658156633377, 0.044273290783166885, 0.06640993803739548, 0.044273290783166885, 0.044273290783166885, 0.022136645391583443, 0.08854658156633377, 0.19298458099365234, 0.19298458099365234, 0.19298458099365234, 0.19298458099365234, 0.6229801177978516, 0.1557450294494629, 0.1557450294494629, 0.5774345993995667, 0.2887172996997833, 0.8233683109283447, 0.15101417899131775, 0.7550708651542664, 0.5416980981826782, 0.125751331448555, 0.06771226227283478, 0.10318058729171753, 0.038692720234394073, 0.03224393352866173, 0.02257075347006321, 0.009673180058598518, 0.006448786705732346, 0.016121966764330864, 0.006448786705732346, 0.009673180058598518, 0.009673180058598518, 0.009673180058598518, 0.9357458353042603, 0.1936020851135254, 0.7467508912086487, 0.027657439932227135, 0.5488663911819458, 0.14618049561977386, 0.14618049561977386, 0.06343682110309601, 0.019306859001517296, 0.013790613040328026, 0.01654873602092266, 0.005516245029866695, 0.00827436801046133, 0.005516245029866695, 0.01654873602092266, 0.005516245029866695, 0.0027581225149333477, 0.0027581225149333477, 0.6936312913894653, 0.08670391142368317, 0.17340782284736633, 0.12131970375776291, 0.12131970375776291, 0.48527881503105164, 0.12131970375776291, 0.40352296829223633, 0.2690153121948242, 0.2690153121948242, 0.8692296743392944, 0.026745527982711792, 0.06686381995677948, 0.013372763991355896, 0.013372763991355896, 0.14383593201637268, 0.14383593201637268, 0.48904216289520264, 0.019178124144673347, 0.038356248289346695, 0.038356248289346695, 0.07671249657869339, 0.019178124144673347, 0.019178124144673347, 0.009589062072336674, 0.04218912124633789, 0.1898510456085205, 0.44298577308654785, 0.04218912124633789, 0.10547280311584473, 0.14766192436218262, 0.5454251170158386, 0.07791787385940552, 0.07791787385940552, 0.15583574771881104, 0.07791787385940552, 0.7209523320198059, 0.07177622616291046, 0.06699114292860031, 0.05423092469573021, 0.009570163674652576, 0.011165190488100052, 0.023925408720970154, 0.0031900545582175255, 0.007975135929882526, 0.009570163674652576, 0.009570163674652576, 0.0015950272791087627, 0.006380109116435051, 0.0031900545582175255, 0.0015950272791087627, 0.578923761844635, 0.3666516840457916, 0.019297458231449127, 0.3754916191101074, 0.1877458095550537, 0.1877458095550537, 0.1877458095550537, 0.1334921419620514, 0.1334921419620514, 0.6674606800079346, 0.24749505519866943, 0.1455853283405304, 0.354864239692688, 0.04003596678376198, 0.0818917453289032, 0.05277468264102936, 0.03093688189983368, 0.01637834869325161, 0.01455853320658207, 0.0018198166508227587, 0.0018198166508227587, 0.0036396333016455173, 0.005459449719637632, 0.0018198166508227587, 0.0018198166508227587, 0.5774022340774536, 0.06485314667224884, 0.10250981152057648, 0.06903722137212753, 0.0585770346224308, 0.04602481424808502, 0.016736295074224472, 0.010460184887051582, 0.0292885173112154, 0.002092036884278059, 0.006276111118495464, 0.002092036884278059, 0.0146442586556077, 0.002092036884278059, 0.6449913382530212, 0.0716657042503357, 0.0716657042503357, 0.1433314085006714, 0.9443894624710083, 0.0325651541352272, 0.8951835632324219, 0.7419535517692566, 0.18548838794231415, 0.5382839441299438, 0.053828392177820206, 0.053828392177820206, 0.21531356871128082, 0.053828392177820206, 0.35201144218444824, 0.5280171632766724, 0.2380518913269043, 0.19713672995567322, 0.13390418887138367, 0.07811077684164047, 0.1636606752872467, 0.06323253363370895, 0.07439121603965759, 0.0037195608019828796, 0.018597804009914398, 0.007439121603965759, 0.007439121603965759, 0.007439121603965759, 0.0037195608019828796, 0.7524000406265259, 0.18810001015663147, 0.20143891870975494, 0.2517986595630646, 0.050359729677438736, 0.1510791927576065, 0.1510791927576065, 0.10071945935487747, 0.050359729677438736, 0.050359729677438736, 0.31957367062568665, 0.15978683531284332, 0.15978683531284332, 0.31957367062568665, 0.050158336758613586, 0.8526917695999146, 0.10031667351722717, 0.8237260580062866, 0.12672708928585052, 0.0380181260406971, 0.8987787365913391, 0.4449373483657837, 0.09672550857067108, 0.03869020193815231, 0.21279612183570862, 0.03869020193815231, 0.03869020193815231, 0.03869020193815231, 0.09672550857067108, 0.10062702745199203, 0.4192792773246765, 0.11739819496870041, 0.2515675723552704, 0.08385585248470306, 0.19601035118103027, 0.19601035118103027, 0.39202070236206055, 0.06729014962911606, 0.8243043422698975, 0.08411268889904022, 0.016822537407279015, 0.5412344336509705, 0.0746530294418335, 0.05598977208137512, 0.11197954416275024, 0.13064280152320862, 0.03732651472091675, 0.018663257360458374, 0.9107914566993713, 0.45613542199134827, 0.5050070881843567, 0.005430183373391628, 0.021720733493566513, 0.005430183373391628, 0.6076251268386841, 0.28979045152664185, 0.07478462904691696, 0.00934807863086462, 0.6534808874130249, 0.2987340986728668, 0.018670881167054176, 0.018670881167054176, 0.6250959038734436, 0.1562739759683609, 0.1562739759683609, 0.8200141787528992, 0.2853845953941345, 0.21106569468975067, 0.17539262771606445, 0.05648237094283104, 0.15458332002162933, 0.050536856055259705, 0.017836537212133408, 0.005945512559264898, 0.020809294655919075, 0.005945512559264898, 0.005945512559264898, 0.002972756279632449, 0.002972756279632449, 0.002972756279632449, 0.002972756279632449, 0.510750412940979, 0.18334631621837616, 0.27501946687698364, 0.026192329823970795, 0.7468785643577576, 0.1867196410894394, 0.9526011943817139, 0.3474925458431244, 0.1737462729215622, 0.3474925458431244, 0.1737462729215622, 0.1852036565542221, 0.5556110143661499, 0.1852036565542221, 0.246518075466156, 0.6471099853515625, 0.0308147594332695, 0.0308147594332695, 0.5752169489860535, 0.0230086762458086, 0.20707809925079346, 0.0230086762458086, 0.0460173524916172, 0.11504338681697845, 0.15934497117996216, 0.7967249155044556, 0.6363962292671204, 0.3181981146335602, 0.8165032863616943, 0.40438976883888245, 0.20814178884029388, 0.10704434663057327, 0.053522173315286636, 0.07136289775371552, 0.029734540730714798, 0.06145138666033745, 0.013876119628548622, 0.015858422964811325, 0.015858422964811325, 0.0019823028706014156, 0.007929211482405663, 0.003964605741202831, 0.003964605741202831, 0.0019823028706014156, 0.11938512325286865, 0.7163107395172119, 0.11938512325286865, 0.17965182662010193, 0.35930365324020386, 0.35930365324020386, 0.5347491502761841, 0.012436026707291603, 0.4476969540119171, 0.3747425079345703, 0.18737125396728516, 0.3747425079345703, 0.2573586702346802, 0.15756653249263763, 0.1549404263496399, 0.04989606887102127, 0.10241824388504028, 0.14968819916248322, 0.04726995900273323, 0.010504434816539288, 0.03676552325487137, 0.002626108704134822, 0.015756653621792793, 0.010504434816539288, 0.002626108704134822, 0.28036588430404663, 0.14018294215202332, 0.28036588430404663, 0.28036588430404663, 0.1388605684041977, 0.14954215288162231, 0.18158690631389618, 0.010681582614779472, 0.010681582614779472, 0.06408949196338654, 0.3311290442943573, 0.021363165229558945, 0.05340791121125221, 0.03204474598169327, 0.9373262524604797, 0.03749305009841919, 0.1400383710861206, 0.2800767421722412, 0.2800767421722412, 0.1400383710861206, 0.26654836535453796, 0.26654836535453796, 0.08884945511817932, 0.26654836535453796, 0.7054324150085449, 0.14108648896217346, 0.4244588017463684, 0.0909554585814476, 0.2122294008731842, 0.0909554585814476, 0.03031848557293415, 0.03031848557293415, 0.03031848557293415, 0.0909554585814476, 0.6070510149002075, 0.10117516666650772, 0.20235033333301544, 0.3817984461784363, 0.19089922308921814, 0.3817984461784363, 0.32847604155540466, 0.21411770582199097, 0.1508556604385376, 0.06082889437675476, 0.043796803802251816, 0.04136364907026291, 0.08516044914722443, 0.038930494338274, 0.0097326235845685, 0.007299467455595732, 0.012165779247879982, 0.002433155896142125, 0.002433155896142125, 0.6777968406677246, 0.27111873030662537, 0.18944279849529266, 0.18944279849529266, 0.5683283805847168, 0.3285275101661682, 0.28846317529678345, 0.04807719588279724, 0.032051462680101395, 0.08012866228818893, 0.016025731340050697, 0.09615439176559448, 0.008012865670025349, 0.02403859794139862, 0.016025731340050697, 0.04807719588279724, 0.4465693235397339, 0.11164233088493347, 0.3349269926548004, 0.13818447291851044, 0.2763689458370209, 0.2763689458370209, 0.2763689458370209, 0.16824041306972504, 0.46266111731529236, 0.12618030607700348, 0.04206010326743126, 0.04206010326743126, 0.12618030607700348, 0.04206010326743126, 0.3174460828304291, 0.4040222764015198, 0.028858734294772148, 0.028858734294772148, 0.028858734294772148, 0.028858734294772148, 0.028858734294772148, 0.11543493717908859, 0.9102232456207275, 0.15231449902057648, 0.30462899804115295, 0.15231449902057648, 0.30462899804115295, 0.505937933921814, 0.337291955947876, 0.168645977973938, 0.11616694927215576, 0.23233389854431152, 0.46466779708862305, 0.11616694927215576, 0.40169963240623474, 0.13389988243579865, 0.022316645830869675, 0.04463329166173935, 0.06694994121789932, 0.06694994121789932, 0.022316645830869675, 0.11158323287963867, 0.022316645830869675, 0.06694994121789932, 0.04463329166173935, 0.12409358471632004, 0.18614037334918976, 0.24818716943264008, 0.06204679235816002, 0.06204679235816002, 0.06204679235816002, 0.18614037334918976, 0.06204679235816002, 0.07551857084035873, 0.30207428336143494, 0.4531114101409912, 0.07551857084035873, 0.4296908974647522, 0.2148454487323761, 0.10742272436618805, 0.2148454487323761, 0.16032789647579193, 0.8016394972801208, 0.03206557780504227, 0.4066247045993805, 0.27108314633369446, 0.13554157316684723, 0.11095717549324036, 0.840104341506958, 0.01585102453827858, 0.03170204907655716, 0.10705231130123138, 0.6423138976097107, 0.21410462260246277, 0.6307545900344849, 0.31537729501724243, 0.40887418389320374, 0.21027815341949463, 0.2803708612918854, 0.07009271532297134, 0.023364238440990448, 0.8034535050392151, 0.03919285163283348, 0.07838570326566696, 0.01959642581641674, 0.01959642581641674, 0.03919285163283348, 0.8737198114395142, 0.19752764701843262, 0.39505529403686523, 0.19752764701843262, 0.19752764701843262, 0.3357579708099365, 0.16787898540496826, 0.16787898540496826, 0.16787898540496826, 0.6551204323768616, 0.11911280453205109, 0.05955640226602554, 0.05955640226602554, 0.05955640226602554, 0.02977820113301277, 0.20876240730285645, 0.10438120365142822, 0.5219060182571411, 0.3196259140968323, 0.15981295704841614, 0.15981295704841614, 0.15981295704841614, 0.4296054542064667, 0.046866048127412796, 0.484282523393631, 0.023433024063706398, 0.007811008486896753, 0.8926675319671631, 0.06841931492090225, 0.273677259683609, 0.20525795221328735, 0.06841931492090225, 0.273677259683609, 0.18533948063850403, 0.5560184717178345, 0.18533948063850403, 0.040092650800943375, 0.12027795612812042, 0.08018530160188675, 0.040092650800943375, 0.040092650800943375, 0.20046326518058777, 0.4410191774368286, 0.040092650800943375, 0.42245209217071533, 0.14081735908985138, 0.28163471817970276, 0.1703217625617981, 0.4954815208911896, 0.0619351901113987, 0.015483797527849674, 0.015483797527849674, 0.03096759505569935, 0.03096759505569935, 0.015483797527849674, 0.03096759505569935, 0.015483797527849674, 0.0774189829826355, 0.015483797527849674, 0.551707923412323, 0.14518630504608154, 0.11614903807640076, 0.08711177855730057, 0.02903725951910019, 0.02903725951910019, 0.11803219467401505, 0.43758276104927063, 0.21879138052463531, 0.02303067222237587, 0.057576678693294525, 0.04030367732048035, 0.05181901156902313, 0.028788339346647263, 0.0057576680555939674, 0.0028788340277969837, 0.0028788340277969837, 0.011515336111187935, 0.0028788340277969837, 0.0028788340277969837, 0.21665611863136292, 0.21665611863136292, 0.21665611863136292, 0.31000733375549316, 0.05166788771748543, 0.05166788771748543, 0.5166788697242737, 0.3120105564594269, 0.10400352627038956, 0.4160141050815582, 0.5591650605201721, 0.18638835847377777, 0.33061209321022034, 0.33061209321022034, 0.16530604660511017, 0.6179048418998718, 0.3089524209499359, 0.6455267071723938, 0.18443620204925537, 0.09221810102462769, 0.3808428943157196, 0.5331800580024719, 0.07616858184337616, 0.7207641005516052, 0.2402547001838684, 0.8827921748161316, 0.016976771876215935, 0.050930317491292953, 0.016976771876215935, 0.016976771876215935, 0.8379996418952942, 0.11971423029899597, 0.30187729001045227, 0.15093864500522614, 0.4528159499168396, 0.06624608486890793, 0.09274452179670334, 0.17223982512950897, 0.30473199486732483, 0.013249216601252556, 0.2649843394756317, 0.02649843320250511, 0.06624608486890793, 0.818340539932251, 0.14052312076091766, 0.016532132402062416, 0.0027553553227335215, 0.008266066201031208, 0.005510710645467043, 0.005510710645467043, 0.40538880228996277, 0.22122326493263245, 0.20437884330749512, 0.09882054477930069, 0.021336253732442856, 0.0067377639934420586, 0.012352568097412586, 0.0067377639934420586, 0.007860724814236164, 0.004491842817515135, 0.004491842817515135, 0.0011229607043787837, 0.0033688819967210293, 0.0011229607043787837, 0.0011229607043787837, 0.7509883642196655, 0.05940020829439163, 0.03394297510385513, 0.10607179999351501, 0.016971487551927567, 0.008485743775963783, 0.004242871887981892, 0.004242871887981892, 0.01272861659526825, 0.597370982170105, 0.19912366569042206, 0.19912366569042206, 0.8842292428016663, 0.07859815657138824, 0.5683695673942566, 0.1894565224647522, 0.1894565224647522, 0.8835918307304382, 0.08032652735710144, 0.013387755490839481, 0.013387755490839481, 0.42385295033454895, 0.26972460746765137, 0.038532085716724396, 0.038532085716724396, 0.11559626460075378, 0.038532085716724396, 0.038532085716724396, 0.33785247802734375, 0.16892623901367188, 0.16892623901367188, 0.16892623901367188, 0.6712172031402588, 0.12585322558879852, 0.08390215039253235, 0.041951075196266174, 0.041951075196266174, 0.8731247186660767, 0.5558419227600098, 0.37056127190589905, 0.41983503103256226, 0.13994501531124115, 0.13994501531124115, 0.2798900306224823, 0.5167051553726196, 0.17223505675792694, 0.17223505675792694, 0.5031697154045105, 0.20537538826465607, 0.1245088279247284, 0.03465709835290909, 0.029522711411118507, 0.01540315430611372, 0.037224289029836655, 0.010268769226968288, 0.00898517295718193, 0.005134384613484144, 0.011552365496754646, 0.001283596153371036, 0.011552365496754646, 0.001283596153371036, 0.15837879478931427, 0.7391010522842407, 0.20102088153362274, 0.20102088153362274, 0.20102088153362274, 0.20102088153362274, 0.4427456855773926, 0.14758189022541046, 0.14758189022541046, 0.14758189022541046, 0.9414703249931335, 0.6425842046737671, 0.0040414100512862206, 0.020207051187753677, 0.23440179228782654, 0.03637269139289856, 0.008082820102572441, 0.024248460307717323, 0.012124230153858662, 0.016165640205144882, 0.1547236293554306, 0.0773618146777153, 0.0773618146777153, 0.464170902967453, 0.0773618146777153, 0.0773618146777153, 0.20341706275939941, 0.20341706275939941, 0.20341706275939941, 0.20341706275939941, 0.20341706275939941, 0.3921110928058624, 0.1960555464029312, 0.3921110928058624, 0.9473153352737427, 0.9188470244407654, 0.04176577180624008, 0.3587985038757324, 0.14351940155029297, 0.3587985038757324, 0.07175970077514648, 0.45476222038269043, 0.45476222038269043, 0.39405640959739685, 0.21046194434165955, 0.10746993124485016, 0.10523097217082977, 0.049257051199674606, 0.03806226700544357, 0.04030122235417366, 0.01343374140560627, 0.006716870702803135, 0.006716870702803135, 0.002238956745713949, 0.006716870702803135, 0.01343374140560627, 0.002238956745713949, 0.8645662665367126, 0.42388299107551575, 0.14129433035850525, 0.05072104185819626, 0.08695036172866821, 0.10868795216083527, 0.04709811136126518, 0.07608156651258469, 0.014491726644337177, 0.028983453288674355, 0.010868795216083527, 0.0036229316610842943, 0.0036229316610842943, 0.953218400478363, 0.5126505494117737, 0.27286240458488464, 0.09095413237810135, 0.04134278744459152, 0.01653711497783661, 0.024805672466754913, 0.008268557488918304, 0.01653711497783661, 0.01653711497783661, 0.5327031016349792, 0.35513541102409363, 0.5179059505462646, 0.08631765842437744, 0.08631765842437744, 0.17263531684875488, 0.08631765842437744, 0.3352780342102051, 0.19703027606010437, 0.2362186163663864, 0.0478968620300293, 0.052251122891902924, 0.055516816675662994, 0.03483407944440842, 0.013062780722975731, 0.008708519861102104, 0.001088564982637763, 0.004354259930551052, 0.008708519861102104, 0.001088564982637763, 0.0032656951807439327, 0.0032656951807439327, 0.08328689634799957, 0.22209838032722473, 0.19433608651161194, 0.3053852915763855, 0.13881148397922516, 0.05552459508180618, 0.5354433059692383, 0.11640071123838425, 0.11640071123838425, 0.11640071123838425, 0.03492021560668945, 0.011640071868896484, 0.02328014373779297, 0.011640071868896484, 0.02328014373779297, 0.6215088963508606, 0.15537722408771515, 0.6887589693069458, 0.05989208444952965, 0.1197841688990593, 0.029946042224764824, 0.029946042224764824, 0.029946042224764824, 0.029946042224764824, 0.7719514966011047, 0.15439030528068542, 0.3129868507385254, 0.24531401693820953, 0.309603214263916, 0.0033836415968835354, 0.05752190575003624, 0.0033836415968835354, 0.005075462162494659, 0.006767283193767071, 0.03214459493756294, 0.0016918207984417677, 0.013534566387534142, 0.005075462162494659, 0.0033836415968835354, 0.06855927407741547, 0.7508077025413513, 0.038460083305835724, 0.0016721774591132998, 0.02508266270160675, 0.010033064521849155, 0.058526210486888885, 0.03511572629213333, 0.005016532260924578, 0.0016721774591132998, 0.006688709836453199, 0.0016721774591132998, 0.18553651869297028, 0.5511525869369507, 0.027284782379865646, 0.0163708683103323, 0.043655652552843094, 0.005456956569105387, 0.0327417366206646, 0.049112606793642044, 0.06002651900053024, 0.005456956569105387, 0.021827826276421547, 0.461650550365448, 0.15388351678848267, 0.30776703357696533, 0.4108368158340454, 0.2054184079170227, 0.2054184079170227, 0.10270920395851135, 0.9591226577758789, 0.027671214193105698, 0.03689495101571083, 0.5626479983329773, 0.15680354833602905, 0.12913233041763306, 0.046118687838315964, 0.018447475507855415, 0.027671214193105698, 0.42940446734428406, 0.4465806484222412, 0.10305707156658173, 0.3751707971096039, 0.18758539855480194, 0.18758539855480194, 0.5770315527915955, 0.19234386086463928, 0.19234386086463928, 0.2580091953277588, 0.32955795526504517, 0.1951330006122589, 0.03252216801047325, 0.03143809363245964, 0.059623971581459045, 0.04553103446960449, 0.02493366226553917, 0.004336289130151272, 0.002168144565075636, 0.00325221661478281, 0.007588505744934082, 0.001084072282537818, 0.00325221661478281, 0.002168144565075636, 0.9625915288925171, 0.03565153852105141, 0.06740597635507584, 0.2022179365158081, 0.2022179365158081, 0.06740597635507584, 0.06740597635507584, 0.13481195271015167, 0.2022179365158081, 0.371288001537323, 0.1856440007686615, 0.1856440007686615, 0.5491865873336792, 0.18306218087673187, 0.18306218087673187, 0.3646771311759949, 0.3646771311759949, 0.18233856558799744, 0.8043896555900574, 0.04072859138250351, 0.005091073922812939, 0.09163933247327805, 0.005091073922812939, 0.010182147845625877, 0.030546443536877632, 0.010182147845625877, 0.5041711330413818, 0.12604278326034546, 0.2520855665206909, 0.6005819439888, 0.08579742163419724, 0.2573922574520111, 0.15867602825164795, 0.15867602825164795, 0.15867602825164795, 0.3173520565032959, 0.15867602825164795, 0.13648085296154022, 0.5459234118461609, 0.13648085296154022, 0.9548127055168152, 0.02512664906680584, 0.9177346229553223, 0.03164602071046829, 0.5633857250213623, 0.28169286251068115, 0.7065637111663818, 0.9353699088096619, 0.6691557765007019, 0.04888809472322464, 0.030555058270692825, 0.17721934616565704, 0.021388541907072067, 0.009166517294943333, 0.009166517294943333, 0.00305550592020154, 0.00305550592020154, 0.015277529135346413, 0.009166517294943333, 0.00305550592020154, 0.00305550592020154, 0.00305550592020154, 0.9614234566688538, 0.9482296705245972, 0.7335699796676636, 0.07803935557603836, 0.05462754890322685, 0.04292164742946625, 0.027313774451613426, 0.007803935557603836, 0.007803935557603836, 0.011705903336405754, 0.011705903336405754, 0.007803935557603836, 0.011705903336405754, 0.007803935557603836, 0.003901967778801918, 0.5456005334854126, 0.13640013337135315, 0.13640013337135315, 0.13640013337135315, 0.1626347303390503, 0.3252694606781006, 0.1626347303390503, 0.1626347303390503, 0.1626347303390503, 0.35369449853897095, 0.5659111738204956, 0.07073889672756195, 0.3895338475704193, 0.03541216999292374, 0.3895338475704193, 0.03541216999292374, 0.03541216999292374, 0.03541216999292374, 0.9353574514389038, 0.6421822905540466, 0.16054557263851166, 0.16054557263851166, 0.3804912567138672, 0.3804912567138672, 0.1902456283569336, 0.5006479024887085, 0.33376526832580566, 0.16688263416290283, 0.16449595987796783, 0.4934878945350647, 0.16449595987796783, 0.16449595987796783, 0.3245943784713745, 0.21054770052433014, 0.16375932097434998, 0.07895538955926895, 0.08480393141508102, 0.046788375824689865, 0.052636925131082535, 0.014621367678046227, 0.0029242734890431166, 0.005848546978086233, 0.0029242734890431166, 0.0029242734890431166, 0.0029242734890431166, 0.008772820234298706, 0.1752336174249649, 0.2503337264060974, 0.0500667467713356, 0.0250333733856678, 0.0751001164317131, 0.0751001164317131, 0.3504672348499298, 0.0250333733856678, 0.2018919140100479, 0.23964406549930573, 0.2888859808444977, 0.02954515814781189, 0.09191826730966568, 0.06893870234489441, 0.021338170394301414, 0.04267634078860283, 0.004924193024635315, 0.0016413977136835456, 0.0016413977136835456, 0.0016413977136835456, 0.0016413977136835456, 0.0016413977136835456, 0.37265288829803467, 0.18632644414901733, 0.18632644414901733, 0.18632644414901733, 0.7413820028305054, 0.21182343363761902, 0.19686150550842285, 0.3937230110168457, 0.19686150550842285, 0.19686150550842285, 0.9556365013122559, 0.04343802481889725, 0.9362664818763733, 0.4484763741493225, 0.2284690886735916, 0.13538908958435059, 0.08884909003973007, 0.012692727148532867, 0.012692727148532867, 0.008461818099021912, 0.004230909049510956, 0.004230909049510956, 0.025385454297065735, 0.016923636198043823, 0.012692727148532867, 0.9096586108207703, 0.4215019643306732, 0.1391751766204834, 0.14712804555892944, 0.047717202454805374, 0.047717202454805374, 0.0516936369240284, 0.07157580554485321, 0.019882168620824814, 0.003976433537900448, 0.01590573415160179, 0.011929300613701344, 0.011929300613701344, 0.007952867075800896, 0.38275429606437683, 0.255169540643692, 0.255169540643692, 0.127584770321846, 0.649413526058197, 0.10823559015989304, 0.21647118031978607, 0.02062213607132435, 0.061866410076618195, 0.45368701219558716, 0.41244274377822876, 0.02062213607132435, 0.46178680658340454, 0.14896348118782043, 0.16385982930660248, 0.05213721841573715, 0.05213721841573715, 0.022344522178173065, 0.022344522178173065, 0.014896348118782043, 0.03724087029695511, 0.029792696237564087, 0.42952394485473633, 0.21846476197242737, 0.1462603062391281, 0.06479886919260025, 0.04258211329579353, 0.016662565991282463, 0.016662565991282463, 0.012959773652255535, 0.011108377948403358, 0.009256981313228607, 0.009256981313228607, 0.0037027925718575716, 0.011108377948403358, 0.0018513962859287858, 0.0037027925718575716, 0.5533007979393005, 0.06916259974241257, 0.027665037661790848, 0.23515282571315765, 0.027665037661790848, 0.055330075323581696, 0.12987948954105377, 0.18572767078876495, 0.34807702898979187, 0.02857348695397377, 0.12208671867847443, 0.11429394781589508, 0.031171077862381935, 0.011689153499901295, 0.009091564454138279, 0.0025975897442549467, 0.003896384732797742, 0.003896384732797742, 0.007792769465595484, 0.0012987948721274734, 0.2586856484413147, 0.2163412719964981, 0.20633259415626526, 0.0654413104057312, 0.09315762668848038, 0.059282127767801285, 0.05235304683446884, 0.01616785302758217, 0.007698977366089821, 0.007698977366089821, 0.002309693256393075, 0.00461938651278615, 0.006159182172268629, 0.0015397955430671573, 0.0007698977715335786, 0.8919111490249634, 0.05067677050828934, 0.010135354474186897, 0.010135354474186897, 0.030406061559915543, 0.48277851939201355, 0.11848410964012146, 0.11583147943019867, 0.07515782862901688, 0.05393679440021515, 0.04774732515215874, 0.038021020591259, 0.012378936633467674, 0.015915775671601295, 0.012378936633467674, 0.0044210487976670265, 0.008842097595334053, 0.009726307354867458, 0.0008842097595334053, 0.002652629278600216, 0.8727868795394897, 0.19281230866909027, 0.1619623303413391, 0.11568738520145416, 0.007712492253631353, 0.023137476295232773, 0.1619623303413391, 0.20823729038238525, 0.015424984507262707, 0.06169993802905083, 0.046274952590465546, 0.34468144178390503, 0.23624232411384583, 0.18202278017997742, 0.052283138036727905, 0.017427712678909302, 0.044537488371133804, 0.046473901718854904, 0.029046187177300453, 0.011618475429713726, 0.007745650131255388, 0.013554887846112251, 0.005809237714856863, 0.003872825065627694, 0.003872825065627694, 0.001936412532813847, 0.3591902554035187, 0.2531871795654297, 0.1365075409412384, 0.05719589814543724, 0.050332389771938324, 0.054908063262701035, 0.03813060000538826, 0.013727015815675259, 0.007626120001077652, 0.006863507907837629, 0.006100895814597607, 0.011439180001616478, 0.0030504479072988033, 0.0007626119768247008, 0.0007626119768247008, 0.607961118221283, 0.202653706073761, 0.1013268530368805, 0.41308391094207764, 0.13769464194774628, 0.27538928389549255, 0.5316039323806763, 0.15045394003391266, 0.09629052132368088, 0.1263813078403473, 0.00802421011030674, 0.02407263033092022, 0.014042368158698082, 0.014042368158698082, 0.006018157582730055, 0.00802421011030674, 0.006018157582730055, 0.006018157582730055, 0.00401210505515337, 0.00401210505515337, 0.002006052527576685, 0.20401112735271454, 0.5329270362854004, 0.08326984941959381, 0.012490476481616497, 0.024980952963232994, 0.020817462354898453, 0.05828889086842537, 0.037471432238817215, 0.012490476481616497, 0.012490476481616497, 0.0041634924709796906, 0.22839175164699554, 0.11419587582349777, 0.22839175164699554, 0.3425876200199127, 0.7783111333847046, 0.15566222369670868, 0.7838181257247925, 0.09221389144659042, 0.04610694572329521, 0.09221389144659042, 0.5623897910118103, 0.18746325373649597, 0.18746325373649597, 0.7277296781539917, 0.18193241953849792, 0.6801548004150391, 0.27206191420555115, 0.6318783760070801, 0.11488698422908783, 0.22977396845817566, 0.18680280447006226, 0.2401750236749649, 0.060043755918741226, 0.0333576425909996, 0.026686115190386772, 0.060043755918741226, 0.1401021033525467, 0.22016043961048126, 0.013343057595193386, 0.006671528797596693, 0.006671528797596693, 0.7252511382102966, 0.10477074235677719, 0.86435866355896, 0.20169124007225037, 0.20169124007225037, 0.20169124007225037, 0.20169124007225037, 0.20169124007225037, 0.4036296308040619, 0.4036296308040619, 0.3575567305088043, 0.5363351106643677, 0.5002428293228149, 0.10004856437444687, 0.20009712874889374, 0.4196430444717407, 0.31473228335380554, 0.10491076111793518, 0.26615577936172485, 0.3992336690425873, 0.13307788968086243, 0.13307788968086243, 0.5549813508987427, 0.18499377369880676, 0.18499377369880676, 0.8567118048667908, 0.9311708807945251, 0.9551138281822205, 0.6552011370658875, 0.3276005685329437, 0.949950635433197, 0.024998700246214867, 0.37194928526878357, 0.37194928526878357, 0.18597464263439178, 0.17628295719623566, 0.47008785605430603, 0.29380491375923157, 0.511120080947876, 0.09293092787265778, 0.3717237114906311, 0.25055018067359924, 0.25055018067359924, 0.12527509033679962, 0.25055018067359924, 0.12527509033679962, 0.931379497051239, 0.7783140540122986, 0.15566281974315643, 0.938750684261322, 0.8722163438796997, 0.9100377559661865, 0.11931932717561722, 0.8522809147834778, 0.01704561896622181, 0.39492952823638916, 0.39492952823638916, 0.19746476411819458, 0.7223650813102722, 0.12747620046138763, 0.12747620046138763, 0.6149194240570068, 0.1229838877916336, 0.1229838877916336, 0.3512248396873474, 0.14297647774219513, 0.15851740539073944, 0.05283913388848305, 0.1118946373462677, 0.05905550345778465, 0.06527186930179596, 0.02175729162991047, 0.015540922060608864, 0.0031081843189895153, 0.009324553422629833, 0.009324553422629833, 0.9421424865722656, 0.41993793845176697, 0.19838446378707886, 0.1549426168203354, 0.0550263486802578, 0.06226665899157524, 0.03475348278880119, 0.03475348278880119, 0.008688370697200298, 0.004344185348600149, 0.0057922471314668655, 0.004344185348600149, 0.0057922471314668655, 0.008688370697200298, 0.0014480617828667164, 0.0014480617828667164, 0.5543603301048279, 0.18478678166866302, 0.18478678166866302, 0.5360552668571472, 0.16061581671237946, 0.10841567814350128, 0.0943617895245552, 0.014053883962333202, 0.020076977089047432, 0.02409237250685692, 0.014053883962333202, 0.00602309312671423, 0.00602309312671423, 0.004015395417809486, 0.004015395417809486, 0.004015395417809486, 0.004015395417809486, 0.42162689566612244, 0.3305938243865967, 0.1772749423980713, 0.06468140333890915, 0.0023956075310707092, 0.3552153408527374, 0.5328230261802673, 0.5731728076934814, 0.19105760753154755, 0.19105760753154755, 0.6578116416931152, 0.21927055716514587, 0.769202709197998, 0.025219760835170746, 0.029423054307699203, 0.13030210137367249, 0.004203293472528458, 0.01681317389011383, 0.012609880417585373, 0.004203293472528458, 0.004203293472528458, 0.5186544060707092, 0.2305130809545517, 0.057628270238637924, 0.057628270238637924, 0.11525654047727585, 0.9396578073501587, 0.31433209776878357, 0.010839038528501987, 0.37394681572914124, 0.2547173798084259, 0.01625855639576912, 0.03251711279153824, 0.30170738697052, 0.60341477394104, 0.004518628586083651, 0.9579492807388306, 0.004518628586083651, 0.013555886223912239, 0.004518628586083651, 0.013555886223912239, 0.3067224621772766, 0.4600836932659149, 0.3067224621772766, 0.5636813640594482, 0.1878937929868698, 0.1878937929868698, 0.15356500446796417, 0.37036263942718506, 0.12646529078483582, 0.02709970623254776, 0.02709970623254776, 0.02709970623254776, 0.22583088278770447, 0.02709970623254776, 0.018066471442580223, 0.3994752764701843, 0.1933630257844925, 0.07862013578414917, 0.025498421862721443, 0.12961697578430176, 0.05949631705880165, 0.05524658039212227, 0.01912381686270237, 0.012749210931360722, 0.006374605465680361, 0.006374605465680361, 0.006374605465680361, 0.006374605465680361, 0.002124868333339691, 0.47218090295791626, 0.31478726863861084, 0.15739363431930542, 0.37082698941230774, 0.32700198888778687, 0.2730635106563568, 0.01011346373707056, 0.01011346373707056, 0.5285717248916626, 0.12048326432704926, 0.05829835310578346, 0.22153374552726746, 0.015546227805316448, 0.011659670621156693, 0.015546227805316448, 0.007773113902658224, 0.007773113902658224, 0.011659670621156693, 0.007773113902658224, 0.3920511305332184, 0.3920511305332184, 0.1960255652666092, 0.4741440415382385, 0.12092264741659164, 0.06682567298412323, 0.0413682721555233, 0.054096970707178116, 0.08591872453689575, 0.04773262143135071, 0.05727914720773697, 0.01591087505221367, 0.0031821748707443476, 0.009546524845063686, 0.01272869948297739, 0.0031821748707443476, 0.0031821748707443476, 0.42028945684432983, 0.1249052956700325, 0.22955568134784698, 0.04726146534085274, 0.06582846492528915, 0.028694460168480873, 0.03375818952918053, 0.011815366335213184, 0.010127456858754158, 0.0033758189529180527, 0.005063728429377079, 0.005063728429377079, 0.006751637905836105, 0.0033758189529180527, 0.005063728429377079, 0.5498014092445374, 0.07854305952787399, 0.07854305952787399, 0.31417223811149597, 0.11837252229452133, 0.7102351188659668, 0.28833597898483276, 0.22731250524520874, 0.16323783993721008, 0.03356292098760605, 0.12509815394878387, 0.056446727365255356, 0.03661409392952919, 0.013730285689234734, 0.012204698286950588, 0.003051174571737647, 0.006102349143475294, 0.024409396573901176, 0.009153523482382298, 0.0015255872858688235, 0.11394784599542618, 0.8546088337898254], \"Term\": [\"abandon\", \"abandon\", \"abbey\", \"abbey\", \"abbey\", \"abbot\", \"abbot\", \"abbot\", \"abhorred\", \"abhorred\", \"abhorred\", \"abhorred\", \"accommodate\", \"accommodate\", \"accommodate\", \"accommodate\", \"accorded\", \"accorded\", \"acquaintance\", \"acquaintance\", \"acquaintance\", \"acquaintance\", \"acquaintance\", \"acquaintance\", \"acquaintance\", \"acquaintance\", \"acquaintance\", \"acquaintance\", \"acquaintance\", \"acquaintance\", \"acquaintance\", \"acquaintance\", \"acquit\", \"acquit\", \"acquit\", \"acquit\", \"acquitted\", \"acquitted\", \"acquitted\", \"acquitted\", \"addition\", \"addition\", \"addition\", \"addition\", \"addition\", \"addition\", \"addition\", \"addition\", \"addition\", \"adele\", \"adele\", \"adele\", \"adele\", \"adele\", \"adele\", \"affection\", \"affection\", \"affection\", \"affection\", \"affection\", \"affection\", \"affection\", \"affection\", \"affection\", \"affection\", \"affection\", \"affection\", \"affection\", \"affianced\", \"affianced\", \"affording\", \"affording\", \"affording\", \"affording\", \"aged\", \"aged\", \"aghast\", \"aghast\", \"aghast\", \"aimed\", \"aimed\", \"aimed\", \"aimed\", \"aimed\", \"airing\", \"airing\", \"allez\", \"alluding\", \"alluding\", \"alluding\", \"amiable\", \"amiable\", \"amiable\", \"amiable\", \"amiable\", \"amiable\", \"amiable\", \"amiable\", \"amiable\", \"amiable\", \"amiable\", \"amiss\", \"amiss\", \"amiss\", \"amiss\", \"amounted\", \"amounted\", \"amounted\", \"anecdote\", \"anecdote\", \"anecdote\", \"anecdote\", \"anecdote\", \"answer\", \"answer\", \"answer\", \"answer\", \"answer\", \"answer\", \"answer\", \"answer\", \"answer\", \"answer\", \"answer\", \"answer\", \"answer\", \"answerable\", \"answerable\", \"answerable\", \"apologise\", \"apologise\", \"apologise\", \"appetite\", \"appetite\", \"appetite\", \"appetite\", \"appetite\", \"apples\", \"apples\", \"apples\", \"apples\", \"approving\", \"apron\", \"apron\", \"argue\", \"argue\", \"argue\", \"argue\", \"asked\", \"asked\", \"asked\", \"asked\", \"asked\", \"asked\", \"asked\", \"asked\", \"asked\", \"asked\", \"asked\", \"asked\", \"asked\", \"asked\", \"aspirations\", \"aspirations\", \"assertions\", \"assertions\", \"assez\", \"assiduous\", \"assiduous\", \"assiduous\", \"assistance\", \"assistance\", \"assistance\", \"assistance\", \"assistance\", \"assistance\", \"assistance\", \"assistance\", \"assistance\", \"assure\", \"assure\", \"assure\", \"assure\", \"assure\", \"assure\", \"assure\", \"assure\", \"assure\", \"assure\", \"athenee\", \"atonement\", \"atonement\", \"atonement\", \"atonement\", \"attachment\", \"attachment\", \"attachment\", \"attachment\", \"attachment\", \"attachment\", \"attachment\", \"attachment\", \"attachment\", \"attachment\", \"attachment\", \"aunt\", \"aunt\", \"aunt\", \"aunt\", \"aunt\", \"aunt\", \"aunt\", \"aunt\", \"aunt\", \"aunt\", \"averted\", \"averted\", \"averted\", \"averted\", \"avez\", \"away\", \"away\", \"away\", \"away\", \"away\", \"away\", \"away\", \"away\", \"away\", \"away\", \"away\", \"away\", \"away\", \"away\", \"bands\", \"bands\", \"banker\", \"banker\", \"barton\", \"barton\", \"barton\", \"barton\", \"bates\", \"bates\", \"bates\", \"bates\", \"bates\", \"bath\", \"bath\", \"bath\", \"bath\", \"bathing\", \"bathing\", \"bathing\", \"bearing\", \"bearing\", \"bearing\", \"bearing\", \"bearing\", \"bearing\", \"beaux\", \"beck\", \"beck\", \"beck\", \"beckoned\", \"beckoned\", \"beef\", \"beef\", \"beef\", \"beef\", \"beer\", \"beer\", \"behaviour\", \"behaviour\", \"behaviour\", \"behaviour\", \"behaviour\", \"behaviour\", \"behaviour\", \"behaviour\", \"behaviour\", \"behaviour\", \"behaviour\", \"belgium\", \"believe\", \"believe\", \"believe\", \"believe\", \"believe\", \"believe\", \"believe\", \"believe\", \"believe\", \"believe\", \"believe\", \"believe\", \"believe\", \"believe\", \"bell\", \"bell\", \"bell\", \"bell\", \"bell\", \"bell\", \"bell\", \"bell\", \"bell\", \"bell\", \"bell\", \"benefactress\", \"benefactress\", \"benefactress\", \"benefactress\", \"bennet\", \"bennet\", \"bennet\", \"bennet\", \"bennet\", \"bennet\", \"berkeley\", \"bessie\", \"bessie\", \"bessie\", \"bessie\", \"better\", \"better\", \"better\", \"better\", \"better\", \"better\", \"better\", \"better\", \"better\", \"better\", \"better\", \"better\", \"better\", \"better\", \"better\", \"bewitching\", \"bewitching\", \"bible\", \"bible\", \"bible\", \"bible\", \"bien\", \"bien\", \"bien\", \"bigben\", \"bigben\", \"bingley\", \"bingley\", \"bingley\", \"bingley\", \"bingley\", \"black\", \"black\", \"black\", \"black\", \"black\", \"black\", \"black\", \"blameless\", \"blameless\", \"blameless\", \"blameless\", \"blindness\", \"blindness\", \"blood\", \"blood\", \"blood\", \"blood\", \"blood\", \"blood\", \"blood\", \"blood\", \"blossoms\", \"blossoms\", \"blossoms\", \"body\", \"body\", \"body\", \"body\", \"body\", \"body\", \"body\", \"body\", \"body\", \"body\", \"body\", \"body\", \"borders\", \"borders\", \"borders\", \"bouquet\", \"bouquet\", \"bourgeois\", \"bourgeois\", \"bourgh\", \"bourgh\", \"bourgh\", \"boy\", \"boy\", \"boy\", \"boy\", \"boy\", \"boy\", \"boy\", \"boy\", \"boy\", \"boy\", \"bracelet\", \"bracelet\", \"bracelet\", \"bracelet\", \"brandon\", \"brandon\", \"brandon\", \"brandon\", \"brandon\", \"bread\", \"bread\", \"bread\", \"bread\", \"bread\", \"bread\", \"bretton\", \"bretton\", \"bretton\", \"bretton\", \"bretton\", \"briggs\", \"bright\", \"bright\", \"bright\", \"bright\", \"bright\", \"bright\", \"bright\", \"brightening\", \"brightening\", \"brightening\", \"brightening\", \"brighton\", \"brighton\", \"brighton\", \"bristol\", \"bristol\", \"bristol\", \"brother\", \"brother\", \"brother\", \"brother\", \"brother\", \"brother\", \"brother\", \"brother\", \"brother\", \"brother\", \"brother\", \"brother\", \"brother\", \"brother\", \"brush\", \"brush\", \"brussels\", \"brussels\", \"brutal\", \"brutal\", \"brutal\", \"bunch\", \"bunch\", \"bunch\", \"bundle\", \"bundle\", \"burdened\", \"burdened\", \"burning\", \"burning\", \"burning\", \"burning\", \"burns\", \"burns\", \"burns\", \"burns\", \"butcher\", \"butcher\", \"butler\", \"butler\", \"butter\", \"butter\", \"butter\", \"butter\", \"cake\", \"cake\", \"cake\", \"cake\", \"cake\", \"cake\", \"cake\", \"cake\", \"came\", \"came\", \"came\", \"came\", \"came\", \"came\", \"came\", \"came\", \"came\", \"came\", \"came\", \"came\", \"came\", \"came\", \"came\", \"campbell\", \"campbell\", \"campbells\", \"campbells\", \"campbells\", \"candle\", \"candle\", \"candle\", \"candle\", \"candle\", \"catherine\", \"catherine\", \"catherine\", \"catherine\", \"catherine\", \"causes\", \"causes\", \"causes\", \"causes\", \"causes\", \"ce\", \"ce\", \"ce\", \"ce\", \"cela\", \"cela\", \"cela\", \"certain\", \"certain\", \"certain\", \"certain\", \"certain\", \"certain\", \"certain\", \"certain\", \"certain\", \"certain\", \"certain\", \"certain\", \"certain\", \"certain\", \"certainly\", \"certainly\", \"certainly\", \"certainly\", \"certainly\", \"certainly\", \"certainly\", \"certainly\", \"certainly\", \"certainly\", \"certainly\", \"certainly\", \"character\", \"character\", \"character\", \"character\", \"character\", \"character\", \"character\", \"character\", \"character\", \"character\", \"character\", \"character\", \"character\", \"character\", \"character\", \"charade\", \"charade\", \"charade\", \"charlotte\", \"charlotte\", \"charlotte\", \"charlotte\", \"charlotte\", \"charmingly\", \"charmingly\", \"charmingly\", \"cheap\", \"cheap\", \"cheap\", \"cheap\", \"chicken\", \"chicken\", \"chicken\", \"chicken\", \"child\", \"child\", \"child\", \"child\", \"child\", \"child\", \"child\", \"child\", \"child\", \"child\", \"child\", \"child\", \"children\", \"children\", \"children\", \"children\", \"children\", \"children\", \"children\", \"children\", \"children\", \"children\", \"children\", \"children\", \"children\", \"cholmondeley\", \"cholmondeley\", \"chose\", \"chose\", \"chose\", \"chose\", \"chose\", \"chose\", \"chose\", \"chose\", \"chose\", \"chose\", \"chose\", \"churchill\", \"churchill\", \"churchill\", \"churchill\", \"churchills\", \"churchills\", \"churchills\", \"chuse\", \"chuse\", \"chuse\", \"chuse\", \"chuse\", \"clapped\", \"clapped\", \"clapped\", \"cleveland\", \"cleveland\", \"clock\", \"clock\", \"clock\", \"clock\", \"clock\", \"clock\", \"clock\", \"clock\", \"clock\", \"closed\", \"closed\", \"closed\", \"closed\", \"closed\", \"closed\", \"closed\", \"closed\", \"closed\", \"closed\", \"closed\", \"closed\", \"clouded\", \"clouded\", \"clouded\", \"clouded\", \"coach\", \"coach\", \"coach\", \"coach\", \"coach\", \"coach\", \"coach\", \"coffee\", \"coffee\", \"coffee\", \"coffee\", \"coffee\", \"cole\", \"cole\", \"cole\", \"collins\", \"collins\", \"collins\", \"collins\", \"collins\", \"colonel\", \"colonel\", \"colonel\", \"colonel\", \"colonel\", \"colonel\", \"colonel\", \"colonel\", \"colonel\", \"colonel\", \"combine\", \"combine\", \"combine\", \"come\", \"come\", \"come\", \"come\", \"come\", \"come\", \"come\", \"come\", \"come\", \"come\", \"come\", \"come\", \"come\", \"come\", \"come\", \"comme\", \"comme\", \"competent\", \"competent\", \"comprehending\", \"comprehending\", \"conduct\", \"conduct\", \"conduct\", \"conduct\", \"conduct\", \"conduct\", \"conduct\", \"conduct\", \"conduct\", \"conduct\", \"conduct\", \"conduct\", \"conduct\", \"connexion\", \"connexion\", \"connexion\", \"connexion\", \"conscientious\", \"conscientious\", \"conscientious\", \"conscientious\", \"conscientious\", \"contemplate\", \"contemplate\", \"contemplate\", \"contemplate\", \"contrasts\", \"contrasts\", \"cooled\", \"cooled\", \"cooled\", \"cooler\", \"cooler\", \"cooler\", \"corps\", \"corps\", \"corps\", \"corps\", \"cousin\", \"cousin\", \"cousin\", \"cousin\", \"cousin\", \"cousin\", \"cousin\", \"cousin\", \"cousin\", \"cousin\", \"cox\", \"crack\", \"crack\", \"craving\", \"craving\", \"create\", \"create\", \"creditable\", \"creditable\", \"creditable\", \"cried\", \"cried\", \"cried\", \"cried\", \"cried\", \"cried\", \"cried\", \"cried\", \"cried\", \"cried\", \"cried\", \"cried\", \"cried\", \"crimsworth\", \"crimsworth\", \"crimsworth\", \"crimsworth\", \"crimsworth\", \"crown\", \"crown\", \"crown\", \"crown\", \"crown\", \"crown\", \"cruelly\", \"cruelly\", \"cruelly\", \"cruelly\", \"cups\", \"cups\", \"cups\", \"dancing\", \"dancing\", \"dancing\", \"dancing\", \"dancing\", \"dans\", \"darcy\", \"darcy\", \"darcy\", \"darcy\", \"darcy\", \"darcy\", \"darcy\", \"dark\", \"dark\", \"dark\", \"dark\", \"dark\", \"dark\", \"dark\", \"dark\", \"dark\", \"dark\", \"dark\", \"dashwood\", \"dashwood\", \"dashwood\", \"dashwood\", \"dashwood\", \"dashwood\", \"dashwoods\", \"dashwoods\", \"daughter\", \"daughter\", \"daughter\", \"daughter\", \"daughter\", \"daughter\", \"daughter\", \"daughter\", \"daughter\", \"daughter\", \"daughter\", \"daughter\", \"daughters\", \"daughters\", \"daughters\", \"daughters\", \"daughters\", \"daughters\", \"daughters\", \"daughters\", \"day\", \"day\", \"day\", \"day\", \"day\", \"day\", \"day\", \"day\", \"day\", \"day\", \"day\", \"day\", \"day\", \"day\", \"day\", \"days\", \"days\", \"days\", \"days\", \"days\", \"days\", \"days\", \"days\", \"days\", \"days\", \"days\", \"days\", \"days\", \"days\", \"dear\", \"dear\", \"dear\", \"dear\", \"dear\", \"dear\", \"dear\", \"dear\", \"dear\", \"dear\", \"dear\", \"dear\", \"dear\", \"debts\", \"debts\", \"debts\", \"debts\", \"debts\", \"deceit\", \"deceit\", \"deceit\", \"deep\", \"deep\", \"deep\", \"deep\", \"deep\", \"deep\", \"deep\", \"deep\", \"deep\", \"deep\", \"deep\", \"delaford\", \"delaford\", \"delaford\", \"delaford\", \"delirious\", \"delirious\", \"denny\", \"denny\", \"denny\", \"denny\", \"deplorable\", \"deplorable\", \"deplorable\", \"depth\", \"depth\", \"depth\", \"desiree\", \"desiree\", \"despaired\", \"despaired\", \"despaired\", \"despaired\", \"detaining\", \"detaining\", \"deviation\", \"deviation\", \"deviation\", \"deviation\", \"deviation\", \"diana\", \"diana\", \"diana\", \"died\", \"died\", \"died\", \"died\", \"died\", \"died\", \"died\", \"died\", \"died\", \"died\", \"dire\", \"dirty\", \"dirty\", \"dirty\", \"dirty\", \"dirty\", \"dirty\", \"disadvantage\", \"disadvantage\", \"disadvantage\", \"discerned\", \"discerned\", \"discerned\", \"discerned\", \"discerned\", \"disgraced\", \"disgraced\", \"disgraced\", \"disown\", \"disown\", \"displeasing\", \"displeasing\", \"disposal\", \"disposal\", \"disposal\", \"disregarded\", \"disregarded\", \"disregarded\", \"disregarded\", \"distresses\", \"distresses\", \"distresses\", \"distresses\", \"dixon\", \"dixon\", \"doctor\", \"doctor\", \"doctor\", \"doctor\", \"doctor\", \"doctor\", \"doctrine\", \"doctrine\", \"door\", \"door\", \"door\", \"door\", \"door\", \"door\", \"door\", \"door\", \"door\", \"door\", \"door\", \"door\", \"door\", \"doubt\", \"doubt\", \"doubt\", \"doubt\", \"doubt\", \"doubt\", \"doubt\", \"doubt\", \"doubt\", \"doubt\", \"doubt\", \"doubt\", \"doubt\", \"dr\", \"dr\", \"dr\", \"dr\", \"dr\", \"dr\", \"dr\", \"dulness\", \"dulness\", \"dumb\", \"dumb\", \"dumb\", \"dumb\", \"earthquake\", \"earthquake\", \"edward\", \"edward\", \"edward\", \"edward\", \"edward\", \"edward\", \"edward\", \"edward\", \"edward\", \"elegantly\", \"elegantly\", \"elements\", \"elements\", \"elements\", \"elinor\", \"elinor\", \"elinor\", \"elinor\", \"elinor\", \"elinor\", \"elinor\", \"elinor\", \"elinor\", \"elizabeth\", \"elizabeth\", \"elizabeth\", \"elizabeth\", \"elizabeth\", \"elizabeth\", \"elizabeth\", \"elizabeth\", \"elizabeth\", \"elizabeth\", \"elle\", \"elle\", \"elle\", \"elle\", \"elopement\", \"elopement\", \"elopement\", \"elton\", \"elton\", \"elton\", \"elton\", \"eltons\", \"eltons\", \"eltons\", \"eltons\", \"emanuel\", \"emanuel\", \"emanuel\", \"emanuel\", \"emma\", \"emma\", \"emma\", \"emma\", \"emma\", \"emma\", \"emma\", \"encumbrance\", \"encumbrance\", \"encumbrance\", \"engagement\", \"engagement\", \"engagement\", \"engagement\", \"engagement\", \"engagement\", \"engagement\", \"engagement\", \"english\", \"english\", \"english\", \"english\", \"english\", \"english\", \"english\", \"english\", \"enounced\", \"enounced\", \"enounced\", \"enscombe\", \"enscombe\", \"enscombe\", \"enscombe\", \"ere\", \"ere\", \"ere\", \"ere\", \"ere\", \"ere\", \"ere\", \"ere\", \"est\", \"est\", \"est\", \"establish\", \"establish\", \"establish\", \"establish\", \"establish\", \"estate\", \"estate\", \"estate\", \"estate\", \"estate\", \"estate\", \"estate\", \"estate\", \"estate\", \"estates\", \"estates\", \"estates\", \"estrade\", \"estrade\", \"estrade\", \"et\", \"et\", \"et\", \"et\", \"et\", \"etre\", \"europe\", \"evening\", \"evening\", \"evening\", \"evening\", \"evening\", \"evening\", \"evening\", \"evening\", \"evening\", \"evening\", \"evening\", \"evening\", \"evening\", \"evening\", \"exercising\", \"exercising\", \"exercising\", \"expanse\", \"expanse\", \"expanse\", \"expanse\", \"expenses\", \"expenses\", \"expenses\", \"expenses\", \"expenses\", \"explained\", \"explained\", \"explained\", \"explained\", \"explained\", \"explained\", \"explained\", \"explained\", \"explained\", \"expressively\", \"expressively\", \"expressively\", \"expressively\", \"expressively\", \"external\", \"external\", \"external\", \"extravagance\", \"extravagance\", \"extravagance\", \"extravagance\", \"extravagance\", \"extravagance\", \"extravagant\", \"extravagant\", \"extravagant\", \"extravagant\", \"eye\", \"eye\", \"eye\", \"eye\", \"eye\", \"eye\", \"eye\", \"eye\", \"eye\", \"eye\", \"eye\", \"eye\", \"eyelid\", \"eyelid\", \"eyes\", \"eyes\", \"eyes\", \"eyes\", \"eyes\", \"eyes\", \"eyes\", \"eyes\", \"eyes\", \"eyes\", \"eyes\", \"eyes\", \"eyes\", \"face\", \"face\", \"face\", \"face\", \"face\", \"face\", \"face\", \"face\", \"face\", \"face\", \"face\", \"face\", \"face\", \"fairfax\", \"fairfax\", \"fairfax\", \"fairfax\", \"fairfax\", \"fairfax\", \"fairfax\", \"fairfax\", \"falls\", \"falls\", \"falls\", \"falls\", \"false\", \"false\", \"false\", \"false\", \"false\", \"false\", \"false\", \"false\", \"false\", \"false\", \"family\", \"family\", \"family\", \"family\", \"family\", \"family\", \"family\", \"family\", \"family\", \"family\", \"family\", \"family\", \"family\", \"family\", \"famished\", \"famished\", \"fanshawe\", \"fanshawe\", \"fanshawe\", \"fare\", \"fare\", \"fare\", \"fare\", \"fare\", \"fare\", \"fare\", \"farmer\", \"farmer\", \"father\", \"father\", \"father\", \"father\", \"father\", \"father\", \"father\", \"father\", \"father\", \"father\", \"father\", \"father\", \"father\", \"favourites\", \"favourites\", \"favourites\", \"favourites\", \"feasted\", \"feasted\", \"feelingly\", \"feelingly\", \"feelings\", \"feelings\", \"feelings\", \"feelings\", \"feelings\", \"feelings\", \"feelings\", \"feelings\", \"feelings\", \"feelings\", \"feelings\", \"feelings\", \"feelings\", \"feelings\", \"felt\", \"felt\", \"felt\", \"felt\", \"felt\", \"felt\", \"felt\", \"felt\", \"felt\", \"felt\", \"felt\", \"felt\", \"felt\", \"felt\", \"felt\", \"ferrars\", \"ferrars\", \"ferrars\", \"ferrars\", \"ferrars\", \"fervid\", \"fervid\", \"fidelity\", \"fidelity\", \"fidelity\", \"fight\", \"fight\", \"fight\", \"fight\", \"firmness\", \"firmness\", \"firmness\", \"firmness\", \"fitzwilliam\", \"fitzwilliam\", \"flakes\", \"flakes\", \"flakes\", \"flakes\", \"flatter\", \"flatter\", \"flatter\", \"flatter\", \"flatter\", \"flatter\", \"flatter\", \"flatter\", \"flatter\", \"flesh\", \"flesh\", \"flesh\", \"flesh\", \"ford\", \"forehead\", \"forehead\", \"forehead\", \"forehead\", \"forehead\", \"foresaw\", \"foresaw\", \"forgiveness\", \"forgiveness\", \"forgiveness\", \"forster\", \"forster\", \"forster\", \"forster\", \"forster\", \"fortune\", \"fortune\", \"fortune\", \"fortune\", \"fortune\", \"fortune\", \"fortune\", \"fortune\", \"fortune\", \"fortune\", \"fortune\", \"fortune\", \"forwarded\", \"forwarded\", \"forwarded\", \"fragrant\", \"fragrant\", \"fragrant\", \"fragrant\", \"frances\", \"frances\", \"frances\", \"francs\", \"frank\", \"frank\", \"frank\", \"frank\", \"frank\", \"frank\", \"frank\", \"frank\", \"free\", \"free\", \"free\", \"free\", \"free\", \"free\", \"free\", \"free\", \"free\", \"free\", \"free\", \"french\", \"french\", \"french\", \"french\", \"french\", \"french\", \"friday\", \"friend\", \"friend\", \"friend\", \"friend\", \"friend\", \"friend\", \"friend\", \"friend\", \"friend\", \"friend\", \"friend\", \"friend\", \"friend\", \"friend\", \"friends\", \"friends\", \"friends\", \"friends\", \"friends\", \"friends\", \"friends\", \"friends\", \"friends\", \"friends\", \"friends\", \"friends\", \"friends\", \"frigid\", \"frigid\", \"frigid\", \"fully\", \"fully\", \"fully\", \"fully\", \"fully\", \"fully\", \"fully\", \"fully\", \"fully\", \"fully\", \"fully\", \"fully\", \"fully\", \"fully\", \"garcon\", \"gardiner\", \"gardiner\", \"gardiner\", \"gardiner\", \"generation\", \"generation\", \"generation\", \"generation\", \"gentility\", \"gentility\", \"georgette\", \"georgette\", \"georgette\", \"gifted\", \"gifted\", \"gifted\", \"ginevra\", \"ginevra\", \"ginevra\", \"girl\", \"girl\", \"girl\", \"girl\", \"girl\", \"girl\", \"girl\", \"girl\", \"girl\", \"girl\", \"girl\", \"girl\", \"girl\", \"girl\", \"given\", \"given\", \"given\", \"given\", \"given\", \"given\", \"given\", \"given\", \"given\", \"given\", \"given\", \"given\", \"given\", \"given\", \"glorious\", \"glove\", \"glove\", \"glove\", \"glove\", \"god\", \"god\", \"god\", \"god\", \"god\", \"god\", \"god\", \"god\", \"god\", \"god\", \"god\", \"goddard\", \"goddard\", \"goddard\", \"goddard\", \"godmother\", \"godmother\", \"going\", \"going\", \"going\", \"going\", \"going\", \"going\", \"going\", \"going\", \"going\", \"going\", \"going\", \"going\", \"good\", \"good\", \"good\", \"good\", \"good\", \"good\", \"good\", \"good\", \"good\", \"good\", \"good\", \"good\", \"good\", \"good\", \"gracechurch\", \"gracechurch\", \"gracechurch\", \"graces\", \"graces\", \"graces\", \"graces\", \"graces\", \"graces\", \"graces\", \"graham\", \"graham\", \"graham\", \"graham\", \"graham\", \"graham\", \"graham\", \"grandmama\", \"grandmother\", \"grandmother\", \"grandmother\", \"grandmother\", \"grandmother\", \"great\", \"great\", \"great\", \"great\", \"great\", \"great\", \"great\", \"great\", \"great\", \"great\", \"great\", \"great\", \"great\", \"grec\", \"grief\", \"grief\", \"grief\", \"grief\", \"grief\", \"grief\", \"grief\", \"grief\", \"grieving\", \"grieving\", \"grisette\", \"grisette\", \"grisette\", \"grisette\", \"gross\", \"gross\", \"grove\", \"grove\", \"grove\", \"grove\", \"grove\", \"grove\", \"half\", \"half\", \"half\", \"half\", \"half\", \"half\", \"half\", \"half\", \"half\", \"half\", \"half\", \"half\", \"half\", \"hall\", \"hall\", \"hall\", \"hall\", \"hall\", \"hall\", \"hall\", \"hall\", \"hall\", \"hall\", \"hand\", \"hand\", \"hand\", \"hand\", \"hand\", \"hand\", \"hand\", \"hand\", \"hand\", \"hand\", \"hand\", \"hand\", \"hand\", \"hand\", \"hannah\", \"hannah\", \"hannah\", \"happiness\", \"happiness\", \"happiness\", \"happiness\", \"happiness\", \"happiness\", \"happiness\", \"happiness\", \"happiness\", \"happiness\", \"happiness\", \"happiness\", \"happiness\", \"happiness\", \"harass\", \"harass\", \"harass\", \"harley\", \"harmless\", \"harmless\", \"harmless\", \"harmless\", \"harmless\", \"harp\", \"harriet\", \"harriet\", \"harriet\", \"harriet\", \"harriet\", \"harriet\", \"hartfield\", \"hartfield\", \"hartfield\", \"hartfield\", \"hartfield\", \"having\", \"having\", \"having\", \"having\", \"having\", \"having\", \"having\", \"having\", \"having\", \"having\", \"having\", \"having\", \"having\", \"having\", \"having\", \"hawkins\", \"hawkins\", \"hawkins\", \"hazardous\", \"hazardous\", \"hazardous\", \"hazardous\", \"head\", \"head\", \"head\", \"head\", \"head\", \"head\", \"head\", \"head\", \"head\", \"head\", \"head\", \"head\", \"head\", \"hear\", \"hear\", \"hear\", \"hear\", \"hear\", \"hear\", \"hear\", \"hear\", \"hear\", \"hear\", \"hear\", \"hear\", \"hear\", \"hear\", \"heard\", \"heard\", \"heard\", \"heard\", \"heard\", \"heard\", \"heard\", \"heard\", \"heard\", \"heard\", \"heard\", \"heard\", \"heard\", \"heard\", \"heard\", \"heart\", \"heart\", \"heart\", \"heart\", \"heart\", \"heart\", \"heart\", \"heart\", \"heart\", \"heart\", \"heart\", \"heart\", \"heart\", \"heart\", \"heart\", \"helen\", \"helen\", \"helen\", \"helen\", \"helen\", \"hell\", \"henceforth\", \"henceforth\", \"henceforth\", \"henri\", \"henry\", \"henry\", \"henry\", \"henry\", \"henry\", \"henry\", \"highbury\", \"highbury\", \"highbury\", \"highbury\", \"highbury\", \"home\", \"home\", \"home\", \"home\", \"home\", \"home\", \"home\", \"home\", \"home\", \"home\", \"home\", \"home\", \"home\", \"home\", \"hope\", \"hope\", \"hope\", \"hope\", \"hope\", \"hope\", \"hope\", \"hope\", \"hope\", \"hope\", \"hope\", \"hope\", \"hope\", \"hope\", \"hope\", \"hostess\", \"hostess\", \"hostess\", \"house\", \"house\", \"house\", \"house\", \"house\", \"house\", \"house\", \"house\", \"house\", \"house\", \"house\", \"house\", \"house\", \"house\", \"housekeeping\", \"housekeeping\", \"housekeeping\", \"humility\", \"humility\", \"humility\", \"humility\", \"humility\", \"humility\", \"hunsden\", \"hunsden\", \"hunsden\", \"hunsden\", \"hunsford\", \"hunsford\", \"hurst\", \"hurst\", \"ignorant\", \"ignorant\", \"ignorant\", \"ignorant\", \"ignorant\", \"ignorant\", \"ignorant\", \"ignorant\", \"iii\", \"iii\", \"iii\", \"iii\", \"impediment\", \"impediment\", \"impediment\", \"impromptu\", \"imprudent\", \"imprudent\", \"imprudent\", \"imprudent\", \"imprudent\", \"imprudent\", \"impunity\", \"impunity\", \"impunity\", \"inattentive\", \"inattentive\", \"inattentive\", \"inattentive\", \"incapacity\", \"incapacity\", \"incapacity\", \"income\", \"income\", \"income\", \"income\", \"income\", \"income\", \"income\", \"income\", \"income\", \"inconveniences\", \"inconveniences\", \"india\", \"indicated\", \"indicated\", \"indicated\", \"indicated\", \"indolence\", \"indolence\", \"inequality\", \"inequality\", \"inexpressibly\", \"inexpressibly\", \"infallibly\", \"infallibly\", \"infamous\", \"infamous\", \"infection\", \"infection\", \"infection\", \"infection\", \"infection\", \"inferred\", \"inferred\", \"inferred\", \"infirm\", \"infirm\", \"infirm\", \"injured\", \"injured\", \"injured\", \"injured\", \"injurious\", \"injurious\", \"injurious\", \"injurious\", \"inn\", \"inn\", \"inn\", \"inn\", \"inn\", \"inquisitive\", \"inquisitive\", \"inquisitive\", \"insuperable\", \"insuperable\", \"insuperable\", \"insuperable\", \"intimately\", \"intimately\", \"intimately\", \"invariable\", \"involved\", \"involved\", \"involved\", \"involved\", \"involved\", \"involved\", \"involved\", \"irritated\", \"irritated\", \"irritated\", \"irritated\", \"irritated\", \"irritated\", \"irritated\", \"irritating\", \"irritating\", \"isabella\", \"isabella\", \"isabella\", \"isabella\", \"isidore\", \"isidore\", \"isidore\", \"jane\", \"jane\", \"jane\", \"jane\", \"jane\", \"jane\", \"jane\", \"jane\", \"jane\", \"jane\", \"jane\", \"jane\", \"jane\", \"je\", \"je\", \"jenkinson\", \"jenkinson\", \"jennings\", \"jennings\", \"jennings\", \"jennings\", \"john\", \"john\", \"john\", \"john\", \"john\", \"john\", \"john\", \"john\", \"john\", \"john\", \"john\", \"john\", \"john\", \"jokes\", \"jokes\", \"jokes\", \"journey\", \"journey\", \"journey\", \"journey\", \"journey\", \"journey\", \"journey\", \"journey\", \"justice\", \"justice\", \"justice\", \"justice\", \"justice\", \"justice\", \"justice\", \"justice\", \"justice\", \"justice\", \"justice\", \"justice\", \"justice\", \"kept\", \"kept\", \"kept\", \"kept\", \"kept\", \"kept\", \"kept\", \"kept\", \"kept\", \"kept\", \"kept\", \"kept\", \"kept\", \"kind\", \"kind\", \"kind\", \"kind\", \"kind\", \"kind\", \"kind\", \"kind\", \"kind\", \"kind\", \"kind\", \"kind\", \"kind\", \"kind\", \"kitty\", \"kitty\", \"kitty\", \"kitty\", \"kitty\", \"kitty\", \"kneeling\", \"knew\", \"knew\", \"knew\", \"knew\", \"knew\", \"knew\", \"knew\", \"knew\", \"knew\", \"knew\", \"knew\", \"knew\", \"knew\", \"knew\", \"knightley\", \"knightley\", \"knightley\", \"knightley\", \"knightley\", \"knightleys\", \"knoll\", \"knoll\", \"knoll\", \"know\", \"know\", \"know\", \"know\", \"know\", \"know\", \"know\", \"know\", \"know\", \"know\", \"know\", \"know\", \"know\", \"know\", \"know\", \"known\", \"known\", \"known\", \"known\", \"known\", \"known\", \"known\", \"known\", \"known\", \"known\", \"known\", \"known\", \"known\", \"known\", \"la\", \"la\", \"la\", \"la\", \"la\", \"la\", \"labour\", \"labour\", \"labour\", \"labour\", \"labour\", \"labour\", \"ladies\", \"ladies\", \"ladies\", \"ladies\", \"ladies\", \"ladies\", \"ladies\", \"ladies\", \"ladies\", \"ladies\", \"ladies\", \"lady\", \"lady\", \"lady\", \"lady\", \"lady\", \"lady\", \"lady\", \"lady\", \"lady\", \"lady\", \"lady\", \"lady\", \"lady\", \"ladyship\", \"ladyship\", \"ladyship\", \"ladyship\", \"ladyship\", \"lambton\", \"lambton\", \"lamentations\", \"lamentations\", \"lamentations\", \"larkins\", \"larkins\", \"law\", \"law\", \"law\", \"law\", \"law\", \"law\", \"law\", \"law\", \"law\", \"law\", \"law\", \"law\", \"law\", \"lawyer\", \"lawyer\", \"lawyer\", \"lawyer\", \"lawyer\", \"leave\", \"leave\", \"leave\", \"leave\", \"leave\", \"leave\", \"leave\", \"leave\", \"leave\", \"leave\", \"leave\", \"leave\", \"leave\", \"left\", \"left\", \"left\", \"left\", \"left\", \"left\", \"left\", \"left\", \"left\", \"left\", \"left\", \"left\", \"left\", \"left\", \"legal\", \"legal\", \"legal\", \"legal\", \"les\", \"les\", \"letter\", \"letter\", \"letter\", \"letter\", \"letter\", \"letter\", \"letter\", \"letter\", \"letter\", \"letter\", \"letter\", \"liberally\", \"liberally\", \"liberally\", \"liberally\", \"life\", \"life\", \"life\", \"life\", \"life\", \"life\", \"life\", \"life\", \"life\", \"life\", \"life\", \"life\", \"life\", \"life\", \"light\", \"light\", \"light\", \"light\", \"light\", \"light\", \"light\", \"light\", \"light\", \"light\", \"light\", \"light\", \"like\", \"like\", \"like\", \"like\", \"like\", \"like\", \"like\", \"like\", \"like\", \"like\", \"like\", \"like\", \"like\", \"like\", \"like\", \"liked\", \"liked\", \"liked\", \"liked\", \"liked\", \"liked\", \"liked\", \"liked\", \"liked\", \"liked\", \"liked\", \"liked\", \"liked\", \"likelihood\", \"likelihood\", \"likelihood\", \"likelihood\", \"likelihood\", \"likelihood\", \"liking\", \"liking\", \"liking\", \"liking\", \"liking\", \"little\", \"little\", \"little\", \"little\", \"little\", \"little\", \"little\", \"little\", \"little\", \"little\", \"little\", \"little\", \"little\", \"little\", \"little\", \"live\", \"live\", \"live\", \"live\", \"live\", \"live\", \"live\", \"live\", \"live\", \"live\", \"live\", \"live\", \"live\", \"live\", \"live\", \"living\", \"living\", \"living\", \"living\", \"living\", \"living\", \"living\", \"living\", \"living\", \"living\", \"lizzy\", \"lizzy\", \"lizzy\", \"lizzy\", \"lizzy\", \"lizzy\", \"lizzy\", \"ll\", \"ll\", \"ll\", \"ll\", \"ll\", \"ll\", \"ll\", \"lloyd\", \"lloyd\", \"lloyd\", \"lonely\", \"lonely\", \"lonely\", \"long\", \"long\", \"long\", \"long\", \"long\", \"long\", \"long\", \"long\", \"long\", \"long\", \"long\", \"long\", \"long\", \"long\", \"longbourn\", \"longbourn\", \"longbourn\", \"longbourn\", \"longbourn\", \"longstaple\", \"longstaple\", \"look\", \"look\", \"look\", \"look\", \"look\", \"look\", \"look\", \"look\", \"look\", \"look\", \"look\", \"look\", \"look\", \"look\", \"looked\", \"looked\", \"looked\", \"looked\", \"looked\", \"looked\", \"looked\", \"looked\", \"looked\", \"looked\", \"looked\", \"looked\", \"looked\", \"looked\", \"looked\", \"looking\", \"looking\", \"looking\", \"looking\", \"looking\", \"looking\", \"looking\", \"looking\", \"looking\", \"looking\", \"looking\", \"looking\", \"looking\", \"looking\", \"love\", \"love\", \"love\", \"love\", \"love\", \"love\", \"love\", \"love\", \"love\", \"love\", \"love\", \"love\", \"love\", \"love\", \"lowered\", \"lowered\", \"lowood\", \"lowood\", \"lowood\", \"lowood\", \"lucas\", \"lucas\", \"lucas\", \"lucases\", \"lucases\", \"lucy\", \"lucy\", \"lucy\", \"lucy\", \"lucy\", \"lucy\", \"lucy\", \"lucy\", \"lucy\", \"lucy\", \"lydia\", \"lydia\", \"lydia\", \"lydia\", \"lydia\", \"lydia\", \"madame\", \"madame\", \"madame\", \"madame\", \"madame\", \"madame\", \"madame\", \"madame\", \"mademoiselle\", \"mademoiselle\", \"mademoiselle\", \"mademoiselle\", \"magna\", \"magna\", \"mal\", \"mamma\", \"mamma\", \"mamma\", \"mamma\", \"mamma\", \"mamma\", \"mamma\", \"man\", \"man\", \"man\", \"man\", \"man\", \"man\", \"man\", \"man\", \"man\", \"man\", \"man\", \"man\", \"man\", \"man\", \"man\", \"maple\", \"maple\", \"maple\", \"marchmont\", \"margaret\", \"marianne\", \"marianne\", \"marianne\", \"marianne\", \"marianne\", \"marianne\", \"marianne\", \"marianne\", \"marie\", \"marie\", \"marie\", \"marriage\", \"marriage\", \"marriage\", \"marriage\", \"marriage\", \"marriage\", \"marriage\", \"marriage\", \"marriage\", \"marriage\", \"marriage\", \"marriage\", \"married\", \"married\", \"married\", \"married\", \"married\", \"married\", \"married\", \"married\", \"married\", \"married\", \"married\", \"married\", \"marry\", \"marry\", \"marry\", \"marry\", \"marry\", \"marry\", \"marry\", \"marry\", \"marry\", \"marry\", \"marry\", \"marry\", \"martin\", \"martin\", \"martin\", \"martins\", \"martins\", \"martins\", \"mary\", \"mary\", \"mary\", \"mary\", \"mary\", \"mary\", \"mary\", \"mary\", \"mary\", \"mary\", \"mason\", \"mason\", \"mason\", \"mason\", \"mason\", \"matched\", \"matched\", \"matched\", \"matches\", \"matches\", \"matches\", \"matches\", \"mdlle\", \"mdlle\", \"meat\", \"meat\", \"meat\", \"meat\", \"meat\", \"memories\", \"memories\", \"mere\", \"mere\", \"mere\", \"mere\", \"mere\", \"mere\", \"mere\", \"mere\", \"mere\", \"mere\", \"merits\", \"merits\", \"merits\", \"merits\", \"merits\", \"merits\", \"merits\", \"merits\", \"merits\", \"middleton\", \"middleton\", \"middleton\", \"middleton\", \"middletons\", \"midsummer\", \"midsummer\", \"midsummer\", \"midsummer\", \"militia\", \"militia\", \"militia\", \"mind\", \"mind\", \"mind\", \"mind\", \"mind\", \"mind\", \"mind\", \"mind\", \"mind\", \"mind\", \"mind\", \"mind\", \"mind\", \"mind\", \"mind\", \"mischievous\", \"mischievous\", \"mischievous\", \"mischievous\", \"misconduct\", \"misconduct\", \"misconduct\", \"miss\", \"miss\", \"miss\", \"miss\", \"miss\", \"miss\", \"miss\", \"miss\", \"miss\", \"miss\", \"miss\", \"miss\", \"miss\", \"misty\", \"misty\", \"misunderstand\", \"misunderstand\", \"misunderstand\", \"misunderstood\", \"misunderstood\", \"money\", \"money\", \"money\", \"money\", \"money\", \"money\", \"money\", \"money\", \"money\", \"money\", \"money\", \"money\", \"money\", \"monitor\", \"monitor\", \"monsieur\", \"monsieur\", \"monsieur\", \"monsieur\", \"monsieur\", \"moon\", \"moon\", \"moon\", \"moon\", \"moor\", \"moor\", \"moor\", \"moors\", \"moors\", \"morning\", \"morning\", \"morning\", \"morning\", \"morning\", \"morning\", \"morning\", \"morning\", \"morning\", \"morning\", \"morning\", \"morning\", \"morning\", \"morning\", \"mother\", \"mother\", \"mother\", \"mother\", \"mother\", \"mother\", \"mother\", \"mother\", \"mother\", \"mother\", \"mother\", \"mother\", \"mother\", \"motive\", \"motive\", \"motive\", \"motive\", \"motive\", \"motive\", \"motive\", \"motive\", \"motive\", \"mud\", \"mud\", \"mud\", \"mud\", \"musings\", \"musings\", \"musings\", \"mystic\", \"mystic\", \"naivete\", \"nash\", \"nash\", \"nature\", \"nature\", \"nature\", \"nature\", \"nature\", \"nature\", \"nature\", \"nature\", \"nature\", \"nature\", \"nature\", \"nature\", \"nature\", \"nature\", \"natures\", \"ne\", \"ne\", \"ne\", \"near\", \"near\", \"near\", \"near\", \"near\", \"near\", \"near\", \"near\", \"near\", \"near\", \"near\", \"near\", \"near\", \"near\", \"needful\", \"needful\", \"needful\", \"negligent\", \"negligent\", \"negligent\", \"negligent\", \"nest\", \"nest\", \"nest\", \"netherfield\", \"netherfield\", \"netherfield\", \"netherfield\", \"netherfield\", \"news\", \"news\", \"news\", \"news\", \"news\", \"news\", \"news\", \"news\", \"news\", \"news\", \"niece\", \"niece\", \"niece\", \"niece\", \"niece\", \"niece\", \"nieces\", \"nieces\", \"nieces\", \"nieces\", \"nieces\", \"night\", \"night\", \"night\", \"night\", \"night\", \"night\", \"night\", \"night\", \"night\", \"night\", \"night\", \"night\", \"night\", \"night\", \"night\", \"norland\", \"norland\", \"norland\", \"obviously\", \"obviously\", \"obviously\", \"obviously\", \"occurrences\", \"occurrences\", \"occurrences\", \"oh\", \"oh\", \"oh\", \"oh\", \"oh\", \"oh\", \"oh\", \"oh\", \"oh\", \"oh\", \"oh\", \"oh\", \"oh\", \"oh\", \"oh\", \"old\", \"old\", \"old\", \"old\", \"old\", \"old\", \"old\", \"old\", \"old\", \"old\", \"old\", \"old\", \"old\", \"old\", \"olive\", \"olive\", \"olive\", \"olive\", \"oliver\", \"oliver\", \"opaque\", \"ornamented\", \"ornamented\", \"orphan\", \"orphan\", \"orphan\", \"orphan\", \"orphan\", \"ostensible\", \"ostensible\", \"ought\", \"ought\", \"ought\", \"ought\", \"ought\", \"ought\", \"ought\", \"ought\", \"ought\", \"ought\", \"ought\", \"ought\", \"ought\", \"overtaken\", \"overtaken\", \"owing\", \"owing\", \"owing\", \"owing\", \"owing\", \"owing\", \"owing\", \"owing\", \"packing\", \"packing\", \"packing\", \"packing\", \"paletot\", \"paletot\", \"paletot\", \"palmer\", \"palmer\", \"palmer\", \"palmers\", \"parents\", \"parents\", \"parents\", \"parents\", \"parents\", \"parents\", \"parents\", \"parents\", \"particulars\", \"particulars\", \"particulars\", \"particulars\", \"particulars\", \"partners\", \"partners\", \"partners\", \"pas\", \"pas\", \"pas\", \"pas\", \"patient\", \"patient\", \"patient\", \"patient\", \"patient\", \"patient\", \"patient\", \"patty\", \"paul\", \"paul\", \"paul\", \"paul\", \"paul\", \"pelet\", \"pelet\", \"pelet\", \"pelet\", \"pemberley\", \"pemberley\", \"pemberley\", \"pemberley\", \"pencilled\", \"pencilled\", \"pencilled\", \"pens\", \"people\", \"people\", \"people\", \"people\", \"people\", \"people\", \"people\", \"people\", \"people\", \"people\", \"people\", \"people\", \"people\", \"people\", \"people\", \"perry\", \"perry\", \"perry\", \"perry\", \"petit\", \"petit\", \"peu\", \"philanthropist\", \"philanthropist\", \"philanthropist\", \"philanthropist\", \"philosophic\", \"philosophic\", \"philosophic\", \"pianoforte\", \"pianoforte\", \"pianoforte\", \"pianoforte\", \"pictures\", \"pictures\", \"pictures\", \"pictures\", \"pictures\", \"pictures\", \"pierre\", \"pierre\", \"pious\", \"pious\", \"pitcher\", \"place\", \"place\", \"place\", \"place\", \"place\", \"place\", \"place\", \"place\", \"place\", \"place\", \"place\", \"place\", \"place\", \"place\", \"place\", \"pleasanter\", \"pleasanter\", \"pleasanter\", \"pledged\", \"pledged\", \"pledged\", \"polly\", \"polly\", \"polly\", \"pompous\", \"pompous\", \"pompous\", \"poor\", \"poor\", \"poor\", \"poor\", \"poor\", \"poor\", \"poor\", \"poor\", \"poor\", \"poor\", \"poor\", \"poor\", \"poor\", \"portfolio\", \"portfolio\", \"portfolio\", \"portfolio\", \"pounds\", \"pounds\", \"pounds\", \"pounds\", \"pounds\", \"pounds\", \"pounds\", \"pounds\", \"pounds\", \"pounds\", \"practical\", \"practical\", \"practising\", \"practising\", \"practising\", \"practising\", \"pratt\", \"pratt\", \"pratt\", \"pratt\", \"precise\", \"precise\", \"preferred\", \"preferred\", \"preferred\", \"preferred\", \"preferred\", \"preferred\", \"preferred\", \"preferred\", \"prejudices\", \"prejudices\", \"prejudices\", \"prepossession\", \"prepossession\", \"prepossession\", \"present\", \"present\", \"present\", \"present\", \"present\", \"present\", \"present\", \"present\", \"present\", \"present\", \"present\", \"present\", \"present\", \"pretending\", \"pretending\", \"prevailing\", \"prevailing\", \"prevailing\", \"pride\", \"pride\", \"pride\", \"pride\", \"pride\", \"pride\", \"pride\", \"pride\", \"pride\", \"pride\", \"pride\", \"print\", \"print\", \"print\", \"privately\", \"privately\", \"privately\", \"privately\", \"procured\", \"procured\", \"procured\", \"procured\", \"procured\", \"procured\", \"procured\", \"profession\", \"profession\", \"profession\", \"profession\", \"profession\", \"profession\", \"profession\", \"profession\", \"professors\", \"prohibited\", \"prohibited\", \"prohibited\", \"prohibited\", \"projected\", \"projected\", \"projected\", \"promoted\", \"promoted\", \"promoted\", \"promoted\", \"property\", \"property\", \"property\", \"property\", \"property\", \"property\", \"property\", \"property\", \"property\", \"property\", \"property\", \"proposals\", \"proposals\", \"proposals\", \"proposals\", \"proposals\", \"proposals\", \"proposals\", \"proposals\", \"protest\", \"protest\", \"protest\", \"protest\", \"puts\", \"puts\", \"puts\", \"puts\", \"qu\", \"qu\", \"qu\", \"quadrille\", \"quadrille\", \"quadrille\", \"que\", \"que\", \"que\", \"que\", \"quel\", \"quel\", \"quel\", \"quickening\", \"quickening\", \"randalls\", \"randalls\", \"randalls\", \"randalls\", \"randalls\", \"rang\", \"rang\", \"rang\", \"rang\", \"rang\", \"rang\", \"rapturous\", \"rascal\", \"rascal\", \"rascal\", \"rascal\", \"raving\", \"raving\", \"raving\", \"raving\", \"recalled\", \"recalled\", \"recalled\", \"recalled\", \"recalled\", \"recalled\", \"reconciliation\", \"reconciliation\", \"reconciliation\", \"recur\", \"recur\", \"recur\", \"recur\", \"reed\", \"reed\", \"reed\", \"reed\", \"reed\", \"reflex\", \"refusal\", \"refusal\", \"refusal\", \"refusal\", \"refusal\", \"regards\", \"regards\", \"regards\", \"regiment\", \"regiment\", \"regiment\", \"regiment\", \"regiment\", \"regiment\", \"regiment\", \"regiment\", \"reject\", \"reject\", \"reject\", \"relations\", \"relations\", \"relations\", \"relations\", \"relations\", \"relations\", \"relations\", \"relations\", \"relations\", \"relations\", \"relations\", \"relations\", \"repeat\", \"repeat\", \"repeat\", \"repeat\", \"repeat\", \"repeat\", \"replied\", \"replied\", \"replied\", \"replied\", \"replied\", \"replied\", \"replied\", \"replied\", \"replied\", \"replied\", \"replied\", \"replied\", \"replied\", \"replied\", \"reproaching\", \"reproaching\", \"reproaching\", \"resources\", \"resources\", \"resources\", \"resources\", \"respectability\", \"respectability\", \"respectability\", \"restlessly\", \"restlessly\", \"restoration\", \"restoration\", \"restoration\", \"rests\", \"rests\", \"richard\", \"richard\", \"richard\", \"richmond\", \"richmond\", \"richmond\", \"rien\", \"rien\", \"rivers\", \"rivers\", \"rivers\", \"rivers\", \"rivers\", \"rivet\", \"rivet\", \"rob\", \"rob\", \"rob\", \"robert\", \"robert\", \"robert\", \"robert\", \"robert\", \"robert\", \"robert\", \"robert\", \"rochester\", \"rochester\", \"rochester\", \"rochester\", \"rochester\", \"rochester\", \"rochester\", \"room\", \"room\", \"room\", \"room\", \"room\", \"room\", \"room\", \"room\", \"room\", \"room\", \"room\", \"room\", \"room\", \"room\", \"room\", \"rose\", \"rose\", \"rose\", \"rose\", \"rose\", \"rose\", \"rose\", \"rose\", \"rose\", \"rosine\", \"rosine\", \"rosine\", \"rosings\", \"rosings\", \"roved\", \"roved\", \"roved\", \"rue\", \"rue\", \"rue\", \"rue\", \"ruin\", \"ruin\", \"ruin\", \"ruin\", \"ruin\", \"ruin\", \"ruin\", \"sacrificing\", \"sacrificing\", \"sacrificing\", \"sacrificing\", \"salary\", \"salary\", \"salary\", \"salary\", \"salary\", \"salutation\", \"sanctioned\", \"sanctioned\", \"sans\", \"sans\", \"sans\", \"sans\", \"saucy\", \"saucy\", \"saucy\", \"saw\", \"saw\", \"saw\", \"saw\", \"saw\", \"saw\", \"saw\", \"saw\", \"saw\", \"saw\", \"saw\", \"saw\", \"saw\", \"saw\", \"scatcherd\", \"scatcherd\", \"scenery\", \"scenery\", \"scenery\", \"scenery\", \"scent\", \"scent\", \"scent\", \"scent\", \"scholars\", \"school\", \"school\", \"school\", \"school\", \"school\", \"school\", \"school\", \"school\", \"school\", \"scotland\", \"scotland\", \"scotland\", \"scotland\", \"scotland\", \"scotland\", \"scrupled\", \"scrupled\", \"scrupled\", \"scrupled\", \"scrupled\", \"scrutinised\", \"scrutinised\", \"scrutinised\", \"seacombe\", \"seal\", \"seal\", \"secrecy\", \"secrecy\", \"secrecy\", \"secrecy\", \"secresy\", \"secresy\", \"seen\", \"seen\", \"seen\", \"seen\", \"seen\", \"seen\", \"seen\", \"seen\", \"seen\", \"seen\", \"seen\", \"seen\", \"seen\", \"seen\", \"selina\", \"sense\", \"sense\", \"sense\", \"sense\", \"sense\", \"sense\", \"sense\", \"sense\", \"sense\", \"sense\", \"sense\", \"sense\", \"serene\", \"servant\", \"servant\", \"servant\", \"servant\", \"servant\", \"servant\", \"servant\", \"servant\", \"servant\", \"settlement\", \"settlement\", \"severely\", \"severely\", \"severely\", \"severely\", \"severely\", \"shall\", \"shall\", \"shall\", \"shall\", \"shall\", \"shall\", \"shall\", \"shall\", \"shall\", \"shall\", \"shall\", \"shall\", \"shall\", \"shall\", \"shall\", \"shew\", \"shew\", \"shew\", \"shew\", \"shew\", \"shew\", \"shook\", \"shook\", \"shook\", \"shook\", \"shook\", \"shook\", \"shook\", \"shook\", \"shook\", \"shoot\", \"shoot\", \"sign\", \"sign\", \"sign\", \"sign\", \"sign\", \"sign\", \"sign\", \"significantly\", \"significantly\", \"sir\", \"sir\", \"sir\", \"sir\", \"sir\", \"sir\", \"sir\", \"sir\", \"sir\", \"sir\", \"sir\", \"sir\", \"sir\", \"sister\", \"sister\", \"sister\", \"sister\", \"sister\", \"sister\", \"sister\", \"sister\", \"sister\", \"sister\", \"sister\", \"sister\", \"sisters\", \"sisters\", \"sisters\", \"sisters\", \"sisters\", \"sisters\", \"sisters\", \"sisters\", \"sisters\", \"sisters\", \"sisters\", \"sixpence\", \"sixpence\", \"sixpence\", \"slice\", \"slice\", \"slice\", \"slice\", \"slip\", \"smith\", \"smith\", \"smith\", \"smith\", \"smith\", \"smith\", \"smith\", \"smith\", \"snowe\", \"snowe\", \"snowe\", \"softest\", \"softest\", \"softest\", \"solve\", \"solve\", \"solve\", \"soon\", \"soon\", \"soon\", \"soon\", \"soon\", \"soon\", \"soon\", \"soon\", \"soon\", \"soon\", \"soon\", \"soon\", \"soon\", \"soon\", \"soon\", \"sophie\", \"sophie\", \"spending\", \"spending\", \"spending\", \"spending\", \"spending\", \"spending\", \"spending\", \"spots\", \"spots\", \"spots\", \"sprain\", \"sprain\", \"sprain\", \"spurned\", \"spurned\", \"spurned\", \"st\", \"st\", \"st\", \"st\", \"st\", \"st\", \"st\", \"st\", \"staff\", \"staff\", \"staff\", \"stair\", \"stair\", \"stair\", \"statement\", \"statement\", \"statement\", \"statement\", \"statement\", \"stating\", \"stating\", \"stating\", \"steele\", \"steele\", \"steeles\", \"steeles\", \"stem\", \"stem\", \"stick\", \"stile\", \"stood\", \"stood\", \"stood\", \"stood\", \"stood\", \"stood\", \"stood\", \"stood\", \"stood\", \"stood\", \"stood\", \"stood\", \"stood\", \"stood\", \"stool\", \"stooped\", \"strange\", \"strange\", \"strange\", \"strange\", \"strange\", \"strange\", \"strange\", \"strange\", \"strange\", \"strange\", \"strange\", \"strange\", \"strange\", \"strangeness\", \"strangeness\", \"strangeness\", \"strangeness\", \"strikingly\", \"strikingly\", \"strikingly\", \"strikingly\", \"strikingly\", \"suckling\", \"suckling\", \"suckling\", \"sum\", \"sum\", \"sum\", \"sum\", \"sum\", \"sum\", \"sunset\", \"superfluous\", \"superfluous\", \"superfluous\", \"supplanted\", \"supplanted\", \"supplanted\", \"supplication\", \"supplication\", \"supplication\", \"supplying\", \"supplying\", \"supplying\", \"supplying\", \"suppose\", \"suppose\", \"suppose\", \"suppose\", \"suppose\", \"suppose\", \"suppose\", \"suppose\", \"suppose\", \"suppose\", \"suppose\", \"suppose\", \"suppose\", \"suppose\", \"supposing\", \"supposing\", \"supposing\", \"supposing\", \"supposing\", \"supposing\", \"supposing\", \"supposing\", \"sure\", \"sure\", \"sure\", \"sure\", \"sure\", \"sure\", \"sure\", \"sure\", \"sure\", \"sure\", \"sure\", \"sure\", \"sure\", \"sure\", \"surmises\", \"surmises\", \"surmises\", \"surmises\", \"surry\", \"surry\", \"survive\", \"survive\", \"survive\", \"survive\", \"sustained\", \"sustained\", \"swiss\", \"table\", \"table\", \"table\", \"table\", \"table\", \"table\", \"table\", \"table\", \"table\", \"table\", \"table\", \"table\", \"tableau\", \"taken\", \"taken\", \"taken\", \"taken\", \"taken\", \"taken\", \"taken\", \"taken\", \"taken\", \"taken\", \"taken\", \"taken\", \"taken\", \"tap\", \"tap\", \"tap\", \"tap\", \"tasks\", \"tasks\", \"tasks\", \"taylor\", \"taylor\", \"taylor\", \"taylor\", \"taylor\", \"tea\", \"tea\", \"tea\", \"tea\", \"tea\", \"tea\", \"tea\", \"tea\", \"tea\", \"tea\", \"tell\", \"tell\", \"tell\", \"tell\", \"tell\", \"tell\", \"tell\", \"tell\", \"tell\", \"tell\", \"tell\", \"tell\", \"tell\", \"tell\", \"tell\", \"temple\", \"temple\", \"temple\", \"temple\", \"temple\", \"temple\", \"thing\", \"thing\", \"thing\", \"thing\", \"thing\", \"thing\", \"thing\", \"thing\", \"thing\", \"thing\", \"thing\", \"thing\", \"thing\", \"thing\", \"think\", \"think\", \"think\", \"think\", \"think\", \"think\", \"think\", \"think\", \"think\", \"think\", \"think\", \"think\", \"think\", \"think\", \"think\", \"thornfield\", \"thornfield\", \"thornfield\", \"thornfield\", \"thornfield\", \"thought\", \"thought\", \"thought\", \"thought\", \"thought\", \"thought\", \"thought\", \"thought\", \"thought\", \"thought\", \"thought\", \"thought\", \"thought\", \"thought\", \"thought\", \"thoughtfulness\", \"thousand\", \"thousand\", \"thousand\", \"thousand\", \"thousand\", \"thousand\", \"thousand\", \"thousand\", \"thousand\", \"thousand\", \"till\", \"till\", \"till\", \"till\", \"till\", \"till\", \"till\", \"till\", \"till\", \"till\", \"till\", \"till\", \"till\", \"till\", \"till\", \"time\", \"time\", \"time\", \"time\", \"time\", \"time\", \"time\", \"time\", \"time\", \"time\", \"time\", \"time\", \"time\", \"time\", \"time\", \"tints\", \"tints\", \"tints\", \"toast\", \"toast\", \"toast\", \"took\", \"took\", \"took\", \"took\", \"took\", \"took\", \"took\", \"took\", \"took\", \"took\", \"took\", \"took\", \"took\", \"took\", \"took\", \"town\", \"town\", \"town\", \"town\", \"town\", \"town\", \"town\", \"town\", \"town\", \"town\", \"town\", \"tract\", \"tract\", \"tract\", \"tract\", \"traverse\", \"traverse\", \"tray\", \"tray\", \"tray\", \"tray\", \"treasured\", \"treasured\", \"treasured\", \"triumphantly\", \"triumphantly\", \"trop\", \"trop\", \"tyrant\", \"tyrant\", \"tyrant\", \"uncle\", \"uncle\", \"uncle\", \"uncle\", \"uncle\", \"uncle\", \"uncle\", \"uncle\", \"uncle\", \"uncle\", \"uncle\", \"undone\", \"une\", \"une\", \"unequivocal\", \"unequivocal\", \"unequivocal\", \"unequivocal\", \"unequivocal\", \"unexceptionable\", \"unexceptionable\", \"unfair\", \"unfair\", \"unfit\", \"unfit\", \"unfit\", \"unguarded\", \"unguarded\", \"unguarded\", \"uniformly\", \"uniformly\", \"uniformly\", \"uniformly\", \"unlocked\", \"unlocked\", \"unlocked\", \"unwillingly\", \"vale\", \"vandenhuten\", \"vanishing\", \"vanishing\", \"veil\", \"veil\", \"verbal\", \"verbal\", \"verbal\", \"vicarage\", \"vicarage\", \"vicarage\", \"victor\", \"victor\", \"victor\", \"villain\", \"villain\", \"villain\", \"villain\", \"villain\", \"violets\", \"visitation\", \"visitation\", \"vocation\", \"votre\", \"vouchsafe\", \"vous\", \"vous\", \"vous\", \"walnut\", \"walnut\", \"walnut\", \"walravens\", \"walravens\", \"walravens\", \"wanderings\", \"wanderings\", \"wanderings\", \"want\", \"want\", \"want\", \"want\", \"want\", \"want\", \"want\", \"want\", \"want\", \"want\", \"want\", \"want\", \"wardrobe\", \"way\", \"way\", \"way\", \"way\", \"way\", \"way\", \"way\", \"way\", \"way\", \"way\", \"way\", \"way\", \"way\", \"way\", \"way\", \"weekly\", \"weekly\", \"weekly\", \"went\", \"went\", \"went\", \"went\", \"went\", \"went\", \"went\", \"went\", \"went\", \"went\", \"went\", \"went\", \"went\", \"went\", \"weston\", \"weston\", \"weston\", \"weston\", \"weston\", \"westons\", \"westons\", \"wheeled\", \"wheeled\", \"wheeled\", \"whitcross\", \"whitcross\", \"white\", \"white\", \"white\", \"white\", \"white\", \"white\", \"white\", \"white\", \"white\", \"wholesome\", \"wholesome\", \"wholesome\", \"wholesome\", \"wholesome\", \"wicket\", \"wickham\", \"wickham\", \"wickham\", \"wickham\", \"wickham\", \"wickham\", \"wilfully\", \"wilfully\", \"willoughby\", \"willoughby\", \"willoughby\", \"willoughby\", \"willoughby\", \"willoughby\", \"windsor\", \"windsor\", \"windsor\", \"winning\", \"winning\", \"winning\", \"wishes\", \"wishes\", \"wishes\", \"wishes\", \"wishes\", \"wishes\", \"wishes\", \"wishes\", \"wishes\", \"woman\", \"woman\", \"woman\", \"woman\", \"woman\", \"woman\", \"woman\", \"woman\", \"woman\", \"woman\", \"woman\", \"woman\", \"woman\", \"woman\", \"wondrous\", \"wondrous\", \"wondrous\", \"woodhouse\", \"woodhouse\", \"woodhouse\", \"woodhouse\", \"woodhouse\", \"work\", \"work\", \"work\", \"work\", \"work\", \"work\", \"work\", \"work\", \"work\", \"work\", \"work\", \"wouldn\", \"wouldn\", \"wouldn\", \"years\", \"years\", \"years\", \"years\", \"years\", \"years\", \"years\", \"years\", \"years\", \"years\", \"years\", \"years\", \"years\", \"years\", \"yes\", \"yes\", \"yes\", \"yes\", \"yes\", \"yes\", \"yes\", \"yes\", \"yes\", \"yes\", \"yes\", \"yes\", \"yes\", \"yes\", \"yes\", \"yorke\", \"yorke\", \"yorke\", \"yorke\", \"yorkshire\", \"yorkshire\", \"young\", \"young\", \"young\", \"young\", \"young\", \"young\", \"young\", \"young\", \"young\", \"young\", \"young\", \"young\", \"young\", \"young\", \"zelie\", \"zelie\"]}, \"R\": 30, \"lambda.step\": 0.01, \"plot.opts\": {\"xlab\": \"PC1\", \"ylab\": \"PC2\"}, \"topic.order\": [11, 3, 5, 8, 1, 12, 6, 15, 2, 9, 4, 10, 13, 7, 14]};\n",
       "\n",
       "function LDAvis_load_lib(url, callback){\n",
       "  var s = document.createElement('script');\n",
       "  s.src = url;\n",
       "  s.async = true;\n",
       "  s.onreadystatechange = s.onload = callback;\n",
       "  s.onerror = function(){console.warn(\"failed to load library \" + url);};\n",
       "  document.getElementsByTagName(\"head\")[0].appendChild(s);\n",
       "}\n",
       "\n",
       "if(typeof(LDAvis) !== \"undefined\"){\n",
       "   // already loaded: just create the visualization\n",
       "   !function(LDAvis){\n",
       "       new LDAvis(\"#\" + \"ldavis_el1704022172486359765158156482\", ldavis_el1704022172486359765158156482_data);\n",
       "   }(LDAvis);\n",
       "}else if(typeof define === \"function\" && define.amd){\n",
       "   // require.js is available: use it to load d3/LDAvis\n",
       "   require.config({paths: {d3: \"https://cdnjs.cloudflare.com/ajax/libs/d3/3.5.5/d3.min\"}});\n",
       "   require([\"d3\"], function(d3){\n",
       "      window.d3 = d3;\n",
       "      LDAvis_load_lib(\"https://cdn.rawgit.com/bmabey/pyLDAvis/files/ldavis.v1.0.0.js\", function(){\n",
       "        new LDAvis(\"#\" + \"ldavis_el1704022172486359765158156482\", ldavis_el1704022172486359765158156482_data);\n",
       "      });\n",
       "    });\n",
       "}else{\n",
       "    // require.js not available: dynamically load d3 & LDAvis\n",
       "    LDAvis_load_lib(\"https://cdnjs.cloudflare.com/ajax/libs/d3/3.5.5/d3.min.js\", function(){\n",
       "         LDAvis_load_lib(\"https://cdn.rawgit.com/bmabey/pyLDAvis/files/ldavis.v1.0.0.js\", function(){\n",
       "                 new LDAvis(\"#\" + \"ldavis_el1704022172486359765158156482\", ldavis_el1704022172486359765158156482_data);\n",
       "            })\n",
       "         });\n",
       "}\n",
       "</script>"
      ],
      "text/plain": [
       "PreparedData(topic_coordinates=              x         y  topics  cluster       Freq\n",
       "topic                                                \n",
       "10     0.086109  0.006008       1        1  41.976704\n",
       "2     -0.096107 -0.014838       2        1  19.396441\n",
       "4     -0.069379  0.064266       3        1  11.418566\n",
       "7      0.123732  0.057420       4        1   8.034663\n",
       "0     -0.113208  0.084783       5        1   4.911795\n",
       "11    -0.103097  0.091143       6        1   4.028003\n",
       "5     -0.114385 -0.018411       7        1   3.994246\n",
       "14    -0.103919 -0.106250       8        1   1.489619\n",
       "1      0.011589 -0.029207       9        1   1.013517\n",
       "8      0.097039  0.021387      10        1   0.999440\n",
       "3      0.142886 -0.006040      11        1   0.770558\n",
       "9     -0.073179 -0.104524      12        1   0.767084\n",
       "12     0.028002  0.056611      13        1   0.646022\n",
       "6      0.102658 -0.024924      14        1   0.297365\n",
       "13     0.081258 -0.077425      15        1   0.255976, topic_info=       Term         Freq        Total Category  logprob  loglift\n",
       "403    like  1327.000000  1327.000000  Default  30.0000  30.0000\n",
       "159  little  1716.000000  1716.000000  Default  29.0000  29.0000\n",
       "183    miss  1508.000000  1508.000000  Default  28.0000  28.0000\n",
       "399    know  1421.000000  1421.000000  Default  27.0000  27.0000\n",
       "86     emma   819.000000   819.000000  Default  26.0000  26.0000\n",
       "..      ...          ...          ...      ...      ...      ...\n",
       "148    jane     1.964192   907.805542  Topic15  -6.0124  -0.1681\n",
       "856   heard     1.899378   621.640198  Topic15  -6.0460   0.1770\n",
       "260    soon     1.874974   922.447754  Topic15  -6.0589  -0.2306\n",
       "135   house     1.863696   758.746460  Topic15  -6.0649  -0.0413\n",
       "356   doubt     1.821970   313.732605  Topic15  -6.0876   0.8192\n",
       "\n",
       "[1129 rows x 6 columns], token_table=      Topic      Freq     Term\n",
       "term                          \n",
       "7784      1  0.737192  abandon\n",
       "7784     15  0.184298  abandon\n",
       "792       3  0.230587    abbey\n",
       "792       5  0.658820    abbey\n",
       "792       6  0.098823    abbey\n",
       "...     ...       ...      ...\n",
       "611      12  0.024409    young\n",
       "611      13  0.009154    young\n",
       "611      14  0.001526    young\n",
       "8084      1  0.113948    zelie\n",
       "8084      4  0.854609    zelie\n",
       "\n",
       "[4298 rows x 3 columns], R=30, lambda_step=0.01, plot_opts={'xlab': 'PC1', 'ylab': 'PC2'}, topic_order=[11, 3, 5, 8, 1, 12, 6, 15, 2, 9, 4, 10, 13, 7, 14])"
      ]
     },
     "execution_count": 40,
     "metadata": {},
     "output_type": "execute_result"
    }
   ],
   "source": [
    "pyLDAvis.gensim.prepare(lda, corpus, id2word)"
   ]
  },
  {
   "cell_type": "markdown",
   "metadata": {},
   "source": [
    "### Overall Model / Documents"
   ]
  },
  {
   "cell_type": "code",
   "execution_count": 41,
   "metadata": {},
   "outputs": [
    {
     "data": {
      "text/plain": [
       "[(2, 0.23459414), (11, 0.7633983)]"
      ]
     },
     "execution_count": 41,
     "metadata": {},
     "output_type": "execute_result"
    }
   ],
   "source": [
    "lda[corpus[0]]"
   ]
  },
  {
   "cell_type": "code",
   "execution_count": 42,
   "metadata": {},
   "outputs": [],
   "source": [
    "distro = [lda[d] for d in corpus]"
   ]
  },
  {
   "cell_type": "code",
   "execution_count": 43,
   "metadata": {},
   "outputs": [
    {
     "data": {
      "text/plain": [
       "[(2, 0.23459637), (11, 0.763396)]"
      ]
     },
     "execution_count": 43,
     "metadata": {},
     "output_type": "execute_result"
    }
   ],
   "source": [
    "distro[0]"
   ]
  },
  {
   "cell_type": "code",
   "execution_count": 44,
   "metadata": {},
   "outputs": [],
   "source": [
    "distro = [lda[d] for d in corpus]\n",
    "\n",
    "def update(doc):\n",
    "        d_dist = {k:0 for k in range(0,15)}\n",
    "        for t in doc:\n",
    "            d_dist[t[0]] = t[1]\n",
    "        return d_dist\n",
    "    \n",
    "new_distro = [update(d) for d in distro]"
   ]
  },
  {
   "cell_type": "code",
   "execution_count": 45,
   "metadata": {},
   "outputs": [
    {
     "data": {
      "text/plain": [
       "813"
      ]
     },
     "execution_count": 45,
     "metadata": {},
     "output_type": "execute_result"
    }
   ],
   "source": [
    "len(new_distro)"
   ]
  },
  {
   "cell_type": "code",
   "execution_count": 46,
   "metadata": {},
   "outputs": [
    {
     "data": {
      "text/html": [
       "<div>\n",
       "<style scoped>\n",
       "    .dataframe tbody tr th:only-of-type {\n",
       "        vertical-align: middle;\n",
       "    }\n",
       "\n",
       "    .dataframe tbody tr th {\n",
       "        vertical-align: top;\n",
       "    }\n",
       "\n",
       "    .dataframe thead th {\n",
       "        text-align: right;\n",
       "    }\n",
       "</style>\n",
       "<table border=\"1\" class=\"dataframe\">\n",
       "  <thead>\n",
       "    <tr style=\"text-align: right;\">\n",
       "      <th></th>\n",
       "      <th>tokens</th>\n",
       "      <th>author</th>\n",
       "      <th>book</th>\n",
       "      <th>section</th>\n",
       "    </tr>\n",
       "  </thead>\n",
       "  <tbody>\n",
       "    <tr>\n",
       "      <th>Austen_Emma0000</th>\n",
       "      <td>[emma, jane, austen, volume, chapter, emma, wo...</td>\n",
       "      <td>1</td>\n",
       "      <td>Emma</td>\n",
       "      <td>0</td>\n",
       "    </tr>\n",
       "    <tr>\n",
       "      <th>Austen_Emma0001</th>\n",
       "      <td>[taylor, wish, pity, weston, thought, agree, p...</td>\n",
       "      <td>1</td>\n",
       "      <td>Emma</td>\n",
       "      <td>1</td>\n",
       "    </tr>\n",
       "    <tr>\n",
       "      <th>Austen_Emma0002</th>\n",
       "      <td>[behaved, charmingly, body, punctual, body, be...</td>\n",
       "      <td>1</td>\n",
       "      <td>Emma</td>\n",
       "      <td>2</td>\n",
       "    </tr>\n",
       "    <tr>\n",
       "      <th>Austen_Emma0003</th>\n",
       "      <td>[native, highbury, born, respectable, family, ...</td>\n",
       "      <td>1</td>\n",
       "      <td>Emma</td>\n",
       "      <td>3</td>\n",
       "    </tr>\n",
       "    <tr>\n",
       "      <th>Austen_Emma0004</th>\n",
       "      <td>[mention, handsome, letter, weston, received, ...</td>\n",
       "      <td>1</td>\n",
       "      <td>Emma</td>\n",
       "      <td>4</td>\n",
       "    </tr>\n",
       "  </tbody>\n",
       "</table>\n",
       "</div>"
      ],
      "text/plain": [
       "                                                            tokens  author  \\\n",
       "Austen_Emma0000  [emma, jane, austen, volume, chapter, emma, wo...       1   \n",
       "Austen_Emma0001  [taylor, wish, pity, weston, thought, agree, p...       1   \n",
       "Austen_Emma0002  [behaved, charmingly, body, punctual, body, be...       1   \n",
       "Austen_Emma0003  [native, highbury, born, respectable, family, ...       1   \n",
       "Austen_Emma0004  [mention, handsome, letter, weston, received, ...       1   \n",
       "\n",
       "                 book  section  \n",
       "Austen_Emma0000  Emma        0  \n",
       "Austen_Emma0001  Emma        1  \n",
       "Austen_Emma0002  Emma        2  \n",
       "Austen_Emma0003  Emma        3  \n",
       "Austen_Emma0004  Emma        4  "
      ]
     },
     "execution_count": 46,
     "metadata": {},
     "output_type": "execute_result"
    }
   ],
   "source": [
    "df.head()"
   ]
  },
  {
   "cell_type": "code",
   "execution_count": 47,
   "metadata": {},
   "outputs": [],
   "source": [
    "df = pd.DataFrame.from_records(new_distro, index=titles)\n",
    "df.columns = topics\n",
    "df['author'] = df.reset_index()['index'].apply(lambda x: x.split('_')[0]).tolist()"
   ]
  },
  {
   "cell_type": "code",
   "execution_count": 48,
   "metadata": {},
   "outputs": [
    {
     "data": {
      "text/html": [
       "<div>\n",
       "<style scoped>\n",
       "    .dataframe tbody tr th:only-of-type {\n",
       "        vertical-align: middle;\n",
       "    }\n",
       "\n",
       "    .dataframe tbody tr th {\n",
       "        vertical-align: top;\n",
       "    }\n",
       "\n",
       "    .dataframe thead th {\n",
       "        text-align: right;\n",
       "    }\n",
       "</style>\n",
       "<table border=\"1\" class=\"dataframe\">\n",
       "  <thead>\n",
       "    <tr style=\"text-align: right;\">\n",
       "      <th></th>\n",
       "      <th>harriet emma weston elton good</th>\n",
       "      <th>like sir jane thought little</th>\n",
       "      <th>elinor marianne elizabeth sister miss</th>\n",
       "      <th>hand eyes john like saw</th>\n",
       "      <th>miss jane emma know thing</th>\n",
       "      <th>jane elizabeth darcy know wickham</th>\n",
       "      <th>hunsden miss helen temple bread</th>\n",
       "      <th>little madame like monsieur vous</th>\n",
       "      <th>burns thought like scatcherd miss</th>\n",
       "      <th>man bennet young elizabeth collins</th>\n",
       "      <th>like little thought long good</th>\n",
       "      <th>emma miss knightley harriet thing</th>\n",
       "      <th>bretton know dr little lucy</th>\n",
       "      <th>thousand mason like know sisters</th>\n",
       "      <th>lydia mother wickham father uncle</th>\n",
       "      <th>author</th>\n",
       "    </tr>\n",
       "  </thead>\n",
       "  <tbody>\n",
       "    <tr>\n",
       "      <th>Austen_Emma0000</th>\n",
       "      <td>0.000000</td>\n",
       "      <td>0.0</td>\n",
       "      <td>0.234599</td>\n",
       "      <td>0.0</td>\n",
       "      <td>0.000000</td>\n",
       "      <td>0.000000</td>\n",
       "      <td>0.0</td>\n",
       "      <td>0.0</td>\n",
       "      <td>0.0</td>\n",
       "      <td>0.0</td>\n",
       "      <td>0.0</td>\n",
       "      <td>0.763394</td>\n",
       "      <td>0.000000</td>\n",
       "      <td>0.0</td>\n",
       "      <td>0.0</td>\n",
       "      <td>Austen</td>\n",
       "    </tr>\n",
       "    <tr>\n",
       "      <th>Austen_Emma0001</th>\n",
       "      <td>0.339853</td>\n",
       "      <td>0.0</td>\n",
       "      <td>0.000000</td>\n",
       "      <td>0.0</td>\n",
       "      <td>0.427913</td>\n",
       "      <td>0.000000</td>\n",
       "      <td>0.0</td>\n",
       "      <td>0.0</td>\n",
       "      <td>0.0</td>\n",
       "      <td>0.0</td>\n",
       "      <td>0.0</td>\n",
       "      <td>0.229980</td>\n",
       "      <td>0.000000</td>\n",
       "      <td>0.0</td>\n",
       "      <td>0.0</td>\n",
       "      <td>Austen</td>\n",
       "    </tr>\n",
       "    <tr>\n",
       "      <th>Austen_Emma0002</th>\n",
       "      <td>0.669727</td>\n",
       "      <td>0.0</td>\n",
       "      <td>0.000000</td>\n",
       "      <td>0.0</td>\n",
       "      <td>0.000000</td>\n",
       "      <td>0.000000</td>\n",
       "      <td>0.0</td>\n",
       "      <td>0.0</td>\n",
       "      <td>0.0</td>\n",
       "      <td>0.0</td>\n",
       "      <td>0.0</td>\n",
       "      <td>0.328009</td>\n",
       "      <td>0.000000</td>\n",
       "      <td>0.0</td>\n",
       "      <td>0.0</td>\n",
       "      <td>Austen</td>\n",
       "    </tr>\n",
       "    <tr>\n",
       "      <th>Austen_Emma0003</th>\n",
       "      <td>0.191078</td>\n",
       "      <td>0.0</td>\n",
       "      <td>0.000000</td>\n",
       "      <td>0.0</td>\n",
       "      <td>0.000000</td>\n",
       "      <td>0.806792</td>\n",
       "      <td>0.0</td>\n",
       "      <td>0.0</td>\n",
       "      <td>0.0</td>\n",
       "      <td>0.0</td>\n",
       "      <td>0.0</td>\n",
       "      <td>0.000000</td>\n",
       "      <td>0.000000</td>\n",
       "      <td>0.0</td>\n",
       "      <td>0.0</td>\n",
       "      <td>Austen</td>\n",
       "    </tr>\n",
       "    <tr>\n",
       "      <th>Austen_Emma0004</th>\n",
       "      <td>0.485058</td>\n",
       "      <td>0.0</td>\n",
       "      <td>0.000000</td>\n",
       "      <td>0.0</td>\n",
       "      <td>0.000000</td>\n",
       "      <td>0.000000</td>\n",
       "      <td>0.0</td>\n",
       "      <td>0.0</td>\n",
       "      <td>0.0</td>\n",
       "      <td>0.0</td>\n",
       "      <td>0.0</td>\n",
       "      <td>0.106300</td>\n",
       "      <td>0.406793</td>\n",
       "      <td>0.0</td>\n",
       "      <td>0.0</td>\n",
       "      <td>Austen</td>\n",
       "    </tr>\n",
       "  </tbody>\n",
       "</table>\n",
       "</div>"
      ],
      "text/plain": [
       "                 harriet emma weston elton good  like sir jane thought little  \\\n",
       "Austen_Emma0000                        0.000000                           0.0   \n",
       "Austen_Emma0001                        0.339853                           0.0   \n",
       "Austen_Emma0002                        0.669727                           0.0   \n",
       "Austen_Emma0003                        0.191078                           0.0   \n",
       "Austen_Emma0004                        0.485058                           0.0   \n",
       "\n",
       "                 elinor marianne elizabeth sister miss  \\\n",
       "Austen_Emma0000                               0.234599   \n",
       "Austen_Emma0001                               0.000000   \n",
       "Austen_Emma0002                               0.000000   \n",
       "Austen_Emma0003                               0.000000   \n",
       "Austen_Emma0004                               0.000000   \n",
       "\n",
       "                 hand eyes john like saw  miss jane emma know thing  \\\n",
       "Austen_Emma0000                      0.0                   0.000000   \n",
       "Austen_Emma0001                      0.0                   0.427913   \n",
       "Austen_Emma0002                      0.0                   0.000000   \n",
       "Austen_Emma0003                      0.0                   0.000000   \n",
       "Austen_Emma0004                      0.0                   0.000000   \n",
       "\n",
       "                 jane elizabeth darcy know wickham  \\\n",
       "Austen_Emma0000                           0.000000   \n",
       "Austen_Emma0001                           0.000000   \n",
       "Austen_Emma0002                           0.000000   \n",
       "Austen_Emma0003                           0.806792   \n",
       "Austen_Emma0004                           0.000000   \n",
       "\n",
       "                 hunsden miss helen temple bread  \\\n",
       "Austen_Emma0000                              0.0   \n",
       "Austen_Emma0001                              0.0   \n",
       "Austen_Emma0002                              0.0   \n",
       "Austen_Emma0003                              0.0   \n",
       "Austen_Emma0004                              0.0   \n",
       "\n",
       "                 little madame like monsieur vous  \\\n",
       "Austen_Emma0000                               0.0   \n",
       "Austen_Emma0001                               0.0   \n",
       "Austen_Emma0002                               0.0   \n",
       "Austen_Emma0003                               0.0   \n",
       "Austen_Emma0004                               0.0   \n",
       "\n",
       "                 burns thought like scatcherd miss  \\\n",
       "Austen_Emma0000                                0.0   \n",
       "Austen_Emma0001                                0.0   \n",
       "Austen_Emma0002                                0.0   \n",
       "Austen_Emma0003                                0.0   \n",
       "Austen_Emma0004                                0.0   \n",
       "\n",
       "                 man bennet young elizabeth collins  \\\n",
       "Austen_Emma0000                                 0.0   \n",
       "Austen_Emma0001                                 0.0   \n",
       "Austen_Emma0002                                 0.0   \n",
       "Austen_Emma0003                                 0.0   \n",
       "Austen_Emma0004                                 0.0   \n",
       "\n",
       "                 like little thought long good  \\\n",
       "Austen_Emma0000                            0.0   \n",
       "Austen_Emma0001                            0.0   \n",
       "Austen_Emma0002                            0.0   \n",
       "Austen_Emma0003                            0.0   \n",
       "Austen_Emma0004                            0.0   \n",
       "\n",
       "                 emma miss knightley harriet thing  \\\n",
       "Austen_Emma0000                           0.763394   \n",
       "Austen_Emma0001                           0.229980   \n",
       "Austen_Emma0002                           0.328009   \n",
       "Austen_Emma0003                           0.000000   \n",
       "Austen_Emma0004                           0.106300   \n",
       "\n",
       "                 bretton know dr little lucy  \\\n",
       "Austen_Emma0000                     0.000000   \n",
       "Austen_Emma0001                     0.000000   \n",
       "Austen_Emma0002                     0.000000   \n",
       "Austen_Emma0003                     0.000000   \n",
       "Austen_Emma0004                     0.406793   \n",
       "\n",
       "                 thousand mason like know sisters  \\\n",
       "Austen_Emma0000                               0.0   \n",
       "Austen_Emma0001                               0.0   \n",
       "Austen_Emma0002                               0.0   \n",
       "Austen_Emma0003                               0.0   \n",
       "Austen_Emma0004                               0.0   \n",
       "\n",
       "                 lydia mother wickham father uncle  author  \n",
       "Austen_Emma0000                                0.0  Austen  \n",
       "Austen_Emma0001                                0.0  Austen  \n",
       "Austen_Emma0002                                0.0  Austen  \n",
       "Austen_Emma0003                                0.0  Austen  \n",
       "Austen_Emma0004                                0.0  Austen  "
      ]
     },
     "execution_count": 48,
     "metadata": {},
     "output_type": "execute_result"
    }
   ],
   "source": [
    "df.head()"
   ]
  },
  {
   "cell_type": "code",
   "execution_count": 49,
   "metadata": {},
   "outputs": [
    {
     "data": {
      "text/html": [
       "<div>\n",
       "<style scoped>\n",
       "    .dataframe tbody tr th:only-of-type {\n",
       "        vertical-align: middle;\n",
       "    }\n",
       "\n",
       "    .dataframe tbody tr th {\n",
       "        vertical-align: top;\n",
       "    }\n",
       "\n",
       "    .dataframe thead th {\n",
       "        text-align: right;\n",
       "    }\n",
       "</style>\n",
       "<table border=\"1\" class=\"dataframe\">\n",
       "  <thead>\n",
       "    <tr style=\"text-align: right;\">\n",
       "      <th></th>\n",
       "      <th>harriet emma weston elton good</th>\n",
       "      <th>like sir jane thought little</th>\n",
       "      <th>elinor marianne elizabeth sister miss</th>\n",
       "      <th>hand eyes john like saw</th>\n",
       "      <th>miss jane emma know thing</th>\n",
       "      <th>jane elizabeth darcy know wickham</th>\n",
       "      <th>hunsden miss helen temple bread</th>\n",
       "      <th>little madame like monsieur vous</th>\n",
       "      <th>burns thought like scatcherd miss</th>\n",
       "      <th>man bennet young elizabeth collins</th>\n",
       "      <th>like little thought long good</th>\n",
       "      <th>emma miss knightley harriet thing</th>\n",
       "      <th>bretton know dr little lucy</th>\n",
       "      <th>thousand mason like know sisters</th>\n",
       "      <th>lydia mother wickham father uncle</th>\n",
       "    </tr>\n",
       "    <tr>\n",
       "      <th>author</th>\n",
       "      <th></th>\n",
       "      <th></th>\n",
       "      <th></th>\n",
       "      <th></th>\n",
       "      <th></th>\n",
       "      <th></th>\n",
       "      <th></th>\n",
       "      <th></th>\n",
       "      <th></th>\n",
       "      <th></th>\n",
       "      <th></th>\n",
       "      <th></th>\n",
       "      <th></th>\n",
       "      <th></th>\n",
       "      <th></th>\n",
       "    </tr>\n",
       "  </thead>\n",
       "  <tbody>\n",
       "    <tr>\n",
       "      <th>Austen</th>\n",
       "      <td>0.103918</td>\n",
       "      <td>0.006973</td>\n",
       "      <td>0.428128</td>\n",
       "      <td>0.000000</td>\n",
       "      <td>0.211957</td>\n",
       "      <td>0.088507</td>\n",
       "      <td>0.000000</td>\n",
       "      <td>0.000291</td>\n",
       "      <td>0.001807</td>\n",
       "      <td>0.017822</td>\n",
       "      <td>0.013380</td>\n",
       "      <td>0.086613</td>\n",
       "      <td>0.004561</td>\n",
       "      <td>0.000028</td>\n",
       "      <td>0.033301</td>\n",
       "    </tr>\n",
       "    <tr>\n",
       "      <th>CBronte</th>\n",
       "      <td>0.003945</td>\n",
       "      <td>0.012633</td>\n",
       "      <td>0.008016</td>\n",
       "      <td>0.013694</td>\n",
       "      <td>0.036295</td>\n",
       "      <td>0.003886</td>\n",
       "      <td>0.005369</td>\n",
       "      <td>0.137135</td>\n",
       "      <td>0.015776</td>\n",
       "      <td>0.000056</td>\n",
       "      <td>0.746322</td>\n",
       "      <td>0.001341</td>\n",
       "      <td>0.007101</td>\n",
       "      <td>0.004740</td>\n",
       "      <td>0.001020</td>\n",
       "    </tr>\n",
       "  </tbody>\n",
       "</table>\n",
       "</div>"
      ],
      "text/plain": [
       "         harriet emma weston elton good  like sir jane thought little  \\\n",
       "author                                                                  \n",
       "Austen                         0.103918                      0.006973   \n",
       "CBronte                        0.003945                      0.012633   \n",
       "\n",
       "         elinor marianne elizabeth sister miss  hand eyes john like saw  \\\n",
       "author                                                                    \n",
       "Austen                                0.428128                 0.000000   \n",
       "CBronte                               0.008016                 0.013694   \n",
       "\n",
       "         miss jane emma know thing  jane elizabeth darcy know wickham  \\\n",
       "author                                                                  \n",
       "Austen                    0.211957                           0.088507   \n",
       "CBronte                   0.036295                           0.003886   \n",
       "\n",
       "         hunsden miss helen temple bread  little madame like monsieur vous  \\\n",
       "author                                                                       \n",
       "Austen                          0.000000                          0.000291   \n",
       "CBronte                         0.005369                          0.137135   \n",
       "\n",
       "         burns thought like scatcherd miss  \\\n",
       "author                                       \n",
       "Austen                            0.001807   \n",
       "CBronte                           0.015776   \n",
       "\n",
       "         man bennet young elizabeth collins  like little thought long good  \\\n",
       "author                                                                       \n",
       "Austen                             0.017822                       0.013380   \n",
       "CBronte                            0.000056                       0.746322   \n",
       "\n",
       "         emma miss knightley harriet thing  bretton know dr little lucy  \\\n",
       "author                                                                    \n",
       "Austen                            0.086613                     0.004561   \n",
       "CBronte                           0.001341                     0.007101   \n",
       "\n",
       "         thousand mason like know sisters  lydia mother wickham father uncle  \n",
       "author                                                                        \n",
       "Austen                           0.000028                           0.033301  \n",
       "CBronte                          0.004740                           0.001020  "
      ]
     },
     "execution_count": 49,
     "metadata": {},
     "output_type": "execute_result"
    }
   ],
   "source": [
    "df.groupby('author').mean()"
   ]
  },
  {
   "cell_type": "markdown",
   "metadata": {},
   "source": [
    "## Challenge\n",
    "### *Can we see if one of the authors focus more on men than women?*\n",
    "\n",
    "*  Use Spacy for text preprocessing\n",
    "*  Extract the Named Entities from the documents using Spacy (command is fairly straight forward)\n",
    "*  Create unique list of names from the authors (you'll find that there are different types of named entities not all people)\n",
    "*  Label the names with genders (can you this by hand or you use the US census name lists)\n",
    "*  Customize your processing to replace the proper name with your gender from the previous step's lookup table\n",
    "*  Then follow the rest of the LDA flow\n"
   ]
  },
  {
   "cell_type": "markdown",
   "metadata": {},
   "source": [
    "# Selecting the Number of Topics (Learn)\n",
    "<a id=\"#p4\"></a>"
   ]
  },
  {
   "cell_type": "markdown",
   "metadata": {},
   "source": [
    "## Overview"
   ]
  },
  {
   "cell_type": "markdown",
   "metadata": {},
   "source": [
    "## Follow Along"
   ]
  },
  {
   "cell_type": "code",
   "execution_count": 50,
   "metadata": {},
   "outputs": [],
   "source": [
    "from gensim.models.coherencemodel import CoherenceModel\n",
    "\n",
    "def compute_coherence_values(dictionary, corpus, limit, start=2, step=3, passes=5):\n",
    "    \"\"\"\n",
    "    Compute c_v coherence for various number of topics\n",
    "\n",
    "    Parameters:\n",
    "    ----------\n",
    "    dictionary : Gensim dictionary\n",
    "    corpus : Gensim corpus\n",
    "    limit : Max num of topics\n",
    "    passes: the number of times the entire lda model & coherence values are calculated\n",
    "\n",
    "    Returns:\n",
    "    -------\n",
    "    coherence_values : Coherence values corresponding to the LDA model with respective number of topics\n",
    "    \"\"\"\n",
    "    \n",
    "    coherence_values = []\n",
    "    \n",
    "    for iter_ in range(passes):\n",
    "        for num_topics in range(start, limit, step):\n",
    "            model = LdaMulticore(corpus=corpus, num_topics=num_topics, id2word=dictionary, workers=4)\n",
    "            coherencemodel = CoherenceModel(model=model,dictionary=dictionary,corpus=corpus, coherence='u_mass')\n",
    "            coherence_values.append({'pass': iter_, \n",
    "                                     'num_topics': num_topics, \n",
    "                                     'coherence_score': coherencemodel.get_coherence()\n",
    "                                    })\n",
    "\n",
    "    return coherence_values"
   ]
  },
  {
   "cell_type": "code",
   "execution_count": 52,
   "metadata": {},
   "outputs": [],
   "source": [
    "# Can take a long time to run.\n",
    "coherence_values = compute_coherence_values(dictionary=id2word, \n",
    "                                                        corpus=corpus,\n",
    "                                                        start=2, \n",
    "                                                        limit=40, \n",
    "                                                        step=2,\n",
    "                                                        passes=7)"
   ]
  },
  {
   "cell_type": "code",
   "execution_count": 53,
   "metadata": {},
   "outputs": [],
   "source": [
    "topic_coherence = pd.DataFrame.from_records(coherence_values)"
   ]
  },
  {
   "cell_type": "code",
   "execution_count": null,
   "metadata": {},
   "outputs": [],
   "source": []
  },
  {
   "cell_type": "code",
   "execution_count": 54,
   "metadata": {},
   "outputs": [
    {
     "data": {
      "text/html": [
       "<div>\n",
       "<style scoped>\n",
       "    .dataframe tbody tr th:only-of-type {\n",
       "        vertical-align: middle;\n",
       "    }\n",
       "\n",
       "    .dataframe tbody tr th {\n",
       "        vertical-align: top;\n",
       "    }\n",
       "\n",
       "    .dataframe thead th {\n",
       "        text-align: right;\n",
       "    }\n",
       "</style>\n",
       "<table border=\"1\" class=\"dataframe\">\n",
       "  <thead>\n",
       "    <tr style=\"text-align: right;\">\n",
       "      <th></th>\n",
       "      <th>pass</th>\n",
       "      <th>num_topics</th>\n",
       "      <th>coherence_score</th>\n",
       "    </tr>\n",
       "  </thead>\n",
       "  <tbody>\n",
       "    <tr>\n",
       "      <th>0</th>\n",
       "      <td>0</td>\n",
       "      <td>2</td>\n",
       "      <td>-0.610310</td>\n",
       "    </tr>\n",
       "    <tr>\n",
       "      <th>1</th>\n",
       "      <td>0</td>\n",
       "      <td>4</td>\n",
       "      <td>-0.653974</td>\n",
       "    </tr>\n",
       "    <tr>\n",
       "      <th>2</th>\n",
       "      <td>0</td>\n",
       "      <td>6</td>\n",
       "      <td>-0.790511</td>\n",
       "    </tr>\n",
       "    <tr>\n",
       "      <th>3</th>\n",
       "      <td>0</td>\n",
       "      <td>8</td>\n",
       "      <td>-0.676546</td>\n",
       "    </tr>\n",
       "    <tr>\n",
       "      <th>4</th>\n",
       "      <td>0</td>\n",
       "      <td>10</td>\n",
       "      <td>-0.794004</td>\n",
       "    </tr>\n",
       "  </tbody>\n",
       "</table>\n",
       "</div>"
      ],
      "text/plain": [
       "   pass  num_topics  coherence_score\n",
       "0     0           2        -0.610310\n",
       "1     0           4        -0.653974\n",
       "2     0           6        -0.790511\n",
       "3     0           8        -0.676546\n",
       "4     0          10        -0.794004"
      ]
     },
     "execution_count": 54,
     "metadata": {},
     "output_type": "execute_result"
    }
   ],
   "source": [
    "topic_coherence.head()"
   ]
  },
  {
   "cell_type": "code",
   "execution_count": 55,
   "metadata": {},
   "outputs": [
    {
     "data": {
      "image/png": "[encoded data removed]",
      "text/plain": [
       "<Figure size 432x288 with 1 Axes>"
      ]
     },
     "metadata": {
      "needs_background": "light"
     },
     "output_type": "display_data"
    }
   ],
   "source": [
    "import seaborn as sns\n",
    "\n",
    "ax = sns.lineplot(x=\"num_topics\", y=\"coherence_score\", data=topic_coherence)"
   ]
  },
  {
   "cell_type": "code",
   "execution_count": 56,
   "metadata": {},
   "outputs": [
    {
     "ename": "NameError",
     "evalue": "name 'x' is not defined",
     "output_type": "error",
     "traceback": [
      "\u001b[1;31m---------------------------------------------------------------------------\u001b[0m",
      "\u001b[1;31mNameError\u001b[0m                                 Traceback (most recent call last)",
      "\u001b[1;32m<ipython-input-56-374779cc73b5>\u001b[0m in \u001b[0;36m<module>\u001b[1;34m\u001b[0m\n\u001b[0;32m      1\u001b[0m \u001b[1;31m# Print the coherence scores\u001b[0m\u001b[1;33m\u001b[0m\u001b[1;33m\u001b[0m\u001b[1;33m\u001b[0m\u001b[0m\n\u001b[1;32m----> 2\u001b[1;33m \u001b[1;32mfor\u001b[0m \u001b[0mm\u001b[0m\u001b[1;33m,\u001b[0m \u001b[0mcv\u001b[0m \u001b[1;32min\u001b[0m \u001b[0mzip\u001b[0m\u001b[1;33m(\u001b[0m\u001b[0mx\u001b[0m\u001b[1;33m,\u001b[0m \u001b[0mcoherence_values\u001b[0m\u001b[1;33m)\u001b[0m\u001b[1;33m:\u001b[0m\u001b[1;33m\u001b[0m\u001b[1;33m\u001b[0m\u001b[0m\n\u001b[0m\u001b[0;32m      3\u001b[0m     \u001b[0mprint\u001b[0m\u001b[1;33m(\u001b[0m\u001b[1;34m\"Num Topics =\"\u001b[0m\u001b[1;33m,\u001b[0m \u001b[0mm\u001b[0m\u001b[1;33m,\u001b[0m \u001b[1;34m\" has Coherence Value of\"\u001b[0m\u001b[1;33m,\u001b[0m \u001b[0mround\u001b[0m\u001b[1;33m(\u001b[0m\u001b[0mcv\u001b[0m\u001b[1;33m,\u001b[0m \u001b[1;36m4\u001b[0m\u001b[1;33m)\u001b[0m\u001b[1;33m)\u001b[0m\u001b[1;33m\u001b[0m\u001b[1;33m\u001b[0m\u001b[0m\n",
      "\u001b[1;31mNameError\u001b[0m: name 'x' is not defined"
     ]
    }
   ],
   "source": [
    "# Print the coherence scores\n",
    "for m, cv in zip(x, coherence_values):\n",
    "    print(\"Num Topics =\", m, \" has Coherence Value of\", round(cv, 4))"
   ]
  },
  {
   "cell_type": "code",
   "execution_count": null,
   "metadata": {},
   "outputs": [],
   "source": [
    "lda[id2word.doc2bow(tokenize(\"This is a sample document to score with a topic distribution.\"))]"
   ]
  },
  {
   "cell_type": "markdown",
   "metadata": {},
   "source": [
    "# Sources\n",
    "\n",
    "### *References*\n",
    "* [Andrew Ng et al paper on LDA](https://ai.stanford.edu/~ang/papers/jair03-lda.pdf)\n",
    "* On [Coherence](https://pdfs.semanticscholar.org/1521/8d9c029cbb903ae7c729b2c644c24994c201.pdf)\n",
    "\n",
    "### *Resources*\n",
    "\n",
    "* [Gensim](https://radimrehurek.com/gensim/): Python package for topic modeling, nlp, word vectorization, and few other things. Well maintained and well documented.\n",
    "* [Topic Modeling with Gensim](http://www.machinelearningplus.com/nlp/topic-modeling-gensim-python/#11createthedictionaryandcorpusneededfortopicmodeling): A kind of cookbook for LDA with gensim. Excellent overview, but the you need to be aware of missing import statements and assumed prior knowledge.\n",
    "* [Chinese Restuarant Process](https://en.wikipedia.org/wiki/Chinese_restaurant_process): That really obscure stats thing I mentioned... \n",
    "* [PyLDAvis](https://github.com/bmabey/pyLDAvis): Library for visualizing the topic model and performing some exploratory work. Works well. Has a direct parrell implementation in R as well. \n",
    "* [Rare Technologies](https://rare-technologies.com/): The people that made & maintain gensim and a few other libraries.\n",
    "* [Jane Austen v. Charlotte Bronte](https://www.literaryladiesguide.com/literary-musings/jane-austen-charlotte-bronte-different-alike/)"
   ]
  }
 ],
 "metadata": {
  "kernelspec": {
   "display_name": "U4S1NLP-DS12",
   "language": "python",
   "name": "u4s1nlp-ds12"
  },
  "language_info": {
   "codemirror_mode": {
    "name": "ipython",
    "version": 3
   },
   "file_extension": ".py",
   "mimetype": "text/x-python",
   "name": "python",
   "nbconvert_exporter": "python",
   "pygments_lexer": "ipython3",
   "version": "3.7.6"
  }
 },
 "nbformat": 4,
 "nbformat_minor": 4
}
